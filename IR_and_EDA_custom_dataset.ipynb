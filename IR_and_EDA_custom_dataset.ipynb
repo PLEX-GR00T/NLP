{
  "nbformat": 4,
  "nbformat_minor": 0,
  "metadata": {
    "colab": {
      "provenance": [],
      "include_colab_link": true
    },
    "kernelspec": {
      "display_name": "Python 3",
      "name": "python3"
    },
    "widgets": {
      "application/vnd.jupyter.widget-state+json": {
        "481d47b8aad34dad959aba00812e0e4d": {
          "model_module": "@jupyter-widgets/controls",
          "model_name": "HBoxModel",
          "model_module_version": "1.5.0",
          "state": {
            "_dom_classes": [],
            "_model_module": "@jupyter-widgets/controls",
            "_model_module_version": "1.5.0",
            "_model_name": "HBoxModel",
            "_view_count": null,
            "_view_module": "@jupyter-widgets/controls",
            "_view_module_version": "1.5.0",
            "_view_name": "HBoxView",
            "box_style": "",
            "children": [
              "IPY_MODEL_d6cb3e9ec208469a8ceeae6221c6068f",
              "IPY_MODEL_a1a2e62567754f65a17ccd66e1a86508",
              "IPY_MODEL_a9b9fea18c0b4a33b8b77d216e17317f"
            ],
            "layout": "IPY_MODEL_be53dc8ca9eb4976b57f994ce8f70456"
          }
        },
        "d6cb3e9ec208469a8ceeae6221c6068f": {
          "model_module": "@jupyter-widgets/controls",
          "model_name": "HTMLModel",
          "model_module_version": "1.5.0",
          "state": {
            "_dom_classes": [],
            "_model_module": "@jupyter-widgets/controls",
            "_model_module_version": "1.5.0",
            "_model_name": "HTMLModel",
            "_view_count": null,
            "_view_module": "@jupyter-widgets/controls",
            "_view_module_version": "1.5.0",
            "_view_name": "HTMLView",
            "description": "",
            "description_tooltip": null,
            "layout": "IPY_MODEL_efb609ddefbb404593c4bad4f77e3f7d",
            "placeholder": "​",
            "style": "IPY_MODEL_76e6162dc3c14cab86eafae312e7df52",
            "value": "100%"
          }
        },
        "a1a2e62567754f65a17ccd66e1a86508": {
          "model_module": "@jupyter-widgets/controls",
          "model_name": "FloatProgressModel",
          "model_module_version": "1.5.0",
          "state": {
            "_dom_classes": [],
            "_model_module": "@jupyter-widgets/controls",
            "_model_module_version": "1.5.0",
            "_model_name": "FloatProgressModel",
            "_view_count": null,
            "_view_module": "@jupyter-widgets/controls",
            "_view_module_version": "1.5.0",
            "_view_name": "ProgressView",
            "bar_style": "success",
            "description": "",
            "description_tooltip": null,
            "layout": "IPY_MODEL_efe7a7f63af6465aa50f54e5fd36daf8",
            "max": 13,
            "min": 0,
            "orientation": "horizontal",
            "style": "IPY_MODEL_06020cf4ffa043ebb841ed2477a1c2a7",
            "value": 13
          }
        },
        "a9b9fea18c0b4a33b8b77d216e17317f": {
          "model_module": "@jupyter-widgets/controls",
          "model_name": "HTMLModel",
          "model_module_version": "1.5.0",
          "state": {
            "_dom_classes": [],
            "_model_module": "@jupyter-widgets/controls",
            "_model_module_version": "1.5.0",
            "_model_name": "HTMLModel",
            "_view_count": null,
            "_view_module": "@jupyter-widgets/controls",
            "_view_module_version": "1.5.0",
            "_view_name": "HTMLView",
            "description": "",
            "description_tooltip": null,
            "layout": "IPY_MODEL_93e59ee5226846278e3efd7858a6a835",
            "placeholder": "​",
            "style": "IPY_MODEL_8dbeefd665b24721869de1e07bbeff09",
            "value": " 13/13 [00:00&lt;00:00, 144.44it/s]"
          }
        },
        "be53dc8ca9eb4976b57f994ce8f70456": {
          "model_module": "@jupyter-widgets/base",
          "model_name": "LayoutModel",
          "model_module_version": "1.2.0",
          "state": {
            "_model_module": "@jupyter-widgets/base",
            "_model_module_version": "1.2.0",
            "_model_name": "LayoutModel",
            "_view_count": null,
            "_view_module": "@jupyter-widgets/base",
            "_view_module_version": "1.2.0",
            "_view_name": "LayoutView",
            "align_content": null,
            "align_items": null,
            "align_self": null,
            "border": null,
            "bottom": null,
            "display": null,
            "flex": null,
            "flex_flow": null,
            "grid_area": null,
            "grid_auto_columns": null,
            "grid_auto_flow": null,
            "grid_auto_rows": null,
            "grid_column": null,
            "grid_gap": null,
            "grid_row": null,
            "grid_template_areas": null,
            "grid_template_columns": null,
            "grid_template_rows": null,
            "height": null,
            "justify_content": null,
            "justify_items": null,
            "left": null,
            "margin": null,
            "max_height": null,
            "max_width": null,
            "min_height": null,
            "min_width": null,
            "object_fit": null,
            "object_position": null,
            "order": null,
            "overflow": null,
            "overflow_x": null,
            "overflow_y": null,
            "padding": null,
            "right": null,
            "top": null,
            "visibility": null,
            "width": null
          }
        },
        "efb609ddefbb404593c4bad4f77e3f7d": {
          "model_module": "@jupyter-widgets/base",
          "model_name": "LayoutModel",
          "model_module_version": "1.2.0",
          "state": {
            "_model_module": "@jupyter-widgets/base",
            "_model_module_version": "1.2.0",
            "_model_name": "LayoutModel",
            "_view_count": null,
            "_view_module": "@jupyter-widgets/base",
            "_view_module_version": "1.2.0",
            "_view_name": "LayoutView",
            "align_content": null,
            "align_items": null,
            "align_self": null,
            "border": null,
            "bottom": null,
            "display": null,
            "flex": null,
            "flex_flow": null,
            "grid_area": null,
            "grid_auto_columns": null,
            "grid_auto_flow": null,
            "grid_auto_rows": null,
            "grid_column": null,
            "grid_gap": null,
            "grid_row": null,
            "grid_template_areas": null,
            "grid_template_columns": null,
            "grid_template_rows": null,
            "height": null,
            "justify_content": null,
            "justify_items": null,
            "left": null,
            "margin": null,
            "max_height": null,
            "max_width": null,
            "min_height": null,
            "min_width": null,
            "object_fit": null,
            "object_position": null,
            "order": null,
            "overflow": null,
            "overflow_x": null,
            "overflow_y": null,
            "padding": null,
            "right": null,
            "top": null,
            "visibility": null,
            "width": null
          }
        },
        "76e6162dc3c14cab86eafae312e7df52": {
          "model_module": "@jupyter-widgets/controls",
          "model_name": "DescriptionStyleModel",
          "model_module_version": "1.5.0",
          "state": {
            "_model_module": "@jupyter-widgets/controls",
            "_model_module_version": "1.5.0",
            "_model_name": "DescriptionStyleModel",
            "_view_count": null,
            "_view_module": "@jupyter-widgets/base",
            "_view_module_version": "1.2.0",
            "_view_name": "StyleView",
            "description_width": ""
          }
        },
        "efe7a7f63af6465aa50f54e5fd36daf8": {
          "model_module": "@jupyter-widgets/base",
          "model_name": "LayoutModel",
          "model_module_version": "1.2.0",
          "state": {
            "_model_module": "@jupyter-widgets/base",
            "_model_module_version": "1.2.0",
            "_model_name": "LayoutModel",
            "_view_count": null,
            "_view_module": "@jupyter-widgets/base",
            "_view_module_version": "1.2.0",
            "_view_name": "LayoutView",
            "align_content": null,
            "align_items": null,
            "align_self": null,
            "border": null,
            "bottom": null,
            "display": null,
            "flex": null,
            "flex_flow": null,
            "grid_area": null,
            "grid_auto_columns": null,
            "grid_auto_flow": null,
            "grid_auto_rows": null,
            "grid_column": null,
            "grid_gap": null,
            "grid_row": null,
            "grid_template_areas": null,
            "grid_template_columns": null,
            "grid_template_rows": null,
            "height": null,
            "justify_content": null,
            "justify_items": null,
            "left": null,
            "margin": null,
            "max_height": null,
            "max_width": null,
            "min_height": null,
            "min_width": null,
            "object_fit": null,
            "object_position": null,
            "order": null,
            "overflow": null,
            "overflow_x": null,
            "overflow_y": null,
            "padding": null,
            "right": null,
            "top": null,
            "visibility": null,
            "width": null
          }
        },
        "06020cf4ffa043ebb841ed2477a1c2a7": {
          "model_module": "@jupyter-widgets/controls",
          "model_name": "ProgressStyleModel",
          "model_module_version": "1.5.0",
          "state": {
            "_model_module": "@jupyter-widgets/controls",
            "_model_module_version": "1.5.0",
            "_model_name": "ProgressStyleModel",
            "_view_count": null,
            "_view_module": "@jupyter-widgets/base",
            "_view_module_version": "1.2.0",
            "_view_name": "StyleView",
            "bar_color": null,
            "description_width": ""
          }
        },
        "93e59ee5226846278e3efd7858a6a835": {
          "model_module": "@jupyter-widgets/base",
          "model_name": "LayoutModel",
          "model_module_version": "1.2.0",
          "state": {
            "_model_module": "@jupyter-widgets/base",
            "_model_module_version": "1.2.0",
            "_model_name": "LayoutModel",
            "_view_count": null,
            "_view_module": "@jupyter-widgets/base",
            "_view_module_version": "1.2.0",
            "_view_name": "LayoutView",
            "align_content": null,
            "align_items": null,
            "align_self": null,
            "border": null,
            "bottom": null,
            "display": null,
            "flex": null,
            "flex_flow": null,
            "grid_area": null,
            "grid_auto_columns": null,
            "grid_auto_flow": null,
            "grid_auto_rows": null,
            "grid_column": null,
            "grid_gap": null,
            "grid_row": null,
            "grid_template_areas": null,
            "grid_template_columns": null,
            "grid_template_rows": null,
            "height": null,
            "justify_content": null,
            "justify_items": null,
            "left": null,
            "margin": null,
            "max_height": null,
            "max_width": null,
            "min_height": null,
            "min_width": null,
            "object_fit": null,
            "object_position": null,
            "order": null,
            "overflow": null,
            "overflow_x": null,
            "overflow_y": null,
            "padding": null,
            "right": null,
            "top": null,
            "visibility": null,
            "width": null
          }
        },
        "8dbeefd665b24721869de1e07bbeff09": {
          "model_module": "@jupyter-widgets/controls",
          "model_name": "DescriptionStyleModel",
          "model_module_version": "1.5.0",
          "state": {
            "_model_module": "@jupyter-widgets/controls",
            "_model_module_version": "1.5.0",
            "_model_name": "DescriptionStyleModel",
            "_view_count": null,
            "_view_module": "@jupyter-widgets/base",
            "_view_module_version": "1.2.0",
            "_view_name": "StyleView",
            "description_width": ""
          }
        }
      }
    },
    "gpuClass": "standard"
  },
  "cells": [
    {
      "cell_type": "markdown",
      "metadata": {
        "id": "view-in-github",
        "colab_type": "text"
      },
      "source": [
        "<a href=\"https://colab.research.google.com/github/PLEX-GR00T/NLP/blob/main/IR_and_EDA_custom_dataset.ipynb\" target=\"_parent\"><img src=\"https://colab.research.google.com/assets/colab-badge.svg\" alt=\"Open In Colab\"/></a>"
      ]
    },
    {
      "cell_type": "code",
      "metadata": {
        "id": "ZmkNAxSnaD9n",
        "colab": {
          "base_uri": "https://localhost:8080/"
        },
        "outputId": "4a392677-1aed-47f6-d72e-663da115a453"
      },
      "source": [
        "import os\n",
        "import random\n",
        "import math\n",
        "import numpy as np\n",
        "import json\n",
        "import pandas as pd\n",
        "import re\n",
        "import string\n",
        "from tqdm.notebook import tqdm\n",
        "\n",
        "!pip3 install wikipedia-api > null\n",
        "import wikipediaapi\n",
        "\n",
        "from sklearn.metrics.pairwise import cosine_similarity\n",
        "from matplotlib import pyplot as plt\n",
        "from sklearn.feature_extraction.text import TfidfVectorizer\n",
        "\n",
        "pd.set_option('display.max_colwidth', -1)\n",
        "\n",
        "# fix random seeds\n",
        "seed_value = 42 \n",
        "\n",
        "os.environ['PYTHONHASHSEED']=str(seed_value)\n",
        "random.seed(seed_value)\n",
        "np.random.seed(seed_value)"
      ],
      "execution_count": 28,
      "outputs": [
        {
          "output_type": "stream",
          "name": "stderr",
          "text": [
            "<ipython-input-28-fd118a69e123>:20: FutureWarning: Passing a negative integer is deprecated in version 1.0 and will not be supported in future version. Instead, use None to not limit the column width.\n",
            "  pd.set_option('display.max_colwidth', -1)\n"
          ]
        }
      ]
    },
    {
      "cell_type": "code",
      "source": [
        "from google.colab import drive\n",
        "drive.mount('/content/drive')"
      ],
      "metadata": {
        "colab": {
          "base_uri": "https://localhost:8080/"
        },
        "id": "GduK-_gsakKG",
        "outputId": "8e889e52-7c5e-44d1-8abb-7f6ea3dc87aa"
      },
      "execution_count": 29,
      "outputs": [
        {
          "output_type": "stream",
          "name": "stdout",
          "text": [
            "Drive already mounted at /content/drive; to attempt to forcibly remount, call drive.mount(\"/content/drive\", force_remount=True).\n"
          ]
        }
      ]
    },
    {
      "cell_type": "code",
      "source": [
        "# TRIALLLLLLLLLLLLLS\n",
        "\n",
        "with open(\"/content/drive/MyDrive/297 NLP/Final_Project/Merged_final_dataset.json\", \"r\") as f:\n",
        "    json_file = json.load(f)\n",
        "data = json_file[\"data\"]\n",
        "\n",
        "# collect data for EDA\n",
        "passages = []\n",
        "questions = []\n",
        "answer_index = []\n",
        "answer_text = []\n",
        "\n",
        "rows = []\n",
        "for document in data:\n",
        "    for passage in document['paragraphs']:\n",
        "        passages.append(passage['context'])\n",
        "        for qa in passage['qas']:\n",
        "            for answer in qa['answers']:\n",
        "                questions.append(qa['question'])\n",
        "                answer_index.append((answer['answer_start'],answer['answer_end']))\n",
        "                answer_text.append(answer['text'])\n",
        "\n",
        "                # make a raw for the Panda data frame.\n",
        "                rows.append(\n",
        "                    {\n",
        "                    'id' : qa['id'],\n",
        "                    'doc_id': passage['document_id'],\n",
        "                    'passage': passage['context'],\n",
        "                    'question': qa['question'],\n",
        "                    'answer_idx': (answer['answer_start'],answer['answer_end']),\n",
        "                    'answer_text': answer['text']\n",
        "                    }\n",
        "                )\n",
        "\n",
        "df_original = pd.DataFrame(rows)"
      ],
      "metadata": {
        "id": "FOxGku2o5eop"
      },
      "execution_count": 53,
      "outputs": []
    },
    {
      "cell_type": "code",
      "source": [
        "df_original.head()"
      ],
      "metadata": {
        "colab": {
          "base_uri": "https://localhost:8080/",
          "height": 528
        },
        "id": "7FyqW3ibiJ16",
        "outputId": "2b169c2f-e31c-42b0-8ac7-294f4d0b5383"
      },
      "execution_count": 56,
      "outputs": [
        {
          "output_type": "execute_result",
          "data": {
            "text/plain": [
              "       id   doc_id  \\\n",
              "0  597868  1202471   \n",
              "1  597867  1202471   \n",
              "2  597870  1202471   \n",
              "3  597869  1202471   \n",
              "4  597868  1202474   \n",
              "\n",
              "                                                                                                                                                                                                                                                                                                                                                                                                                                passage  \\\n",
              "0  Gabon, a country along the Atlantic coast of Central Africa, has significant areas of protected parkland. The forested coastal terrain of its famed Loango National Park shelters a diversity of wildlife, from gorillas and hippos to whales. Lop� National Park consists of mostly rainforest. Akanda National Park is known for its mangroves and tidal beaches.                                                                    \n",
              "1  Gabon, a country along the Atlantic coast of Central Africa, has significant areas of protected parkland. The forested coastal terrain of its famed Loango National Park shelters a diversity of wildlife, from gorillas and hippos to whales. Lop� National Park consists of mostly rainforest. Akanda National Park is known for its mangroves and tidal beaches.                                                                    \n",
              "2  Gabon, a country along the Atlantic coast of Central Africa, has significant areas of protected parkland. The forested coastal terrain of its famed Loango National Park shelters a diversity of wildlife, from gorillas and hippos to whales. Lop� National Park consists of mostly rainforest. Akanda National Park is known for its mangroves and tidal beaches.                                                                    \n",
              "3  Gabon, a country along the Atlantic coast of Central Africa, has significant areas of protected parkland. The forested coastal terrain of its famed Loango National Park shelters a diversity of wildlife, from gorillas and hippos to whales. Lop� National Park consists of mostly rainforest. Akanda National Park is known for its mangroves and tidal beaches.                                                                    \n",
              "4  Germany is a Western European country with a landscape of forests, rivers, mountain ranges and North Sea beaches. It has over 2 millennia of history. Berlin, its capital, is home to art and nightlife scenes, the Brandenburg Gate and many sites relating to WWII. Munich is known for its Oktoberfest and beer halls, including the 16th-century Hofbr�uhaus. Frankfurt, with its skyscrapers, houses the European Central Bank.   \n",
              "\n",
              "                                    question  answer_idx  \\\n",
              "0  What is the country known for?             (106, 238)   \n",
              "1  What is the country?                       (0, 5)       \n",
              "2  What is Akanda National Park known for?\\n  (289, 355)   \n",
              "3  Where is the country located?\\n            (17, 59)     \n",
              "4  What is the country known for?             (174, 260)   \n",
              "\n",
              "                                                                                                                            answer_text  \n",
              "0  The forested coastal terrain of its famed Loango National Park shelters a diversity of wildlife, from gorillas and hippos to whales.  \n",
              "1  Gabon                                                                                                                                 \n",
              "2  Akanda National Park is known for its mangroves and tidal beaches.                                                                    \n",
              "3  along the Atlantic coast of Central Africa                                                                                            \n",
              "4  home to art and nightlife scenes, the Brandenburg Gate and many sites relating to WWII                                                "
            ],
            "text/html": [
              "\n",
              "  <div id=\"df-16be423e-a598-46ed-bda2-3b3583af49fd\">\n",
              "    <div class=\"colab-df-container\">\n",
              "      <div>\n",
              "<style scoped>\n",
              "    .dataframe tbody tr th:only-of-type {\n",
              "        vertical-align: middle;\n",
              "    }\n",
              "\n",
              "    .dataframe tbody tr th {\n",
              "        vertical-align: top;\n",
              "    }\n",
              "\n",
              "    .dataframe thead th {\n",
              "        text-align: right;\n",
              "    }\n",
              "</style>\n",
              "<table border=\"1\" class=\"dataframe\">\n",
              "  <thead>\n",
              "    <tr style=\"text-align: right;\">\n",
              "      <th></th>\n",
              "      <th>id</th>\n",
              "      <th>doc_id</th>\n",
              "      <th>passage</th>\n",
              "      <th>question</th>\n",
              "      <th>answer_idx</th>\n",
              "      <th>answer_text</th>\n",
              "    </tr>\n",
              "  </thead>\n",
              "  <tbody>\n",
              "    <tr>\n",
              "      <th>0</th>\n",
              "      <td>597868</td>\n",
              "      <td>1202471</td>\n",
              "      <td>Gabon, a country along the Atlantic coast of Central Africa, has significant areas of protected parkland. The forested coastal terrain of its famed Loango National Park shelters a diversity of wildlife, from gorillas and hippos to whales. Lop� National Park consists of mostly rainforest. Akanda National Park is known for its mangroves and tidal beaches.</td>\n",
              "      <td>What is the country known for?</td>\n",
              "      <td>(106, 238)</td>\n",
              "      <td>The forested coastal terrain of its famed Loango National Park shelters a diversity of wildlife, from gorillas and hippos to whales.</td>\n",
              "    </tr>\n",
              "    <tr>\n",
              "      <th>1</th>\n",
              "      <td>597867</td>\n",
              "      <td>1202471</td>\n",
              "      <td>Gabon, a country along the Atlantic coast of Central Africa, has significant areas of protected parkland. The forested coastal terrain of its famed Loango National Park shelters a diversity of wildlife, from gorillas and hippos to whales. Lop� National Park consists of mostly rainforest. Akanda National Park is known for its mangroves and tidal beaches.</td>\n",
              "      <td>What is the country?</td>\n",
              "      <td>(0, 5)</td>\n",
              "      <td>Gabon</td>\n",
              "    </tr>\n",
              "    <tr>\n",
              "      <th>2</th>\n",
              "      <td>597870</td>\n",
              "      <td>1202471</td>\n",
              "      <td>Gabon, a country along the Atlantic coast of Central Africa, has significant areas of protected parkland. The forested coastal terrain of its famed Loango National Park shelters a diversity of wildlife, from gorillas and hippos to whales. Lop� National Park consists of mostly rainforest. Akanda National Park is known for its mangroves and tidal beaches.</td>\n",
              "      <td>What is Akanda National Park known for?\\n</td>\n",
              "      <td>(289, 355)</td>\n",
              "      <td>Akanda National Park is known for its mangroves and tidal beaches.</td>\n",
              "    </tr>\n",
              "    <tr>\n",
              "      <th>3</th>\n",
              "      <td>597869</td>\n",
              "      <td>1202471</td>\n",
              "      <td>Gabon, a country along the Atlantic coast of Central Africa, has significant areas of protected parkland. The forested coastal terrain of its famed Loango National Park shelters a diversity of wildlife, from gorillas and hippos to whales. Lop� National Park consists of mostly rainforest. Akanda National Park is known for its mangroves and tidal beaches.</td>\n",
              "      <td>Where is the country located?\\n</td>\n",
              "      <td>(17, 59)</td>\n",
              "      <td>along the Atlantic coast of Central Africa</td>\n",
              "    </tr>\n",
              "    <tr>\n",
              "      <th>4</th>\n",
              "      <td>597868</td>\n",
              "      <td>1202474</td>\n",
              "      <td>Germany is a Western European country with a landscape of forests, rivers, mountain ranges and North Sea beaches. It has over 2 millennia of history. Berlin, its capital, is home to art and nightlife scenes, the Brandenburg Gate and many sites relating to WWII. Munich is known for its Oktoberfest and beer halls, including the 16th-century Hofbr�uhaus. Frankfurt, with its skyscrapers, houses the European Central Bank.</td>\n",
              "      <td>What is the country known for?</td>\n",
              "      <td>(174, 260)</td>\n",
              "      <td>home to art and nightlife scenes, the Brandenburg Gate and many sites relating to WWII</td>\n",
              "    </tr>\n",
              "  </tbody>\n",
              "</table>\n",
              "</div>\n",
              "      <button class=\"colab-df-convert\" onclick=\"convertToInteractive('df-16be423e-a598-46ed-bda2-3b3583af49fd')\"\n",
              "              title=\"Convert this dataframe to an interactive table.\"\n",
              "              style=\"display:none;\">\n",
              "        \n",
              "  <svg xmlns=\"http://www.w3.org/2000/svg\" height=\"24px\"viewBox=\"0 0 24 24\"\n",
              "       width=\"24px\">\n",
              "    <path d=\"M0 0h24v24H0V0z\" fill=\"none\"/>\n",
              "    <path d=\"M18.56 5.44l.94 2.06.94-2.06 2.06-.94-2.06-.94-.94-2.06-.94 2.06-2.06.94zm-11 1L8.5 8.5l.94-2.06 2.06-.94-2.06-.94L8.5 2.5l-.94 2.06-2.06.94zm10 10l.94 2.06.94-2.06 2.06-.94-2.06-.94-.94-2.06-.94 2.06-2.06.94z\"/><path d=\"M17.41 7.96l-1.37-1.37c-.4-.4-.92-.59-1.43-.59-.52 0-1.04.2-1.43.59L10.3 9.45l-7.72 7.72c-.78.78-.78 2.05 0 2.83L4 21.41c.39.39.9.59 1.41.59.51 0 1.02-.2 1.41-.59l7.78-7.78 2.81-2.81c.8-.78.8-2.07 0-2.86zM5.41 20L4 18.59l7.72-7.72 1.47 1.35L5.41 20z\"/>\n",
              "  </svg>\n",
              "      </button>\n",
              "      \n",
              "  <style>\n",
              "    .colab-df-container {\n",
              "      display:flex;\n",
              "      flex-wrap:wrap;\n",
              "      gap: 12px;\n",
              "    }\n",
              "\n",
              "    .colab-df-convert {\n",
              "      background-color: #E8F0FE;\n",
              "      border: none;\n",
              "      border-radius: 50%;\n",
              "      cursor: pointer;\n",
              "      display: none;\n",
              "      fill: #1967D2;\n",
              "      height: 32px;\n",
              "      padding: 0 0 0 0;\n",
              "      width: 32px;\n",
              "    }\n",
              "\n",
              "    .colab-df-convert:hover {\n",
              "      background-color: #E2EBFA;\n",
              "      box-shadow: 0px 1px 2px rgba(60, 64, 67, 0.3), 0px 1px 3px 1px rgba(60, 64, 67, 0.15);\n",
              "      fill: #174EA6;\n",
              "    }\n",
              "\n",
              "    [theme=dark] .colab-df-convert {\n",
              "      background-color: #3B4455;\n",
              "      fill: #D2E3FC;\n",
              "    }\n",
              "\n",
              "    [theme=dark] .colab-df-convert:hover {\n",
              "      background-color: #434B5C;\n",
              "      box-shadow: 0px 1px 3px 1px rgba(0, 0, 0, 0.15);\n",
              "      filter: drop-shadow(0px 1px 2px rgba(0, 0, 0, 0.3));\n",
              "      fill: #FFFFFF;\n",
              "    }\n",
              "  </style>\n",
              "\n",
              "      <script>\n",
              "        const buttonEl =\n",
              "          document.querySelector('#df-16be423e-a598-46ed-bda2-3b3583af49fd button.colab-df-convert');\n",
              "        buttonEl.style.display =\n",
              "          google.colab.kernel.accessAllowed ? 'block' : 'none';\n",
              "\n",
              "        async function convertToInteractive(key) {\n",
              "          const element = document.querySelector('#df-16be423e-a598-46ed-bda2-3b3583af49fd');\n",
              "          const dataTable =\n",
              "            await google.colab.kernel.invokeFunction('convertToInteractive',\n",
              "                                                     [key], {});\n",
              "          if (!dataTable) return;\n",
              "\n",
              "          const docLinkHtml = 'Like what you see? Visit the ' +\n",
              "            '<a target=\"_blank\" href=https://colab.research.google.com/notebooks/data_table.ipynb>data table notebook</a>'\n",
              "            + ' to learn more about interactive tables.';\n",
              "          element.innerHTML = '';\n",
              "          dataTable['output_type'] = 'display_data';\n",
              "          await google.colab.output.renderOutput(dataTable, element);\n",
              "          const docLink = document.createElement('div');\n",
              "          docLink.innerHTML = docLinkHtml;\n",
              "          element.appendChild(docLink);\n",
              "        }\n",
              "      </script>\n",
              "    </div>\n",
              "  </div>\n",
              "  "
            ]
          },
          "metadata": {},
          "execution_count": 56
        }
      ]
    },
    {
      "cell_type": "code",
      "metadata": {
        "id": "BDT_VzFCsW-q",
        "colab": {
          "base_uri": "https://localhost:8080/"
        },
        "outputId": "fd46254c-fb3f-4836-d82d-b609caa543c8"
      },
      "source": [
        "#@title preprocessing { form-width: \"25%\" }\n",
        "\n",
        "import nltk\n",
        "import re \n",
        "import math\n",
        "import random as rand\n",
        "\n",
        "nltk.download('punkt')\n",
        "from nltk.stem.porter import PorterStemmer # for stemming\n",
        "from tqdm.notebook import tqdm\n",
        "\n",
        "def preprocess_text(text):\n",
        "    REPLACE_WITH_SPACE = re.compile(r\"\\n\") \n",
        "    text = [REPLACE_WITH_SPACE.sub(\" \", line) for line in text]\n",
        "    text = [re.sub(r\"([(.;:!\\'ˈ~?,\\\"(\\[\\])\\\\\\/\\-–\\t```<>_#$€@%*+—°′″“”×’^₤₹‘])\", r'', line) for line in text]\n",
        "    # we noticed that in the text sometimes we find numbers and the following word merged together (ex: 1980february),\n",
        "    # so we put a space between the number and the word\n",
        "    text = [re.sub(r\"(\\d+)([a-z]+)\", r'\\1 \\2', line) for line in text] \n",
        "    text = [re.sub('\\s{2,}', ' ', line.strip()) for line in text]   # replacing more than one consecutive blank spaces with only one of them\n",
        "    return text\n",
        "\n",
        "# Creating a copy of the original dataframe (we do this because we want to be able to compare the results of our processing with the original data)\n",
        "df = df_original.copy()\n",
        "\n",
        "# pre-process passage and question text\n",
        "df['passage'] = preprocess_text(df_original['passage'])\n",
        "df['question'] = preprocess_text(df_original['question'])\n",
        "df['answer_text'] = preprocess_text(df_original['answer_text'])\n",
        "\n",
        "# Comparing Original and Pre-Processed\n",
        "for i in range(3):\n",
        "    a = rand.randint(0,1000)\n",
        "    print('--------------ORIGINAL AND PREPROCESSED PASSAGE:-----------------')\n",
        "    print(df_original.iloc[a]['passage'])\n",
        "    print(df.iloc[a]['passage'])\n",
        "    \n",
        "    print()\n",
        "    print('-------------ORIGINAL AND PREPROCESSED QUESTION:---------------')\n",
        "    print(df_original.iloc[a]['question'])\n",
        "    print(df.iloc[a]['question'])\n",
        "    print()\n",
        "\n",
        "df[\"passage\"]=df[\"passage\"].str.lower()\n",
        "df[\"question\"]=df[\"question\"].str.lower()\n",
        "df[\"answer_text\"]=df[\"answer_text\"].str.lower()"
      ],
      "execution_count": 33,
      "outputs": [
        {
          "output_type": "stream",
          "name": "stderr",
          "text": [
            "[nltk_data] Downloading package punkt to /root/nltk_data...\n",
            "[nltk_data]   Package punkt is already up-to-date!\n"
          ]
        },
        {
          "output_type": "stream",
          "name": "stdout",
          "text": [
            "--------------ORIGINAL AND PREPROCESSED PASSAGE:-----------------\n",
            "Ukraine (Ukrainian: Україна, romanized: Ukraïna, pronounced [ʊkrɐˈjinɐ] (listen)) is a country in Eastern Europe. It is the second-largest European country after Russia, which it borders to the east and northeast.[a][11] Ukraine covers approximately 600,000 square kilometres (230,000 sq mi).[b] Prior to the ongoing Russo-Ukrainian War, it was the eighth-most populous country in Europe, with a population of around 41 million people.[c][6] It is also bordered by Belarus to the north; by Poland, Slovakia, and Hungary to the west; and by Romania and Moldova[d] to the southwest; with a coastline along the Black Sea and the Sea of Azov to the south and southeast.[e] Kyiv is the nation's capital and largest city. The country's national language is Ukrainian, and most people are also fluent in Russian.[14]\n",
            "\n",
            "During the Middle Ages, the area was a key centre of East Slavic culture under the state of Kievan Rus', which emerged in the 9th century and was ultimately destroyed by the Mongol invasions of the 13th century. After the Kingdom of Galicia–Volhynia emerged, the area was contested, divided, and ruled by a variety of external powers for the next 600 years, including the Polish–Lithuanian Commonwealth, the Austrian Empire, the Ottoman Empire, and the Tsardom of Russia. The Cossack Hetmanate emerged in central Ukraine in the 17th century, but was partitioned between Russia and Poland, and ultimately absorbed by the Russian Empire. After the Russian Revolution, a Ukrainian national movement re-emerged, and formed the Ukrainian People's Republic in 1917. This short-lived state was forcibly reconstituted by the Bolsheviks into the Ukrainian Soviet Socialist Republic, which became a founding member of the Soviet Union in 1922. In the 1930s, millions of Ukrainians were killed by the Holodomor, a Stalin-era man-made famine. \n",
            "Ukraine Ukrainian Україна romanized Ukraïna pronounced ʊkrɐjinɐ listen is a country in Eastern Europe It is the secondlargest European country after Russia which it borders to the east and northeasta11 Ukraine covers approximately 600000 square kilometres 230000 sq mib Prior to the ongoing RussoUkrainian War it was the eighthmost populous country in Europe with a population of around 41 million peoplec6 It is also bordered by Belarus to the north by Poland Slovakia and Hungary to the west and by Romania and Moldovad to the southwest with a coastline along the Black Sea and the Sea of Azov to the south and southeaste Kyiv is the nations capital and largest city The countrys national language is Ukrainian and most people are also fluent in Russian14 During the Middle Ages the area was a key centre of East Slavic culture under the state of Kievan Rus which emerged in the 9 th century and was ultimately destroyed by the Mongol invasions of the 13 th century After the Kingdom of GaliciaVolhynia emerged the area was contested divided and ruled by a variety of external powers for the next 600 years including the PolishLithuanian Commonwealth the Austrian Empire the Ottoman Empire and the Tsardom of Russia The Cossack Hetmanate emerged in central Ukraine in the 17 th century but was partitioned between Russia and Poland and ultimately absorbed by the Russian Empire After the Russian Revolution a Ukrainian national movement reemerged and formed the Ukrainian Peoples Republic in 1917 This shortlived state was forcibly reconstituted by the Bolsheviks into the Ukrainian Soviet Socialist Republic which became a founding member of the Soviet Union in 1922 In the 1930 s millions of Ukrainians were killed by the Holodomor a Stalinera manmade famine\n",
            "\n",
            "-------------ORIGINAL AND PREPROCESSED QUESTION:---------------\n",
            "What is the capital of the country?\n",
            "What is the capital of the country\n",
            "\n",
            "--------------ORIGINAL AND PREPROCESSED PASSAGE:-----------------\n",
            "Grenada is a Caribbean country comprising a main island, also called Grenada, and smaller surrounding islands. Dubbed the �Spice Isle,� the hilly main island is home to numerous nutmeg plantations. It�s also the site of the capital, St. George�s, whose colourful homes, Georgian buildings and early-18th-century Fort George overlook narrow Carenage Harbour. To the south is Grand Anse Beach, with resorts and bars.\n",
            "Grenada is a Caribbean country comprising a main island also called Grenada and smaller surrounding islands Dubbed the �Spice Isle� the hilly main island is home to numerous nutmeg plantations It�s also the site of the capital St George�s whose colourful homes Georgian buildings and early18 thcentury Fort George overlook narrow Carenage Harbour To the south is Grand Anse Beach with resorts and bars\n",
            "\n",
            "-------------ORIGINAL AND PREPROCESSED QUESTION:---------------\n",
            "What is the country?\n",
            "What is the country\n",
            "\n",
            "--------------ORIGINAL AND PREPROCESSED PASSAGE:-----------------\n",
            "Indonesia, officially the Republic of Indonesia, is a country in Southeast Asia and Oceania between the Indian and Pacific oceans. It consists of over 17,000 islands, including Sumatra, Java, Sulawesi, and parts of Borneo and New Guinea.�\n",
            "Indonesia officially the Republic of Indonesia is a country in Southeast Asia and Oceania between the Indian and Pacific oceans It consists of over 17000 islands including Sumatra Java Sulawesi and parts of Borneo and New Guinea�\n",
            "\n",
            "-------------ORIGINAL AND PREPROCESSED QUESTION:---------------\n",
            "What is the country known for?\n",
            "What is the country known for\n",
            "\n"
          ]
        }
      ]
    },
    {
      "cell_type": "code",
      "source": [
        "df = df.set_index('id')\n",
        "df_original = df_original.set_index('id')"
      ],
      "metadata": {
        "id": "cDD2sCZNq2MU"
      },
      "execution_count": 34,
      "outputs": []
    },
    {
      "cell_type": "code",
      "source": [
        "df.head()"
      ],
      "metadata": {
        "colab": {
          "base_uri": "https://localhost:8080/",
          "height": 559
        },
        "id": "PswifhYq4anl",
        "outputId": "0c94fc3c-f029-4d03-b85a-89211974a225"
      },
      "execution_count": 35,
      "outputs": [
        {
          "output_type": "execute_result",
          "data": {
            "text/plain": [
              "         doc_id  \\\n",
              "id                \n",
              "597868  1202471   \n",
              "597867  1202471   \n",
              "597870  1202471   \n",
              "597869  1202471   \n",
              "597868  1202474   \n",
              "\n",
              "                                                                                                                                                                                                                                                                                                                                                                                                                        passage  \\\n",
              "id                                                                                                                                                                                                                                                                                                                                                                                                                                \n",
              "597868  gabon a country along the atlantic coast of central africa has significant areas of protected parkland the forested coastal terrain of its famed loango national park shelters a diversity of wildlife from gorillas and hippos to whales lop� national park consists of mostly rainforest akanda national park is known for its mangroves and tidal beaches                                                              \n",
              "597867  gabon a country along the atlantic coast of central africa has significant areas of protected parkland the forested coastal terrain of its famed loango national park shelters a diversity of wildlife from gorillas and hippos to whales lop� national park consists of mostly rainforest akanda national park is known for its mangroves and tidal beaches                                                              \n",
              "597870  gabon a country along the atlantic coast of central africa has significant areas of protected parkland the forested coastal terrain of its famed loango national park shelters a diversity of wildlife from gorillas and hippos to whales lop� national park consists of mostly rainforest akanda national park is known for its mangroves and tidal beaches                                                              \n",
              "597869  gabon a country along the atlantic coast of central africa has significant areas of protected parkland the forested coastal terrain of its famed loango national park shelters a diversity of wildlife from gorillas and hippos to whales lop� national park consists of mostly rainforest akanda national park is known for its mangroves and tidal beaches                                                              \n",
              "597868  germany is a western european country with a landscape of forests rivers mountain ranges and north sea beaches it has over 2 millennia of history berlin its capital is home to art and nightlife scenes the brandenburg gate and many sites relating to wwii munich is known for its oktoberfest and beer halls including the 16 thcentury hofbr�uhaus frankfurt with its skyscrapers houses the european central bank   \n",
              "\n",
              "                                      question  answer_idx  \\\n",
              "id                                                           \n",
              "597868  what is the country known for           (106, 238)   \n",
              "597867  what is the country                     (0, 5)       \n",
              "597870  what is akanda national park known for  (289, 355)   \n",
              "597869  where is the country located            (17, 59)     \n",
              "597868  what is the country known for           (174, 260)   \n",
              "\n",
              "                                                                                                                               answer_text  \n",
              "id                                                                                                                                          \n",
              "597868  the forested coastal terrain of its famed loango national park shelters a diversity of wildlife from gorillas and hippos to whales  \n",
              "597867  gabon                                                                                                                               \n",
              "597870  akanda national park is known for its mangroves and tidal beaches                                                                   \n",
              "597869  along the atlantic coast of central africa                                                                                          \n",
              "597868  home to art and nightlife scenes the brandenburg gate and many sites relating to wwii                                               "
            ],
            "text/html": [
              "\n",
              "  <div id=\"df-7c83a64e-fd99-4c52-99c7-9b6643eba98f\">\n",
              "    <div class=\"colab-df-container\">\n",
              "      <div>\n",
              "<style scoped>\n",
              "    .dataframe tbody tr th:only-of-type {\n",
              "        vertical-align: middle;\n",
              "    }\n",
              "\n",
              "    .dataframe tbody tr th {\n",
              "        vertical-align: top;\n",
              "    }\n",
              "\n",
              "    .dataframe thead th {\n",
              "        text-align: right;\n",
              "    }\n",
              "</style>\n",
              "<table border=\"1\" class=\"dataframe\">\n",
              "  <thead>\n",
              "    <tr style=\"text-align: right;\">\n",
              "      <th></th>\n",
              "      <th>doc_id</th>\n",
              "      <th>passage</th>\n",
              "      <th>question</th>\n",
              "      <th>answer_idx</th>\n",
              "      <th>answer_text</th>\n",
              "    </tr>\n",
              "    <tr>\n",
              "      <th>id</th>\n",
              "      <th></th>\n",
              "      <th></th>\n",
              "      <th></th>\n",
              "      <th></th>\n",
              "      <th></th>\n",
              "    </tr>\n",
              "  </thead>\n",
              "  <tbody>\n",
              "    <tr>\n",
              "      <th>597868</th>\n",
              "      <td>1202471</td>\n",
              "      <td>gabon a country along the atlantic coast of central africa has significant areas of protected parkland the forested coastal terrain of its famed loango national park shelters a diversity of wildlife from gorillas and hippos to whales lop� national park consists of mostly rainforest akanda national park is known for its mangroves and tidal beaches</td>\n",
              "      <td>what is the country known for</td>\n",
              "      <td>(106, 238)</td>\n",
              "      <td>the forested coastal terrain of its famed loango national park shelters a diversity of wildlife from gorillas and hippos to whales</td>\n",
              "    </tr>\n",
              "    <tr>\n",
              "      <th>597867</th>\n",
              "      <td>1202471</td>\n",
              "      <td>gabon a country along the atlantic coast of central africa has significant areas of protected parkland the forested coastal terrain of its famed loango national park shelters a diversity of wildlife from gorillas and hippos to whales lop� national park consists of mostly rainforest akanda national park is known for its mangroves and tidal beaches</td>\n",
              "      <td>what is the country</td>\n",
              "      <td>(0, 5)</td>\n",
              "      <td>gabon</td>\n",
              "    </tr>\n",
              "    <tr>\n",
              "      <th>597870</th>\n",
              "      <td>1202471</td>\n",
              "      <td>gabon a country along the atlantic coast of central africa has significant areas of protected parkland the forested coastal terrain of its famed loango national park shelters a diversity of wildlife from gorillas and hippos to whales lop� national park consists of mostly rainforest akanda national park is known for its mangroves and tidal beaches</td>\n",
              "      <td>what is akanda national park known for</td>\n",
              "      <td>(289, 355)</td>\n",
              "      <td>akanda national park is known for its mangroves and tidal beaches</td>\n",
              "    </tr>\n",
              "    <tr>\n",
              "      <th>597869</th>\n",
              "      <td>1202471</td>\n",
              "      <td>gabon a country along the atlantic coast of central africa has significant areas of protected parkland the forested coastal terrain of its famed loango national park shelters a diversity of wildlife from gorillas and hippos to whales lop� national park consists of mostly rainforest akanda national park is known for its mangroves and tidal beaches</td>\n",
              "      <td>where is the country located</td>\n",
              "      <td>(17, 59)</td>\n",
              "      <td>along the atlantic coast of central africa</td>\n",
              "    </tr>\n",
              "    <tr>\n",
              "      <th>597868</th>\n",
              "      <td>1202474</td>\n",
              "      <td>germany is a western european country with a landscape of forests rivers mountain ranges and north sea beaches it has over 2 millennia of history berlin its capital is home to art and nightlife scenes the brandenburg gate and many sites relating to wwii munich is known for its oktoberfest and beer halls including the 16 thcentury hofbr�uhaus frankfurt with its skyscrapers houses the european central bank</td>\n",
              "      <td>what is the country known for</td>\n",
              "      <td>(174, 260)</td>\n",
              "      <td>home to art and nightlife scenes the brandenburg gate and many sites relating to wwii</td>\n",
              "    </tr>\n",
              "  </tbody>\n",
              "</table>\n",
              "</div>\n",
              "      <button class=\"colab-df-convert\" onclick=\"convertToInteractive('df-7c83a64e-fd99-4c52-99c7-9b6643eba98f')\"\n",
              "              title=\"Convert this dataframe to an interactive table.\"\n",
              "              style=\"display:none;\">\n",
              "        \n",
              "  <svg xmlns=\"http://www.w3.org/2000/svg\" height=\"24px\"viewBox=\"0 0 24 24\"\n",
              "       width=\"24px\">\n",
              "    <path d=\"M0 0h24v24H0V0z\" fill=\"none\"/>\n",
              "    <path d=\"M18.56 5.44l.94 2.06.94-2.06 2.06-.94-2.06-.94-.94-2.06-.94 2.06-2.06.94zm-11 1L8.5 8.5l.94-2.06 2.06-.94-2.06-.94L8.5 2.5l-.94 2.06-2.06.94zm10 10l.94 2.06.94-2.06 2.06-.94-2.06-.94-.94-2.06-.94 2.06-2.06.94z\"/><path d=\"M17.41 7.96l-1.37-1.37c-.4-.4-.92-.59-1.43-.59-.52 0-1.04.2-1.43.59L10.3 9.45l-7.72 7.72c-.78.78-.78 2.05 0 2.83L4 21.41c.39.39.9.59 1.41.59.51 0 1.02-.2 1.41-.59l7.78-7.78 2.81-2.81c.8-.78.8-2.07 0-2.86zM5.41 20L4 18.59l7.72-7.72 1.47 1.35L5.41 20z\"/>\n",
              "  </svg>\n",
              "      </button>\n",
              "      \n",
              "  <style>\n",
              "    .colab-df-container {\n",
              "      display:flex;\n",
              "      flex-wrap:wrap;\n",
              "      gap: 12px;\n",
              "    }\n",
              "\n",
              "    .colab-df-convert {\n",
              "      background-color: #E8F0FE;\n",
              "      border: none;\n",
              "      border-radius: 50%;\n",
              "      cursor: pointer;\n",
              "      display: none;\n",
              "      fill: #1967D2;\n",
              "      height: 32px;\n",
              "      padding: 0 0 0 0;\n",
              "      width: 32px;\n",
              "    }\n",
              "\n",
              "    .colab-df-convert:hover {\n",
              "      background-color: #E2EBFA;\n",
              "      box-shadow: 0px 1px 2px rgba(60, 64, 67, 0.3), 0px 1px 3px 1px rgba(60, 64, 67, 0.15);\n",
              "      fill: #174EA6;\n",
              "    }\n",
              "\n",
              "    [theme=dark] .colab-df-convert {\n",
              "      background-color: #3B4455;\n",
              "      fill: #D2E3FC;\n",
              "    }\n",
              "\n",
              "    [theme=dark] .colab-df-convert:hover {\n",
              "      background-color: #434B5C;\n",
              "      box-shadow: 0px 1px 3px 1px rgba(0, 0, 0, 0.15);\n",
              "      filter: drop-shadow(0px 1px 2px rgba(0, 0, 0, 0.3));\n",
              "      fill: #FFFFFF;\n",
              "    }\n",
              "  </style>\n",
              "\n",
              "      <script>\n",
              "        const buttonEl =\n",
              "          document.querySelector('#df-7c83a64e-fd99-4c52-99c7-9b6643eba98f button.colab-df-convert');\n",
              "        buttonEl.style.display =\n",
              "          google.colab.kernel.accessAllowed ? 'block' : 'none';\n",
              "\n",
              "        async function convertToInteractive(key) {\n",
              "          const element = document.querySelector('#df-7c83a64e-fd99-4c52-99c7-9b6643eba98f');\n",
              "          const dataTable =\n",
              "            await google.colab.kernel.invokeFunction('convertToInteractive',\n",
              "                                                     [key], {});\n",
              "          if (!dataTable) return;\n",
              "\n",
              "          const docLinkHtml = 'Like what you see? Visit the ' +\n",
              "            '<a target=\"_blank\" href=https://colab.research.google.com/notebooks/data_table.ipynb>data table notebook</a>'\n",
              "            + ' to learn more about interactive tables.';\n",
              "          element.innerHTML = '';\n",
              "          dataTable['output_type'] = 'display_data';\n",
              "          await google.colab.output.renderOutput(dataTable, element);\n",
              "          const docLink = document.createElement('div');\n",
              "          docLink.innerHTML = docLinkHtml;\n",
              "          element.appendChild(docLink);\n",
              "        }\n",
              "      </script>\n",
              "    </div>\n",
              "  </div>\n",
              "  "
            ]
          },
          "metadata": {},
          "execution_count": 35
        }
      ]
    },
    {
      "cell_type": "code",
      "source": [
        "#@title train-test split { form-width: \"25%\" }\n",
        "\n",
        "os.environ['PYTHONHASHSEED']=str(seed_value)\n",
        "random.seed(seed_value)\n",
        "np.random.seed(seed_value)\n",
        "\n",
        "split_value = 0.1 #@param {type:\"number\"} \n",
        "test_dim = int(len(df['doc_id'].unique()) * split_value)\n",
        "test_titles = np.random.choice(df['doc_id'].unique(), size=test_dim, replace=False)\n",
        "\n",
        "# creating train and test sets\n",
        "df_test = df[df['doc_id'].isin(test_titles)]\n",
        "df_train = df[~(df['doc_id'].isin(test_titles))]\n",
        "\n",
        "df_original_test = df_original[df_original['doc_id'].isin(test_titles)]\n",
        "df_original_train = df_original[~(df_original['doc_id'].isin(test_titles))]"
      ],
      "metadata": {
        "id": "6W9rzEGRi87V"
      },
      "execution_count": 36,
      "outputs": []
    },
    {
      "cell_type": "code",
      "source": [
        "df_test.tail()"
      ],
      "metadata": {
        "colab": {
          "base_uri": "https://localhost:8080/",
          "height": 629
        },
        "id": "dSSFT4wcKMbR",
        "outputId": "f3266b4f-2e15-4479-dd0d-1fb958972887"
      },
      "execution_count": 37,
      "outputs": [
        {
          "output_type": "execute_result",
          "data": {
            "text/plain": [
              "         doc_id  \\\n",
              "id                \n",
              "597604  1267010   \n",
              "597688  1267010   \n",
              "597603  1267010   \n",
              "597605  1267010   \n",
              "597606  1267010   \n",
              "\n",
              "                                                                                                                                                                                                                                                                                                                                                                                                                                                                                                                               passage  \\\n",
              "id                                                                                                                                                                                                                                                                                                                                                                                                                                                                                                                                       \n",
              "597604  papua new guinea officially12 the independent state of papua new guinea tok pisin independen stet bilong papua niugini hiri motu independen stet bilong papua niu gini is a country in oceania that comprises the eastern half of the island of new guinea and its offshore islands in melanesia a region of the southwestern pacific ocean north of australia its capital located along its southeastern coast is port moresby the country is the worlds third largest island country with an area of 462840 km2 178700 sq mi   \n",
              "597688  papua new guinea officially12 the independent state of papua new guinea tok pisin independen stet bilong papua niugini hiri motu independen stet bilong papua niu gini is a country in oceania that comprises the eastern half of the island of new guinea and its offshore islands in melanesia a region of the southwestern pacific ocean north of australia its capital located along its southeastern coast is port moresby the country is the worlds third largest island country with an area of 462840 km2 178700 sq mi   \n",
              "597603  papua new guinea officially12 the independent state of papua new guinea tok pisin independen stet bilong papua niugini hiri motu independen stet bilong papua niu gini is a country in oceania that comprises the eastern half of the island of new guinea and its offshore islands in melanesia a region of the southwestern pacific ocean north of australia its capital located along its southeastern coast is port moresby the country is the worlds third largest island country with an area of 462840 km2 178700 sq mi   \n",
              "597605  papua new guinea officially12 the independent state of papua new guinea tok pisin independen stet bilong papua niugini hiri motu independen stet bilong papua niu gini is a country in oceania that comprises the eastern half of the island of new guinea and its offshore islands in melanesia a region of the southwestern pacific ocean north of australia its capital located along its southeastern coast is port moresby the country is the worlds third largest island country with an area of 462840 km2 178700 sq mi   \n",
              "597606  papua new guinea officially12 the independent state of papua new guinea tok pisin independen stet bilong papua niugini hiri motu independen stet bilong papua niu gini is a country in oceania that comprises the eastern half of the island of new guinea and its offshore islands in melanesia a region of the southwestern pacific ocean north of australia its capital located along its southeastern coast is port moresby the country is the worlds third largest island country with an area of 462840 km2 178700 sq mi   \n",
              "\n",
              "                           question  answer_idx              answer_text  \n",
              "id                                                                        \n",
              "597604  what is the capital          (417, 429)  port moresby             \n",
              "597688  which place is this          (0, 16)     papua new guinea         \n",
              "597603  where is it located          (192, 199)  oceania                  \n",
              "597605  whats the size of the place  (504, 531)  462840 km2 178700 sq mi  \n",
              "597606  which country is this        (0, 16)     papua new guinea         "
            ],
            "text/html": [
              "\n",
              "  <div id=\"df-c33763a5-5959-4f35-b956-60250dd478ad\">\n",
              "    <div class=\"colab-df-container\">\n",
              "      <div>\n",
              "<style scoped>\n",
              "    .dataframe tbody tr th:only-of-type {\n",
              "        vertical-align: middle;\n",
              "    }\n",
              "\n",
              "    .dataframe tbody tr th {\n",
              "        vertical-align: top;\n",
              "    }\n",
              "\n",
              "    .dataframe thead th {\n",
              "        text-align: right;\n",
              "    }\n",
              "</style>\n",
              "<table border=\"1\" class=\"dataframe\">\n",
              "  <thead>\n",
              "    <tr style=\"text-align: right;\">\n",
              "      <th></th>\n",
              "      <th>doc_id</th>\n",
              "      <th>passage</th>\n",
              "      <th>question</th>\n",
              "      <th>answer_idx</th>\n",
              "      <th>answer_text</th>\n",
              "    </tr>\n",
              "    <tr>\n",
              "      <th>id</th>\n",
              "      <th></th>\n",
              "      <th></th>\n",
              "      <th></th>\n",
              "      <th></th>\n",
              "      <th></th>\n",
              "    </tr>\n",
              "  </thead>\n",
              "  <tbody>\n",
              "    <tr>\n",
              "      <th>597604</th>\n",
              "      <td>1267010</td>\n",
              "      <td>papua new guinea officially12 the independent state of papua new guinea tok pisin independen stet bilong papua niugini hiri motu independen stet bilong papua niu gini is a country in oceania that comprises the eastern half of the island of new guinea and its offshore islands in melanesia a region of the southwestern pacific ocean north of australia its capital located along its southeastern coast is port moresby the country is the worlds third largest island country with an area of 462840 km2 178700 sq mi</td>\n",
              "      <td>what is the capital</td>\n",
              "      <td>(417, 429)</td>\n",
              "      <td>port moresby</td>\n",
              "    </tr>\n",
              "    <tr>\n",
              "      <th>597688</th>\n",
              "      <td>1267010</td>\n",
              "      <td>papua new guinea officially12 the independent state of papua new guinea tok pisin independen stet bilong papua niugini hiri motu independen stet bilong papua niu gini is a country in oceania that comprises the eastern half of the island of new guinea and its offshore islands in melanesia a region of the southwestern pacific ocean north of australia its capital located along its southeastern coast is port moresby the country is the worlds third largest island country with an area of 462840 km2 178700 sq mi</td>\n",
              "      <td>which place is this</td>\n",
              "      <td>(0, 16)</td>\n",
              "      <td>papua new guinea</td>\n",
              "    </tr>\n",
              "    <tr>\n",
              "      <th>597603</th>\n",
              "      <td>1267010</td>\n",
              "      <td>papua new guinea officially12 the independent state of papua new guinea tok pisin independen stet bilong papua niugini hiri motu independen stet bilong papua niu gini is a country in oceania that comprises the eastern half of the island of new guinea and its offshore islands in melanesia a region of the southwestern pacific ocean north of australia its capital located along its southeastern coast is port moresby the country is the worlds third largest island country with an area of 462840 km2 178700 sq mi</td>\n",
              "      <td>where is it located</td>\n",
              "      <td>(192, 199)</td>\n",
              "      <td>oceania</td>\n",
              "    </tr>\n",
              "    <tr>\n",
              "      <th>597605</th>\n",
              "      <td>1267010</td>\n",
              "      <td>papua new guinea officially12 the independent state of papua new guinea tok pisin independen stet bilong papua niugini hiri motu independen stet bilong papua niu gini is a country in oceania that comprises the eastern half of the island of new guinea and its offshore islands in melanesia a region of the southwestern pacific ocean north of australia its capital located along its southeastern coast is port moresby the country is the worlds third largest island country with an area of 462840 km2 178700 sq mi</td>\n",
              "      <td>whats the size of the place</td>\n",
              "      <td>(504, 531)</td>\n",
              "      <td>462840 km2 178700 sq mi</td>\n",
              "    </tr>\n",
              "    <tr>\n",
              "      <th>597606</th>\n",
              "      <td>1267010</td>\n",
              "      <td>papua new guinea officially12 the independent state of papua new guinea tok pisin independen stet bilong papua niugini hiri motu independen stet bilong papua niu gini is a country in oceania that comprises the eastern half of the island of new guinea and its offshore islands in melanesia a region of the southwestern pacific ocean north of australia its capital located along its southeastern coast is port moresby the country is the worlds third largest island country with an area of 462840 km2 178700 sq mi</td>\n",
              "      <td>which country is this</td>\n",
              "      <td>(0, 16)</td>\n",
              "      <td>papua new guinea</td>\n",
              "    </tr>\n",
              "  </tbody>\n",
              "</table>\n",
              "</div>\n",
              "      <button class=\"colab-df-convert\" onclick=\"convertToInteractive('df-c33763a5-5959-4f35-b956-60250dd478ad')\"\n",
              "              title=\"Convert this dataframe to an interactive table.\"\n",
              "              style=\"display:none;\">\n",
              "        \n",
              "  <svg xmlns=\"http://www.w3.org/2000/svg\" height=\"24px\"viewBox=\"0 0 24 24\"\n",
              "       width=\"24px\">\n",
              "    <path d=\"M0 0h24v24H0V0z\" fill=\"none\"/>\n",
              "    <path d=\"M18.56 5.44l.94 2.06.94-2.06 2.06-.94-2.06-.94-.94-2.06-.94 2.06-2.06.94zm-11 1L8.5 8.5l.94-2.06 2.06-.94-2.06-.94L8.5 2.5l-.94 2.06-2.06.94zm10 10l.94 2.06.94-2.06 2.06-.94-2.06-.94-.94-2.06-.94 2.06-2.06.94z\"/><path d=\"M17.41 7.96l-1.37-1.37c-.4-.4-.92-.59-1.43-.59-.52 0-1.04.2-1.43.59L10.3 9.45l-7.72 7.72c-.78.78-.78 2.05 0 2.83L4 21.41c.39.39.9.59 1.41.59.51 0 1.02-.2 1.41-.59l7.78-7.78 2.81-2.81c.8-.78.8-2.07 0-2.86zM5.41 20L4 18.59l7.72-7.72 1.47 1.35L5.41 20z\"/>\n",
              "  </svg>\n",
              "      </button>\n",
              "      \n",
              "  <style>\n",
              "    .colab-df-container {\n",
              "      display:flex;\n",
              "      flex-wrap:wrap;\n",
              "      gap: 12px;\n",
              "    }\n",
              "\n",
              "    .colab-df-convert {\n",
              "      background-color: #E8F0FE;\n",
              "      border: none;\n",
              "      border-radius: 50%;\n",
              "      cursor: pointer;\n",
              "      display: none;\n",
              "      fill: #1967D2;\n",
              "      height: 32px;\n",
              "      padding: 0 0 0 0;\n",
              "      width: 32px;\n",
              "    }\n",
              "\n",
              "    .colab-df-convert:hover {\n",
              "      background-color: #E2EBFA;\n",
              "      box-shadow: 0px 1px 2px rgba(60, 64, 67, 0.3), 0px 1px 3px 1px rgba(60, 64, 67, 0.15);\n",
              "      fill: #174EA6;\n",
              "    }\n",
              "\n",
              "    [theme=dark] .colab-df-convert {\n",
              "      background-color: #3B4455;\n",
              "      fill: #D2E3FC;\n",
              "    }\n",
              "\n",
              "    [theme=dark] .colab-df-convert:hover {\n",
              "      background-color: #434B5C;\n",
              "      box-shadow: 0px 1px 3px 1px rgba(0, 0, 0, 0.15);\n",
              "      filter: drop-shadow(0px 1px 2px rgba(0, 0, 0, 0.3));\n",
              "      fill: #FFFFFF;\n",
              "    }\n",
              "  </style>\n",
              "\n",
              "      <script>\n",
              "        const buttonEl =\n",
              "          document.querySelector('#df-c33763a5-5959-4f35-b956-60250dd478ad button.colab-df-convert');\n",
              "        buttonEl.style.display =\n",
              "          google.colab.kernel.accessAllowed ? 'block' : 'none';\n",
              "\n",
              "        async function convertToInteractive(key) {\n",
              "          const element = document.querySelector('#df-c33763a5-5959-4f35-b956-60250dd478ad');\n",
              "          const dataTable =\n",
              "            await google.colab.kernel.invokeFunction('convertToInteractive',\n",
              "                                                     [key], {});\n",
              "          if (!dataTable) return;\n",
              "\n",
              "          const docLinkHtml = 'Like what you see? Visit the ' +\n",
              "            '<a target=\"_blank\" href=https://colab.research.google.com/notebooks/data_table.ipynb>data table notebook</a>'\n",
              "            + ' to learn more about interactive tables.';\n",
              "          element.innerHTML = '';\n",
              "          dataTable['output_type'] = 'display_data';\n",
              "          await google.colab.output.renderOutput(dataTable, element);\n",
              "          const docLink = document.createElement('div');\n",
              "          docLink.innerHTML = docLinkHtml;\n",
              "          element.appendChild(docLink);\n",
              "        }\n",
              "      </script>\n",
              "    </div>\n",
              "  </div>\n",
              "  "
            ]
          },
          "metadata": {},
          "execution_count": 37
        }
      ]
    },
    {
      "cell_type": "code",
      "source": [
        "df_train.shape"
      ],
      "metadata": {
        "colab": {
          "base_uri": "https://localhost:8080/"
        },
        "id": "KJSKcN26j2jx",
        "outputId": "6ee83043-f269-4add-9f76-8d4c00eca3a5"
      },
      "execution_count": 38,
      "outputs": [
        {
          "output_type": "execute_result",
          "data": {
            "text/plain": [
              "(1041, 5)"
            ]
          },
          "metadata": {},
          "execution_count": 38
        }
      ]
    },
    {
      "cell_type": "code",
      "source": [
        "#@title Define TFIDF { form-width: \"25%\" }\n",
        "# defining the TF-IDF\n",
        "tfidf_configs = {\n",
        "    'lowercase': True,\n",
        "    'analyzer': 'word',\n",
        "    'stop_words': 'english',\n",
        "    'binary': True,\n",
        "    'max_df': 0.9,\n",
        "    'max_features': 10_000\n",
        "}\n",
        "# defining the number of documents to retrieve\n",
        "retriever_configs = {\n",
        "    'metric': 'cosine'\n",
        "}\n",
        "\n",
        "# defining our pipeline\n",
        "#embedding = TfidfVectorizer(**tfidf_configs)\n",
        "# retriever = NearestNeighbors(**retriever_configs)"
      ],
      "metadata": {
        "id": "EOKZv4d5kyS7"
      },
      "execution_count": 39,
      "outputs": []
    },
    {
      "cell_type": "code",
      "source": [
        "#@title TFIDF { form-width: \"25%\" }\n",
        "vectorizer =  TfidfVectorizer(**tfidf_configs)\n",
        "\n",
        "## -------- to compare, get uniques from train set-----------##\n",
        "# get unique preprocessed passages from the training set\n",
        "unique_train = df_train['passage'].unique().tolist()\n",
        "# use the tf-idf vectorizer to learn the vocabulary and the inverse document frequency, computing the document-term matrix on the training set\n",
        "unique_train_tf_idf = vectorizer.fit_transform(unique_train)\n",
        "\n",
        "\n",
        "## -------------------Unique for Testing set -------------##\n",
        "# obtain unique passages from the test set\n",
        "unique_test = df_test['passage'].unique().tolist() # preprocessed\n",
        "passage_test = df_test['passage'].unique()\n",
        "\n",
        "# transform test passages and questions\n",
        "passage_test_tf_idf = vectorizer.transform(unique_test)\n",
        "question_tf_idf = vectorizer.transform(df_test['question'].tolist())\n",
        "\n",
        "# compute similarity\n",
        "results = cosine_similarity(passage_test_tf_idf, question_tf_idf)"
      ],
      "metadata": {
        "id": "Ac-OrUcSklHO"
      },
      "execution_count": 40,
      "outputs": []
    },
    {
      "cell_type": "code",
      "metadata": {
        "id": "7nPP3e7bcKUh",
        "colab": {
          "base_uri": "https://localhost:8080/",
          "height": 348,
          "referenced_widgets": [
            "481d47b8aad34dad959aba00812e0e4d",
            "d6cb3e9ec208469a8ceeae6221c6068f",
            "a1a2e62567754f65a17ccd66e1a86508",
            "a9b9fea18c0b4a33b8b77d216e17317f",
            "be53dc8ca9eb4976b57f994ce8f70456",
            "efb609ddefbb404593c4bad4f77e3f7d",
            "76e6162dc3c14cab86eafae312e7df52",
            "efe7a7f63af6465aa50f54e5fd36daf8",
            "06020cf4ffa043ebb841ed2477a1c2a7",
            "93e59ee5226846278e3efd7858a6a835",
            "8dbeefd665b24721869de1e07bbeff09"
          ]
        },
        "outputId": "6be5dc4f-ce4f-4a95-91fc-cb0985e7d465"
      },
      "source": [
        "#@title Recall Score { form-width: \"25%\" }\n",
        "\n",
        "# In this cell we evaluate how effective is tf-idf in finding the right passage for a question\n",
        "\n",
        "# we compute the result recall for each k between 1 and k_results:\n",
        "# in particular, for each question we take the k most probable passages and check\n",
        "# if the right passage is among them \n",
        "k_results = 13\n",
        "\n",
        "tp = 0 #true positives\n",
        "recall = []\n",
        "for k in tqdm(range(1, k_results+1)):\n",
        "    for j,result in enumerate(results.T):\n",
        "        result = np.argsort(result)\n",
        "        if df_test['passage'].tolist()[j] in [text for text in passage_test[result[-k:].tolist()]]:\n",
        "            tp+=1\n",
        "    recall.append(tp/len(df_test))\n",
        "    tp = 0\n",
        "\n",
        "print(recall,sep='\\n')\n",
        "plt.plot(list(range(1, k_results+1)),recall,\"-s\");\n",
        "plt.xlabel(\"k\");\n",
        "plt.ylabel(\"recall\");"
      ],
      "execution_count": 41,
      "outputs": [
        {
          "output_type": "display_data",
          "data": {
            "text/plain": [
              "  0%|          | 0/13 [00:00<?, ?it/s]"
            ],
            "application/vnd.jupyter.widget-view+json": {
              "version_major": 2,
              "version_minor": 0,
              "model_id": "481d47b8aad34dad959aba00812e0e4d"
            }
          },
          "metadata": {}
        },
        {
          "output_type": "stream",
          "name": "stdout",
          "text": [
            "[0.30392156862745096, 0.39215686274509803, 0.46078431372549017, 0.5098039215686274, 0.5392156862745098, 0.5882352941176471, 0.6568627450980392, 0.696078431372549, 0.7156862745098039, 0.7254901960784313, 0.7450980392156863, 0.7745098039215687, 0.803921568627451]\n"
          ]
        },
        {
          "output_type": "display_data",
          "data": {
            "text/plain": [
              "<Figure size 432x288 with 1 Axes>"
            ],
            "image/png": "[encoded data removed]"
          },
          "metadata": {
            "needs_background": "light"
          }
        }
      ]
    },
    {
      "cell_type": "markdown",
      "source": [
        "> EDA"
      ],
      "metadata": {
        "id": "PLGP9EOh4h8Q"
      }
    },
    {
      "cell_type": "code",
      "source": [
        "df.head()"
      ],
      "metadata": {
        "colab": {
          "base_uri": "https://localhost:8080/",
          "height": 559
        },
        "id": "zxnSUunY4lK6",
        "outputId": "0bc9ec0d-2e41-4bfa-90ce-6c9a72df2461"
      },
      "execution_count": 42,
      "outputs": [
        {
          "output_type": "execute_result",
          "data": {
            "text/plain": [
              "         doc_id  \\\n",
              "id                \n",
              "597868  1202471   \n",
              "597867  1202471   \n",
              "597870  1202471   \n",
              "597869  1202471   \n",
              "597868  1202474   \n",
              "\n",
              "                                                                                                                                                                                                                                                                                                                                                                                                                        passage  \\\n",
              "id                                                                                                                                                                                                                                                                                                                                                                                                                                \n",
              "597868  gabon a country along the atlantic coast of central africa has significant areas of protected parkland the forested coastal terrain of its famed loango national park shelters a diversity of wildlife from gorillas and hippos to whales lop� national park consists of mostly rainforest akanda national park is known for its mangroves and tidal beaches                                                              \n",
              "597867  gabon a country along the atlantic coast of central africa has significant areas of protected parkland the forested coastal terrain of its famed loango national park shelters a diversity of wildlife from gorillas and hippos to whales lop� national park consists of mostly rainforest akanda national park is known for its mangroves and tidal beaches                                                              \n",
              "597870  gabon a country along the atlantic coast of central africa has significant areas of protected parkland the forested coastal terrain of its famed loango national park shelters a diversity of wildlife from gorillas and hippos to whales lop� national park consists of mostly rainforest akanda national park is known for its mangroves and tidal beaches                                                              \n",
              "597869  gabon a country along the atlantic coast of central africa has significant areas of protected parkland the forested coastal terrain of its famed loango national park shelters a diversity of wildlife from gorillas and hippos to whales lop� national park consists of mostly rainforest akanda national park is known for its mangroves and tidal beaches                                                              \n",
              "597868  germany is a western european country with a landscape of forests rivers mountain ranges and north sea beaches it has over 2 millennia of history berlin its capital is home to art and nightlife scenes the brandenburg gate and many sites relating to wwii munich is known for its oktoberfest and beer halls including the 16 thcentury hofbr�uhaus frankfurt with its skyscrapers houses the european central bank   \n",
              "\n",
              "                                      question  answer_idx  \\\n",
              "id                                                           \n",
              "597868  what is the country known for           (106, 238)   \n",
              "597867  what is the country                     (0, 5)       \n",
              "597870  what is akanda national park known for  (289, 355)   \n",
              "597869  where is the country located            (17, 59)     \n",
              "597868  what is the country known for           (174, 260)   \n",
              "\n",
              "                                                                                                                               answer_text  \n",
              "id                                                                                                                                          \n",
              "597868  the forested coastal terrain of its famed loango national park shelters a diversity of wildlife from gorillas and hippos to whales  \n",
              "597867  gabon                                                                                                                               \n",
              "597870  akanda national park is known for its mangroves and tidal beaches                                                                   \n",
              "597869  along the atlantic coast of central africa                                                                                          \n",
              "597868  home to art and nightlife scenes the brandenburg gate and many sites relating to wwii                                               "
            ],
            "text/html": [
              "\n",
              "  <div id=\"df-6ba786c9-ca99-4bdb-b589-e7213acecf24\">\n",
              "    <div class=\"colab-df-container\">\n",
              "      <div>\n",
              "<style scoped>\n",
              "    .dataframe tbody tr th:only-of-type {\n",
              "        vertical-align: middle;\n",
              "    }\n",
              "\n",
              "    .dataframe tbody tr th {\n",
              "        vertical-align: top;\n",
              "    }\n",
              "\n",
              "    .dataframe thead th {\n",
              "        text-align: right;\n",
              "    }\n",
              "</style>\n",
              "<table border=\"1\" class=\"dataframe\">\n",
              "  <thead>\n",
              "    <tr style=\"text-align: right;\">\n",
              "      <th></th>\n",
              "      <th>doc_id</th>\n",
              "      <th>passage</th>\n",
              "      <th>question</th>\n",
              "      <th>answer_idx</th>\n",
              "      <th>answer_text</th>\n",
              "    </tr>\n",
              "    <tr>\n",
              "      <th>id</th>\n",
              "      <th></th>\n",
              "      <th></th>\n",
              "      <th></th>\n",
              "      <th></th>\n",
              "      <th></th>\n",
              "    </tr>\n",
              "  </thead>\n",
              "  <tbody>\n",
              "    <tr>\n",
              "      <th>597868</th>\n",
              "      <td>1202471</td>\n",
              "      <td>gabon a country along the atlantic coast of central africa has significant areas of protected parkland the forested coastal terrain of its famed loango national park shelters a diversity of wildlife from gorillas and hippos to whales lop� national park consists of mostly rainforest akanda national park is known for its mangroves and tidal beaches</td>\n",
              "      <td>what is the country known for</td>\n",
              "      <td>(106, 238)</td>\n",
              "      <td>the forested coastal terrain of its famed loango national park shelters a diversity of wildlife from gorillas and hippos to whales</td>\n",
              "    </tr>\n",
              "    <tr>\n",
              "      <th>597867</th>\n",
              "      <td>1202471</td>\n",
              "      <td>gabon a country along the atlantic coast of central africa has significant areas of protected parkland the forested coastal terrain of its famed loango national park shelters a diversity of wildlife from gorillas and hippos to whales lop� national park consists of mostly rainforest akanda national park is known for its mangroves and tidal beaches</td>\n",
              "      <td>what is the country</td>\n",
              "      <td>(0, 5)</td>\n",
              "      <td>gabon</td>\n",
              "    </tr>\n",
              "    <tr>\n",
              "      <th>597870</th>\n",
              "      <td>1202471</td>\n",
              "      <td>gabon a country along the atlantic coast of central africa has significant areas of protected parkland the forested coastal terrain of its famed loango national park shelters a diversity of wildlife from gorillas and hippos to whales lop� national park consists of mostly rainforest akanda national park is known for its mangroves and tidal beaches</td>\n",
              "      <td>what is akanda national park known for</td>\n",
              "      <td>(289, 355)</td>\n",
              "      <td>akanda national park is known for its mangroves and tidal beaches</td>\n",
              "    </tr>\n",
              "    <tr>\n",
              "      <th>597869</th>\n",
              "      <td>1202471</td>\n",
              "      <td>gabon a country along the atlantic coast of central africa has significant areas of protected parkland the forested coastal terrain of its famed loango national park shelters a diversity of wildlife from gorillas and hippos to whales lop� national park consists of mostly rainforest akanda national park is known for its mangroves and tidal beaches</td>\n",
              "      <td>where is the country located</td>\n",
              "      <td>(17, 59)</td>\n",
              "      <td>along the atlantic coast of central africa</td>\n",
              "    </tr>\n",
              "    <tr>\n",
              "      <th>597868</th>\n",
              "      <td>1202474</td>\n",
              "      <td>germany is a western european country with a landscape of forests rivers mountain ranges and north sea beaches it has over 2 millennia of history berlin its capital is home to art and nightlife scenes the brandenburg gate and many sites relating to wwii munich is known for its oktoberfest and beer halls including the 16 thcentury hofbr�uhaus frankfurt with its skyscrapers houses the european central bank</td>\n",
              "      <td>what is the country known for</td>\n",
              "      <td>(174, 260)</td>\n",
              "      <td>home to art and nightlife scenes the brandenburg gate and many sites relating to wwii</td>\n",
              "    </tr>\n",
              "  </tbody>\n",
              "</table>\n",
              "</div>\n",
              "      <button class=\"colab-df-convert\" onclick=\"convertToInteractive('df-6ba786c9-ca99-4bdb-b589-e7213acecf24')\"\n",
              "              title=\"Convert this dataframe to an interactive table.\"\n",
              "              style=\"display:none;\">\n",
              "        \n",
              "  <svg xmlns=\"http://www.w3.org/2000/svg\" height=\"24px\"viewBox=\"0 0 24 24\"\n",
              "       width=\"24px\">\n",
              "    <path d=\"M0 0h24v24H0V0z\" fill=\"none\"/>\n",
              "    <path d=\"M18.56 5.44l.94 2.06.94-2.06 2.06-.94-2.06-.94-.94-2.06-.94 2.06-2.06.94zm-11 1L8.5 8.5l.94-2.06 2.06-.94-2.06-.94L8.5 2.5l-.94 2.06-2.06.94zm10 10l.94 2.06.94-2.06 2.06-.94-2.06-.94-.94-2.06-.94 2.06-2.06.94z\"/><path d=\"M17.41 7.96l-1.37-1.37c-.4-.4-.92-.59-1.43-.59-.52 0-1.04.2-1.43.59L10.3 9.45l-7.72 7.72c-.78.78-.78 2.05 0 2.83L4 21.41c.39.39.9.59 1.41.59.51 0 1.02-.2 1.41-.59l7.78-7.78 2.81-2.81c.8-.78.8-2.07 0-2.86zM5.41 20L4 18.59l7.72-7.72 1.47 1.35L5.41 20z\"/>\n",
              "  </svg>\n",
              "      </button>\n",
              "      \n",
              "  <style>\n",
              "    .colab-df-container {\n",
              "      display:flex;\n",
              "      flex-wrap:wrap;\n",
              "      gap: 12px;\n",
              "    }\n",
              "\n",
              "    .colab-df-convert {\n",
              "      background-color: #E8F0FE;\n",
              "      border: none;\n",
              "      border-radius: 50%;\n",
              "      cursor: pointer;\n",
              "      display: none;\n",
              "      fill: #1967D2;\n",
              "      height: 32px;\n",
              "      padding: 0 0 0 0;\n",
              "      width: 32px;\n",
              "    }\n",
              "\n",
              "    .colab-df-convert:hover {\n",
              "      background-color: #E2EBFA;\n",
              "      box-shadow: 0px 1px 2px rgba(60, 64, 67, 0.3), 0px 1px 3px 1px rgba(60, 64, 67, 0.15);\n",
              "      fill: #174EA6;\n",
              "    }\n",
              "\n",
              "    [theme=dark] .colab-df-convert {\n",
              "      background-color: #3B4455;\n",
              "      fill: #D2E3FC;\n",
              "    }\n",
              "\n",
              "    [theme=dark] .colab-df-convert:hover {\n",
              "      background-color: #434B5C;\n",
              "      box-shadow: 0px 1px 3px 1px rgba(0, 0, 0, 0.15);\n",
              "      filter: drop-shadow(0px 1px 2px rgba(0, 0, 0, 0.3));\n",
              "      fill: #FFFFFF;\n",
              "    }\n",
              "  </style>\n",
              "\n",
              "      <script>\n",
              "        const buttonEl =\n",
              "          document.querySelector('#df-6ba786c9-ca99-4bdb-b589-e7213acecf24 button.colab-df-convert');\n",
              "        buttonEl.style.display =\n",
              "          google.colab.kernel.accessAllowed ? 'block' : 'none';\n",
              "\n",
              "        async function convertToInteractive(key) {\n",
              "          const element = document.querySelector('#df-6ba786c9-ca99-4bdb-b589-e7213acecf24');\n",
              "          const dataTable =\n",
              "            await google.colab.kernel.invokeFunction('convertToInteractive',\n",
              "                                                     [key], {});\n",
              "          if (!dataTable) return;\n",
              "\n",
              "          const docLinkHtml = 'Like what you see? Visit the ' +\n",
              "            '<a target=\"_blank\" href=https://colab.research.google.com/notebooks/data_table.ipynb>data table notebook</a>'\n",
              "            + ' to learn more about interactive tables.';\n",
              "          element.innerHTML = '';\n",
              "          dataTable['output_type'] = 'display_data';\n",
              "          await google.colab.output.renderOutput(dataTable, element);\n",
              "          const docLink = document.createElement('div');\n",
              "          docLink.innerHTML = docLinkHtml;\n",
              "          element.appendChild(docLink);\n",
              "        }\n",
              "      </script>\n",
              "    </div>\n",
              "  </div>\n",
              "  "
            ]
          },
          "metadata": {},
          "execution_count": 42
        }
      ]
    },
    {
      "cell_type": "code",
      "source": [
        "# list\n",
        "# passages = []\n",
        "# questions = []\n",
        "# answer_index = []\n",
        "# answer_text = []"
      ],
      "metadata": {
        "id": "BnDkJDU-44Z4"
      },
      "execution_count": 43,
      "outputs": []
    },
    {
      "cell_type": "code",
      "source": [
        "print(len(passages))\n",
        "print(len(questions))\n",
        "print(len(answer_index))\n",
        "print(len(answer_text))"
      ],
      "metadata": {
        "colab": {
          "base_uri": "https://localhost:8080/"
        },
        "id": "MTmsG7jG87G-",
        "outputId": "ccea4ed3-71db-42c9-ca0f-41adeb165bfd"
      },
      "execution_count": 57,
      "outputs": [
        {
          "output_type": "stream",
          "name": "stdout",
          "text": [
            "188\n",
            "1143\n",
            "1143\n",
            "1143\n"
          ]
        }
      ]
    },
    {
      "cell_type": "code",
      "source": [
        "print(len(passages[187]))"
      ],
      "metadata": {
        "colab": {
          "base_uri": "https://localhost:8080/"
        },
        "id": "uigMEJ1pCias",
        "outputId": "4c19d65c-5838-48ac-c013-b82d4065f3e9"
      },
      "execution_count": 93,
      "outputs": [
        {
          "output_type": "stream",
          "name": "stdout",
          "text": [
            "450\n"
          ]
        }
      ]
    },
    {
      "cell_type": "code",
      "source": [
        "def plot_sns(raw_data,fig_name,fig_size,plot_type):\n",
        "\n",
        "    data = np.array(raw_data)\n",
        "    # print(len(data))\n",
        "\n",
        "    x = np.arange(len(raw_data))\n",
        "    # print(len(x))\n",
        "    width = 0.2  # width of bar\n",
        "\n",
        "    sns.axes_style('white')\n",
        "    sns.set_style('white')\n",
        "    sns.set(rc={'figure.figsize':fig_size})\n",
        "    \n",
        "    print(data)\n",
        "    ax = plot_type(x, data)\n",
        "    ax.tick_params(axis='x', rotation=90)\n",
        "    fig = ax.get_figure()\n",
        "    fig.savefig('/content/drive/MyDrive/297 NLP/Final_Project/'+ fig_name, dpi = 400) "
      ],
      "metadata": {
        "id": "r-pxsEK_Jd0U"
      },
      "execution_count": 96,
      "outputs": []
    },
    {
      "cell_type": "code",
      "source": [
        "import matplotlib.pyplot as plt\n",
        "import seaborn as sns  \n",
        "\n",
        "passage_len = []\n",
        "\n",
        "for i in range(0,len(passages)):\n",
        "    passage_len.append(len(passages[i]))\n",
        "\n",
        "# print((passage_len))\n",
        "plot_sns(passage_len, 'paragraph_len', (30,15), sns.barplot)"
      ],
      "metadata": {
        "colab": {
          "base_uri": "https://localhost:8080/",
          "height": 932
        },
        "id": "_MrLhIKzA0xd",
        "outputId": "1362a313-3084-4da6-c918-3f1de0db6bcc"
      },
      "execution_count": 97,
      "outputs": [
        {
          "output_type": "stream",
          "name": "stdout",
          "text": [
            "[ 355  420  411  418  373  238  412  647  700  421  257  286  410  392\n",
            "  412  314  405  356  402  411  313  376  387  410  229  414  384  413\n",
            "  407  372  387  418  381  406  265  269  418  280  812  385  666  890\n",
            "  646  513  960 1023  552  666  753  471  871  652  843  785  476  852\n",
            "  789  646 1025  788 1345  952  543  381  370  498  933  308  366 1239\n",
            "  983  536  811  829  512  503  655  151  283  865  610  909 1206  371\n",
            "  612  754  848  716  563  524 1520 1451 2925 1737 1105 1822 1122 1076\n",
            " 1130 2190 1251 1223 2034  966 1652  756 1307 1780 1692 1053 1051 1173\n",
            " 1183  911  670 1201  808 1637 1736 1334 1842 1233 1714 1202 1821 1351\n",
            " 1789 1163 1503 1834 1233 1822 1259 1475 1008 1672  935 1411 1540 1819\n",
            " 1507  704  692  788  841 1004  935  996  783  729  869  940  587  524\n",
            "  548  672  630 1135 1051  634  597 1080 1027  604  993  680  856  624\n",
            "  591  638  802  631  720  800  799  771  894 1058  582  628  649  619\n",
            "  711  532  828  450  575  450]\n"
          ]
        },
        {
          "output_type": "stream",
          "name": "stderr",
          "text": [
            "/usr/local/lib/python3.8/dist-packages/seaborn/_decorators.py:36: FutureWarning: Pass the following variables as keyword args: x, y. From version 0.12, the only valid positional argument will be `data`, and passing other arguments without an explicit keyword will result in an error or misinterpretation.\n",
            "  warnings.warn(\n"
          ]
        },
        {
          "output_type": "display_data",
          "data": {
            "text/plain": [
              "<Figure size 2160x1080 with 1 Axes>"
            ],
            "image/png": "[encoded data removed]"
          },
          "metadata": {}
        }
      ]
    },
    {
      "cell_type": "code",
      "source": [
        "passage_MMA = {'max':max(passage_len),'min':min(passage_len),'avg':np.average(passage_len)}\n",
        "print(passage_MMA)"
      ],
      "metadata": {
        "colab": {
          "base_uri": "https://localhost:8080/"
        },
        "id": "wjHGhegtQASw",
        "outputId": "adb28d91-0d7c-40c5-9f34-f6251a49b9ec"
      },
      "execution_count": 113,
      "outputs": [
        {
          "output_type": "stream",
          "name": "stdout",
          "text": [
            "{'max': 2925, 'min': 151, 'avg': 844.0904255319149}\n"
          ]
        }
      ]
    },
    {
      "cell_type": "code",
      "source": [
        "que_len = []\n",
        "\n",
        "for i in range(0,len(questions)):\n",
        "    que_len.append(len(questions[i]))\n",
        "\n",
        "# print((passage_len))\n",
        "plot_sns(que_len, 'que_len', (30,15), sns.scatterplot)"
      ],
      "metadata": {
        "colab": {
          "base_uri": "https://localhost:8080/",
          "height": 717
        },
        "id": "phJNKc2iBf41",
        "outputId": "170b4048-2cf0-40f2-e7d9-91c320d53d2a"
      },
      "execution_count": 101,
      "outputs": [
        {
          "output_type": "stream",
          "name": "stdout",
          "text": [
            "[30 20 40 ... 36 22 42]\n"
          ]
        },
        {
          "output_type": "stream",
          "name": "stderr",
          "text": [
            "/usr/local/lib/python3.8/dist-packages/seaborn/_decorators.py:36: FutureWarning: Pass the following variables as keyword args: x, y. From version 0.12, the only valid positional argument will be `data`, and passing other arguments without an explicit keyword will result in an error or misinterpretation.\n",
            "  warnings.warn(\n"
          ]
        },
        {
          "output_type": "display_data",
          "data": {
            "text/plain": [
              "<Figure size 2160x1080 with 1 Axes>"
            ],
            "image/png": "[encoded data removed]"
          },
          "metadata": {}
        }
      ]
    },
    {
      "cell_type": "code",
      "source": [
        "que_MMA = {'max':max(que_len),'min':min(que_len),'avg':np.average(que_len)}\n",
        "print(que_MMA)"
      ],
      "metadata": {
        "colab": {
          "base_uri": "https://localhost:8080/"
        },
        "id": "ZhWJgY80RTH1",
        "outputId": "04d1ccc7-922a-466c-c21e-c3918c9b1b48"
      },
      "execution_count": 114,
      "outputs": [
        {
          "output_type": "stream",
          "name": "stdout",
          "text": [
            "{'max': 79, 'min': 18, 'avg': 33.25109361329834}\n"
          ]
        }
      ]
    },
    {
      "cell_type": "code",
      "source": [
        "print(len(answer_text[1]))"
      ],
      "metadata": {
        "colab": {
          "base_uri": "https://localhost:8080/"
        },
        "id": "1O2F5zbrPgQ7",
        "outputId": "6924cf16-14a7-4fcb-ae0c-903b42ff96d2"
      },
      "execution_count": 117,
      "outputs": [
        {
          "output_type": "stream",
          "name": "stdout",
          "text": [
            "5\n"
          ]
        }
      ]
    },
    {
      "cell_type": "code",
      "source": [
        "answer_text_len = []\n",
        "\n",
        "for i in range(0,len(answer_text)):\n",
        "    answer_text_len.append(len(answer_text[i]))\n",
        "\n",
        "# print((passage_len))\n",
        "plot_sns(answer_text_len, 'answer_text_len', (30,15), sns.scatterplot)"
      ],
      "metadata": {
        "colab": {
          "base_uri": "https://localhost:8080/",
          "height": 714
        },
        "id": "adsHtx9gNJX-",
        "outputId": "8581690d-1164-4164-8b72-5688aa2639ba"
      },
      "execution_count": 106,
      "outputs": [
        {
          "output_type": "stream",
          "name": "stdout",
          "text": [
            "[132   5  66 ...  11   8  21]\n"
          ]
        },
        {
          "output_type": "stream",
          "name": "stderr",
          "text": [
            "/usr/local/lib/python3.8/dist-packages/seaborn/_decorators.py:36: FutureWarning: Pass the following variables as keyword args: x, y. From version 0.12, the only valid positional argument will be `data`, and passing other arguments without an explicit keyword will result in an error or misinterpretation.\n",
            "  warnings.warn(\n"
          ]
        },
        {
          "output_type": "display_data",
          "data": {
            "text/plain": [
              "<Figure size 2160x1080 with 1 Axes>"
            ],
            "image/png": "[encoded data removed]"
          },
          "metadata": {}
        }
      ]
    },
    {
      "cell_type": "code",
      "source": [
        "answer_text_MMA = {'max':max(answer_text_len),'min':min(answer_text_len),'avg':np.average(answer_text_len)}\n",
        "print(answer_text_MMA)"
      ],
      "metadata": {
        "colab": {
          "base_uri": "https://localhost:8080/"
        },
        "id": "NOqYz0OHReVu",
        "outputId": "01d96a54-e023-4286-af03-005bdad87868"
      },
      "execution_count": 115,
      "outputs": [
        {
          "output_type": "stream",
          "name": "stdout",
          "text": [
            "{'max': 416, 'min': 1, 'avg': 32.52580927384077}\n"
          ]
        }
      ]
    },
    {
      "cell_type": "code",
      "source": [
        "que_cat = dict()\n",
        "que_types = set()\n",
        "\n",
        "for i in range(0,len(questions)):\n",
        "    x = questions[i].lower().split(' ')\n",
        "    que_types.add(x[0])\n",
        "\n",
        "print(que_types)\n",
        "print(len(que_types))\n",
        "que_types=list(que_types)\n",
        "\n",
        "for i in range(len(que_types)):\n",
        "    que_cat[que_types[i]] = 0\n",
        "print(que_cat)\n",
        "\n",
        "\n",
        "for i in range(0,len(questions)):\n",
        "    x = questions[i].lower().split(' ')\n",
        "    y = x[0]\n",
        "    # print(y)\n",
        "    que_cat[y]+= 1"
      ],
      "metadata": {
        "colab": {
          "base_uri": "https://localhost:8080/"
        },
        "id": "pCnK4WUOTRfJ",
        "outputId": "3a61bd0d-af25-4f9d-d131-92a0acc652b9"
      },
      "execution_count": 149,
      "outputs": [
        {
          "output_type": "stream",
          "name": "stdout",
          "text": [
            "{'', 'anand', 'united', \"togo's\", 'yemen', 'who', 'muslim', 'when', 'zimbabwe', 'king', '8', 'ahmedabad', 'originally', 'ankleshwar', 'tuvalu', 'ukrainian', 'north', 'the', 'bhavnagar', 'where', 'according', 'veraval', 'bangalore', 'trinidad', 'uzbekistan', 'how', 'bharuch', 'millions', 'south', 'uruguay', 'togo', 'vapi', 'palanpur', 'vice', 'diu', 'northern', 'dahod', 'population', 'gandhidham', 'this', \"what's\", 'ukraine', 'junagadh', 'what', 'himatnagar', 'nadiad', 'venezuela', 'bhuj', 'uganda', 'uparkot', 'in', 'porbandar', 'one', 'total', 'usa', 'mandvi', 'very', 'surat', 'president', 'godhra', 'morbi', 'gandhinagar', 'which', 'slums', 'at', \"ankleshwar's\", 'rajkot', 'archipelago', 'vadodara', 'vanuatu'}\n",
            "70\n",
            "{'': 0, 'anand': 0, 'united': 0, \"togo's\": 0, 'yemen': 0, 'who': 0, 'muslim': 0, 'when': 0, 'zimbabwe': 0, 'king': 0, '8': 0, 'ahmedabad': 0, 'originally': 0, 'ankleshwar': 0, 'tuvalu': 0, 'ukrainian': 0, 'north': 0, 'the': 0, 'bhavnagar': 0, 'where': 0, 'according': 0, 'veraval': 0, 'bangalore': 0, 'trinidad': 0, 'uzbekistan': 0, 'how': 0, 'bharuch': 0, 'millions': 0, 'south': 0, 'uruguay': 0, 'togo': 0, 'vapi': 0, 'palanpur': 0, 'vice': 0, 'diu': 0, 'northern': 0, 'dahod': 0, 'population': 0, 'gandhidham': 0, 'this': 0, \"what's\": 0, 'ukraine': 0, 'junagadh': 0, 'what': 0, 'himatnagar': 0, 'nadiad': 0, 'venezuela': 0, 'bhuj': 0, 'uganda': 0, 'uparkot': 0, 'in': 0, 'porbandar': 0, 'one': 0, 'total': 0, 'usa': 0, 'mandvi': 0, 'very': 0, 'surat': 0, 'president': 0, 'godhra': 0, 'morbi': 0, 'gandhinagar': 0, 'which': 0, 'slums': 0, 'at': 0, \"ankleshwar's\": 0, 'rajkot': 0, 'archipelago': 0, 'vadodara': 0, 'vanuatu': 0}\n"
          ]
        }
      ]
    },
    {
      "cell_type": "code",
      "source": [
        "print(len(que_types))"
      ],
      "metadata": {
        "colab": {
          "base_uri": "https://localhost:8080/"
        },
        "id": "HZ5K9KeaoBO5",
        "outputId": "7dbe51b2-24ef-4fcd-9cc5-24750fdf4637"
      },
      "execution_count": 151,
      "outputs": [
        {
          "output_type": "stream",
          "name": "stdout",
          "text": [
            "70\n"
          ]
        }
      ]
    },
    {
      "cell_type": "code",
      "source": [
        "que_cat.keys()"
      ],
      "metadata": {
        "colab": {
          "base_uri": "https://localhost:8080/"
        },
        "id": "8S-kwjG_fe-c",
        "outputId": "142b65c2-658b-4c0b-f6b9-9733d7d9ad6e"
      },
      "execution_count": 141,
      "outputs": [
        {
          "output_type": "execute_result",
          "data": {
            "text/plain": [
              "dict_keys(['', 'anand', 'united', \"togo's\", 'yemen', 'who', 'muslim', 'when', 'zimbabwe', 'king', '8', 'ahmedabad', 'originally', 'ankleshwar', 'tuvalu', 'ukrainian', 'north', 'the', 'bhavnagar', 'where', 'according', 'veraval', 'bangalore', 'trinidad', 'uzbekistan', 'how', 'bharuch', 'millions', 'south', 'uruguay', 'togo', 'vapi', 'palanpur', 'vice', 'diu', 'northern', 'dahod', 'population', 'gandhidham', 'this', \"what's\", 'ukraine', 'junagadh', 'what', 'himatnagar', 'nadiad', 'venezuela', 'bhuj', 'uganda', 'uparkot', 'in', 'porbandar', 'one', 'total', 'usa', 'mandvi', 'very', 'surat', 'president', 'godhra', 'morbi', 'gandhinagar', 'which', 'slums', 'at', \"ankleshwar's\", 'rajkot', 'archipelago', 'vadodara', 'vanuatu'])"
            ]
          },
          "metadata": {},
          "execution_count": 141
        }
      ]
    },
    {
      "cell_type": "code",
      "source": [
        "que_cat"
      ],
      "metadata": {
        "colab": {
          "base_uri": "https://localhost:8080/"
        },
        "id": "7bo9Pbo5cvxR",
        "outputId": "a5064a72-897b-4f9e-9908-b38d7afb11ea"
      },
      "execution_count": 146,
      "outputs": [
        {
          "output_type": "execute_result",
          "data": {
            "text/plain": [
              "{'': 1,\n",
              " 'anand': 2,\n",
              " 'united': 4,\n",
              " \"togo's\": 1,\n",
              " 'yemen': 2,\n",
              " 'who': 39,\n",
              " 'muslim': 1,\n",
              " 'when': 23,\n",
              " 'zimbabwe': 1,\n",
              " 'king': 1,\n",
              " '8': 1,\n",
              " 'ahmedabad': 2,\n",
              " 'originally': 1,\n",
              " 'ankleshwar': 1,\n",
              " 'tuvalu': 1,\n",
              " 'ukrainian': 1,\n",
              " 'north': 1,\n",
              " 'the': 25,\n",
              " 'bhavnagar': 1,\n",
              " 'where': 96,\n",
              " 'according': 1,\n",
              " 'veraval': 4,\n",
              " 'bangalore': 1,\n",
              " 'trinidad': 1,\n",
              " 'uzbekistan': 1,\n",
              " 'how': 32,\n",
              " 'bharuch': 2,\n",
              " 'millions': 1,\n",
              " 'south': 1,\n",
              " 'uruguay': 4,\n",
              " 'togo': 1,\n",
              " 'vapi': 2,\n",
              " 'palanpur': 2,\n",
              " 'vice': 1,\n",
              " 'diu': 1,\n",
              " 'northern': 1,\n",
              " 'dahod': 1,\n",
              " 'population': 2,\n",
              " 'gandhidham': 1,\n",
              " 'this': 1,\n",
              " \"what's\": 65,\n",
              " 'ukraine': 1,\n",
              " 'junagadh': 2,\n",
              " 'what': 625,\n",
              " 'himatnagar': 2,\n",
              " 'nadiad': 2,\n",
              " 'venezuela': 1,\n",
              " 'bhuj': 1,\n",
              " 'uganda': 1,\n",
              " 'uparkot': 1,\n",
              " 'in': 7,\n",
              " 'porbandar': 3,\n",
              " 'one': 1,\n",
              " 'total': 2,\n",
              " 'usa': 5,\n",
              " 'mandvi': 2,\n",
              " 'very': 1,\n",
              " 'surat': 3,\n",
              " 'president': 1,\n",
              " 'godhra': 2,\n",
              " 'morbi': 1,\n",
              " 'gandhinagar': 1,\n",
              " 'which': 134,\n",
              " 'slums': 1,\n",
              " 'at': 1,\n",
              " \"ankleshwar's\": 1,\n",
              " 'rajkot': 5,\n",
              " 'archipelago': 1,\n",
              " 'vadodara': 3,\n",
              " 'vanuatu': 1}"
            ]
          },
          "metadata": {},
          "execution_count": 146
        }
      ]
    },
    {
      "cell_type": "code",
      "source": [
        "who = 0\n",
        "when = 0\n",
        "where = 0\n",
        "how = 0\n",
        "whats = 0\n",
        "what = 0\n",
        "which = 0\n",
        "whom = 0\n",
        "iis = 0\n",
        "are = 0\n",
        "was = 0\n",
        "were = 0\n",
        "extra = 0\n",
        "\n",
        "for i in range(0,len(questions)):\n",
        "    questions[i] = questions[i].replace(\"?\", \"\")\n",
        "    x = questions[i].lower().split(' ')\n",
        "    if 'who' in x:\n",
        "        who += 1\n",
        "    elif 'when' in x:\n",
        "        when += 1\n",
        "    elif 'where' in x:\n",
        "        where += 1\n",
        "    elif 'how' in x:\n",
        "        how += 1\n",
        "    elif \"what's\" in x:\n",
        "        whats += 1\n",
        "    elif 'what' in x:\n",
        "        what += 1\n",
        "    elif 'which' in x:\n",
        "        which += 1\n",
        "    elif 'whom' in x:\n",
        "        whom += 1\n",
        "    elif 'is' in x:\n",
        "        iis += 1\n",
        "    elif 'are' in x:\n",
        "        are += 1\n",
        "    elif 'was' in x:\n",
        "        was += 1\n",
        "    elif 'were' in x:\n",
        "        were += 1\n",
        "    else:\n",
        "        print(x)\n",
        "        extra += 1\n",
        "\n",
        "print('who: ', who)\n",
        "print('when: ', when)\n",
        "print('where: ', where)\n",
        "print('how: ', how)\n",
        "print(\"what's: \" , whats)\n",
        "print('what: ', what)\n",
        "print('which: ', which)\n",
        "print('whom: ', whom)\n",
        "print('is: ', iis)\n",
        "print('are: ', are)\n",
        "print('was: ', was)\n",
        "print('were: ', were)\n",
        "print('extra: ', extra)"
      ],
      "metadata": {
        "colab": {
          "base_uri": "https://localhost:8080/"
        },
        "id": "V1_fu60-k_kw",
        "outputId": "6fb36748-13e2-4a44-f7e7-fe4838690080"
      },
      "execution_count": 167,
      "outputs": [
        {
          "output_type": "stream",
          "name": "stdout",
          "text": [
            "['population', 'of', 'the', 'capital', 'city']\n",
            "['population', 'of', 'the', 'country', 'in', '2013']\n",
            "who:  43\n",
            "when:  23\n",
            "where:  99\n",
            "how:  42\n",
            "what's:  65\n",
            "what:  668\n",
            "which:  178\n",
            "whom:  12\n",
            "is:  8\n",
            "are:  2\n",
            "was:  1\n",
            "were:  0\n",
            "extra:  2\n"
          ]
        }
      ]
    },
    {
      "cell_type": "code",
      "source": [
        "q = ['what', 'which', 'where', \"what's\", 'how', 'who', 'when', 'whom', 'is', 'are', 'was', 'were', 'extra']\n",
        "v = [647,178,98,65,42,40,23,12,8,2,1,0,2]"
      ],
      "metadata": {
        "id": "B-ZDSYxVnG_8"
      },
      "execution_count": 168,
      "outputs": []
    },
    {
      "cell_type": "code",
      "source": [
        "def show_values(axs, orient=\"v\", space=.01):\n",
        "    def _single(ax):\n",
        "        if orient == \"v\":\n",
        "            for p in ax.patches:\n",
        "                _x = p.get_x() + p.get_width() / 2\n",
        "                _y = p.get_y() + p.get_height() + (p.get_height()*0.01)\n",
        "                value = '{:.1f}'.format(p.get_height())\n",
        "                ax.text(_x, _y, value, ha=\"center\") \n",
        "        elif orient == \"h\":\n",
        "            for p in ax.patches:\n",
        "                _x = p.get_x() + p.get_width() + float(space)\n",
        "                _y = p.get_y() + p.get_height() - (p.get_height()*0.5)\n",
        "                value = '{:.1f}'.format(p.get_width())\n",
        "                ax.text(_x, _y, value, ha=\"left\")\n",
        "\n",
        "    if isinstance(axs, np.ndarray):\n",
        "        for idx, ax in np.ndenumerate(axs):\n",
        "            _single(ax)\n",
        "    else:\n",
        "        _single(axs)"
      ],
      "metadata": {
        "id": "vbI-qkJzreIk"
      },
      "execution_count": 169,
      "outputs": []
    },
    {
      "cell_type": "code",
      "source": [
        "sns.set(rc={'figure.figsize':(15, 8)})\n",
        "ax = sns.barplot(v,q, palette='plasma')\n",
        "# ax.bar_label(ax.containers[0])\n",
        "\n",
        "ax.tick_params(axis='x')\n",
        "# show_values(ax)\n",
        "#show values on barplot\n",
        "show_values(ax, \"h\", space=0)\n",
        "fig = ax.get_figure()\n",
        "fig.savefig('/content/drive/MyDrive/297 NLP/Final_Project/que_types', dpi = 400) "
      ],
      "metadata": {
        "colab": {
          "base_uri": "https://localhost:8080/",
          "height": 540
        },
        "id": "NktjCZkwok_g",
        "outputId": "d33c97a4-ca91-40aa-970a-ebb9f96ede30"
      },
      "execution_count": 176,
      "outputs": [
        {
          "output_type": "stream",
          "name": "stderr",
          "text": [
            "/usr/local/lib/python3.8/dist-packages/seaborn/_decorators.py:36: FutureWarning: Pass the following variables as keyword args: x, y. From version 0.12, the only valid positional argument will be `data`, and passing other arguments without an explicit keyword will result in an error or misinterpretation.\n",
            "  warnings.warn(\n"
          ]
        },
        {
          "output_type": "display_data",
          "data": {
            "text/plain": [
              "<Figure size 1080x576 with 1 Axes>"
            ],
            "image/png": "[encoded data removed]"
          },
          "metadata": {}
        }
      ]
    },
    {
      "cell_type": "code",
      "source": [
        "plot_dict = {\n",
        "    'Passage_length': passage_MMA,\n",
        "    'Question_length': que_MMA,\n",
        "    'ans_length': answer_text_MMA,\n",
        "}"
      ],
      "metadata": {
        "id": "qqt93H_Ev0_P"
      },
      "execution_count": 206,
      "outputs": []
    },
    {
      "cell_type": "code",
      "source": [
        "plot_dict"
      ],
      "metadata": {
        "colab": {
          "base_uri": "https://localhost:8080/"
        },
        "id": "99EUrBYTzOQV",
        "outputId": "3683081a-2e2b-427c-d901-59f8969f6783"
      },
      "execution_count": 207,
      "outputs": [
        {
          "output_type": "execute_result",
          "data": {
            "text/plain": [
              "{'Passage_length': {'max': 2925, 'min': 151, 'avg': 844.0904255319149},\n",
              " 'Question_length': {'max': 79, 'min': 18, 'avg': 33.25109361329834},\n",
              " 'ans_length': {'max': 416, 'min': 1, 'avg': 32.52580927384077}}"
            ]
          },
          "metadata": {},
          "execution_count": 207
        }
      ]
    },
    {
      "cell_type": "code",
      "source": [
        "d = {\n",
        "    'x':    ['Passage_length', 'Passage_length',  'Passage_length', 'Question_length', 'Question_length', 'Question_length', 'ans_length', 'ans_length', 'ans_length'],\n",
        "    'y':    [   2925,    151,   844.09,     79,    18,     33.25,    416,    1,   32.52],\n",
        "    'group':[  'max',  'min', 'avg',   'max',  'min',  'avg',   'max',  'min',  'avg']\n",
        "}\n",
        "\n",
        "# sns.barplot(x='x', y='y', hue=\"group\", data=d)\n",
        "\n",
        "\n",
        "sns.set(rc={'figure.figsize':(15, 8)})\n",
        "ax = sns.barplot(x='x', y='y', hue=\"group\", data=d)\n",
        "\n",
        "ax.tick_params(axis='x', rotation = 90)\n",
        "\n",
        "#show values on barplot\n",
        "show_values(ax, \"v\", space=0)\n",
        "fig = ax.get_figure()\n",
        "fig.savefig('/content/drive/MyDrive/297 NLP/Final_Project/min_max_length', dpi = 400) "
      ],
      "metadata": {
        "colab": {
          "base_uri": "https://localhost:8080/",
          "height": 566
        },
        "id": "Prz-EHsL6M1y",
        "outputId": "dfe793b5-28e2-4023-9b9a-9a1af6381acb"
      },
      "execution_count": 210,
      "outputs": [
        {
          "output_type": "display_data",
          "data": {
            "text/plain": [
              "<Figure size 1080x576 with 1 Axes>"
            ],
            "image/png": "[encoded data removed]"
          },
          "metadata": {}
        }
      ]
    }
  ]
}