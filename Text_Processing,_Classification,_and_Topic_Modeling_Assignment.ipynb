{
  "nbformat": 4,
  "nbformat_minor": 0,
  "metadata": {
    "colab": {
      "provenance": [],
      "collapsed_sections": [],
      "toc_visible": true,
      "authorship_tag": "ABX9TyOx5L/+LlR1x237+YqaTxOr",
      "include_colab_link": true
    },
    "kernelspec": {
      "name": "python3",
      "display_name": "Python 3"
    },
    "language_info": {
      "name": "python"
    }
  },
  "cells": [
    {
      "cell_type": "markdown",
      "metadata": {
        "id": "view-in-github",
        "colab_type": "text"
      },
      "source": [
        "<a href=\"https://colab.research.google.com/github/PLEX-GR00T/NLP/blob/main/Text_Processing%2C_Classification%2C_and_Topic_Modeling_Assignment.ipynb\" target=\"_parent\"><img src=\"https://colab.research.google.com/assets/colab-badge.svg\" alt=\"Open In Colab\"/></a>"
      ]
    },
    {
      "cell_type": "code",
      "execution_count": 2,
      "metadata": {
        "id": "WuDZKLjix6JL"
      },
      "outputs": [],
      "source": [
        "import nltk\n",
        "import string\n",
        "from nltk.corpus import movie_reviews\n",
        "from nltk.corpus import stopwords\n",
        "\n",
        "import pandas as pd\n",
        "from sklearn.feature_extraction.text import CountVectorizer\n",
        "import numpy as np"
      ]
    },
    {
      "cell_type": "code",
      "source": [
        "nltk.download('movie_reviews')\n",
        "nltk.download('stopwords')"
      ],
      "metadata": {
        "colab": {
          "base_uri": "https://localhost:8080/"
        },
        "id": "ZABxntgJy7E1",
        "outputId": "fb4afb77-ce66-49ed-cd98-80eb05e3fd6e"
      },
      "execution_count": 3,
      "outputs": [
        {
          "output_type": "stream",
          "name": "stderr",
          "text": [
            "[nltk_data] Downloading package movie_reviews to /root/nltk_data...\n",
            "[nltk_data]   Package movie_reviews is already up-to-date!\n",
            "[nltk_data] Downloading package stopwords to /root/nltk_data...\n",
            "[nltk_data]   Package stopwords is already up-to-date!\n"
          ]
        },
        {
          "output_type": "execute_result",
          "data": {
            "text/plain": [
              "True"
            ]
          },
          "metadata": {},
          "execution_count": 3
        }
      ]
    },
    {
      "cell_type": "markdown",
      "source": [
        "# Pre-process"
      ],
      "metadata": {
        "id": "4d3guW-vxcpf"
      }
    },
    {
      "cell_type": "code",
      "source": [
        "reviews = [movie_reviews.raw(fileid) for fileid in movie_reviews.fileids()]\n",
        "# reviews[0]"
      ],
      "metadata": {
        "id": "3Girth2uyAOD"
      },
      "execution_count": null,
      "outputs": []
    },
    {
      "cell_type": "code",
      "source": [
        "# reviews[1]"
      ],
      "metadata": {
        "id": "BfgVxLLTySiX"
      },
      "execution_count": null,
      "outputs": []
    },
    {
      "cell_type": "code",
      "source": [
        "# Remove Puncturations\n",
        "punctuations = string.punctuation\n",
        "words_wo_puncts = [x for x in reviews if x not in punctuations]\n",
        "\n",
        "# Remove the Stopwords\n",
        "eng_stopwords = stopwords.words('english')\n",
        "words_wo_puncts_stopwords =[x for x in words_wo_puncts if x not in eng_stopwords] "
      ],
      "metadata": {
        "id": "TWPob2AMBY2Z"
      },
      "execution_count": 8,
      "outputs": []
    },
    {
      "cell_type": "code",
      "source": [
        "# Convert words to np array.\n",
        "# movie1 = np.array(words_wo_puncts_stopwords)\n",
        "# type(movie1)\n",
        "movie2 = words_wo_puncts_stopwords"
      ],
      "metadata": {
        "id": "RA1Rc3UVDukf"
      },
      "execution_count": 9,
      "outputs": []
    },
    {
      "cell_type": "markdown",
      "source": [
        "# Task 1: Count Vectors"
      ],
      "metadata": {
        "id": "6AIi99k9w6Tz"
      }
    },
    {
      "cell_type": "code",
      "source": [
        "# Only Unigrams\n",
        "count_vect = CountVectorizer(analyzer='word', \n",
        "                             ngram_range=(1, 1), \n",
        "                             token_pattern = '[A-Za-z]+')\n",
        "count_matrix = count_vect.fit_transform(movie2)\n",
        "count_vect.get_feature_names_out()"
      ],
      "metadata": {
        "colab": {
          "base_uri": "https://localhost:8080/"
        },
        "id": "O-JZgYi3AeO2",
        "outputId": "123c5673-6f0a-491d-a0cc-10828b5c3a4e"
      },
      "execution_count": 10,
      "outputs": [
        {
          "output_type": "execute_result",
          "data": {
            "text/plain": [
              "array(['a', 'aa', 'aaa', ..., 'zwigoff', 'zycie', 'zzzzzzz'], dtype=object)"
            ]
          },
          "metadata": {},
          "execution_count": 10
        }
      ]
    },
    {
      "cell_type": "code",
      "source": [
        "print(\"Only Unigram Shape: \",count_matrix.shape)"
      ],
      "metadata": {
        "colab": {
          "base_uri": "https://localhost:8080/"
        },
        "id": "3Mhl0sAnqdF6",
        "outputId": "d0151362-fcd4-468a-d102-3ceb2e4ac1d3"
      },
      "execution_count": 11,
      "outputs": [
        {
          "output_type": "stream",
          "name": "stdout",
          "text": [
            "Only Unigram Shape:  (2000, 38911)\n"
          ]
        }
      ]
    },
    {
      "cell_type": "code",
      "source": [
        "print(count_matrix.toarray())"
      ],
      "metadata": {
        "colab": {
          "base_uri": "https://localhost:8080/"
        },
        "id": "aWInm3nbunxl",
        "outputId": "ef68019b-f3ad-43c0-e834-2bf551b1e68b"
      },
      "execution_count": 12,
      "outputs": [
        {
          "output_type": "stream",
          "name": "stdout",
          "text": [
            "[[14  0  0 ...  0  0  0]\n",
            " [13  0  0 ...  0  0  0]\n",
            " [10  0  0 ...  0  0  0]\n",
            " ...\n",
            " [31  0  0 ...  0  0  0]\n",
            " [ 7  0  0 ...  0  0  0]\n",
            " [20  0  0 ...  0  0  0]]\n"
          ]
        }
      ]
    },
    {
      "cell_type": "code",
      "source": [
        "# Unigrams and Bigrams\n",
        "count_vect = CountVectorizer(analyzer='word', \n",
        "                             ngram_range=(1, 2), \n",
        "                             token_pattern = '[A-Za-z]+')\n",
        "count_matrix = count_vect.fit_transform(movie2)\n",
        "count_vect.get_feature_names_out()"
      ],
      "metadata": {
        "colab": {
          "base_uri": "https://localhost:8080/"
        },
        "id": "lsdlGc62knk-",
        "outputId": "d393d171-8fa4-4857-bb43-6f8cbb1690ee"
      },
      "execution_count": 13,
      "outputs": [
        {
          "output_type": "execute_result",
          "data": {
            "text/plain": [
              "array(['a', 'a a', 'a abraded', ..., 'zycie za', 'zzzzzzz',\n",
              "       'zzzzzzz critique'], dtype=object)"
            ]
          },
          "metadata": {},
          "execution_count": 13
        }
      ]
    },
    {
      "cell_type": "code",
      "source": [
        "print(\"Unigram and Bigrams shape: \",count_matrix.shape)"
      ],
      "metadata": {
        "colab": {
          "base_uri": "https://localhost:8080/"
        },
        "id": "Y5UG6Dw_qfTv",
        "outputId": "80a0e7db-1cbd-4d7f-c9d4-2db94fdba189"
      },
      "execution_count": 14,
      "outputs": [
        {
          "output_type": "stream",
          "name": "stdout",
          "text": [
            "Unigram and Bigrams shape:  (2000, 519635)\n"
          ]
        }
      ]
    },
    {
      "cell_type": "code",
      "source": [
        "print(count_matrix.toarray())"
      ],
      "metadata": {
        "colab": {
          "base_uri": "https://localhost:8080/"
        },
        "id": "RpliSZC9ul_4",
        "outputId": "0aed3b23-1405-4648-fbec-7811b31e8d29"
      },
      "execution_count": 15,
      "outputs": [
        {
          "output_type": "stream",
          "name": "stdout",
          "text": [
            "[[14  0  0 ...  0  0  0]\n",
            " [13  0  0 ...  0  0  0]\n",
            " [10  0  0 ...  0  0  0]\n",
            " ...\n",
            " [31  0  0 ...  0  0  0]\n",
            " [ 7  0  0 ...  0  0  0]\n",
            " [20  0  0 ...  0  0  0]]\n"
          ]
        }
      ]
    },
    {
      "cell_type": "code",
      "source": [
        "# Only Bigrams\n",
        "count_bi_vect = CountVectorizer(analyzer='word', \n",
        "                             ngram_range=(2, 2), \n",
        "                             token_pattern = '[A-Za-z]+')\n",
        "count_bi_matrix = count_bi_vect.fit_transform(movie2)\n",
        "count_bi_vect.get_feature_names_out()"
      ],
      "metadata": {
        "colab": {
          "base_uri": "https://localhost:8080/"
        },
        "id": "LntM19LblRLj",
        "outputId": "a05fbbce-896f-48b0-aee3-dd4c1f6d62ca"
      },
      "execution_count": 16,
      "outputs": [
        {
          "output_type": "execute_result",
          "data": {
            "text/plain": [
              "array(['a a', 'a abraded', 'a abundence', ..., 'zycie masterfully',\n",
              "       'zycie za', 'zzzzzzz critique'], dtype=object)"
            ]
          },
          "metadata": {},
          "execution_count": 16
        }
      ]
    },
    {
      "cell_type": "code",
      "source": [
        "print(\"Only bigram shape: \",count_bi_matrix.shape)"
      ],
      "metadata": {
        "colab": {
          "base_uri": "https://localhost:8080/"
        },
        "id": "4eV87PvTqV78",
        "outputId": "81b692c8-bc0b-444e-fd2b-4b47f3f39c10"
      },
      "execution_count": 17,
      "outputs": [
        {
          "output_type": "stream",
          "name": "stdout",
          "text": [
            "Only bigram shape:  (2000, 480724)\n"
          ]
        }
      ]
    },
    {
      "cell_type": "code",
      "source": [
        "print(count_matrix.toarray())"
      ],
      "metadata": {
        "colab": {
          "base_uri": "https://localhost:8080/"
        },
        "id": "FBeHVsfsuW3v",
        "outputId": "663145d5-d8cd-4d6c-e903-b7e20ddf770c"
      },
      "execution_count": 18,
      "outputs": [
        {
          "output_type": "stream",
          "name": "stdout",
          "text": [
            "[[0 0 0 ... 0 0 0]\n",
            " [0 0 0 ... 0 0 0]\n",
            " [0 0 0 ... 0 0 0]\n",
            " ...\n",
            " [0 0 0 ... 0 0 0]\n",
            " [0 0 0 ... 0 0 0]\n",
            " [0 0 0 ... 0 0 0]]\n"
          ]
        }
      ]
    },
    {
      "cell_type": "markdown",
      "source": [
        "# Task 2: TF-idf"
      ],
      "metadata": {
        "id": "G6j_MqK_prpe"
      }
    },
    {
      "cell_type": "code",
      "source": [
        "from sklearn.feature_extraction.text import TfidfVectorizer"
      ],
      "metadata": {
        "id": "qV6C6ov1pu1r"
      },
      "execution_count": 19,
      "outputs": []
    },
    {
      "cell_type": "code",
      "source": [
        "# Unigram Tfidf\n",
        "tfid_vect = TfidfVectorizer(analyzer='word', \n",
        "                             ngram_range=(1,1), \n",
        "                             token_pattern = '[A-Za-z]+')\n",
        "tfid_count = tfid_vect.fit_transform(movie2)\n",
        "tfid_vect.get_feature_names_out()"
      ],
      "metadata": {
        "colab": {
          "base_uri": "https://localhost:8080/"
        },
        "id": "77v5QriUqDTh",
        "outputId": "a3a4b8fc-6b7b-4f58-ec01-cd104d04d2c5"
      },
      "execution_count": 20,
      "outputs": [
        {
          "output_type": "execute_result",
          "data": {
            "text/plain": [
              "array(['a', 'aa', 'aaa', ..., 'zwigoff', 'zycie', 'zzzzzzz'], dtype=object)"
            ]
          },
          "metadata": {},
          "execution_count": 20
        }
      ]
    },
    {
      "cell_type": "code",
      "source": [
        "print(\"Tfid vector unigram shape: \", tfid_count.shape)"
      ],
      "metadata": {
        "colab": {
          "base_uri": "https://localhost:8080/"
        },
        "id": "GoG1HRjxr66c",
        "outputId": "ed495717-6987-4093-dfd1-eb505d15bf7b"
      },
      "execution_count": 21,
      "outputs": [
        {
          "output_type": "stream",
          "name": "stdout",
          "text": [
            "Tfid vector unigram shape:  (2000, 38911)\n"
          ]
        }
      ]
    },
    {
      "cell_type": "code",
      "source": [
        "print(tfid_count.toarray())"
      ],
      "metadata": {
        "id": "qAueqLaP12SQ"
      },
      "execution_count": null,
      "outputs": []
    },
    {
      "cell_type": "code",
      "source": [
        "# Unigram and bigram Tfidf\n",
        "tfid_vect = TfidfVectorizer(analyzer='word', \n",
        "                             ngram_range=(1,2), \n",
        "                             token_pattern = '[A-Za-z]+')\n",
        "tfid_count = tfid_vect.fit_transform(movie)\n",
        "tfid_vect.get_feature_names_out()"
      ],
      "metadata": {
        "colab": {
          "base_uri": "https://localhost:8080/"
        },
        "id": "nUahx9iJsPXm",
        "outputId": "b83dc71b-6495-40a1-dfde-184a1b2a0e90"
      },
      "execution_count": 22,
      "outputs": [
        {
          "output_type": "execute_result",
          "data": {
            "text/plain": [
              "array(['a', 'a a', 'a abraded', ..., 'zycie za', 'zzzzzzz',\n",
              "       'zzzzzzz critique'], dtype=object)"
            ]
          },
          "metadata": {},
          "execution_count": 22
        }
      ]
    },
    {
      "cell_type": "code",
      "source": [
        "print(\"Tfid vector unigram and bigram shape: \", tfid_count.shape)"
      ],
      "metadata": {
        "colab": {
          "base_uri": "https://localhost:8080/"
        },
        "id": "GCOdOgKHsc7N",
        "outputId": "fff06e60-6c84-4e66-f1dd-20f7d04fc2d9"
      },
      "execution_count": 23,
      "outputs": [
        {
          "output_type": "stream",
          "name": "stdout",
          "text": [
            "Tfid vector unigram and bigram shape:  (2000, 519635)\n"
          ]
        }
      ]
    },
    {
      "cell_type": "code",
      "source": [
        "print(tfid_count.toarray())"
      ],
      "metadata": {
        "id": "nC4S-aq017XO"
      },
      "execution_count": null,
      "outputs": []
    },
    {
      "cell_type": "code",
      "source": [
        "# bigram Tfidf\n",
        "tfid_bi_vect = TfidfVectorizer(analyzer='word', \n",
        "                             ngram_range=(2,2), \n",
        "                             token_pattern = '[A-Za-z]+')\n",
        "tfid_bi_count = tfid_bi_vect.fit_transform(movie2)\n",
        "tfid_bi_vect.get_feature_names_out()"
      ],
      "metadata": {
        "colab": {
          "base_uri": "https://localhost:8080/"
        },
        "id": "fNTGcRC3siyA",
        "outputId": "c5dcaa72-0953-406c-e3d8-ffb22d9fc907"
      },
      "execution_count": 24,
      "outputs": [
        {
          "output_type": "execute_result",
          "data": {
            "text/plain": [
              "array(['a a', 'a abraded', 'a abundence', ..., 'zycie masterfully',\n",
              "       'zycie za', 'zzzzzzz critique'], dtype=object)"
            ]
          },
          "metadata": {},
          "execution_count": 24
        }
      ]
    },
    {
      "cell_type": "code",
      "source": [
        "print(\"Tfid vector bigram shape: \", tfid_count.shape)"
      ],
      "metadata": {
        "colab": {
          "base_uri": "https://localhost:8080/"
        },
        "id": "StVcCc-dslbj",
        "outputId": "1544a07e-ecdc-4f1c-d3eb-72184e7bead7"
      },
      "execution_count": 25,
      "outputs": [
        {
          "output_type": "stream",
          "name": "stdout",
          "text": [
            "Tfid vector bigram shape:  (2000, 519635)\n"
          ]
        }
      ]
    },
    {
      "cell_type": "code",
      "source": [
        "print(tfid_bi_count.toarray())"
      ],
      "metadata": {
        "id": "4hEXCJO92B7s"
      },
      "execution_count": null,
      "outputs": []
    },
    {
      "cell_type": "markdown",
      "source": [
        "# Task 3: Bayesian classification"
      ],
      "metadata": {
        "id": "buChGsVksxpU"
      }
    },
    {
      "cell_type": "code",
      "source": [
        "print(len(movie_reviews.fileids()))\n",
        "print(movie_reviews.categories())"
      ],
      "metadata": {
        "id": "yj-7fTVo4PA3"
      },
      "execution_count": null,
      "outputs": []
    },
    {
      "cell_type": "code",
      "source": [
        "import random \n",
        "\n",
        "corpus = [(list(movie_reviews.words(fileid)), category)\n",
        "             for category in movie_reviews.categories()\n",
        "             for fileid in movie_reviews.fileids(category)]\n",
        "random.seed(123)\n",
        "random.shuffle(corpus)"
      ],
      "metadata": {
        "id": "fiUcMXYU3YGK"
      },
      "execution_count": 27,
      "outputs": []
    },
    {
      "cell_type": "markdown",
      "source": [
        "## Test-Train Split"
      ],
      "metadata": {
        "id": "3Sh-P8B34a-E"
      }
    },
    {
      "cell_type": "code",
      "source": [
        "from sklearn.model_selection import train_test_split\n",
        "train, test = train_test_split(corpus, test_size = 0.30, random_state=16)"
      ],
      "metadata": {
        "id": "5hFoUrPw4an8"
      },
      "execution_count": 62,
      "outputs": []
    },
    {
      "cell_type": "code",
      "source": [
        "## Distrubtion for Train and Test\n",
        "from collections import Counter\n",
        "print(Counter([label for words, label in train]))\n",
        "print(Counter([label for words, label in test]))"
      ],
      "metadata": {
        "colab": {
          "base_uri": "https://localhost:8080/"
        },
        "id": "ywsawzB04zcx",
        "outputId": "db6b3fdf-341b-43d2-d761-c8a57ecb6c96"
      },
      "execution_count": 63,
      "outputs": [
        {
          "output_type": "stream",
          "name": "stdout",
          "text": [
            "Counter({'pos': 712, 'neg': 688})\n",
            "Counter({'neg': 312, 'pos': 288})\n"
          ]
        }
      ]
    },
    {
      "cell_type": "code",
      "source": [
        "X_train = [' '.join(words) for words, label in train]\n",
        "X_test = [' '.join(words) for words, label in test]\n",
        "y_train = [label for words, label in train]\n",
        "y_test = [label for words, label in test]"
      ],
      "metadata": {
        "id": "BAUa28LX5BxQ"
      },
      "execution_count": 64,
      "outputs": []
    },
    {
      "cell_type": "markdown",
      "source": [
        "## Part 1: Unigram comparison."
      ],
      "metadata": {
        "id": "Hwz_qMK02roa"
      }
    },
    {
      "cell_type": "markdown",
      "source": [
        "### 1.1 Count Vectors Unigram"
      ],
      "metadata": {
        "id": "1pB7gLzxAfA5"
      }
    },
    {
      "cell_type": "code",
      "source": [
        "## Count Vector Unigram\n",
        "c_vector = CountVectorizer (analyzer = 'word',\n",
        "                            ngram_range=(1,1), # Unigram\n",
        "                            min_df = 10, # igore any frequencey of words below 10\n",
        "                            token_pattern = r'[a-zA-Z]+')\n",
        "X_train_cvu = c_vector.fit_transform(X_train) # fit train\n",
        "X_test_cvu= c_vector.transform(X_test) # transform test\n",
        "\n",
        "print(X_train_cvu.shape)\n",
        "print(X_test_cvu.shape)"
      ],
      "metadata": {
        "colab": {
          "base_uri": "https://localhost:8080/"
        },
        "id": "46-jU3Tq6zrU",
        "outputId": "adcf983c-ec6a-43c9-8a45-352b51302f0f"
      },
      "execution_count": 116,
      "outputs": [
        {
          "output_type": "stream",
          "name": "stdout",
          "text": [
            "(1400, 6459)\n",
            "(600, 6459)\n"
          ]
        }
      ]
    },
    {
      "cell_type": "code",
      "source": [
        "from sklearn.naive_bayes import MultinomialNB\n",
        "model_gnb = MultinomialNB()\n",
        "model_gnb.fit(X_train_cvu.toarray(), y_train)"
      ],
      "metadata": {
        "colab": {
          "base_uri": "https://localhost:8080/"
        },
        "id": "aoO30G_G8HdN",
        "outputId": "9581b05a-2527-4d9a-c24f-10a63279df9d"
      },
      "execution_count": 117,
      "outputs": [
        {
          "output_type": "execute_result",
          "data": {
            "text/plain": [
              "MultinomialNB()"
            ]
          },
          "metadata": {},
          "execution_count": 117
        }
      ]
    },
    {
      "cell_type": "code",
      "source": [
        "# create predictions\n",
        "y_pred = model_gnb.predict(X_test_cvu)\n",
        "\n",
        "# find f-1 score\n",
        "from sklearn.metrics import f1_score\n",
        "score = f1_score(y_test, y_pred, average='micro')\n",
        "print('F-1 score : {}'.format(np.round(score,4)))"
      ],
      "metadata": {
        "colab": {
          "base_uri": "https://localhost:8080/"
        },
        "id": "rxqTPdE6F_Hr",
        "outputId": "7bd12b83-2bbd-4f3a-e233-f6a8b8ef14b2"
      },
      "execution_count": 118,
      "outputs": [
        {
          "output_type": "stream",
          "name": "stdout",
          "text": [
            "F-1 score : 0.8133\n"
          ]
        }
      ]
    },
    {
      "cell_type": "markdown",
      "source": [
        "### 1.2 TF-idf Unigram"
      ],
      "metadata": {
        "id": "6dTyUUbWAjNh"
      }
    },
    {
      "cell_type": "code",
      "source": [
        "## Tfidf Vectors Unigram\n",
        "tfidf_vec = TfidfVectorizer(analyzer = 'word',\n",
        "                            ngram_range=(1,1),\n",
        "                            min_df = 10, \n",
        "                            token_pattern = r'[a-zA-Z]+')\n",
        "X_train_tfidfu = tfidf_vec.fit_transform(X_train) # fit train\n",
        "X_test_tfidfu = tfidf_vec.transform(X_test) # transform test\n",
        "\n",
        "print(X_train_tfidfu.shape)\n",
        "print(X_test_tfidfu.shape)"
      ],
      "metadata": {
        "colab": {
          "base_uri": "https://localhost:8080/"
        },
        "id": "jcpA4xLNs0on",
        "outputId": "a08a7f7b-11dd-46bc-8acf-8982898c3dd7"
      },
      "execution_count": 83,
      "outputs": [
        {
          "output_type": "stream",
          "name": "stdout",
          "text": [
            "(1400, 10826)\n",
            "(600, 10826)\n"
          ]
        }
      ]
    },
    {
      "cell_type": "code",
      "source": [
        "# from sklearn.naive_bayes import MultinomialNB\n",
        "model_m = MultinomialNB()\n",
        "model_m.fit(X_train_tfidfu.toarray(), y_train)"
      ],
      "metadata": {
        "colab": {
          "base_uri": "https://localhost:8080/"
        },
        "id": "Aff5o3EA5rY7",
        "outputId": "a60870ca-97e8-4f56-f323-315de50010fa"
      },
      "execution_count": 114,
      "outputs": [
        {
          "output_type": "execute_result",
          "data": {
            "text/plain": [
              "MultinomialNB()"
            ]
          },
          "metadata": {},
          "execution_count": 114
        }
      ]
    },
    {
      "cell_type": "code",
      "source": [
        "# create predictions\n",
        "y_pred = model_m.predict(X_test_tfidfu)\n",
        "\n",
        "# find f-1 score\n",
        "from sklearn.metrics import f1_score\n",
        "score = f1_score(y_test, y_pred, average='micro')\n",
        "print('F-1 score : {}'.format(np.round(score,4)))"
      ],
      "metadata": {
        "colab": {
          "base_uri": "https://localhost:8080/"
        },
        "id": "FT68QHLwK4fQ",
        "outputId": "e180fc21-ba2b-42cf-dee0-d1ce2c62fea2"
      },
      "execution_count": 115,
      "outputs": [
        {
          "output_type": "stream",
          "name": "stdout",
          "text": [
            "F-1 score : 0.8017\n"
          ]
        }
      ]
    },
    {
      "cell_type": "markdown",
      "source": [
        "## Part 2: Bigram Comparison."
      ],
      "metadata": {
        "id": "0NTDtWIeLRvy"
      }
    },
    {
      "cell_type": "markdown",
      "source": [
        "### 2.1 Count Vectors Bigrams"
      ],
      "metadata": {
        "id": "iYoSvCBwLfKa"
      }
    },
    {
      "cell_type": "code",
      "source": [
        "## Count Vector Unigram\n",
        "c_vector_bi = CountVectorizer (analyzer = 'word',\n",
        "                            ngram_range=(2,2), # Unigram\n",
        "                            min_df = 10, # igore any frequencey of words below 10\n",
        "                            token_pattern = r'[a-zA-Z]+')\n",
        "X_train_cvb = c_vector_bi.fit_transform(X_train) # fit train\n",
        "X_test_cvb= c_vector_bi.transform(X_test) # transform test\n",
        "\n",
        "print(X_train_cvb.shape)\n",
        "print(X_test_cvb.shape)"
      ],
      "metadata": {
        "colab": {
          "base_uri": "https://localhost:8080/"
        },
        "id": "rDY0Z4prLvUG",
        "outputId": "33dcfd84-0820-4c40-fe1f-df40ed7b98ad"
      },
      "execution_count": 150,
      "outputs": [
        {
          "output_type": "stream",
          "name": "stdout",
          "text": [
            "(1400, 10160)\n",
            "(600, 10160)\n"
          ]
        }
      ]
    },
    {
      "cell_type": "code",
      "source": [
        "from sklearn.naive_bayes import MultinomialNB\n",
        "model_gnb = MultinomialNB()\n",
        "model_gnb.fit(X_train_cvb.toarray(), y_train)"
      ],
      "metadata": {
        "colab": {
          "base_uri": "https://localhost:8080/"
        },
        "id": "VTMgNFEfMiFF",
        "outputId": "52d5e260-b264-4a42-ba9b-d8cc05e7eb8c"
      },
      "execution_count": 151,
      "outputs": [
        {
          "output_type": "execute_result",
          "data": {
            "text/plain": [
              "MultinomialNB()"
            ]
          },
          "metadata": {},
          "execution_count": 151
        }
      ]
    },
    {
      "cell_type": "code",
      "source": [
        "# create predictions\n",
        "y_pred = model_gnb.predict(X_test_cvb)\n",
        "\n",
        "# find f-1 score\n",
        "# from sklearn.metrics import f1_score\n",
        "score = f1_score(y_test, y_pred, average='micro')\n",
        "print('F-1 score : {}'.format(np.round(score,4)))"
      ],
      "metadata": {
        "colab": {
          "base_uri": "https://localhost:8080/"
        },
        "id": "vHkaWGdpMrbd",
        "outputId": "773968d2-1753-4cb7-fe84-fa8f9a1faf0a"
      },
      "execution_count": 152,
      "outputs": [
        {
          "output_type": "stream",
          "name": "stdout",
          "text": [
            "F-1 score : 0.8183\n"
          ]
        }
      ]
    },
    {
      "cell_type": "markdown",
      "source": [
        "### 2.2 TF-idf Bigrams"
      ],
      "metadata": {
        "id": "RyBW0Dt3NAv7"
      }
    },
    {
      "cell_type": "code",
      "source": [
        "## Tfidf Vectors Unigram\n",
        "tfidf_vecb = TfidfVectorizer(analyzer = 'word',\n",
        "                            ngram_range=(2,2),\n",
        "                            min_df = 10, \n",
        "                            token_pattern = r'[a-zA-Z]+')\n",
        "X_train_tfidfub = tfidf_vecb.fit_transform(X_train) # fit train\n",
        "X_test_tfidfub = tfidf_vecb.transform(X_test) # transform test\n",
        "\n",
        "print(X_train_tfidfub.shape)\n",
        "print(X_test_tfidfub.shape)"
      ],
      "metadata": {
        "colab": {
          "base_uri": "https://localhost:8080/"
        },
        "id": "wHbFDAyBLQz6",
        "outputId": "287f3b42-ba31-4997-ebe1-ad85fb5d7a17"
      },
      "execution_count": 138,
      "outputs": [
        {
          "output_type": "stream",
          "name": "stdout",
          "text": [
            "(1400, 10160)\n",
            "(600, 10160)\n"
          ]
        }
      ]
    },
    {
      "cell_type": "code",
      "source": [
        "# from sklearn.naive_bayes import MultinomialNB\n",
        "model_m = MultinomialNB()\n",
        "model_m.fit(X_train_tfidfub.toarray(), y_train)"
      ],
      "metadata": {
        "colab": {
          "base_uri": "https://localhost:8080/"
        },
        "id": "LMw2GF5sNFag",
        "outputId": "5719f859-f28b-41a8-bd9f-4aeabd88003a"
      },
      "execution_count": 139,
      "outputs": [
        {
          "output_type": "execute_result",
          "data": {
            "text/plain": [
              "MultinomialNB()"
            ]
          },
          "metadata": {},
          "execution_count": 139
        }
      ]
    },
    {
      "cell_type": "code",
      "source": [
        "# create predictions\n",
        "y_pred = model_m.predict(X_test_tfidfub)\n",
        "\n",
        "# find f-1 score\n",
        "from sklearn.metrics import f1_score\n",
        "score = f1_score(y_test, y_pred, average='micro')\n",
        "print('F-1 score : {}'.format(np.round(score,4)))"
      ],
      "metadata": {
        "colab": {
          "base_uri": "https://localhost:8080/"
        },
        "id": "LMI5xw-ZNfay",
        "outputId": "50402982-a6e1-4aaf-b119-816f797b9fce"
      },
      "execution_count": 142,
      "outputs": [
        {
          "output_type": "stream",
          "name": "stdout",
          "text": [
            "F-1 score : 0.83\n"
          ]
        }
      ]
    },
    {
      "cell_type": "markdown",
      "source": [
        "## Results F-1 Scores\n",
        "\n",
        "\\begin{array}{|c|c|} \\hline\n",
        " & CountVecotr & TF-IDF \\\\ \\hline\n",
        "Unigram & 0.8133 & 0.8017 \\\\ \\hline\n",
        "Bigram & 0.8183 & 0.83 \\\\\\hline\n",
        "\\end{array}"
      ],
      "metadata": {
        "id": "lVG9MJDShZT5"
      }
    },
    {
      "cell_type": "markdown",
      "source": [
        "# Part 4: Use nltk.collocations functions to calculate the top 10 bigram collocations based on PMI."
      ],
      "metadata": {
        "id": "jrPah3NXOVwh"
      }
    },
    {
      "cell_type": "code",
      "source": [
        "from nltk.collocations import *\n",
        "bigram_measures = nltk.collocations.BigramAssocMeasures()\n",
        "finder = BigramCollocationFinder.from_words(movie_reviews.words())\n",
        "finder.nbest(bigram_measures.pmi, 10)"
      ],
      "metadata": {
        "colab": {
          "base_uri": "https://localhost:8080/"
        },
        "id": "3UUFwvocSipe",
        "outputId": "af82c833-b07e-42d9-fc3d-fd39f9ceedee"
      },
      "execution_count": 167,
      "outputs": [
        {
          "output_type": "execute_result",
          "data": {
            "text/plain": [
              "[('\\x05\\x05', 'euuugh'),\n",
              " ('05425', 'keywords'),\n",
              " ('165', 'mph'),\n",
              " ('1812', 'overture'),\n",
              " ('1926', 'novella'),\n",
              " ('1hr', '40mins'),\n",
              " ('289', '460'),\n",
              " ('460', '939'),\n",
              " ('_angel', 'heart_'),\n",
              " ('_animal', 'house_')]"
            ]
          },
          "metadata": {},
          "execution_count": 167
        }
      ]
    },
    {
      "cell_type": "code",
      "source": [
        "bigram_measures = nltk.collocations.BigramAssocMeasures()\n",
        "finder = BigramCollocationFinder.from_words(movie_reviews.words())\n",
        "finder.apply_freq_filter(3)\n",
        "finder.nbest(bigram_measures.pmi, 10)\n"
      ],
      "metadata": {
        "colab": {
          "base_uri": "https://localhost:8080/"
        },
        "id": "-0Ei28opT9FE",
        "outputId": "43ccfad7-e84f-40d4-e92b-c9354a8b09a6"
      },
      "execution_count": 175,
      "outputs": [
        {
          "output_type": "execute_result",
          "data": {
            "text/plain": [
              "[('_october', 'sky_'),\n",
              " ('alanis', 'morissette'),\n",
              " ('arija', 'bareikis'),\n",
              " ('battleship', 'potemkin'),\n",
              " ('bokeem', 'woodbine'),\n",
              " ('edie', 'mcclurg'),\n",
              " ('gabriella', 'pescucci'),\n",
              " ('gedde', 'watanabe'),\n",
              " ('heath', 'ledger'),\n",
              " ('igor', 'stravinsky')]"
            ]
          },
          "metadata": {},
          "execution_count": 175
        }
      ]
    },
    {
      "cell_type": "markdown",
      "source": [
        "# Task 5: Topic modeling exercise"
      ],
      "metadata": {
        "id": "HxX-3LetV9eB"
      }
    },
    {
      "cell_type": "code",
      "source": [
        "!pip install pyLDAvis "
      ],
      "metadata": {
        "id": "mVtWm4_pWFA7"
      },
      "execution_count": null,
      "outputs": []
    },
    {
      "cell_type": "code",
      "source": [
        "from __future__ import print_function\n",
        "import pyLDAvis\n",
        "\n",
        "import pyLDAvis.sklearn\n",
        "pyLDAvis.enable_notebook()\n",
        "from sklearn.datasets import fetch_20newsgroups\n",
        "from sklearn.feature_extraction.text import CountVectorizer, TfidfVectorizer\n",
        "from sklearn.decomposition import LatentDirichletAllocation\n",
        "# Load 20 newsgroups dataset\n",
        "# First, the 20 newsgroups dataset available in sklearn is loaded. As always, the headers, footers and quotes are removed."
      ],
      "metadata": {
        "colab": {
          "base_uri": "https://localhost:8080/"
        },
        "id": "jZLwD3DrWh8g",
        "outputId": "e122c1da-459a-4334-d931-036ed7196a16"
      },
      "execution_count": 177,
      "outputs": [
        {
          "output_type": "stream",
          "name": "stderr",
          "text": [
            "/usr/local/lib/python3.7/dist-packages/past/types/oldstr.py:5: DeprecationWarning: Using or importing the ABCs from 'collections' instead of from 'collections.abc' is deprecated since Python 3.3,and in 3.9 it will stop working\n",
            "  from collections import Iterable\n",
            "/usr/local/lib/python3.7/dist-packages/past/builtins/misc.py:4: DeprecationWarning: Using or importing the ABCs from 'collections' instead of from 'collections.abc' is deprecated since Python 3.3,and in 3.9 it will stop working\n",
            "  from collections import Mapping\n"
          ]
        }
      ]
    },
    {
      "cell_type": "code",
      "source": [
        "# Check the API for this to use the categories.\n",
        "filters = ['sci.med', 'sci.space', 'talk.politics.guns']\n",
        "newsgroups = fetch_20newsgroups(remove=('headers', 'footers', 'quotes'), categories = filters)\n",
        "docs_raw = newsgroups.data\n",
        "print(len(docs_raw))"
      ],
      "metadata": {
        "colab": {
          "base_uri": "https://localhost:8080/"
        },
        "id": "laXTOkwWWoJD",
        "outputId": "056e0975-a173-4079-ede2-32abbdc0af9b"
      },
      "execution_count": 180,
      "outputs": [
        {
          "output_type": "stream",
          "name": "stdout",
          "text": [
            "1733\n"
          ]
        }
      ]
    },
    {
      "cell_type": "code",
      "source": [
        "# Convert to document-term matrix\n",
        "# Next, the raw documents are converted into document-term matrix, possibly as raw counts or in TF-IDF form.\n",
        "\n",
        "tf_vectorizer = CountVectorizer(strip_accents = 'unicode',\n",
        "                                stop_words = 'english',\n",
        "                                lowercase = True,\n",
        "                                token_pattern = r'\\b[a-zA-Z]{3,}\\b',\n",
        "                                max_df = 0.5, \n",
        "                                min_df = 10)\n",
        "dtm_tf = tf_vectorizer.fit_transform(docs_raw)\n",
        "print(dtm_tf.shape)"
      ],
      "metadata": {
        "colab": {
          "base_uri": "https://localhost:8080/"
        },
        "id": "Nn9BB6ylfpvQ",
        "outputId": "70d247f8-09fa-43f3-a810-bb251b7abf7b"
      },
      "execution_count": 181,
      "outputs": [
        {
          "output_type": "stream",
          "name": "stdout",
          "text": [
            "(1733, 2589)\n"
          ]
        }
      ]
    },
    {
      "cell_type": "code",
      "source": [
        "tfidf_vectorizer = TfidfVectorizer(**tf_vectorizer.get_params())\n",
        "dtm_tfidf = tfidf_vectorizer.fit_transform(docs_raw)\n",
        "print(dtm_tfidf.shape)"
      ],
      "metadata": {
        "colab": {
          "base_uri": "https://localhost:8080/"
        },
        "id": "LlFWAEIYfwUc",
        "outputId": "a8928ff2-6f85-4d25-eb14-f8c0fdc2e753"
      },
      "execution_count": 182,
      "outputs": [
        {
          "output_type": "stream",
          "name": "stderr",
          "text": [
            "/usr/local/lib/python3.7/dist-packages/sklearn/feature_extraction/text.py:2032: UserWarning: Only (<class 'numpy.float64'>, <class 'numpy.float32'>, <class 'numpy.float16'>) 'dtype' should be used. <class 'numpy.int64'> 'dtype' will be converted to np.float64.\n",
            "  UserWarning,\n"
          ]
        },
        {
          "output_type": "stream",
          "name": "stdout",
          "text": [
            "(1733, 2589)\n"
          ]
        }
      ]
    },
    {
      "cell_type": "code",
      "source": [
        "# Fit Latent Dirichlet Allocation models - this step takes a while!\n",
        "\n",
        "# for TF DTM\n",
        "lda_tf = LatentDirichletAllocation(n_components=15, random_state=0)\n",
        "lda_tf.fit(dtm_tf)\n",
        "\n",
        "# for TFIDF DTM\n",
        "lda_tfidf = LatentDirichletAllocation(n_components=15, random_state=0)\n",
        "lda_tfidf.fit(dtm_tfidf)\n",
        "LatentDirichletAllocation(batch_size=128, doc_topic_prior=None,\n",
        "             evaluate_every=-1, learning_decay=0.7,\n",
        "             learning_method='online', learning_offset=10.0,\n",
        "             max_doc_update_iter=100, max_iter=10, mean_change_tol=0.001,\n",
        "             n_jobs=1, n_components=15, perp_tol=0.1, random_state=0,\n",
        "             topic_word_prior=None, total_samples=1000000.0, verbose=0)"
      ],
      "metadata": {
        "colab": {
          "base_uri": "https://localhost:8080/"
        },
        "id": "HywglZiHfyWM",
        "outputId": "d83a4525-7a26-4904-ed36-20ec90c9c486"
      },
      "execution_count": 184,
      "outputs": [
        {
          "output_type": "execute_result",
          "data": {
            "text/plain": [
              "LatentDirichletAllocation(learning_method='online', n_components=15, n_jobs=1,\n",
              "                          random_state=0)"
            ]
          },
          "metadata": {},
          "execution_count": 184
        }
      ]
    },
    {
      "cell_type": "code",
      "source": [
        "# Visualizing the models with pyLDAvis, using the term frequency (tf) vectors\n",
        "pyLDAvis.sklearn.prepare(lda_tf, dtm_tf, tf_vectorizer)"
      ],
      "metadata": {
        "colab": {
          "base_uri": "https://localhost:8080/",
          "height": 951
        },
        "id": "BO3SA9vXf0Ok",
        "outputId": "43d0706c-54bb-4241-deae-14528a430386"
      },
      "execution_count": 185,
      "outputs": [
        {
          "output_type": "stream",
          "name": "stderr",
          "text": [
            "/usr/local/lib/python3.7/dist-packages/sklearn/utils/deprecation.py:87: FutureWarning: Function get_feature_names is deprecated; get_feature_names is deprecated in 1.0 and will be removed in 1.2. Please use get_feature_names_out instead.\n",
            "  warnings.warn(msg, category=FutureWarning)\n",
            "/usr/local/lib/python3.7/dist-packages/pyLDAvis/_prepare.py:247: FutureWarning: In a future version of pandas all arguments of DataFrame.drop except for the argument 'labels' will be keyword-only\n",
            "  by='saliency', ascending=False).head(R).drop('saliency', 1)\n"
          ]
        },
        {
          "output_type": "execute_result",
          "data": {
            "text/plain": [
              "PreparedData(topic_coordinates=              x         y  topics  cluster       Freq\n",
              "topic                                                \n",
              "6      0.122582 -0.077558       1        1  12.392180\n",
              "1     -0.023124  0.204133       2        1  10.370253\n",
              "14    -0.215929 -0.081323       3        1   9.377513\n",
              "4     -0.248786 -0.040542       4        1   9.190920\n",
              "12    -0.194006 -0.039647       5        1   8.496218\n",
              "2     -0.066800 -0.028729       6        1   7.873237\n",
              "3     -0.002921  0.086416       7        1   7.553935\n",
              "5      0.074986 -0.089442       8        1   7.003577\n",
              "9      0.170089 -0.037943       9        1   6.439404\n",
              "10     0.094155 -0.123028      10        1   5.012300\n",
              "11     0.115384 -0.116063      11        1   4.562170\n",
              "7      0.001778  0.234920      12        1   3.648552\n",
              "0      0.084729  0.146403      13        1   3.182278\n",
              "8      0.068517  0.066378      14        1   2.846191\n",
              "13     0.019344 -0.103974      15        1   2.051272, topic_info=        Term        Freq       Total Category  logprob  loglift\n",
              "2182   space  986.000000  986.000000  Default  30.0000  30.0000\n",
              "1021     gun  610.000000  610.000000  Default  29.0000  29.0000\n",
              "720      edu  518.000000  518.000000  Default  28.0000  28.0000\n",
              "1677  people  738.000000  738.000000  Default  27.0000  27.0000\n",
              "1513    nasa  389.000000  389.000000  Default  26.0000  26.0000\n",
              "...      ...         ...         ...      ...      ...      ...\n",
              "676      don   17.774044  625.090549  Topic15  -4.9092   0.3266\n",
              "1323    like   17.452035  602.840029  Topic15  -4.9275   0.3445\n",
              "339   center   12.825867  210.662604  Topic15  -5.2354   1.0879\n",
              "1253    know   13.584073  466.474647  Topic15  -5.1780   0.3504\n",
              "1267   large   12.016408  161.345436  Topic15  -5.3006   1.2894\n",
              "\n",
              "[883 rows x 6 columns], token_table=      Topic      Freq       Term\n",
              "term                            \n",
              "0         2  0.920809    abiding\n",
              "0        13  0.032886    abiding\n",
              "10        7  0.204167   accident\n",
              "10        8  0.136112   accident\n",
              "10        9  0.612502   accident\n",
              "...     ...       ...        ...\n",
              "2585     13  0.074364  yesterday\n",
              "2585     14  0.037182  yesterday\n",
              "2586      2  0.247465       york\n",
              "2586      3  0.160125       york\n",
              "2586      6  0.582272       york\n",
              "\n",
              "[3730 rows x 3 columns], R=30, lambda_step=0.01, plot_opts={'xlab': 'PC1', 'ylab': 'PC2'}, topic_order=[7, 2, 15, 5, 13, 3, 4, 6, 10, 11, 12, 8, 1, 9, 14])"
            ],
            "text/html": [
              "\n",
              "<link rel=\"stylesheet\" type=\"text/css\" href=\"https://cdn.jsdelivr.net/gh/bmabey/pyLDAvis@3.3.1/pyLDAvis/js/ldavis.v1.0.0.css\">\n",
              "\n",
              "\n",
              "<div id=\"ldavis_el2041406840403080487638441593\"></div>\n",
              "<script type=\"text/javascript\">\n",
              "\n",
              "var ldavis_el2041406840403080487638441593_data = {\"mdsDat\": {\"x\": [0.12258202739288171, -0.023123579423437412, -0.21592893277400613, -0.2487857544610416, -0.1940056837606528, -0.06680007383249464, -0.002921013889438759, 0.07498637270101796, 0.1700888214500255, 0.09415531116249118, 0.11538435977426974, 0.0017777177424279206, 0.08472934059075127, 0.06851677755976361, 0.01934430976744252], \"y\": [-0.07755779411252911, 0.20413274199095666, -0.08132322660365485, -0.040542387721785526, -0.03964693270247684, -0.02872924244033187, 0.08641619097576261, -0.08944176734566597, -0.037943452753548546, -0.12302846405016919, -0.11606313066445749, 0.23492013507094797, 0.14640318600576968, 0.06637790373907645, -0.10397375938789409], \"topics\": [1, 2, 3, 4, 5, 6, 7, 8, 9, 10, 11, 12, 13, 14, 15], \"cluster\": [1, 1, 1, 1, 1, 1, 1, 1, 1, 1, 1, 1, 1, 1, 1], \"Freq\": [12.392180420983019, 10.37025341768589, 9.377512557656924, 9.190919687514576, 8.496218138056413, 7.873237204159331, 7.553935092047993, 7.0035771150539565, 6.439403514016995, 5.0122997877337205, 4.5621695590174705, 3.648552421500064, 3.182278091806602, 2.8461907278572562, 2.051272264909802]}, \"tinfo\": {\"Term\": [\"space\", \"gun\", \"edu\", \"people\", \"nasa\", \"file\", \"com\", \"launch\", \"msg\", \"right\", \"food\", \"know\", \"firearms\", \"guns\", \"don\", \"orbit\", \"satellite\", \"government\", \"like\", \"medical\", \"data\", \"lunar\", \"earth\", \"shuttle\", \"militia\", \"just\", \"health\", \"law\", \"cancer\", \"think\", \"insisting\", \"water\", \"walls\", \"balls\", \"methodology\", \"crazy\", \"fear\", \"shafer\", \"sorts\", \"precisely\", \"reactions\", \"mistakes\", \"perfect\", \"dryden\", \"psychology\", \"empirical\", \"reliable\", \"strange\", \"turns\", \"decide\", \"mary\", \"fundamental\", \"meal\", \"beat\", \"fat\", \"pat\", \"theories\", \"heavy\", \"ignoring\", \"useless\", \"reality\", \"face\", \"certainly\", \"finally\", \"hole\", \"think\", \"science\", \"makes\", \"scientific\", \"people\", \"just\", \"isn\", \"world\", \"real\", \"results\", \"process\", \"like\", \"true\", \"come\", \"don\", \"try\", \"way\", \"thing\", \"things\", \"make\", \"mean\", \"important\", \"live\", \"matter\", \"little\", \"probably\", \"time\", \"point\", \"lot\", \"different\", \"believe\", \"got\", \"good\", \"did\", \"didn\", \"homicide\", \"homicides\", \"murders\", \"crime\", \"abiding\", \"handguns\", \"file\", \"ownership\", \"handgun\", \"violent\", \"sporting\", \"owners\", \"nra\", \"convicted\", \"legally\", \"violence\", \"canadian\", \"rkba\", \"criminal\", \"seattle\", \"criminals\", \"assaults\", \"citizen\", \"victims\", \"lies\", \"bills\", \"guns\", \"justice\", \"gun\", \"liberty\", \"firearms\", \"congress\", \"ban\", \"rates\", \"armed\", \"self\", \"crimes\", \"control\", \"law\", \"laws\", \"america\", \"rate\", \"assault\", \"house\", \"united\", \"states\", \"public\", \"weapons\", \"defense\", \"firearm\", \"study\", \"weapon\", \"used\", \"second\", \"use\", \"mars\", \"titan\", \"probes\", \"radar\", \"atlas\", \"probe\", \"observer\", \"drag\", \"comet\", \"saturn\", \"delta\", \"clipper\", \"pluto\", \"gravity\", \"venus\", \"manned\", \"satellite\", \"orbit\", \"aerospace\", \"craft\", \"satellites\", \"pioneer\", \"launched\", \"inclination\", \"viking\", \"launches\", \"launch\", \"jupiter\", \"uranus\", \"surface\", \"lunar\", \"earth\", \"rocket\", \"spacecraft\", \"solar\", \"moon\", \"market\", \"commercial\", \"space\", \"mission\", \"missions\", \"vehicle\", \"stage\", \"sun\", \"power\", \"year\", \"data\", \"new\", \"national\", \"years\", \"astronaut\", \"aeronautics\", \"sdio\", \"capabilities\", \"applications\", \"magellan\", \"jsc\", \"language\", \"candidates\", \"houston\", \"aircraft\", \"jet\", \"forwarded\", \"operating\", \"roll\", \"fly\", \"flight\", \"shuttle\", \"japanese\", \"software\", \"advertising\", \"nasa\", \"capability\", \"performed\", \"aviation\", \"management\", \"configuration\", \"operations\", \"opportunity\", \"participate\", \"program\", \"technology\", \"data\", \"engineering\", \"space\", \"station\", \"images\", \"include\", \"research\", \"mission\", \"center\", \"activities\", \"science\", \"april\", \"available\", \"office\", \"test\", \"university\", \"information\", \"training\", \"programs\", \"development\", \"following\", \"use\", \"time\", \"new\", \"geb\", \"intellect\", \"chastity\", \"dsl\", \"shameful\", \"astronomical\", \"skepticism\", \"arc\", \"pitt\", \"cadre\", \"astro\", \"mit\", \"netcom\", \"banks\", \"faq\", \"gordon\", \"surrender\", \"gamma\", \"edu\", \"com\", \"compuserve\", \"server\", \"universe\", \"unix\", \"fits\", \"digest\", \"org\", \"messages\", \"peter\", \"math\", \"email\", \"soon\", \"bitnet\", \"star\", \"astronomy\", \"sci\", \"pub\", \"box\", \"gov\", \"list\", \"space\", \"archive\", \"available\", \"information\", \"theory\", \"send\", \"nasa\", \"general\", \"ftp\", \"placebo\", \"dyer\", \"nutrition\", \"cancer\", \"candida\", \"vitamin\", \"inflammatory\", \"muscles\", \"clinical\", \"treatment\", \"researchers\", \"healthy\", \"bacteria\", \"medication\", \"infection\", \"formation\", \"injuries\", \"cure\", \"dose\", \"advice\", \"injury\", \"disease\", \"physicians\", \"windows\", \"treated\", \"infections\", \"medical\", \"hospitals\", \"san\", \"practitioner\", \"patients\", \"acid\", \"centers\", \"york\", \"medicine\", \"health\", \"skin\", \"study\", \"research\", \"new\", \"center\", \"syndrome\", \"day\", \"information\", \"help\", \"university\", \"med\", \"info\", \"number\", \"available\", \"use\", \"people\", \"good\", \"work\", \"edu\", \"time\", \"compound\", \"tobacco\", \"commit\", \"raid\", \"atf\", \"koresh\", \"fbi\", \"davidians\", \"survivors\", \"batf\", \"tear\", \"affair\", \"reno\", \"adult\", \"infectious\", \"child\", \"concern\", \"children\", \"waco\", \"yesterday\", \"sex\", \"surveillance\", \"believed\", \"oil\", \"agents\", \"cult\", \"increased\", \"paranoid\", \"handheld\", \"jmd\", \"branch\", \"persons\", \"aids\", \"reported\", \"gas\", \"president\", \"age\", \"health\", \"diseases\", \"use\", \"safety\", \"states\", \"number\", \"national\", \"cases\", \"said\", \"public\", \"human\", \"people\", \"law\", \"risk\", \"april\", \"did\", \"years\", \"dollar\", \"grade\", \"reusable\", \"redesign\", \"mystery\", \"cheap\", \"mir\", \"listen\", \"engineer\", \"centaur\", \"tanks\", \"tommy\", \"paying\", \"options\", \"merely\", \"grows\", \"qualified\", \"nations\", \"materials\", \"integration\", \"option\", \"justify\", \"economy\", \"town\", \"technological\", \"feasible\", \"jobs\", \"russian\", \"spending\", \"expert\", \"cost\", \"billion\", \"main\", \"cheaper\", \"claim\", \"big\", \"flame\", \"costs\", \"buy\", \"goal\", \"moon\", \"station\", \"don\", \"use\", \"want\", \"need\", \"article\", \"money\", \"know\", \"just\", \"space\", \"idea\", \"years\", \"think\", \"used\", \"like\", \"believe\", \"high\", \"good\", \"say\", \"people\", \"time\", \"things\", \"really\", \"sure\", \"guns\", \"revolver\", \"glock\", \"trigger\", \"cops\", \"hammer\", \"distinguish\", \"auto\", \"clinic\", \"funny\", \"son\", \"shoot\", \"finger\", \"cop\", \"plastic\", \"boy\", \"illinois\", \"gang\", \"andy\", \"knife\", \"busy\", \"practicing\", \"accident\", \"angle\", \"justified\", \"happening\", \"considering\", \"hey\", \"handling\", \"pulled\", \"initially\", \"shooting\", \"semi\", \"police\", \"pull\", \"told\", \"supposed\", \"worked\", \"said\", \"room\", \"wanted\", \"like\", \"just\", \"don\", \"shot\", \"gun\", \"safety\", \"wrong\", \"old\", \"defense\", \"time\", \"doesn\", \"know\", \"far\", \"really\", \"going\", \"did\", \"say\", \"people\", \"good\", \"think\", \"thing\", \"doctor\", \"does\", \"better\", \"make\", \"want\", \"sure\", \"headache\", \"mri\", \"allergic\", \"headaches\", \"pain\", \"yeast\", \"inflammation\", \"brain\", \"symptoms\", \"chronic\", \"physician\", \"treatments\", \"suffering\", \"patient\", \"vary\", \"tissue\", \"surgery\", \"doctors\", \"photography\", \"replies\", \"severe\", \"sensitive\", \"carl\", \"hypothesis\", \"fluid\", \"color\", \"breathing\", \"injection\", \"tends\", \"migraine\", \"doctor\", \"stomach\", \"damage\", \"normal\", \"object\", \"patients\", \"greatly\", \"know\", \"body\", \"tests\", \"don\", \"blood\", \"sure\", \"anti\", \"quite\", \"problems\", \"like\", \"case\", \"having\", \"disease\", \"cause\", \"medical\", \"say\", \"help\", \"think\", \"things\", \"good\", \"does\", \"years\", \"time\", \"eye\", \"fever\", \"fred\", \"curious\", \"feed\", \"heat\", \"ridiculous\", \"mirror\", \"aid\", \"ring\", \"brief\", \"shape\", \"advance\", \"daughter\", \"correction\", \"worthless\", \"thanks\", \"talks\", \"encourage\", \"closed\", \"wild\", \"english\", \"student\", \"catch\", \"anecdotal\", \"forever\", \"arm\", \"letting\", \"exercise\", \"root\", \"appreciated\", \"left\", \"ago\", \"mark\", \"heard\", \"reply\", \"humans\", \"area\", \"know\", \"cross\", \"seen\", \"short\", \"effects\", \"long\", \"got\", \"started\", \"question\", \"known\", \"time\", \"point\", \"idea\", \"does\", \"years\", \"just\", \"think\", \"interesting\", \"don\", \"like\", \"day\", \"help\", \"going\", \"right\", \"really\", \"msg\", \"flavor\", \"glutamate\", \"seizure\", \"chinese\", \"food\", \"automatic\", \"sugar\", \"possess\", \"substance\", \"eaten\", \"taste\", \"section\", \"license\", \"served\", \"foods\", \"representative\", \"legislation\", \"shall\", \"meat\", \"blind\", \"collect\", \"issued\", \"restaurant\", \"passed\", \"device\", \"penalty\", \"fee\", \"reaction\", \"committee\", \"dangerous\", \"firearm\", \"division\", \"act\", \"person\", \"weapon\", \"military\", \"weapons\", \"firearms\", \"application\", \"law\", \"carry\", \"use\", \"following\", \"state\", \"semi\", \"day\", \"texas\", \"means\", \"weaver\", \"federalist\", \"standing\", \"regulated\", \"mining\", \"harris\", \"militia\", \"ufl\", \"contrary\", \"rights\", \"corn\", \"organized\", \"liberties\", \"bear\", \"modify\", \"trial\", \"granted\", \"crap\", \"governments\", \"judge\", \"constitution\", \"court\", \"allergies\", \"destroy\", \"twice\", \"amendment\", \"security\", \"army\", \"agent\", \"arms\", \"right\", \"government\", \"state\", \"shall\", \"people\", \"stated\", \"citizens\", \"second\", \"federal\", \"laws\", \"legal\", \"power\", \"day\", \"does\", \"make\", \"states\", \"year\", \"worst\", \"protected\", \"neighbors\", \"guard\", \"officer\", \"minority\", \"adequate\", \"created\", \"documented\", \"accidental\", \"majority\", \"rec\", \"deaths\", \"population\", \"fields\", \"strength\", \"happens\", \"claiming\", \"attacks\", \"hci\", \"define\", \"usa\", \"favorite\", \"weekend\", \"specified\", \"attend\", \"constitutional\", \"win\", \"nuclear\", \"mile\", \"policy\", \"statistics\", \"war\", \"militia\", \"civil\", \"members\", \"electric\", \"uses\", \"risks\", \"government\", \"fact\", \"people\", \"did\", \"time\", \"states\", \"weapons\", \"like\", \"really\", \"make\", \"federal\", \"say\", \"true\", \"good\", \"called\", \"years\", \"weapon\", \"use\", \"things\", \"think\", \"national\", \"prize\", \"ssf\", \"contest\", \"flights\", \"estimate\", \"stove\", \"tax\", \"joke\", \"race\", \"wood\", \"suggestion\", \"helping\", \"alot\", \"warrant\", \"fund\", \"guys\", \"cutting\", \"doug\", \"billion\", \"funds\", \"allen\", \"lewis\", \"taxes\", \"ssto\", \"search\", \"electrical\", \"shelf\", \"throw\", \"electric\", \"sign\", \"practical\", \"weight\", \"development\", \"money\", \"year\", \"work\", \"blood\", \"does\", \"actually\", \"way\", \"build\", \"cost\", \"make\", \"used\", \"life\", \"moon\", \"don\", \"like\", \"center\", \"know\", \"large\"], \"Freq\": [986.0, 610.0, 518.0, 738.0, 389.0, 322.0, 309.0, 271.0, 138.0, 328.0, 158.0, 466.0, 224.0, 283.0, 625.0, 200.0, 188.0, 229.0, 602.0, 221.0, 274.0, 181.0, 230.0, 191.0, 110.0, 544.0, 227.0, 228.0, 129.0, 462.0, 15.918470090280772, 126.65759934480894, 9.966258269607101, 18.741520504350262, 25.806621518087876, 14.89573435302289, 16.241078633792508, 17.865341340042026, 11.86288965227936, 11.457434008989638, 13.626114089013038, 16.05399837288232, 20.67409916108319, 17.406094852293048, 19.695120917969618, 17.07213235438206, 15.61751814776403, 9.562241790170113, 10.276026432071241, 13.018415735672322, 18.345468345781548, 14.56960029144972, 8.935359510235763, 9.58782883377928, 21.677406138416778, 19.459577487920278, 11.429812045766127, 30.670895203274892, 9.971478024808222, 9.343341581563612, 23.710077627372744, 38.85123183591852, 55.72951749581263, 24.240651883957085, 16.030496533338624, 204.65586523173866, 107.41907039685461, 50.11971449368739, 66.5765646071451, 256.56537401143964, 194.47478065866238, 59.28440455154585, 73.19097166228197, 69.97203760567388, 47.40537097392902, 50.261719867532356, 185.42370930705908, 54.74634765368567, 62.271669973189184, 178.12435467897612, 54.18404130387202, 95.9849121786194, 70.28400405998016, 80.46074890405983, 96.1953549496216, 44.03676974469256, 40.805836757232356, 43.456488007157844, 44.5197293045741, 62.57660622662561, 62.455398192071954, 103.36465331956056, 65.27384466742346, 54.49908111517264, 55.5699499470064, 62.5284710095088, 52.093392231443225, 65.41907827194419, 60.777291080615015, 52.33268268090613, 64.8682755437497, 48.17664053716552, 14.79337042529413, 146.16174386943393, 28.229599185152455, 63.21788960151381, 292.76675137174647, 31.87984666050081, 86.12466763017082, 48.165143296524064, 17.47303133109331, 33.720950623335426, 64.26744548922582, 14.440455273414965, 19.24206216330324, 25.76077184356106, 14.701018962446534, 60.353818726134946, 59.07559604753327, 52.457964663830865, 68.05027630817558, 13.315477735868773, 25.902038587354493, 17.80743572991047, 10.75102287060717, 19.184328630500506, 221.83293834643172, 20.552570133868286, 472.47656915592773, 15.125442563545878, 171.51551069870246, 78.17748667203668, 35.25280750839659, 49.174726448931516, 45.74692652784273, 87.30246009837104, 32.982715550318474, 145.6594316509575, 117.97630277177736, 62.372813624884714, 41.35933934344819, 68.20002525299418, 48.27183887872665, 53.93661339486588, 61.91325297985113, 77.23117547131852, 77.08232166699733, 71.50373468395101, 60.885855624857236, 54.28961155117127, 59.548176316174256, 52.40960495785548, 55.761545600172596, 51.70440026725649, 52.28725876631735, 103.065328328453, 50.839261859206296, 44.865980184891505, 31.923870533388097, 28.93722963493908, 72.01516292022035, 21.945969007190367, 20.97246366079766, 29.9567423023996, 48.613128331418025, 42.75436709397284, 16.69773982543687, 20.377552122816862, 37.64359532837292, 55.788969851364854, 28.118405433321595, 170.0826510636805, 178.56200621378926, 38.854491045949246, 27.308448630063232, 89.00067712730606, 28.952575503977748, 63.67256512372771, 12.991345012726862, 21.510628613168052, 41.28025907288112, 233.3742440120289, 42.19582247291042, 14.987747697570986, 73.0877527402627, 150.9079025198885, 169.53682661375598, 84.63536164100218, 86.28758130757303, 77.68314432117201, 104.5954386944195, 51.5776134503579, 68.73273959115126, 304.14662754177976, 81.97452529846014, 52.93394693326069, 54.90226224893598, 41.71221145564644, 48.89043761925605, 57.39760749942978, 68.68027408642591, 62.138381553659336, 58.82665864704082, 46.26572306245515, 46.89224996044754, 43.07407610910576, 15.914577384768126, 24.296465799621444, 15.749343956126562, 44.980783741918835, 21.8056626258589, 25.343403156911126, 27.733101187429668, 21.94953014666717, 17.00492612508753, 26.690421334032816, 16.08216225667477, 8.690871297790121, 22.808863528432113, 16.438105642257998, 19.382628817435847, 91.01779306545211, 147.14619245933187, 39.80485671592468, 96.50181674946835, 25.721639326983972, 286.9425808847085, 25.37192114759966, 22.377884318918944, 19.332929367696575, 40.55503650532135, 9.921356071214664, 27.919499326245194, 18.575505318691427, 10.179313956976106, 164.1431167647953, 97.44656605912682, 163.42534034072983, 30.99106061117948, 384.2019220925218, 60.64197927983614, 41.95576308677784, 44.3649074059255, 94.293676368415, 64.69427259970242, 80.66296349975124, 30.332913718656478, 72.52146506365908, 60.25181336900458, 68.40408181685756, 46.95632518231358, 42.66260599840645, 47.909996249622644, 57.02428599533325, 34.084407184948695, 32.92546926094252, 37.16837722064364, 35.00781965770502, 39.65952158879692, 38.137829671724376, 36.72361126360375, 73.60042611715818, 71.66527017758425, 70.69769242857488, 69.7301145204745, 69.7301145204745, 44.57308864709256, 70.44172929282999, 29.0918365890679, 73.60042618230413, 69.62694331482209, 41.188127011454235, 31.499299437811487, 23.28483354946225, 75.75552424285503, 77.80239265584005, 77.18920578554123, 70.52792306872162, 24.306410028482606, 428.045245379399, 252.44218692810404, 12.64301695153438, 23.044978402837653, 43.265084974861736, 14.066090793284602, 13.29644872604855, 15.545752038884988, 28.581702928231415, 12.409388052346449, 14.573420242890567, 11.701702101672923, 67.1931254243485, 79.41418081598441, 26.637879599937015, 48.438556869544264, 43.539024834995594, 90.49632075284516, 38.13519879039113, 40.18042849133548, 57.55237493206836, 62.24662164198665, 197.4537468871337, 44.423864112408005, 75.16785309080042, 72.1074545451807, 46.70992302483898, 47.20427271255804, 68.46250927409373, 49.04773601484941, 45.08785657692288, 23.47063281402691, 19.613274960438083, 18.635849374514056, 122.71960535888181, 60.634692126189485, 43.57105725384651, 11.705476761251852, 18.24682603690901, 44.00184689445599, 80.27096506291511, 29.29583452321457, 20.990963791911973, 19.92000263892122, 16.139499258469794, 33.4243676069511, 14.109739792351558, 20.47314323356291, 33.87584967794178, 16.079856135920267, 21.608037898640145, 27.918055410157553, 104.94620013852261, 19.49008296036391, 22.0620985621198, 16.02016487992364, 25.854551379471012, 149.03819799889033, 10.48341653271815, 39.3968201945214, 8.824155732111555, 95.35093306947384, 27.241685496202276, 37.15972359741778, 39.594418296289575, 54.988303885718594, 93.15824150306669, 27.478539499801435, 73.57860503277462, 90.69956971279414, 101.70365391254207, 68.33339561568432, 30.56545695248665, 68.70793242717683, 71.57139235359305, 53.221640862376454, 48.57641004893636, 30.075384668614685, 37.75385076806949, 44.1516422866889, 44.527990840569664, 47.42792375316991, 50.40254737172515, 42.46370747340857, 39.10159318056247, 36.93400952016574, 36.20510342275445, 66.10383687386843, 59.00809613252643, 12.51475253896439, 21.54185745335331, 42.91776280029946, 54.87408251325366, 95.5684128978364, 24.90211804701173, 11.557090240435144, 64.13322364206, 23.859306078540833, 9.542758464934714, 22.731160706147495, 20.11757143621467, 18.531174734953808, 54.60799681835135, 11.33195475745873, 109.79675768166744, 42.10473276728314, 20.289055594186973, 12.307361933722124, 26.08932294613681, 10.017361815038937, 11.906332180831413, 26.397468444684066, 19.256079721618285, 37.38482856148516, 9.364770757326331, 11.842871135298532, 11.842871133769517, 21.764022152250146, 24.23948463901246, 47.3900306045449, 60.456210169337496, 49.02830533228803, 44.47563382773425, 48.94617593413293, 102.33051613197091, 33.68683452305009, 99.60825452292706, 47.11873584444019, 54.99466222468846, 55.52397362485982, 52.64334252195763, 36.28214874067901, 52.20434671738803, 44.825269993115526, 35.31247759930121, 67.42902173491036, 44.39380754082645, 34.37376932151451, 39.613132379343924, 43.48882626375764, 44.80608703278643, 16.639808103839723, 15.664819017461644, 14.219643851692425, 32.722575431897084, 8.83989759230916, 14.211183201828465, 14.708392925900018, 7.853272781340114, 10.583107475808553, 21.72298826095054, 50.00438085111769, 8.347144672053242, 15.873027264210751, 24.6196302436607, 18.283827280027534, 7.211917184499716, 10.161327140517674, 10.60869028935777, 20.65761405106435, 11.750374377380142, 25.208043243767793, 6.259340541268875, 12.432928322822047, 10.117666426949315, 6.779523676411619, 6.198892553146883, 13.43755678510742, 28.43504692295671, 9.385592377474838, 9.649414847290583, 77.948432118199, 31.16472176459337, 33.69884989264213, 18.497518762647278, 35.78640561497943, 48.60281742654924, 17.306653177398722, 24.93668453881767, 25.71165357864161, 19.092919052589497, 44.52439228112538, 36.15337691891457, 97.32126473953171, 85.64311295715284, 52.142206365026404, 44.62437454199625, 35.55407230440265, 32.78287064994939, 66.54314371078367, 71.84894829301709, 86.02293560640082, 33.878139136604354, 49.71508167541312, 56.318588903196094, 45.843931198800135, 59.62434241902849, 39.7548436961896, 39.69711573347846, 46.85461932111218, 39.67035335372256, 56.13729001632465, 50.59736325890372, 38.50451712064019, 36.09423838055044, 34.34578020224135, 33.91071959080264, 39.647256242623115, 18.86708029445146, 28.762402186273835, 20.034309374332896, 19.458874552946373, 8.04903542262268, 45.69440023050024, 20.09263826396311, 14.091279261476716, 19.420414738870793, 21.096169699753144, 12.821602927955455, 8.706889604196487, 10.639999518214093, 9.855184088687338, 12.237668215884666, 19.16909591943545, 14.561969430308674, 25.46582792402118, 6.69676499783182, 7.002697024571013, 8.57865027464554, 13.811365429736195, 9.173316636601413, 6.810522514090511, 13.011171263063979, 10.745833578777006, 7.745473376937813, 9.32032488908377, 7.111800286180672, 19.619425239804112, 44.90900159739641, 59.9230127495447, 10.900540223162816, 41.05243034315348, 21.470419237620902, 15.316188515146525, 88.11029509833494, 18.323425872296454, 28.60812199714614, 134.94623983632167, 116.72164946616144, 124.2970209669531, 24.3913925361005, 113.62178269738516, 45.25914852834234, 32.236670878019325, 37.78529988573386, 39.48185228129452, 82.5799768324937, 41.68105096448558, 72.86084595169027, 39.327042286641735, 46.19279101911182, 42.96508069675175, 49.02101583592017, 44.02197966213944, 69.48122704231805, 51.791602559311734, 54.102394593036564, 39.06535900028965, 33.55944769754916, 42.47323377688469, 35.07171234118961, 37.61232207589451, 35.69577232274269, 34.443798442259876, 19.546164903566755, 9.796193398840446, 25.846658473031738, 15.288748762304389, 95.88247587002654, 32.861921497191965, 15.44703672592433, 35.13643813334412, 45.31552499674428, 26.655653812296705, 24.98295774872821, 16.12994597564426, 9.409532234917897, 43.12027765297604, 7.598961147899618, 16.06644152772355, 21.90961085695387, 31.057885089818097, 19.097532199870212, 9.543490561697826, 20.6161646392475, 12.388786217226146, 13.566196439326504, 12.32412147024133, 8.494015542080753, 15.424989654508165, 8.063884403636758, 7.447713262681656, 7.486750717137343, 14.337313929393414, 71.92616512723426, 12.217212913957459, 13.784743650265291, 35.48114823287368, 21.20991991220016, 47.09854939233446, 15.612291430429424, 87.60472160413282, 33.84779650310949, 21.98807901941817, 70.06321525282378, 26.11641462368739, 37.040986421873, 26.322760356030376, 29.127957070175878, 29.87239730926801, 50.17642372552153, 34.243510516632526, 28.846721689907234, 28.66777475982137, 28.226822400902307, 31.2698531277554, 29.85984030361458, 28.087475645269542, 33.92932163173866, 28.725187149119844, 28.72117162748582, 27.274499172578636, 27.09035753922406, 26.927222221102472, 35.50535627559645, 12.254181203325238, 16.903555081527468, 9.054032881637287, 11.372093719467454, 19.09214259582332, 7.639934519938579, 6.902114343306002, 7.428379429147807, 9.700593935551101, 5.864259314242646, 8.00721252327381, 9.517873734604924, 8.423747018110905, 6.886222063802534, 6.233452239446064, 59.07980840586793, 7.656165049997453, 6.885961696560663, 8.379038310764322, 7.2125184588915685, 6.582011799384367, 16.401527270800184, 6.356106776641775, 10.794419956485594, 4.8195498722862995, 19.045933998162635, 5.1237845976788625, 13.651045697287811, 5.49312231061691, 12.21584491178827, 30.01203309060943, 45.258195510472575, 23.75126373045401, 46.32607918231884, 14.664185089683409, 15.211809189543077, 39.048069773549884, 103.02292088425088, 17.529005246967166, 31.94045274928152, 24.658323543054443, 22.988152702908906, 45.84994259317591, 34.104849865222725, 22.764097628839437, 32.87039152858763, 24.1848636734057, 60.779770715343524, 36.670829833857866, 27.597892116708493, 42.214588655811, 41.293599665876286, 47.87761472555622, 41.41792370384466, 20.414406806396038, 45.979943342194154, 41.34363953180941, 29.746664987735365, 26.58789445675508, 26.489194480593905, 29.317565406889504, 23.418772442837195, 137.8114090387559, 17.403024923325013, 20.969216278514466, 18.170666948081976, 36.20250907681795, 131.01920177364056, 35.32531409875023, 17.333217183061222, 14.473165801500157, 15.67515213515548, 9.129261587188118, 22.58588166909288, 67.42724690993573, 43.27109591857181, 8.250072543813106, 30.205458819017153, 11.368453601478118, 18.487984384778663, 34.36989452716064, 15.193718915720364, 7.964456282757457, 6.8779831448112985, 17.40302537765493, 15.642058938404041, 19.405092890766515, 16.43975839252509, 7.522261803187709, 13.360215066607632, 24.058363057177083, 40.829855631552434, 35.475267734879964, 52.41723850744986, 24.66048172096476, 31.473171937153943, 51.90999685468979, 46.04462662908349, 44.06117267737001, 45.731956142526755, 45.050170886522544, 20.292826576296893, 38.60030936962035, 28.674029636384763, 42.207573634466506, 25.539564097894694, 28.991429954756146, 23.237431887167244, 26.481113242186854, 21.13177347042159, 22.393558546320605, 64.7130171687465, 17.34023899083973, 12.496502559686991, 25.131665602596193, 15.037109221299929, 18.354912800783644, 81.40292596795231, 10.618422264334818, 10.236697545753062, 67.02031933761573, 19.94080706921088, 16.921827550540787, 14.17296181491473, 27.802474937027466, 8.832795580154416, 25.080848813053812, 7.727817662205943, 6.041688901841478, 11.42205491028684, 10.434945208111298, 31.46647445966425, 27.571691353017457, 6.597836765616842, 6.506574380244439, 9.914837094180196, 45.30767019791342, 10.370726196868187, 21.273372106084867, 11.245773090617128, 32.75414857774579, 110.01752864034559, 78.76568147948707, 58.565772365135686, 21.6422783319574, 116.64556192334531, 17.261962761794653, 22.666498576309404, 32.83082605464474, 27.029252668922176, 21.62684631247692, 16.743603230488244, 21.239450457160597, 22.383603874767736, 22.918591858610533, 20.094088589135158, 18.094646528637522, 18.43656166543955, 11.490701975333897, 9.01535057937037, 7.314099247862597, 15.55894866243545, 16.078052809024726, 7.364883884584894, 5.72687241187825, 7.453700931022091, 4.462508333649016, 9.172859741779591, 17.762208265276833, 5.523494001570014, 20.9418915408495, 22.00289040941001, 13.2508092589278, 5.143976709078363, 11.370129607231194, 3.4149225434093813, 8.972275636717045, 11.30686717995107, 5.114396467349635, 13.177549347281714, 3.8710479299015845, 3.7896052305557775, 4.078388706954303, 4.370718411103172, 11.821722670917074, 5.13865405091483, 11.855265153944494, 5.7538582483814, 11.026055937180844, 8.198106214648709, 14.362594538218074, 24.339802015114678, 10.75020305133759, 18.708906019901775, 7.7043845087434475, 11.383866345087224, 8.613416838750492, 26.963908871685454, 20.80538755636948, 49.717178924258036, 24.920590593376712, 30.52198774205569, 19.49505465780856, 17.656611896364744, 26.217747687279495, 17.565167938838545, 19.620324988673406, 14.441702484679109, 16.468752457253007, 13.798206093288725, 16.98274020276743, 13.858546953556585, 16.196304565765715, 13.527085211809759, 15.660975788515268, 13.785820443955716, 14.348817353137695, 13.317685000334201, 27.65435827836606, 38.03751489849268, 13.335637922293255, 18.253905180758174, 8.958443721561531, 11.185552337045074, 25.22149764445335, 8.843138506913704, 12.74148470024754, 6.659298931490326, 7.045323133306658, 5.451150463054821, 6.146914420683661, 9.827596809076084, 18.12536597918769, 9.79828010387688, 5.41417436912087, 4.820484662760927, 22.90001708576804, 14.244752332741903, 14.0763147969561, 5.318749167228236, 5.6456126875216, 10.522951899737885, 13.613913807509913, 4.959537936251231, 4.027480286136476, 4.060517984338066, 8.469464836468983, 7.901350046697695, 8.03623292498847, 15.139195929956514, 25.344358694941572, 18.693867303161127, 33.943016997869776, 27.976999820705696, 13.468363033703215, 21.212329561264344, 16.105205912388783, 17.845000677229567, 10.38742968239047, 13.953601745716243, 16.57486580239008, 16.08092722376883, 12.460113722485508, 13.463946256373314, 17.77404372712122, 17.45203519710755, 12.825867338842338, 13.584072716959724, 12.016408149637186], \"Total\": [986.0, 610.0, 518.0, 738.0, 389.0, 322.0, 309.0, 271.0, 138.0, 328.0, 158.0, 466.0, 224.0, 283.0, 625.0, 200.0, 188.0, 229.0, 602.0, 221.0, 274.0, 181.0, 230.0, 191.0, 110.0, 544.0, 227.0, 228.0, 129.0, 462.0, 16.8266148573254, 136.63549491313222, 10.881706257732707, 20.751740279738076, 28.643390105828054, 16.825330751805556, 18.79323953488466, 20.742510963537594, 13.811778446029555, 13.819429470679005, 16.73666036904236, 19.770292641342387, 25.6595125506169, 21.759322551649255, 24.746633880903104, 21.74295557492898, 20.72281318466687, 12.775904807006885, 13.818543162663053, 17.696512957903245, 25.70568340166072, 20.706974879498457, 12.795308791410333, 13.80608694914557, 31.63919315599573, 28.54833102202318, 16.781280991196073, 45.34853529459943, 14.792460837028461, 13.871111590611262, 36.45118675624771, 62.24485041502732, 98.25624297252693, 39.35084707142838, 24.639377232941914, 462.53686801968445, 235.20157191760845, 94.2005894303198, 134.27244870527093, 738.858541041942, 544.470357515302, 121.92267821521735, 161.56473151764672, 154.36314335503897, 92.75262441592324, 100.41345260470025, 602.8400291251534, 113.77554220858156, 137.3780569643174, 625.09054923796, 116.0035069330254, 270.4617589217028, 179.03205695458442, 229.30003118252864, 317.3564093400505, 92.28633967959168, 84.57627750587865, 94.56063514384444, 99.21734382398856, 184.14683032290074, 184.18247844976557, 524.5976618984963, 212.9729200534626, 150.30822534281484, 156.7120365983515, 204.59841426173696, 148.12230556217216, 354.6846013091441, 269.72422459339515, 157.186462466676, 65.7770146557231, 49.08537963846669, 15.702109607986896, 156.9414342928278, 30.408045623601332, 69.58628117278346, 322.70606121649126, 35.26148527330319, 96.08955342399705, 54.02249868516101, 19.605923483918218, 38.28043616694348, 73.44911346456479, 16.642576425483096, 22.53344651194039, 30.33017717463633, 17.643028860392434, 72.45628967810171, 71.64002382367748, 63.76555455638084, 84.55365984330768, 16.608905200520557, 32.33930229421814, 22.543132996747296, 13.710386425995322, 24.46662376842565, 283.3597035873796, 26.378917083390466, 610.2777560330439, 19.55473972970416, 224.78754664096354, 103.66660085300148, 46.91410278346769, 67.5415021915653, 62.57332138217784, 131.5406939096176, 44.85983337314611, 297.0122481512612, 228.4043803437842, 110.11598140592855, 63.64988963453886, 131.90042702625033, 81.69753548387958, 102.40648330354036, 129.69701231502614, 201.99987273659218, 205.73450772917815, 190.73435478903076, 140.65103960886665, 114.89761499201357, 188.3324366909557, 135.21713408377175, 289.62944201560435, 164.4899274591308, 508.24172555681326, 104.49596242847002, 51.74708866676407, 45.773807214861684, 32.83169741484463, 29.8450566848594, 74.63603981037471, 22.875598111709497, 21.88067600083594, 31.823779771486766, 51.70461005888545, 45.69579641899145, 17.8957148314212, 21.85429207052769, 40.75701600663937, 60.58744309289558, 30.807329130339745, 188.00872190994068, 200.6432894084373, 43.73524521334744, 30.78493425172781, 100.45800583770897, 32.756717619288516, 72.603008298356, 14.873425952823839, 24.798523432526448, 47.6573351961533, 271.42476724380515, 49.64896985267846, 17.839759140007615, 87.25683267007109, 181.40966631887554, 230.11141593736016, 113.2051090191185, 119.12690037478836, 112.57442039152092, 168.6107219447898, 72.27987604527887, 112.8042545741891, 986.655870939282, 148.9583161284412, 85.35807114861954, 94.84089653959903, 58.380935558051426, 84.02095726564659, 165.69115435248284, 312.7889652329035, 274.0593292803325, 398.79240699102314, 229.38323265725253, 332.99796675682234, 44.54967979143804, 16.823115059771727, 25.740832926023753, 16.820920278123275, 51.40003082667997, 25.744995523031772, 30.58794626260103, 33.53656841591118, 26.69100403540434, 20.717287390459862, 32.52811863180071, 19.808922680028488, 10.858921585412919, 28.64689404458293, 20.737082601673713, 24.65030361017086, 117.83416274125231, 191.0273696940668, 52.464019993388774, 127.33333371519637, 34.52685844752144, 389.5775980582457, 34.50530185519356, 30.639097126138445, 26.584480505823187, 56.183830041843194, 13.866669995318292, 39.50445833281225, 26.556714914130666, 14.767655634628115, 238.8079421088361, 142.37879597199444, 274.0593292803325, 46.4368468445606, 986.655870939282, 122.9103925768145, 75.34834611768517, 84.60849595756969, 260.373174981258, 148.9583161284412, 210.66260370369477, 49.11107247931575, 235.20157191760845, 180.88480673872056, 237.66522205839885, 115.50030136004168, 113.37581315913299, 154.8551489360447, 298.8561078088625, 75.88293862975826, 71.5780255787111, 115.4507534927829, 117.12006133732449, 508.24172555681326, 524.5976618984963, 398.79240699102314, 74.51011751215984, 72.5749616938751, 71.60738378214553, 70.63980587228819, 70.63980587228819, 45.482780224254746, 72.59164319612414, 30.001533794978112, 76.49123347151263, 72.56985775215563, 43.582057427809254, 33.8867037738324, 25.186879297021562, 82.38465702353078, 88.08447161344931, 89.22584960844804, 83.20911579806923, 29.142003550569363, 518.4535197121864, 309.0336248848286, 15.514248513303267, 29.090020367256418, 55.375638242905595, 18.429738747850905, 17.428632334331766, 20.413571597784735, 37.812602168413804, 16.4696313048282, 19.367078444033922, 15.556436309965164, 90.27712190706583, 108.88922072137628, 35.89089359998641, 67.11590852825269, 62.42316877023444, 142.95587280015147, 57.41003452721191, 63.04037468895927, 110.16197338700776, 125.73942828967985, 986.655870939282, 78.96740938540704, 237.66522205839885, 298.8561078088625, 103.52680517135673, 107.1302123242082, 389.5775980582457, 191.8720559298509, 101.6622364889902, 24.43177560538248, 20.5223117360672, 19.544905560884043, 129.9804128844349, 65.49653465741402, 48.88217754113692, 13.677835402922865, 21.469571777465163, 54.529962787492956, 100.73662049828138, 37.110465500968786, 27.393389136609144, 26.433621946155455, 21.48871040063041, 45.93292728415953, 19.499395633592083, 28.312463884581884, 47.0781635778548, 22.464404340947475, 30.365098502107006, 40.01246332254265, 151.33807669463056, 28.390446084560214, 32.1903432819073, 23.42802106938796, 37.87349519076259, 221.48339663463793, 15.610461572877112, 60.52456491232912, 13.667193844469361, 160.30195021296944, 43.97929972649593, 62.73918456633527, 68.6964493826692, 109.62947164144212, 227.48883884921057, 45.00072447063291, 188.3324366909557, 260.373174981258, 398.79240699102314, 210.66260370369477, 55.623739273971175, 235.0508682829556, 298.8561078088625, 167.42407691219776, 154.8551489360447, 56.663397373914705, 106.40632468106509, 226.88818849187456, 237.66522205839885, 508.24172555681326, 738.858541041942, 354.6846013091441, 228.763517132342, 518.4535197121864, 524.5976618984963, 68.0362094694708, 63.24843803323932, 13.425206494216408, 24.01265876035301, 47.9776686279397, 63.25938071093495, 110.30366970301726, 28.7912134678854, 13.456967607365812, 76.8760099011537, 28.82107458579508, 11.546076256277406, 27.766305563688427, 24.968704145401816, 23.075918769250148, 68.3613699404602, 14.448025817684652, 142.51659415716, 54.66155770644448, 26.894753190292334, 16.328655558152533, 37.57591033590947, 14.435089310990923, 17.281766346323437, 39.407433432621794, 28.786624718813517, 56.839342450950475, 14.398565425251267, 18.25616249580643, 18.25616249581822, 33.69327899775422, 38.53119220907373, 79.17379970804298, 106.47855032173196, 85.15205640671094, 77.3584099909595, 87.85947684173088, 227.48883884921057, 65.77683129799485, 508.24172555681326, 149.32481696405588, 201.99987273659218, 226.88818849187456, 229.38323265725253, 100.07314948567597, 252.33183452686035, 205.73450772917815, 103.0501754531993, 738.858541041942, 228.4043803437842, 95.27061922689738, 180.88480673872056, 269.72422459339515, 332.99796675682234, 17.54900577751525, 16.574016994409753, 15.606536418941229, 36.112788372815565, 10.726501236319837, 18.510260674968524, 19.560963707183213, 10.755408414178277, 14.596995982344183, 32.3750280432948, 76.0557292204836, 12.729402770605825, 24.453692543049137, 37.97089097585007, 29.37644458704685, 11.709927675720623, 16.633258117193467, 17.55398312656953, 34.276255244910786, 19.60440570233597, 42.08368768172815, 10.692821436875434, 21.497601889375826, 17.528160348465494, 11.763112691029242, 10.781826968360615, 23.416371944973807, 50.048176522856814, 16.67340830347052, 17.55542783233395, 149.45150331627744, 59.81516622708789, 70.35582960918987, 36.34236814211933, 77.12098532342843, 117.24195000076642, 34.08276839169269, 54.69758422837845, 62.844136839765156, 41.0350862466595, 168.6107219447898, 122.9103925768145, 625.09054923796, 508.24172555681326, 235.63583801730758, 188.51390088151797, 126.80469705557405, 114.27654133564327, 466.47464731720686, 544.470357515302, 986.655870939282, 132.7550612004028, 332.99796675682234, 462.53686801968445, 289.62944201560435, 602.8400291251534, 204.59841426173696, 209.09169130752872, 354.6846013091441, 222.02090444635658, 738.858541041942, 524.5976618984963, 229.30003118252864, 210.63276158822654, 193.00258933764675, 283.3597035873796, 41.5187509064754, 19.775307908462345, 36.44177667969741, 25.615597542613084, 25.642135437809863, 10.871922170194596, 61.98051583784508, 27.561856523098626, 19.650933315961126, 27.58599914168592, 30.415348456750074, 18.684256515378316, 12.789985122234562, 15.737064423675191, 14.775539416122756, 18.74518893666335, 29.412071814963465, 22.54806258213262, 40.15720583594526, 10.841937451416564, 11.780866477168717, 14.693823792887443, 23.677338182573127, 15.784865600747686, 11.749288898248533, 22.583820965248975, 18.707548156705425, 13.699989690164976, 16.677986308539413, 12.7448847680155, 35.48411202074384, 86.27311182154098, 122.86015040323943, 19.701977684385163, 88.11766126548285, 42.224256041588696, 29.525748441700834, 252.33183452686035, 37.37112515015085, 70.53552857683628, 602.8400291251534, 544.470357515302, 625.09054923796, 57.883890207343455, 610.2777560330439, 149.32481696405588, 96.40847906114186, 128.3234281369031, 140.65103960886665, 524.5976618984963, 156.28141102396904, 466.47464731720686, 147.13350056558463, 210.63276158822654, 185.27278885948903, 269.72422459339515, 222.02090444635658, 738.858541041942, 354.6846013091441, 462.53686801968445, 179.03205695458442, 134.552935426751, 306.922561384876, 194.98652332381783, 317.3564093400505, 235.63583801730758, 193.00258933764675, 20.589127970896556, 11.74843675413889, 31.375770974261417, 18.586893373111067, 130.28670407867344, 45.065825719842614, 21.55247432998714, 49.892499960204916, 64.65499797866963, 38.20681631940689, 36.23353098250707, 23.509628313741725, 13.716502326202068, 64.5054016884868, 11.719086904377217, 25.37101156383408, 35.26024085556403, 49.992528661355806, 31.260628869940618, 15.67239434848256, 34.11075314352336, 20.499625218980114, 22.634483477184617, 20.579746073638887, 14.73541858742878, 27.55880548426644, 14.73714299590001, 13.674859573251526, 13.74959962744656, 26.393899137718748, 134.552935426751, 22.50273469481371, 26.385209523870326, 86.19938533243669, 46.606357404493046, 160.30195021296944, 32.399120636734025, 466.47464731720686, 114.6184028058655, 57.87807434952827, 625.09054923796, 91.59885029034058, 193.00258933764675, 94.906056919519, 123.57965818837522, 145.24634521907743, 602.8400291251534, 212.95188837621916, 151.69192501748927, 151.33807669463056, 148.18014174398817, 221.48339663463793, 222.02090444635658, 167.42407691219776, 462.53686801968445, 229.30003118252864, 354.6846013091441, 306.922561384876, 332.99796675682234, 524.5976618984963, 47.805258895186206, 16.525295558086697, 24.366735660209525, 13.610951791146498, 17.498401670966395, 31.247003248236613, 12.638221455062665, 11.731735360016406, 12.661692321132884, 17.65090840252473, 10.730315994455104, 14.688085179218305, 17.49449201599837, 15.518947369040749, 12.732381974696425, 11.767906024442595, 112.4097384999089, 14.631728476272354, 13.67369506371462, 16.645612213741906, 14.649737192911662, 13.59112044101869, 35.0365912876754, 13.707734681633747, 23.51843108335064, 10.788967095280535, 42.90859113794342, 11.67691290593048, 31.221674273798797, 12.59448797615748, 28.381513803054915, 71.38147001598793, 115.05114280814094, 59.22892528799552, 125.65728120217968, 35.166098519905596, 36.876468781973166, 121.195421979989, 466.47464731720686, 46.02325659268958, 108.5564175734824, 76.37794278521984, 72.29818623716345, 237.95717107045587, 148.12230556217216, 85.57475682664924, 164.10800946824295, 95.84873388114552, 524.5976618984963, 212.9729200534626, 132.7550612004028, 306.922561384876, 332.99796675682234, 544.470357515302, 462.53686801968445, 77.68848369011327, 625.09054923796, 602.8400291251534, 235.0508682829556, 167.42407691219776, 185.27278885948903, 328.0264894342531, 210.63276158822654, 138.72138784257965, 18.313003681616102, 22.1644348338406, 20.26060200177177, 42.56461293600771, 158.22833433399833, 48.381669591773175, 24.170098596302864, 20.313435481797146, 23.132042669915617, 14.428348957937791, 35.79266355252371, 108.44270080252328, 70.81277846874418, 13.620513862942236, 50.50772676584256, 19.337758253976705, 31.929410650957827, 59.809508610897964, 26.986863455982174, 14.511967003097318, 12.648933020700387, 32.02350627094546, 28.844571885280796, 35.915696044537235, 31.75082912245626, 14.569915939390098, 26.336293731159415, 47.641744959173884, 81.65579009382566, 74.64914396505863, 114.89761499201357, 55.276500920758494, 77.97883962610932, 148.5842611990715, 135.21713408377175, 132.14241849148442, 190.73435478903076, 224.78754664096354, 47.940725296862695, 228.4043803437842, 112.75672119780502, 508.24172555681326, 117.12006133732449, 201.96918307442732, 86.27311182154098, 235.0508682829556, 59.33736816042152, 108.16197996192317, 66.60282322874728, 19.330526431393444, 15.491475319676391, 31.827650082338273, 19.2949315512647, 24.186128795580174, 110.7156353394231, 15.519524000805369, 16.491859595841984, 108.4836855149935, 32.800892168419374, 28.044374238458808, 24.072257863987545, 48.46661405929111, 15.503785597313103, 46.338134363036694, 14.573561038677536, 11.71398080913813, 22.213968721204186, 20.382722255102443, 62.105958857292215, 55.422562030343755, 13.614101041670644, 13.49711240287965, 21.345085282210434, 102.12404160205072, 23.407376557138118, 48.62309406243044, 26.167262771875144, 77.57362186105507, 328.0264894342531, 229.0618655246589, 201.96918307442732, 59.809508610897964, 738.858541041942, 48.6115342940408, 75.03954134279286, 164.4899274591308, 119.82098603870469, 110.11598140592855, 59.257475374551646, 165.69115435248284, 235.0508682829556, 306.922561384876, 317.3564093400505, 201.99987273659218, 312.7889652329035, 15.308154574278271, 16.325752186872183, 13.515912541875041, 30.81613318533167, 33.91789834947756, 16.38234327116895, 13.522529077286796, 18.362010458505235, 11.550821729012382, 24.208471388983252, 49.32375194423727, 15.551107566171648, 59.072430124886466, 63.8706446169279, 39.84239273317864, 15.470752296458315, 34.9318650546703, 10.688970367984323, 28.173305115126173, 35.9672678474975, 16.373343807469272, 42.846289215824, 12.632379502106408, 12.547994697617252, 13.580683639089653, 14.571355455405945, 39.741043591459395, 17.373414405912666, 40.754384233002256, 20.366995585810503, 40.85225733049866, 30.058680322984074, 57.447003634789894, 110.7156353394231, 42.72817299501701, 84.32328796950468, 28.77050869833564, 47.77154296566172, 34.10972705272897, 229.0618655246589, 153.05002417612252, 738.858541041942, 269.72422459339515, 524.5976618984963, 201.99987273659218, 190.73435478903076, 602.8400291251534, 210.63276158822654, 317.3564093400505, 119.82098603870469, 222.02090444635658, 113.77554220858156, 354.6846013091441, 137.4185848243437, 332.99796675682234, 135.21713408377175, 508.24172555681326, 229.30003118252864, 462.53686801968445, 229.38323265725253, 28.565127381692808, 41.950523507424876, 15.286699672249203, 23.99478359121176, 12.50573005221513, 17.31544356240899, 46.14901715790985, 16.32277320887409, 24.981660095929822, 13.53220321536108, 14.49569260569057, 11.600398790301785, 13.506317182000078, 22.016994850736154, 41.51819493673743, 24.254827609835395, 13.527989112260208, 12.57708814508957, 59.81516622708789, 37.71173955366211, 38.77531787802675, 15.587532658926694, 17.231434745918214, 32.241686422355876, 41.77570376777053, 15.631775221724055, 12.699329471894998, 13.566582670430318, 28.77050869833564, 28.093300459979837, 29.170984331693013, 61.4918004193034, 115.4507534927829, 114.27654133564327, 312.7889652329035, 228.763517132342, 91.59885029034058, 306.922561384876, 157.53405765975225, 270.4617589217028, 59.58921867658113, 149.45150331627744, 317.3564093400505, 289.62944201560435, 119.39876485735823, 168.6107219447898, 625.09054923796, 602.8400291251534, 210.66260370369477, 466.47464731720686, 161.34543566140155], \"Category\": [\"Default\", \"Default\", \"Default\", \"Default\", \"Default\", \"Default\", \"Default\", \"Default\", \"Default\", \"Default\", \"Default\", \"Default\", \"Default\", \"Default\", \"Default\", \"Default\", \"Default\", \"Default\", \"Default\", \"Default\", \"Default\", \"Default\", \"Default\", \"Default\", \"Default\", \"Default\", \"Default\", \"Default\", \"Default\", \"Default\", \"Topic1\", \"Topic1\", \"Topic1\", \"Topic1\", \"Topic1\", \"Topic1\", \"Topic1\", \"Topic1\", \"Topic1\", \"Topic1\", \"Topic1\", \"Topic1\", \"Topic1\", \"Topic1\", \"Topic1\", \"Topic1\", \"Topic1\", \"Topic1\", \"Topic1\", \"Topic1\", \"Topic1\", \"Topic1\", \"Topic1\", \"Topic1\", \"Topic1\", \"Topic1\", \"Topic1\", \"Topic1\", \"Topic1\", \"Topic1\", \"Topic1\", \"Topic1\", \"Topic1\", \"Topic1\", \"Topic1\", \"Topic1\", \"Topic1\", \"Topic1\", \"Topic1\", \"Topic1\", \"Topic1\", \"Topic1\", \"Topic1\", \"Topic1\", \"Topic1\", \"Topic1\", \"Topic1\", \"Topic1\", \"Topic1\", \"Topic1\", \"Topic1\", \"Topic1\", \"Topic1\", \"Topic1\", \"Topic1\", \"Topic1\", \"Topic1\", \"Topic1\", \"Topic1\", \"Topic1\", \"Topic1\", \"Topic1\", \"Topic1\", \"Topic1\", \"Topic1\", \"Topic1\", \"Topic1\", \"Topic1\", \"Topic1\", \"Topic1\", \"Topic2\", \"Topic2\", \"Topic2\", \"Topic2\", \"Topic2\", \"Topic2\", \"Topic2\", \"Topic2\", \"Topic2\", \"Topic2\", \"Topic2\", \"Topic2\", \"Topic2\", \"Topic2\", \"Topic2\", \"Topic2\", \"Topic2\", \"Topic2\", \"Topic2\", \"Topic2\", \"Topic2\", \"Topic2\", \"Topic2\", \"Topic2\", \"Topic2\", \"Topic2\", \"Topic2\", \"Topic2\", \"Topic2\", \"Topic2\", \"Topic2\", \"Topic2\", \"Topic2\", \"Topic2\", \"Topic2\", \"Topic2\", \"Topic2\", \"Topic2\", \"Topic2\", \"Topic2\", \"Topic2\", \"Topic2\", \"Topic2\", \"Topic2\", \"Topic2\", \"Topic2\", \"Topic2\", \"Topic2\", \"Topic2\", \"Topic2\", \"Topic2\", \"Topic2\", \"Topic2\", \"Topic2\", \"Topic2\", \"Topic3\", \"Topic3\", \"Topic3\", \"Topic3\", \"Topic3\", \"Topic3\", \"Topic3\", \"Topic3\", \"Topic3\", \"Topic3\", \"Topic3\", \"Topic3\", \"Topic3\", \"Topic3\", \"Topic3\", \"Topic3\", \"Topic3\", \"Topic3\", \"Topic3\", \"Topic3\", \"Topic3\", \"Topic3\", \"Topic3\", \"Topic3\", \"Topic3\", \"Topic3\", \"Topic3\", \"Topic3\", \"Topic3\", \"Topic3\", \"Topic3\", \"Topic3\", \"Topic3\", \"Topic3\", \"Topic3\", \"Topic3\", \"Topic3\", \"Topic3\", \"Topic3\", \"Topic3\", \"Topic3\", \"Topic3\", \"Topic3\", \"Topic3\", \"Topic3\", \"Topic3\", \"Topic3\", \"Topic3\", \"Topic3\", \"Topic3\", \"Topic4\", \"Topic4\", \"Topic4\", \"Topic4\", \"Topic4\", \"Topic4\", \"Topic4\", \"Topic4\", \"Topic4\", \"Topic4\", \"Topic4\", \"Topic4\", \"Topic4\", \"Topic4\", \"Topic4\", \"Topic4\", \"Topic4\", \"Topic4\", \"Topic4\", \"Topic4\", \"Topic4\", \"Topic4\", \"Topic4\", \"Topic4\", \"Topic4\", \"Topic4\", \"Topic4\", \"Topic4\", \"Topic4\", \"Topic4\", \"Topic4\", \"Topic4\", \"Topic4\", \"Topic4\", \"Topic4\", \"Topic4\", \"Topic4\", \"Topic4\", \"Topic4\", \"Topic4\", \"Topic4\", \"Topic4\", \"Topic4\", \"Topic4\", \"Topic4\", \"Topic4\", \"Topic4\", \"Topic4\", \"Topic4\", \"Topic4\", \"Topic4\", \"Topic4\", \"Topic4\", \"Topic4\", \"Topic4\", \"Topic4\", \"Topic5\", \"Topic5\", \"Topic5\", \"Topic5\", \"Topic5\", \"Topic5\", \"Topic5\", \"Topic5\", \"Topic5\", \"Topic5\", \"Topic5\", \"Topic5\", \"Topic5\", \"Topic5\", \"Topic5\", \"Topic5\", \"Topic5\", \"Topic5\", \"Topic5\", \"Topic5\", \"Topic5\", \"Topic5\", \"Topic5\", \"Topic5\", \"Topic5\", \"Topic5\", \"Topic5\", \"Topic5\", \"Topic5\", \"Topic5\", \"Topic5\", \"Topic5\", \"Topic5\", \"Topic5\", \"Topic5\", \"Topic5\", \"Topic5\", \"Topic5\", \"Topic5\", \"Topic5\", \"Topic5\", \"Topic5\", \"Topic5\", \"Topic5\", \"Topic5\", \"Topic5\", \"Topic5\", \"Topic5\", \"Topic5\", \"Topic6\", \"Topic6\", \"Topic6\", \"Topic6\", \"Topic6\", \"Topic6\", \"Topic6\", \"Topic6\", \"Topic6\", \"Topic6\", \"Topic6\", \"Topic6\", \"Topic6\", \"Topic6\", \"Topic6\", \"Topic6\", \"Topic6\", \"Topic6\", \"Topic6\", \"Topic6\", \"Topic6\", \"Topic6\", \"Topic6\", \"Topic6\", \"Topic6\", \"Topic6\", \"Topic6\", \"Topic6\", \"Topic6\", \"Topic6\", \"Topic6\", \"Topic6\", \"Topic6\", \"Topic6\", \"Topic6\", \"Topic6\", \"Topic6\", \"Topic6\", \"Topic6\", \"Topic6\", \"Topic6\", \"Topic6\", \"Topic6\", \"Topic6\", \"Topic6\", \"Topic6\", \"Topic6\", \"Topic6\", \"Topic6\", \"Topic6\", \"Topic6\", \"Topic6\", \"Topic6\", \"Topic6\", \"Topic6\", \"Topic6\", \"Topic7\", \"Topic7\", \"Topic7\", \"Topic7\", \"Topic7\", \"Topic7\", \"Topic7\", \"Topic7\", \"Topic7\", \"Topic7\", \"Topic7\", \"Topic7\", \"Topic7\", \"Topic7\", \"Topic7\", \"Topic7\", \"Topic7\", \"Topic7\", \"Topic7\", \"Topic7\", \"Topic7\", \"Topic7\", \"Topic7\", \"Topic7\", \"Topic7\", \"Topic7\", \"Topic7\", \"Topic7\", \"Topic7\", \"Topic7\", \"Topic7\", \"Topic7\", \"Topic7\", \"Topic7\", \"Topic7\", \"Topic7\", \"Topic7\", \"Topic7\", \"Topic7\", \"Topic7\", \"Topic7\", \"Topic7\", \"Topic7\", \"Topic7\", \"Topic7\", \"Topic7\", \"Topic7\", \"Topic7\", \"Topic7\", \"Topic7\", \"Topic7\", \"Topic7\", \"Topic7\", \"Topic7\", \"Topic8\", \"Topic8\", \"Topic8\", \"Topic8\", \"Topic8\", \"Topic8\", \"Topic8\", \"Topic8\", \"Topic8\", \"Topic8\", \"Topic8\", \"Topic8\", \"Topic8\", \"Topic8\", \"Topic8\", \"Topic8\", \"Topic8\", \"Topic8\", \"Topic8\", \"Topic8\", \"Topic8\", \"Topic8\", \"Topic8\", \"Topic8\", \"Topic8\", \"Topic8\", \"Topic8\", \"Topic8\", \"Topic8\", \"Topic8\", \"Topic8\", \"Topic8\", \"Topic8\", \"Topic8\", \"Topic8\", \"Topic8\", \"Topic8\", \"Topic8\", \"Topic8\", \"Topic8\", \"Topic8\", \"Topic8\", \"Topic8\", \"Topic8\", \"Topic8\", \"Topic8\", \"Topic8\", \"Topic8\", \"Topic8\", \"Topic8\", \"Topic8\", \"Topic8\", \"Topic8\", \"Topic8\", \"Topic8\", \"Topic8\", \"Topic8\", \"Topic8\", \"Topic8\", \"Topic8\", \"Topic8\", \"Topic8\", \"Topic8\", \"Topic8\", \"Topic8\", \"Topic8\", \"Topic9\", \"Topic9\", \"Topic9\", \"Topic9\", \"Topic9\", \"Topic9\", \"Topic9\", \"Topic9\", \"Topic9\", \"Topic9\", \"Topic9\", \"Topic9\", \"Topic9\", \"Topic9\", \"Topic9\", \"Topic9\", \"Topic9\", \"Topic9\", \"Topic9\", \"Topic9\", \"Topic9\", \"Topic9\", \"Topic9\", \"Topic9\", \"Topic9\", \"Topic9\", \"Topic9\", \"Topic9\", \"Topic9\", \"Topic9\", \"Topic9\", \"Topic9\", \"Topic9\", \"Topic9\", \"Topic9\", \"Topic9\", \"Topic9\", \"Topic9\", \"Topic9\", \"Topic9\", \"Topic9\", \"Topic9\", \"Topic9\", \"Topic9\", \"Topic9\", \"Topic9\", \"Topic9\", \"Topic9\", \"Topic9\", \"Topic9\", \"Topic9\", \"Topic9\", \"Topic9\", \"Topic9\", \"Topic9\", \"Topic9\", \"Topic9\", \"Topic9\", \"Topic9\", \"Topic9\", \"Topic9\", \"Topic9\", \"Topic9\", \"Topic9\", \"Topic9\", \"Topic9\", \"Topic9\", \"Topic10\", \"Topic10\", \"Topic10\", \"Topic10\", \"Topic10\", \"Topic10\", \"Topic10\", \"Topic10\", \"Topic10\", \"Topic10\", \"Topic10\", \"Topic10\", \"Topic10\", \"Topic10\", \"Topic10\", \"Topic10\", \"Topic10\", \"Topic10\", \"Topic10\", \"Topic10\", \"Topic10\", \"Topic10\", \"Topic10\", \"Topic10\", \"Topic10\", \"Topic10\", \"Topic10\", \"Topic10\", \"Topic10\", \"Topic10\", \"Topic10\", \"Topic10\", \"Topic10\", \"Topic10\", \"Topic10\", \"Topic10\", \"Topic10\", \"Topic10\", \"Topic10\", \"Topic10\", \"Topic10\", \"Topic10\", \"Topic10\", \"Topic10\", \"Topic10\", \"Topic10\", \"Topic10\", \"Topic10\", \"Topic10\", \"Topic10\", \"Topic10\", \"Topic10\", \"Topic10\", \"Topic10\", \"Topic10\", \"Topic10\", \"Topic10\", \"Topic10\", \"Topic10\", \"Topic10\", \"Topic11\", \"Topic11\", \"Topic11\", \"Topic11\", \"Topic11\", \"Topic11\", \"Topic11\", \"Topic11\", \"Topic11\", \"Topic11\", \"Topic11\", \"Topic11\", \"Topic11\", \"Topic11\", \"Topic11\", \"Topic11\", \"Topic11\", \"Topic11\", \"Topic11\", \"Topic11\", \"Topic11\", \"Topic11\", \"Topic11\", \"Topic11\", \"Topic11\", \"Topic11\", \"Topic11\", \"Topic11\", \"Topic11\", \"Topic11\", \"Topic11\", \"Topic11\", \"Topic11\", \"Topic11\", \"Topic11\", \"Topic11\", \"Topic11\", \"Topic11\", \"Topic11\", \"Topic11\", \"Topic11\", \"Topic11\", \"Topic11\", \"Topic11\", \"Topic11\", \"Topic11\", \"Topic11\", \"Topic11\", \"Topic11\", \"Topic11\", \"Topic11\", \"Topic11\", \"Topic11\", \"Topic11\", \"Topic11\", \"Topic11\", \"Topic11\", \"Topic11\", \"Topic11\", \"Topic11\", \"Topic11\", \"Topic11\", \"Topic11\", \"Topic12\", \"Topic12\", \"Topic12\", \"Topic12\", \"Topic12\", \"Topic12\", \"Topic12\", \"Topic12\", \"Topic12\", \"Topic12\", \"Topic12\", \"Topic12\", \"Topic12\", \"Topic12\", \"Topic12\", \"Topic12\", \"Topic12\", \"Topic12\", \"Topic12\", \"Topic12\", \"Topic12\", \"Topic12\", \"Topic12\", \"Topic12\", \"Topic12\", \"Topic12\", \"Topic12\", \"Topic12\", \"Topic12\", \"Topic12\", \"Topic12\", \"Topic12\", \"Topic12\", \"Topic12\", \"Topic12\", \"Topic12\", \"Topic12\", \"Topic12\", \"Topic12\", \"Topic12\", \"Topic12\", \"Topic12\", \"Topic12\", \"Topic12\", \"Topic12\", \"Topic12\", \"Topic12\", \"Topic12\", \"Topic12\", \"Topic13\", \"Topic13\", \"Topic13\", \"Topic13\", \"Topic13\", \"Topic13\", \"Topic13\", \"Topic13\", \"Topic13\", \"Topic13\", \"Topic13\", \"Topic13\", \"Topic13\", \"Topic13\", \"Topic13\", \"Topic13\", \"Topic13\", \"Topic13\", \"Topic13\", \"Topic13\", \"Topic13\", \"Topic13\", \"Topic13\", \"Topic13\", \"Topic13\", \"Topic13\", \"Topic13\", \"Topic13\", \"Topic13\", \"Topic13\", \"Topic13\", \"Topic13\", \"Topic13\", \"Topic13\", \"Topic13\", \"Topic13\", \"Topic13\", \"Topic13\", \"Topic13\", \"Topic13\", \"Topic13\", \"Topic13\", \"Topic13\", \"Topic13\", \"Topic13\", \"Topic13\", \"Topic13\", \"Topic14\", \"Topic14\", \"Topic14\", \"Topic14\", \"Topic14\", \"Topic14\", \"Topic14\", \"Topic14\", \"Topic14\", \"Topic14\", \"Topic14\", \"Topic14\", \"Topic14\", \"Topic14\", \"Topic14\", \"Topic14\", \"Topic14\", \"Topic14\", \"Topic14\", \"Topic14\", \"Topic14\", \"Topic14\", \"Topic14\", \"Topic14\", \"Topic14\", \"Topic14\", \"Topic14\", \"Topic14\", \"Topic14\", \"Topic14\", \"Topic14\", \"Topic14\", \"Topic14\", \"Topic14\", \"Topic14\", \"Topic14\", \"Topic14\", \"Topic14\", \"Topic14\", \"Topic14\", \"Topic14\", \"Topic14\", \"Topic14\", \"Topic14\", \"Topic14\", \"Topic14\", \"Topic14\", \"Topic14\", \"Topic14\", \"Topic14\", \"Topic14\", \"Topic14\", \"Topic14\", \"Topic14\", \"Topic14\", \"Topic14\", \"Topic14\", \"Topic14\", \"Topic14\", \"Topic14\", \"Topic15\", \"Topic15\", \"Topic15\", \"Topic15\", \"Topic15\", \"Topic15\", \"Topic15\", \"Topic15\", \"Topic15\", \"Topic15\", \"Topic15\", \"Topic15\", \"Topic15\", \"Topic15\", \"Topic15\", \"Topic15\", \"Topic15\", \"Topic15\", \"Topic15\", \"Topic15\", \"Topic15\", \"Topic15\", \"Topic15\", \"Topic15\", \"Topic15\", \"Topic15\", \"Topic15\", \"Topic15\", \"Topic15\", \"Topic15\", \"Topic15\", \"Topic15\", \"Topic15\", \"Topic15\", \"Topic15\", \"Topic15\", \"Topic15\", \"Topic15\", \"Topic15\", \"Topic15\", \"Topic15\", \"Topic15\", \"Topic15\", \"Topic15\", \"Topic15\", \"Topic15\", \"Topic15\", \"Topic15\", \"Topic15\", \"Topic15\", \"Topic15\"], \"logprob\": [30.0, 29.0, 28.0, 27.0, 26.0, 25.0, 24.0, 23.0, 22.0, 21.0, 20.0, 19.0, 18.0, 17.0, 16.0, 15.0, 14.0, 13.0, 12.0, 11.0, 10.0, 9.0, 8.0, 7.0, 6.0, 5.0, 4.0, 3.0, 2.0, 1.0, -6.818, -4.744, -7.2863, -6.6548, -6.3349, -6.8844, -6.798, -6.7027, -7.1121, -7.1469, -6.9735, -6.8096, -6.5566, -6.7287, -6.6051, -6.7481, -6.8371, -7.3277, -7.2557, -7.0192, -6.6761, -6.9066, -7.3955, -7.325, -6.5092, -6.6172, -7.1493, -6.1622, -7.2858, -7.3509, -6.4196, -5.9258, -5.565, -6.3975, -6.811, -4.2642, -4.9088, -5.6711, -5.3872, -4.0381, -4.3152, -5.5032, -5.2924, -5.3374, -5.7268, -5.6683, -4.3629, -5.5828, -5.454, -4.403, -5.5931, -5.0213, -5.333, -5.1977, -5.0191, -5.8005, -5.8767, -5.8138, -5.7896, -5.4491, -5.4511, -4.9473, -5.4069, -5.5873, -5.5679, -5.4499, -5.6325, -5.4047, -5.4783, -5.6279, -5.235, -5.5325, -6.7132, -4.4227, -6.067, -5.2608, -3.728, -5.9454, -4.9516, -5.5328, -6.5467, -5.8893, -5.2443, -6.7374, -6.4503, -6.1585, -6.7195, -5.3072, -5.3286, -5.4474, -5.1871, -6.8185, -6.1531, -6.5278, -7.0324, -6.4533, -4.0055, -6.3844, -3.2494, -6.691, -4.2627, -5.0484, -5.8448, -5.512, -5.5843, -4.938, -5.9114, -4.4261, -4.6369, -5.2743, -5.6851, -5.1849, -5.5305, -5.4196, -5.2817, -5.0606, -5.0625, -5.1376, -5.2984, -5.4131, -5.3206, -5.4483, -5.3863, -5.4619, -5.4506, -4.6714, -5.3781, -5.5031, -5.8434, -5.9416, -5.0299, -6.2182, -6.2636, -5.907, -5.4229, -5.5513, -6.4915, -6.2923, -5.6786, -5.2852, -5.9703, -4.1705, -4.1218, -5.6469, -5.9996, -4.8181, -5.9411, -5.153, -6.7425, -6.2382, -5.5864, -3.8541, -5.5644, -6.5995, -5.0151, -4.2901, -4.1737, -4.8684, -4.8491, -4.9541, -4.6567, -5.3637, -5.0765, -3.5893, -4.9004, -5.3377, -5.3012, -5.576, -5.4172, -5.2568, -5.0773, -5.1774, -5.2322, -5.4724, -5.4589, -5.5237, -6.5194, -6.0963, -6.5299, -5.4804, -6.2045, -6.0542, -5.964, -6.1979, -6.4532, -6.0024, -6.509, -7.1244, -6.1595, -6.4871, -6.3223, -4.7756, -4.2952, -5.6027, -4.7171, -6.0393, -3.6274, -6.053, -6.1786, -6.3249, -5.584, -6.992, -5.9573, -6.3648, -6.9663, -4.1859, -4.7074, -4.1903, -5.853, -3.3355, -5.1817, -5.5501, -5.4942, -4.7403, -5.117, -4.8964, -5.8744, -5.0028, -5.1881, -5.0612, -5.4375, -5.5333, -5.4173, -5.2432, -5.7578, -5.7924, -5.6712, -5.7311, -5.6063, -5.6455, -5.6832, -4.9094, -4.9361, -4.9497, -4.9634, -4.9634, -5.4109, -4.9533, -5.8376, -4.9094, -4.9649, -5.4899, -5.7581, -6.0603, -4.8806, -4.8539, -4.8618, -4.9521, -6.0173, -3.1488, -3.6769, -6.671, -6.0706, -5.4407, -6.5643, -6.6206, -6.4643, -5.8553, -6.6896, -6.5289, -6.7483, -5.0005, -4.8334, -5.9257, -5.3278, -5.4344, -4.7028, -5.5669, -5.5147, -5.1554, -5.077, -3.9226, -5.4143, -4.8884, -4.9299, -5.3641, -5.3536, -4.9818, -5.3153, -5.3995, -5.9762, -6.1557, -6.2068, -4.322, -5.0271, -5.3575, -6.6719, -6.2279, -5.3477, -4.7465, -5.7545, -6.0878, -6.1402, -6.3507, -5.6226, -6.4851, -6.1128, -5.6092, -6.3544, -6.0589, -5.8026, -4.4785, -6.162, -6.0381, -6.3581, -5.8794, -4.1277, -6.7821, -5.4582, -6.9544, -4.5744, -5.8272, -5.5167, -5.4532, -5.1248, -4.5976, -5.8185, -4.8336, -4.6244, -4.5099, -4.9075, -5.7121, -4.9021, -4.8612, -5.1575, -5.2488, -5.7282, -5.5008, -5.3443, -5.3358, -5.2727, -5.2119, -5.3833, -5.4658, -5.5228, -5.5427, -4.8993, -5.0128, -6.5636, -6.0205, -5.3312, -5.0855, -4.5307, -5.8756, -6.6432, -4.9296, -5.9183, -6.8347, -5.9668, -6.0889, -6.1711, -5.0903, -6.6629, -4.3919, -5.3504, -6.0804, -6.5803, -5.829, -6.7862, -6.6135, -5.8173, -6.1327, -5.4693, -6.8536, -6.6188, -6.6188, -6.0103, -5.9025, -5.2321, -4.9886, -5.1981, -5.2956, -5.1998, -4.4623, -5.5734, -4.4893, -5.2379, -5.0833, -5.0737, -5.127, -5.4992, -5.1354, -5.2877, -5.5263, -4.8794, -5.2974, -5.5532, -5.4114, -5.318, -5.2882, -6.2031, -6.2635, -6.3602, -5.5268, -6.8356, -6.3608, -6.3265, -6.9539, -6.6556, -5.9365, -5.1028, -6.893, -6.2503, -5.8113, -6.1089, -7.0391, -6.6963, -6.6532, -5.9868, -6.551, -5.7877, -7.1808, -6.4945, -6.7006, -7.101, -7.1905, -6.4168, -5.6673, -6.7757, -6.748, -4.6588, -5.5756, -5.4974, -6.0972, -5.4373, -5.1312, -6.1638, -5.7985, -5.7679, -6.0656, -5.2188, -5.4271, -4.4369, -4.5647, -5.0609, -5.2166, -5.4438, -5.525, -4.817, -4.7403, -4.5603, -5.4921, -5.1086, -4.9838, -5.1896, -4.9268, -5.3321, -5.3336, -5.1678, -5.3343, -4.9871, -5.091, -5.3641, -5.4287, -5.4784, -5.4911, -5.2509, -5.9935, -5.5718, -5.9334, -5.9626, -6.8453, -5.1089, -5.9305, -6.2853, -5.9646, -5.8818, -6.3798, -6.7668, -6.5663, -6.6429, -6.4264, -5.9776, -6.2525, -5.6936, -7.0293, -6.9846, -6.7816, -6.3054, -6.7146, -7.0124, -6.3651, -6.5564, -6.8838, -6.6987, -6.9691, -5.9544, -5.1263, -4.8378, -6.5421, -5.216, -5.8642, -6.202, -4.4523, -6.0227, -5.5772, -4.026, -4.1711, -4.1082, -5.7367, -4.198, -5.1185, -5.4578, -5.299, -5.255, -4.5171, -5.2008, -4.6423, -5.259, -5.0981, -5.1705, -5.0386, -5.1462, -4.6898, -4.9837, -4.94, -5.2657, -5.4176, -5.182, -5.3735, -5.3036, -5.3559, -5.3916, -5.7076, -6.3984, -5.4282, -5.9532, -4.1172, -5.188, -5.9429, -5.1211, -4.8667, -5.3973, -5.4622, -5.8997, -6.4386, -4.9164, -6.6523, -5.9036, -5.5934, -5.2445, -5.7308, -6.4245, -5.6543, -6.1636, -6.0728, -6.1688, -6.541, -5.9444, -6.593, -6.6724, -6.6672, -6.0175, -4.4047, -6.1775, -6.0568, -5.1113, -5.6259, -4.8281, -5.9323, -4.2075, -5.1585, -5.5898, -4.4309, -5.4178, -5.0683, -5.4099, -5.3086, -5.2834, -4.7648, -5.1469, -5.3184, -5.3246, -5.3401, -5.2377, -5.2838, -5.345, -5.1561, -5.3226, -5.3227, -5.3744, -5.3812, -5.3872, -5.0166, -6.0804, -5.7587, -6.383, -6.1551, -5.637, -6.5529, -6.6544, -6.5809, -6.3141, -6.8174, -6.5059, -6.3331, -6.4552, -6.6567, -6.7563, -4.5074, -6.5507, -6.6568, -6.4605, -6.6104, -6.7019, -5.7889, -6.7368, -6.2072, -7.0136, -5.6394, -6.9524, -5.9724, -6.8828, -6.0835, -5.1847, -4.7739, -5.4186, -4.7505, -5.9008, -5.8642, -4.9215, -3.9513, -5.7224, -5.1224, -5.3811, -5.4513, -4.7609, -5.0568, -5.4611, -5.0937, -5.4005, -4.479, -4.9843, -5.2685, -4.8435, -4.8655, -4.7176, -4.8625, -5.57, -4.758, -4.8643, -5.1935, -5.3058, -5.3095, -5.2081, -5.4327, -3.4369, -5.5061, -5.3197, -5.463, -4.7737, -3.4874, -4.7982, -5.5102, -5.6905, -5.6107, -6.1513, -5.2455, -4.1517, -4.5953, -6.2526, -4.9548, -5.9319, -5.4457, -4.8256, -5.6419, -6.2878, -6.4345, -5.5061, -5.6128, -5.3972, -5.5631, -6.3449, -5.7705, -5.1823, -4.6534, -4.7939, -4.4035, -5.1576, -4.9136, -4.4133, -4.5332, -4.5772, -4.54, -4.555, -5.3525, -4.7095, -5.0068, -4.6202, -5.1226, -4.9958, -5.217, -5.0864, -5.312, -5.254, -4.0561, -5.373, -5.7006, -5.0019, -5.5155, -5.3162, -3.8266, -5.8635, -5.9001, -4.0211, -5.2333, -5.3974, -5.5747, -4.9009, -6.0476, -5.0039, -6.1812, -6.4274, -5.7905, -5.8809, -4.7771, -4.9093, -6.3393, -6.3532, -5.932, -4.4126, -5.8871, -5.1686, -5.8061, -4.737, -3.5254, -3.8596, -4.1559, -5.1514, -3.4669, -5.3775, -5.1052, -4.7347, -4.9291, -5.1521, -5.408, -5.1702, -5.1177, -5.0941, -5.2256, -5.3304, -5.3117, -5.6729, -5.9155, -6.1246, -5.3698, -5.337, -6.1177, -6.3693, -6.1057, -6.6187, -5.8982, -5.2374, -6.4054, -5.0727, -5.0233, -5.5304, -6.4766, -5.6834, -6.8863, -5.9203, -5.689, -6.4824, -5.5359, -6.7609, -6.7822, -6.7087, -6.6395, -5.6445, -6.4776, -5.6417, -6.3646, -5.7142, -6.0105, -5.4498, -4.9223, -5.7395, -5.1854, -6.0726, -5.6822, -5.9611, -4.8199, -5.0792, -4.2081, -4.8987, -4.696, -5.1443, -5.2433, -4.848, -5.2485, -5.1379, -5.4443, -5.313, -5.4899, -5.2822, -5.4855, -5.3297, -5.5097, -5.3633, -5.4908, -5.4508, -5.5253, -4.4671, -4.1483, -5.1965, -4.8825, -5.5943, -5.3723, -4.5592, -5.6073, -5.2421, -5.8909, -5.8345, -6.0911, -5.971, -5.5017, -4.8896, -5.5047, -6.0979, -6.214, -4.6558, -5.1305, -5.1424, -6.1157, -6.056, -5.4334, -5.1758, -6.1856, -6.3938, -6.3856, -5.6504, -5.7199, -5.703, -5.0696, -4.5544, -4.8587, -4.2622, -4.4555, -5.1866, -4.7323, -5.0078, -4.9052, -5.4463, -5.1512, -4.979, -5.0093, -5.2644, -5.1869, -4.9092, -4.9275, -5.2354, -5.178, -5.3006], \"loglift\": [30.0, 29.0, 28.0, 27.0, 26.0, 25.0, 24.0, 23.0, 22.0, 21.0, 20.0, 19.0, 18.0, 17.0, 16.0, 15.0, 14.0, 13.0, 12.0, 11.0, 10.0, 9.0, 8.0, 7.0, 6.0, 5.0, 4.0, 3.0, 2.0, 1.0, 2.0326, 2.0123, 2.0002, 1.9862, 1.9838, 1.9663, 1.9422, 1.9388, 1.936, 1.9007, 1.8825, 1.8799, 1.8721, 1.8649, 1.8598, 1.8463, 1.8053, 1.7984, 1.7919, 1.7811, 1.7508, 1.7366, 1.729, 1.7235, 1.71, 1.7048, 1.7041, 1.697, 1.6937, 1.693, 1.658, 1.6168, 1.521, 1.6036, 1.6583, 1.2727, 1.3044, 1.4571, 1.3866, 1.0304, 1.0586, 1.3671, 1.2963, 1.2969, 1.4169, 1.3961, 0.9091, 1.3566, 1.2969, 0.8327, 1.3269, 1.0522, 1.1531, 1.0408, 0.8945, 1.3482, 1.3593, 1.3106, 1.2867, 1.0088, 1.0066, 0.4637, 0.9055, 1.0736, 1.0513, 0.9027, 1.0431, 0.3977, 0.5979, 0.9883, 2.2523, 2.2475, 2.2066, 2.1951, 2.1919, 2.1702, 2.1689, 2.1654, 2.1567, 2.1515, 2.1511, 2.1394, 2.1327, 2.1243, 2.1083, 2.1029, 2.0838, 2.0835, 2.0734, 2.071, 2.0491, 2.0452, 2.0443, 2.0304, 2.0231, 2.023, 2.0214, 2.0166, 2.0103, 2.0094, 1.9957, 1.984, 1.9805, 1.9489, 1.953, 1.8563, 1.9587, 1.5537, 1.6056, 1.6978, 1.8351, 1.6066, 1.7401, 1.6251, 1.5268, 1.3048, 1.2845, 1.2851, 1.4289, 1.5165, 1.1148, 1.3184, 0.6187, 1.1089, -0.008, 2.3531, 2.3492, 2.3468, 2.3388, 2.336, 2.3311, 2.3254, 2.3245, 2.3064, 2.3052, 2.3003, 2.2976, 2.2969, 2.2874, 2.2843, 2.2755, 2.2667, 2.2503, 2.2485, 2.247, 2.2458, 2.2434, 2.2356, 2.2316, 2.2246, 2.2232, 2.2158, 2.2042, 2.1927, 2.1897, 2.1828, 2.0614, 2.076, 2.0444, 1.9959, 1.8894, 2.0294, 1.8714, 1.19, 1.7696, 1.889, 1.8202, 2.0307, 1.8254, 1.3067, 0.8508, 0.8829, 0.453, 0.7659, 0.4066, 2.3533, 2.3314, 2.3292, 2.3211, 2.2536, 2.2209, 2.1989, 2.1969, 2.1914, 2.1895, 2.1892, 2.1785, 2.1642, 2.1591, 2.1546, 2.1465, 2.1287, 2.126, 2.1108, 2.1097, 2.0925, 2.0812, 2.0795, 2.0728, 2.0684, 2.061, 2.0522, 2.0399, 2.0295, 2.0149, 2.012, 2.0078, 1.87, 1.9826, 1.4438, 1.6805, 1.8014, 1.7414, 1.3713, 1.553, 1.427, 1.9051, 1.2104, 1.2876, 1.1415, 1.4869, 1.4096, 1.2138, 0.7305, 1.5866, 1.6104, 1.2536, 1.1793, -0.1637, -0.2345, 0.0019, 2.4533, 2.4529, 2.4528, 2.4526, 2.4526, 2.4453, 2.4355, 2.4348, 2.427, 2.4242, 2.4091, 2.3925, 2.387, 2.3817, 2.3414, 2.3206, 2.3002, 2.2841, 2.2739, 2.2633, 2.2609, 2.2326, 2.2188, 2.1954, 2.1949, 2.1931, 2.1857, 2.1825, 2.1812, 2.1808, 2.1702, 2.1499, 2.1674, 2.1394, 2.1053, 2.0083, 2.0565, 2.0152, 1.8163, 1.7624, 0.8567, 1.8903, 1.3144, 1.0437, 1.6697, 1.646, 0.7268, 1.1015, 1.6525, 2.5016, 2.4964, 2.4941, 2.4842, 2.4646, 2.4267, 2.386, 2.3791, 2.3272, 2.3146, 2.3052, 2.2755, 2.2588, 2.2554, 2.2238, 2.2182, 2.2175, 2.2126, 2.2073, 2.2015, 2.1818, 2.1756, 2.1656, 2.1639, 2.1616, 2.1599, 2.1456, 2.1436, 2.1123, 2.1042, 2.0222, 2.0627, 2.0179, 1.9907, 1.8517, 1.6489, 2.0484, 1.6018, 1.4871, 1.1753, 1.4158, 1.943, 1.3118, 1.1124, 1.3956, 1.3823, 1.9083, 1.5055, 0.9049, 0.867, 0.17, -0.1434, 0.4191, 0.7752, -0.1, -0.1317, 2.5543, 2.5137, 2.5129, 2.4745, 2.4717, 2.4409, 2.4397, 2.438, 2.4309, 2.4019, 2.3942, 2.3925, 2.383, 2.3671, 2.3638, 2.3585, 2.3402, 2.3223, 2.3221, 2.3013, 2.3004, 2.2183, 2.2178, 2.2105, 2.1824, 2.181, 2.1641, 2.1529, 2.1503, 2.1503, 2.1461, 2.1196, 2.0699, 2.0171, 2.0311, 2.0296, 1.9981, 1.7842, 1.9139, 0.9534, 1.4296, 1.2821, 1.1755, 1.1112, 1.5685, 1.0075, 1.0593, 1.5121, 0.1891, 0.9451, 1.5637, 1.0644, 0.7582, 0.5773, 2.6055, 2.6023, 2.5657, 2.5602, 2.4653, 2.3945, 2.3736, 2.3443, 2.3372, 2.2597, 2.2394, 2.2368, 2.2266, 2.2255, 2.1846, 2.174, 2.1659, 2.1551, 2.1524, 2.1469, 2.1463, 2.1233, 2.1112, 2.1092, 2.1077, 2.1053, 2.1034, 2.0934, 2.0841, 2.0603, 2.0078, 2.0068, 1.9226, 1.9834, 1.8909, 1.7782, 1.981, 1.8733, 1.765, 1.8936, 1.3272, 1.4351, 0.7989, 0.878, 1.1504, 1.2179, 1.3872, 1.41, 0.7114, 0.6335, 0.219, 1.293, 0.7569, 0.553, 0.8154, 0.3452, 1.0204, 0.9973, 0.6346, 0.9366, 0.0814, 0.32, 0.8745, 0.8948, 0.9325, 0.5358, 2.6966, 2.6957, 2.5061, 2.497, 2.4668, 2.4421, 2.4379, 2.4267, 2.4102, 2.3918, 2.3769, 2.3662, 2.3582, 2.3513, 2.3378, 2.3163, 2.3146, 2.3055, 2.2873, 2.2609, 2.2226, 2.2046, 2.2037, 2.2, 2.1974, 2.1913, 2.1883, 2.1724, 2.1608, 2.1594, 2.1502, 2.0899, 2.0247, 2.1508, 1.9789, 2.0664, 2.0864, 1.6906, 2.03, 1.8403, 1.246, 1.2027, 1.1275, 1.8785, 1.0617, 1.549, 1.6472, 1.5201, 1.4723, 0.8939, 1.4211, 0.8861, 1.4233, 1.2254, 1.2813, 1.0376, 1.1247, 0.3787, 0.8187, 0.5969, 1.2204, 1.3541, 0.765, 1.0272, 0.61, 0.8555, 1.0194, 2.9413, 2.8115, 2.7994, 2.7979, 2.6867, 2.6775, 2.6602, 2.6426, 2.6379, 2.6333, 2.6215, 2.6165, 2.6164, 2.5905, 2.5601, 2.5364, 2.5174, 2.5173, 2.5005, 2.4972, 2.4897, 2.4897, 2.4814, 2.4805, 2.4424, 2.4129, 2.3903, 2.3856, 2.3854, 2.383, 2.367, 2.3825, 2.344, 2.1056, 2.206, 1.7685, 2.2632, 1.3209, 1.7735, 2.0254, 0.8048, 1.7384, 1.3426, 1.7108, 1.5481, 1.4118, 0.5072, 1.1657, 1.3334, 1.3295, 1.3351, 1.0356, 0.987, 1.2081, 0.3808, 0.916, 0.4797, 0.5726, 0.4843, 0.0238, 2.7899, 2.7883, 2.7217, 2.6797, 2.6564, 2.5947, 2.584, 2.5569, 2.5541, 2.4888, 2.4832, 2.4807, 2.4787, 2.4764, 2.4727, 2.4519, 2.4441, 2.4397, 2.4014, 2.401, 2.3788, 2.3623, 2.3284, 2.3188, 2.3086, 2.2815, 2.2752, 2.2637, 2.2601, 2.2576, 2.2444, 2.2209, 2.1544, 2.1736, 2.0895, 2.2127, 2.2019, 1.9548, 1.5771, 2.1221, 1.864, 1.9568, 1.9416, 1.4407, 1.6188, 1.7632, 1.4794, 1.7103, 0.932, 1.3282, 1.5166, 1.1035, 0.9999, 0.6562, 0.6744, 1.7509, 0.4777, 0.4076, 1.0203, 1.2473, 1.1423, 0.6725, 0.8908, 3.3043, 3.2599, 3.2554, 3.202, 3.1489, 3.1221, 2.9963, 2.9783, 2.9719, 2.9217, 2.8531, 2.8504, 2.8357, 2.8183, 2.8095, 2.7967, 2.7796, 2.7644, 2.7569, 2.7364, 2.7109, 2.7016, 2.701, 2.6989, 2.6952, 2.6526, 2.6497, 2.6322, 2.6276, 2.6177, 2.5669, 2.526, 2.5037, 2.4035, 2.2592, 2.2336, 2.2125, 1.8828, 1.7035, 2.4511, 1.533, 1.9416, 0.8225, 1.7879, 1.3697, 1.9991, 1.1275, 2.2784, 1.736, 3.4188, 3.3389, 3.2327, 3.2114, 3.1983, 3.1717, 3.14, 3.0681, 2.9707, 2.966, 2.9499, 2.9424, 2.9178, 2.8918, 2.885, 2.8337, 2.8132, 2.7855, 2.7824, 2.778, 2.7677, 2.7494, 2.7232, 2.7179, 2.6808, 2.6349, 2.6335, 2.6209, 2.6031, 2.5854, 2.3551, 2.3801, 2.2096, 2.4311, 1.6016, 2.4122, 2.2504, 1.8361, 1.9585, 1.82, 2.1837, 1.3933, 1.0961, 0.8529, 0.688, 1.0349, 0.6164, 3.2723, 2.9654, 2.9451, 2.8758, 2.8127, 2.7597, 2.7, 2.6576, 2.6081, 2.5887, 2.5379, 2.5241, 2.5222, 2.4935, 2.4583, 2.4581, 2.4368, 2.4181, 2.415, 2.402, 2.3956, 2.3801, 2.3765, 2.3619, 2.3562, 2.3551, 2.3467, 2.341, 2.3244, 2.2951, 2.2495, 2.2599, 2.173, 2.0443, 2.1793, 2.0535, 2.2416, 2.125, 2.1829, 1.4197, 1.5636, 0.8604, 1.1775, 0.715, 1.2211, 1.1794, 0.424, 1.075, 0.7757, 1.4433, 0.9579, 1.4495, 0.5202, 1.2651, 0.5358, 1.257, 0.0794, 0.7478, 0.0861, 0.7129, 3.8543, 3.7888, 3.7502, 3.6133, 3.5531, 3.4497, 3.2825, 3.2738, 3.2134, 3.1777, 3.1652, 3.1315, 3.0995, 3.0801, 3.0579, 2.9803, 2.971, 2.9277, 2.9266, 2.9131, 2.8734, 2.8115, 2.7709, 2.767, 2.7655, 2.7387, 2.7383, 2.6804, 2.6638, 2.6182, 2.5975, 2.4851, 2.3704, 2.0763, 1.6659, 1.7854, 1.9696, 1.2147, 1.6062, 1.1683, 2.1398, 1.5155, 0.9346, 0.9957, 1.6268, 1.3591, 0.3266, 0.3445, 1.0879, 0.3504, 1.2894]}, \"token.table\": {\"Topic\": [2, 13, 7, 8, 9, 2, 5, 7, 14, 1, 3, 6, 7, 11, 12, 15, 1, 2, 3, 4, 6, 7, 12, 13, 14, 15, 2, 3, 4, 5, 7, 13, 15, 1, 2, 3, 4, 5, 6, 7, 8, 9, 10, 11, 13, 14, 15, 1, 5, 7, 8, 10, 14, 2, 4, 7, 15, 1, 5, 11, 13, 15, 4, 8, 9, 12, 5, 6, 9, 4, 3, 4, 11, 1, 7, 1, 7, 8, 11, 12, 13, 14, 2, 4, 7, 9, 13, 2, 6, 7, 12, 13, 1, 5, 7, 8, 10, 11, 14, 15, 1, 7, 11, 6, 7, 4, 8, 15, 3, 4, 5, 8, 9, 11, 15, 1, 10, 13, 1, 8, 10, 13, 3, 10, 11, 14, 15, 2, 12, 13, 14, 1, 2, 5, 12, 14, 9, 11, 15, 1, 11, 12, 14, 4, 5, 6, 9, 1, 2, 5, 6, 9, 10, 12, 13, 14, 1, 2, 4, 12, 2, 4, 6, 8, 12, 3, 6, 10, 11, 2, 3, 4, 5, 6, 7, 12, 13, 15, 5, 2, 3, 4, 5, 6, 1, 3, 4, 5, 6, 7, 8, 9, 10, 11, 12, 13, 2, 4, 5, 6, 7, 11, 12, 2, 3, 7, 8, 12, 13, 14, 2, 6, 7, 10, 11, 12, 13, 14, 1, 5, 6, 8, 9, 12, 13, 1, 2, 4, 5, 6, 7, 8, 10, 13, 15, 2, 7, 12, 14, 2, 14, 4, 5, 4, 8, 5, 3, 4, 5, 2, 7, 13, 3, 2, 6, 7, 8, 9, 14, 6, 9, 11, 14, 2, 5, 9, 12, 2, 4, 5, 7, 9, 12, 1, 2, 3, 4, 5, 6, 7, 8, 9, 10, 11, 12, 13, 14, 4, 5, 11, 15, 6, 9, 10, 1, 7, 2, 12, 1, 5, 2, 7, 12, 15, 2, 7, 11, 13, 14, 1, 10, 11, 1, 2, 3, 5, 6, 7, 8, 9, 10, 11, 12, 13, 15, 4, 7, 13, 1, 3, 4, 5, 6, 7, 8, 9, 10, 11, 13, 14, 15, 1, 2, 3, 5, 6, 7, 8, 9, 11, 13, 14, 15, 5, 7, 8, 15, 2, 8, 12, 5, 6, 4, 7, 10, 12, 4, 5, 6, 9, 10, 11, 15, 1, 2, 3, 5, 6, 7, 9, 10, 11, 13, 3, 5, 6, 11, 13, 14, 15, 9, 10, 11, 9, 10, 11, 12, 14, 2, 5, 7, 12, 15, 1, 2, 6, 10, 2, 6, 8, 11, 1, 3, 4, 5, 7, 8, 15, 2, 9, 10, 2, 3, 8, 9, 12, 5, 13, 1, 2, 3, 4, 5, 6, 7, 8, 9, 10, 11, 12, 13, 14, 15, 2, 5, 11, 2, 6, 11, 6, 10, 2, 4, 8, 4, 1, 3, 4, 9, 15, 1, 3, 5, 10, 1, 2, 3, 6, 7, 9, 12, 14, 1, 2, 3, 5, 6, 7, 8, 9, 10, 11, 12, 13, 14, 1, 2, 5, 7, 9, 10, 11, 13, 14, 1, 10, 11, 1, 2, 6, 7, 9, 10, 11, 12, 13, 14, 3, 8, 2, 3, 4, 5, 6, 7, 9, 15, 2, 4, 5, 6, 9, 15, 1, 5, 7, 8, 9, 10, 14, 15, 5, 5, 8, 1, 3, 4, 8, 9, 10, 1, 2, 7, 9, 11, 1, 2, 6, 7, 8, 12, 1, 3, 12, 6, 10, 1, 2, 4, 13, 14, 2, 4, 7, 9, 13, 14, 2, 4, 7, 8, 12, 13, 14, 1, 2, 7, 8, 10, 12, 14, 15, 8, 9, 13, 14, 6, 7, 9, 10, 6, 7, 15, 3, 4, 5, 9, 11, 3, 4, 7, 12, 3, 9, 10, 14, 1, 2, 3, 5, 6, 7, 10, 13, 14, 1, 2, 3, 5, 6, 7, 8, 9, 10, 11, 12, 13, 14, 3, 4, 3, 4, 6, 8, 7, 2, 4, 7, 8, 12, 13, 7, 8, 5, 10, 1, 2, 7, 3, 4, 2, 3, 7, 8, 9, 11, 13, 14, 15, 2, 3, 7, 9, 12, 2, 7, 13, 14, 15, 2, 6, 13, 14, 1, 15, 4, 7, 10, 13, 1, 2, 3, 4, 5, 6, 7, 8, 9, 10, 12, 13, 14, 15, 2, 15, 2, 9, 13, 2, 9, 13, 12, 13, 4, 8, 11, 1, 3, 4, 5, 6, 8, 10, 12, 15, 1, 4, 6, 8, 9, 13, 15, 2, 5, 7, 13, 3, 11, 1, 13, 1, 9, 1, 4, 5, 7, 9, 14, 1, 2, 6, 7, 9, 12, 13, 14, 2, 12, 14, 2, 7, 9, 14, 2, 9, 3, 5, 9, 10, 11, 12, 13, 7, 12, 15, 1, 6, 7, 8, 11, 9, 10, 11, 14, 15, 4, 7, 10, 11, 12, 1, 2, 4, 7, 8, 9, 10, 12, 13, 14, 1, 2, 3, 4, 5, 7, 15, 11, 12, 2, 7, 12, 1, 2, 3, 4, 5, 6, 7, 8, 9, 10, 11, 12, 13, 2, 6, 7, 13, 14, 1, 7, 13, 1, 2, 3, 5, 8, 9, 13, 14, 7, 8, 13, 14, 3, 7, 7, 8, 10, 13, 14, 3, 4, 5, 6, 7, 10, 15, 5, 6, 12, 13, 15, 1, 2, 3, 6, 7, 8, 9, 10, 11, 13, 14, 1, 3, 4, 6, 7, 8, 9, 10, 11, 12, 13, 14, 15, 1, 2, 3, 4, 6, 7, 8, 9, 10, 14, 5, 9, 2, 6, 7, 9, 10, 14, 6, 7, 9, 1, 9, 1, 3, 5, 7, 12, 15, 2, 6, 9, 10, 11, 1, 2, 6, 10, 1, 2, 7, 14, 1, 2, 4, 5, 6, 8, 9, 10, 11, 12, 13, 14, 15, 1, 2, 5, 6, 7, 9, 10, 11, 13, 14, 15, 8, 1, 2, 3, 5, 6, 7, 8, 9, 10, 11, 12, 13, 14, 15, 6, 10, 11, 1, 4, 5, 15, 3, 1, 4, 5, 5, 6, 1, 3, 4, 5, 7, 8, 11, 7, 12, 15, 2, 8, 11, 1, 2, 3, 5, 6, 7, 8, 10, 12, 13, 1, 2, 3, 4, 6, 7, 11, 14, 5, 8, 13, 14, 15, 1, 15, 2, 4, 5, 6, 8, 11, 13, 1, 2, 10, 4, 7, 9, 11, 12, 5, 8, 10, 14, 1, 3, 4, 5, 7, 2, 5, 7, 11, 12, 1, 3, 15, 1, 2, 5, 6, 11, 12, 13, 2, 5, 8, 3, 5, 7, 8, 11, 1, 3, 6, 8, 12, 14, 1, 2, 3, 4, 5, 7, 8, 9, 10, 11, 12, 14, 15, 5, 6, 11, 15, 1, 2, 3, 6, 7, 8, 9, 13, 14, 15, 1, 9, 14, 1, 5, 9, 12, 14, 2, 7, 13, 14, 1, 2, 4, 8, 2, 4, 6, 7, 12, 13, 14, 2, 13, 4, 9, 12, 4, 7, 11, 12, 7, 11, 13, 1, 2, 3, 4, 5, 6, 7, 8, 14, 2, 5, 6, 12, 13, 1, 3, 4, 6, 7, 13, 14, 15, 5, 6, 9, 2, 9, 12, 2, 12, 13, 14, 5, 10, 14, 4, 7, 8, 9, 12, 12, 3, 4, 10, 11, 13, 14, 3, 4, 10, 15, 1, 5, 10, 4, 8, 13, 15, 3, 4, 5, 6, 7, 8, 9, 10, 12, 13, 14, 15, 1, 6, 7, 8, 10, 12, 14, 15, 6, 9, 12, 1, 6, 11, 5, 6, 4, 11, 1, 2, 4, 6, 11, 15, 2, 4, 5, 6, 2, 4, 7, 8, 12, 15, 1, 5, 9, 12, 2, 4, 5, 6, 8, 11, 15, 9, 12, 3, 5, 2, 7, 9, 1, 3, 5, 7, 8, 9, 13, 5, 1, 2, 3, 4, 5, 6, 7, 9, 10, 11, 12, 13, 14, 15, 9, 12, 1, 2, 4, 7, 8, 14, 1, 3, 4, 6, 7, 8, 9, 10, 11, 13, 14, 15, 1, 2, 3, 4, 5, 6, 7, 8, 9, 10, 11, 13, 14, 15, 1, 5, 6, 8, 1, 2, 6, 7, 8, 9, 11, 13, 14, 1, 3, 4, 5, 12, 13, 15, 1, 2, 3, 4, 7, 8, 13, 14, 15, 2, 8, 13, 14, 8, 4, 7, 9, 13, 1, 3, 12, 2, 3, 6, 10, 11, 3, 5, 6, 8, 1, 8, 13, 14, 2, 8, 9, 12, 13, 1, 2, 8, 9, 13, 14, 1, 6, 8, 9, 15, 2, 4, 6, 9, 14, 2, 9, 12, 14, 2, 12, 14, 7, 13, 5, 7, 8, 9, 7, 9, 11, 1, 2, 9, 10, 13, 14, 15, 2, 5, 8, 13, 1, 4, 6, 7, 8, 9, 10, 12, 13, 14, 15, 2, 14, 10, 5, 10, 12, 2, 4, 5, 6, 7, 9, 12, 14, 1, 3, 6, 7, 10, 1, 6, 7, 8, 11, 12, 13, 14, 15, 2, 3, 5, 8, 11, 14, 1, 3, 5, 14, 1, 2, 4, 5, 6, 8, 9, 10, 11, 12, 13, 3, 6, 15, 2, 8, 9, 10, 1, 2, 3, 4, 5, 6, 7, 8, 9, 10, 11, 12, 14, 1, 3, 5, 10, 2, 2, 2, 5, 6, 7, 10, 1, 2, 3, 4, 6, 7, 8, 10, 11, 12, 14, 15, 4, 8, 11, 14, 1, 2, 3, 5, 6, 7, 8, 10, 14, 15, 1, 6, 7, 8, 11, 14, 15, 1, 7, 10, 11, 1, 3, 6, 8, 9, 10, 11, 13, 14, 15, 1, 2, 5, 2, 4, 6, 9, 12, 3, 4, 8, 15, 1, 2, 3, 4, 6, 7, 9, 10, 11, 12, 15, 3, 7, 4, 5, 6, 7, 8, 9, 12, 13, 3, 6, 7, 9, 11, 14, 6, 7, 10, 6, 7, 15, 6, 7, 6, 10, 6, 8, 2, 4, 5, 6, 8, 9, 10, 11, 2, 3, 4, 5, 6, 7, 9, 10, 11, 12, 13, 14, 15, 3, 7, 9, 3, 7, 10, 2, 6, 7, 2, 6, 7, 12, 1, 4, 8, 9, 5, 1, 2, 3, 4, 8, 9, 10, 11, 13, 14, 1, 2, 5, 7, 8, 9, 10, 11, 14, 15, 1, 2, 3, 4, 7, 12, 2, 3, 4, 12, 3, 4, 7, 13, 2, 4, 5, 6, 8, 14, 2, 7, 11, 15, 4, 5, 1, 8, 9, 11, 13, 3, 4, 5, 1, 2, 3, 4, 5, 6, 7, 8, 9, 10, 11, 12, 13, 14, 15, 2, 7, 1, 7, 9, 10, 3, 7, 8, 2, 9, 12, 14, 1, 2, 3, 4, 5, 6, 7, 8, 9, 10, 11, 12, 13, 14, 15, 1, 2, 3, 4, 5, 6, 7, 8, 10, 11, 14, 15, 7, 12, 15, 4, 5, 13, 1, 2, 3, 4, 5, 6, 7, 8, 9, 10, 11, 12, 13, 14, 15, 3, 4, 7, 8, 11, 3, 4, 10, 3, 4, 5, 2, 5, 7, 8, 12, 13, 14, 2, 4, 5, 6, 7, 12, 13, 14, 1, 2, 3, 4, 6, 7, 8, 10, 11, 13, 14, 15, 1, 2, 3, 7, 8, 12, 13, 14, 15, 2, 13, 2, 5, 7, 12, 14, 2, 7, 11, 3, 4, 5, 15, 12, 13, 14, 2, 13, 14, 2, 3, 4, 7, 10, 12, 15, 2, 7, 10, 1, 2, 3, 5, 6, 7, 8, 9, 11, 14, 15, 1, 2, 3, 4, 5, 6, 7, 8, 9, 10, 11, 12, 13, 14, 15, 1, 2, 3, 4, 5, 6, 9, 11, 12, 13, 4, 8, 1, 2, 3, 4, 5, 6, 8, 9, 10, 11, 13, 1, 2, 3, 6, 7, 8, 9, 10, 11, 12, 1, 2, 3, 4, 5, 6, 7, 8, 9, 10, 11, 12, 13, 14, 15, 1, 3, 4, 5, 6, 7, 8, 9, 10, 13, 14, 15, 3, 5, 8, 15, 3, 4, 1, 2, 3, 4, 5, 6, 8, 10, 11, 13, 2, 3, 9, 11, 13, 14, 1, 2, 3, 4, 5, 6, 7, 8, 9, 10, 12, 13, 14, 15, 1, 3, 6, 7, 8, 9, 10, 12, 13, 14, 1, 2, 3, 4, 5, 6, 8, 13, 15, 3, 4, 5, 11, 3, 5, 6, 11, 12, 14, 1, 3, 6, 8, 11, 12, 14, 3, 5, 1, 4, 10, 4, 5, 7, 8, 1, 4, 5, 1, 2, 5, 6, 7, 8, 9, 11, 13, 14, 1, 7, 9, 1, 2, 5, 8, 9, 10, 11, 12, 13, 1, 2, 3, 4, 6, 7, 8, 9, 10, 11, 12, 13, 14, 15, 6, 7, 12, 1, 2, 5, 6, 10, 1, 2, 4, 5, 6, 7, 10, 6, 8, 1, 2, 5, 6, 7, 9, 10, 2, 4, 5, 6, 7, 8, 9, 12, 14, 1, 8, 10, 5, 8, 13, 1, 7, 14, 5, 10, 11, 1, 8, 12, 14, 1, 2, 3, 4, 7, 8, 9, 12, 13, 14, 2, 12, 13, 14, 5, 12, 13, 14, 2, 7, 8, 13, 14, 4, 8, 3, 5, 11, 3, 4, 6, 3, 4, 5, 10, 15, 1, 10, 5, 6, 1, 13, 14, 1, 4, 5, 6, 8, 9, 10, 11, 14, 15, 1, 3, 4, 5, 8, 15, 5, 10, 12, 2, 6, 11, 14, 6, 8, 1, 3, 4, 5, 8, 15, 2, 3, 4, 5, 6, 7, 8, 12, 13, 14, 15, 6, 8, 10, 13, 1, 2, 3, 4, 5, 6, 7, 8, 9, 10, 11, 12, 15, 2, 6, 9, 14, 1, 5, 1, 2, 3, 4, 5, 6, 7, 8, 10, 11, 12, 13, 14, 15, 1, 3, 5, 6, 7, 10, 2, 9, 12, 13, 14, 1, 5, 8, 14, 1, 2, 3, 4, 5, 6, 7, 8, 9, 10, 11, 12, 13, 14, 15, 6, 2, 5, 10, 14, 15, 3, 2, 3, 4, 5, 6, 7, 8, 9, 10, 14, 2, 3, 7, 9, 12, 14, 7, 12, 1, 2, 3, 4, 5, 7, 8, 9, 11, 14, 15, 4, 6, 10, 2, 3, 4, 6, 14, 2, 4, 7, 9, 1, 4, 8, 10, 13, 3, 7, 8, 10, 3, 4, 5, 15, 5, 6, 8, 4, 5, 8, 9, 12, 13, 14, 2, 3, 12, 2, 14, 6, 8, 9, 10, 11, 2, 7, 14, 4, 6, 13, 2, 3, 7, 9, 12, 13, 1, 5, 8, 12, 6, 7, 10, 6, 7, 9, 10, 1, 8, 15, 9, 12, 14, 1, 2, 4, 5, 6, 7, 8, 9, 10, 11, 12, 13, 14, 1, 4, 7, 14, 3, 4, 9, 12, 15, 1, 2, 4, 5, 6, 7, 8, 9, 10, 12, 13, 14, 15, 2, 4, 7, 12, 2, 5, 7, 1, 3, 10, 14, 15, 5, 6, 10, 1, 6, 7, 10, 3, 5, 11, 4, 5, 6, 4, 9, 12, 3, 15, 1, 2, 3, 5, 6, 7, 8, 9, 10, 11, 13, 15, 2, 9, 12, 14, 1, 2, 3, 4, 7, 8, 14, 1, 2, 5, 6, 7, 8, 9, 14, 1, 9, 12, 13, 1, 3, 4, 5, 6, 7, 8, 9, 10, 11, 12, 13, 14, 15, 1, 2, 4, 5, 7, 9, 15, 6, 7, 9, 13, 4, 6, 7, 9, 1, 5, 2, 4, 5, 6, 7, 8, 15, 15, 1, 2, 3, 5, 6, 7, 8, 9, 10, 11, 13, 14, 15, 3, 4, 3, 1, 2, 3, 5, 6, 7, 8, 9, 10, 11, 14, 1, 4, 6, 7, 8, 11, 14, 1, 2, 3, 4, 5, 6, 7, 8, 10, 11, 15, 3, 4, 5, 6, 7, 9, 2, 7, 8, 14, 1, 4, 2, 4, 5, 6, 1, 2, 3, 4, 5, 6, 7, 12, 13, 14, 1, 6, 7, 9, 10, 14, 2, 7, 8, 9, 10, 12, 4, 8, 13, 1, 2, 4, 6, 7, 8, 9, 10, 11, 12, 13, 15, 1, 3, 6, 7, 8, 9, 10, 11, 14, 15, 2, 3, 7, 15, 3, 1, 7, 1, 2, 3, 4, 5, 6, 7, 14, 15, 1, 2, 4, 6, 7, 15, 1, 5, 6, 9, 12, 15, 1, 14, 1, 2, 3, 4, 6, 7, 8, 9, 10, 11, 13, 15, 1, 8, 1, 3, 4, 6, 7, 8, 9, 11, 12, 13, 14, 6, 9, 12, 14, 4, 8, 6, 12, 13, 14, 1, 6, 8, 11, 7, 14, 1, 2, 5, 6, 8, 10, 2, 5, 6, 10, 11, 2, 3, 4, 6, 7, 12, 13, 4, 7, 12, 14, 1, 2, 3, 4, 5, 6, 7, 8, 10, 11, 12, 15, 4, 5, 6, 14, 7, 12, 13, 15, 1, 2, 3, 4, 6, 7, 14, 15, 4, 8, 9, 12, 1, 11, 13, 14, 1, 2, 3, 4, 5, 6, 7, 8, 9, 10, 11, 13, 14, 15, 2, 3, 7, 12, 13, 14, 3, 10, 11, 2, 3, 6, 7, 8, 9, 10, 11, 14, 1, 2, 5, 6, 7, 14, 2, 13, 1, 3, 4, 8, 10, 12, 14, 4, 8, 10, 3, 4, 6, 7, 8, 9, 7, 10, 11, 14, 3, 4, 8, 11, 1, 2, 3, 4, 6, 7, 9, 12, 15, 1, 2, 3, 4, 6, 7, 8, 9, 10, 13, 14, 15, 1, 2, 5, 6, 7, 3, 4, 5, 3, 4, 5, 3, 4, 5, 11, 1, 2, 4, 6, 7, 8, 9, 10, 11, 12, 13, 14, 15, 1, 4, 5, 6, 8, 10, 15, 1, 2, 3, 4, 5, 6, 8, 11, 15, 1, 2, 3, 4, 6, 8, 10, 11, 12, 3, 4, 1, 2, 3, 5, 7, 10, 15, 2, 6, 1, 2, 3, 4, 6, 7, 8, 10, 11, 12, 13, 14, 2, 3, 4, 5, 6, 11, 12, 13, 14, 4, 8, 9, 12, 13, 1, 2, 3, 5, 7, 8, 9, 10, 11, 12, 15, 10, 12, 1, 2, 5, 6, 7, 8, 9, 10, 14, 2, 3, 6, 8, 9, 12, 13, 2, 3, 4, 5, 6, 8, 10, 11, 12, 15, 9, 10, 12, 1, 12, 2, 5, 8, 5, 7, 9, 10, 11, 12, 6, 7, 14, 1, 5, 11, 12, 13, 5, 1, 5, 11, 3, 9, 10, 15, 7, 8, 9, 13, 14, 1, 2, 8, 9, 1, 2, 3, 4, 5, 6, 8, 9, 11, 12, 13, 14, 1, 2, 8, 9, 11, 14, 3, 4, 5, 15, 1, 2, 4, 7, 9, 10, 13, 14, 15, 5, 10, 5, 6, 10, 3, 4, 5, 6, 7, 11, 3, 4, 5, 15, 9, 10, 11, 1, 3, 5, 6, 7, 9, 11, 1, 14, 1, 3, 4, 5, 8, 11, 15, 3, 4, 5, 11, 3, 4, 5, 7, 12, 14, 1, 8, 9, 2, 12, 5, 8, 15, 4, 15, 3, 4, 5, 7, 8, 11, 13, 4, 6, 13, 2, 3, 4, 5, 14, 15, 1, 2, 3, 5, 6, 7, 9, 10, 11, 13, 14, 1, 2, 4, 5, 6, 7, 8, 9, 12, 13, 14, 1, 2, 4, 7, 8, 9, 12, 13, 14, 15, 2, 3, 4, 5, 6, 7, 8, 11, 12, 13, 14, 15, 3, 4, 5, 8, 9, 11, 13, 15, 2, 4, 5, 7, 14, 6, 9, 10, 12, 1, 12, 15, 1, 7, 14, 1, 9, 11, 12, 14, 2, 3, 5, 6, 7, 11, 1, 2, 3, 4, 6, 7, 10, 11, 14, 1, 2, 7, 12, 14, 1, 2, 7, 10, 1, 6, 7, 12, 4, 6, 10, 11, 15, 1, 3, 4, 5, 1, 7, 9, 10, 12, 15, 1, 2, 3, 4, 5, 6, 7, 8, 9, 10, 11, 13, 14, 1, 3, 7, 8, 10, 6, 10, 1, 5, 7, 12, 3, 6, 7, 11, 13, 7, 9, 6, 8, 10, 5, 6, 7, 8, 10, 12, 5, 9, 11, 1, 4, 7, 8, 13, 11, 12, 2, 12, 15, 7, 12, 15, 7, 8, 4, 8, 2, 3, 4, 7, 8, 10, 5, 9, 10, 1, 2, 3, 4, 6, 9, 10, 15, 3, 4, 5, 6, 10, 14, 15, 2, 4, 5, 6, 7, 11, 12, 14, 1, 2, 3, 4, 5, 6, 9, 10, 11, 15, 1, 10, 1, 2, 5, 6, 9, 10, 11, 15, 1, 2, 3, 7, 8, 9, 10, 11, 12, 13, 14, 1, 2, 4, 5, 6, 7, 8, 9, 10, 11, 13, 14, 15, 1, 2, 3, 4, 7, 8, 9, 10, 11, 12, 13, 14, 15, 1, 6, 10, 11, 12, 13, 15, 1, 2, 3, 4, 5, 6, 7, 8, 9, 10, 11, 13, 14, 15, 6, 7, 10, 11, 3, 7, 12, 4, 6, 7, 8, 9, 11, 14, 1, 8, 1, 8, 11, 14, 1, 2, 4, 6, 9, 13, 6, 7, 9, 10, 4, 6, 10, 11, 6, 10, 6, 7, 9, 13, 6, 9, 12, 1, 2, 3, 5, 6, 7, 9, 10, 11, 12, 14, 15, 1, 2, 3, 4, 5, 6, 8, 9, 10, 11, 13, 14, 15, 1, 9, 13, 3, 6, 9, 12, 13, 14, 2, 13, 2, 4, 6, 7, 11, 12, 13, 14, 1, 3, 5, 10, 12, 2, 3, 4, 5, 6, 7, 9, 11, 2, 5, 6, 3, 5, 13, 2, 3, 5, 6, 8, 14, 1, 2, 3, 4, 5, 6, 7, 8, 9, 10, 11, 12, 13, 14, 15, 1, 2, 3, 4, 5, 6, 7, 8, 9, 10, 11, 12, 13, 14, 15, 1, 3, 1, 3, 4, 5, 7, 8, 9, 12, 14, 10, 11, 14, 1, 3, 4, 7, 14, 15, 3, 5, 14, 2, 11, 3, 5, 2, 7, 14, 1, 2, 11, 6, 10, 2, 7, 13, 14, 1, 1, 2, 5, 6, 7, 8, 9, 10, 12, 13, 14, 15, 1, 2, 5, 7, 8, 9, 10, 13, 1, 2, 8, 14, 6, 7, 13, 15, 1, 3, 4, 6, 1, 2, 3, 4, 5, 6, 7, 8, 9, 10, 11, 12, 13, 15, 1, 2, 9, 11, 12, 13, 14, 1, 2, 7, 8, 9, 12, 13, 14, 12, 13, 3, 7, 11, 14, 15, 1, 3, 5, 8, 9, 10, 14, 15, 1, 2, 8, 11, 14, 5, 8, 13, 14, 4, 5, 6, 7, 9, 4, 10, 15, 1, 2, 3, 4, 5, 6, 7, 8, 9, 10, 11, 12, 13, 14, 15, 3, 5, 6, 7, 9, 10, 12, 1, 2, 3, 5, 6, 7, 8, 11, 13, 3, 13, 14, 1, 11, 1, 2, 5, 7, 8, 9, 11, 13, 14, 2, 3, 4, 5, 6, 7, 8, 9, 11, 12, 13, 14, 15, 1, 2, 3, 4, 5, 6, 7, 8, 9, 10, 11, 12, 13, 14, 15, 6, 10, 11, 7, 8, 13, 14, 2, 3, 6], \"Freq\": [0.9208089315108, 0.032886033268242854, 0.20416741362123536, 0.13611160908082356, 0.6125022408637061, 0.4956942471576681, 0.04130785392980567, 0.04130785392980567, 0.37177068536825103, 0.11368985024988203, 0.022737970049976405, 0.613925191349363, 0.022737970049976405, 0.13642782029985842, 0.022737970049976405, 0.022737970049976405, 0.10259193440628468, 0.1795358852109982, 0.10259193440628468, 0.05129596720314234, 0.06411995900392793, 0.02564798360157117, 0.39754374582435315, 0.03847197540235676, 0.012823991800785585, 0.012823991800785585, 0.061086020902180835, 0.02036200696739361, 0.6108602090218084, 0.1425340487717553, 0.02036200696739361, 0.08144802786957445, 0.04072401393478722, 0.28565251646848727, 0.050782669594397735, 0.006347833699299717, 0.012695667398599434, 0.01904350109789915, 0.025391334797198867, 0.03173916849649858, 0.09521750548949576, 0.1523480087831932, 0.044434835895098015, 0.10156533918879547, 0.050782669594397735, 0.012695667398599434, 0.10156533918879547, 0.1479013273751663, 0.07395066368758316, 0.07395066368758316, 0.1479013273751663, 0.07395066368758316, 0.44370398212549894, 0.040050136129477824, 0.040050136129477824, 0.8010027225895565, 0.08010027225895565, 0.057160848059235984, 0.11432169611847197, 0.5716084805923599, 0.17148254417770797, 0.057160848059235984, 0.7530369448329131, 0.115851837666602, 0.057925918833301, 0.057925918833301, 0.03293254589411626, 0.7245160096705578, 0.23052782125881385, 0.9510723753093742, 0.8917293091590509, 0.06859456224300392, 0.022864854081001303, 0.08660950939556777, 0.8660950939556777, 0.1251999260115705, 0.5577087613242687, 0.1251999260115705, 0.06829086873358392, 0.0569090572779866, 0.03414543436679196, 0.02276362291119464, 0.07643137982890673, 0.1146470697433601, 0.26750982940117357, 0.07643137982890673, 0.42037258905898706, 0.025375923091002214, 0.025375923091002214, 0.6597740003660576, 0.07612776927300664, 0.1776314616370155, 0.09560965438077898, 0.06953429409511198, 0.03476714704755599, 0.24337002933289195, 0.12168501466644598, 0.3911304042850049, 0.026075360285666992, 0.008691786761888998, 0.1579567682798545, 0.1579567682798545, 0.5528486889794907, 0.39154366866708334, 0.5936307234629973, 0.8300510799786553, 0.0614852651836041, 0.09222789777540616, 0.1289480080015903, 0.025789601600318058, 0.07736880480095418, 0.28368561760349864, 0.051579203200636116, 0.025789601600318058, 0.3610544224044528, 0.09561518033966399, 0.8286648962770878, 0.06374345355977598, 0.07345325239904976, 0.14690650479809952, 0.29381300959619905, 0.5141727667933483, 0.07403942810796002, 0.14807885621592004, 0.22211828432388006, 0.07403942810796002, 0.4442365686477601, 0.47980866435877567, 0.03916805423336944, 0.44064061012540623, 0.029376040675027082, 0.17282040963714382, 0.644148799556627, 0.06284378532259775, 0.01571094633064944, 0.09426567798389662, 0.6652456256656923, 0.17739883351085128, 0.17739883351085128, 0.4251984311606262, 0.46771827427668883, 0.042519843116062626, 0.042519843116062626, 0.2534068632941219, 0.08446895443137395, 0.042234477215686975, 0.5912826810196177, 0.031610205895963216, 0.3055653236609777, 0.08429388238923524, 0.15805102947981609, 0.052683676493272026, 0.2739551177650145, 0.052683676493272026, 0.02107347059730881, 0.02107347059730881, 0.14601364407096465, 0.020859092010137806, 0.3963227481926183, 0.4171818402027561, 0.019455241250184906, 0.8754858562583208, 0.03891048250036981, 0.019455241250184906, 0.019455241250184906, 0.0704684046763117, 0.0704684046763117, 0.42281042805787017, 0.42281042805787017, 0.05528380288149088, 0.09951084518668359, 0.33170281728894524, 0.005528380288149088, 0.19349331008521808, 0.22113521152596352, 0.05528380288149088, 0.022113521152596353, 0.016585140864447262, 0.9666172469106977, 0.20261523234111256, 0.037990356063958605, 0.11397106819187582, 0.5571918889380596, 0.06331726010659768, 0.0742602307328574, 0.09901364097714319, 0.08251136748095265, 0.03300454699238106, 0.04950682048857159, 0.1485204614657148, 0.03300454699238106, 0.06600909398476212, 0.05775795723666686, 0.3217943331757154, 0.008251136748095265, 0.01650227349619053, 0.16313749331681054, 0.04661071237623158, 0.06991606856434737, 0.18644284950492632, 0.02330535618811579, 0.44280176757420003, 0.04661071237623158, 0.7351375791456987, 0.015981251720558667, 0.047943755161676004, 0.03196250344111733, 0.015981251720558667, 0.11186876204391066, 0.015981251720558667, 0.28360155774865065, 0.025781959795331877, 0.038672939692997815, 0.025781959795331877, 0.051563919590663754, 0.09023685928366157, 0.425402336622976, 0.06445489948832969, 0.06169907649538097, 0.020566358831793658, 0.08226543532717463, 0.2879290236451112, 0.06169907649538097, 0.020566358831793658, 0.4318935354676668, 0.0157722864092603, 0.24447043934353463, 0.0157722864092603, 0.1261782912740824, 0.18926743691112358, 0.0315445728185206, 0.28390115536668536, 0.03943071602315074, 0.03943071602315074, 0.0157722864092603, 0.5875330230674006, 0.26928596890589196, 0.11016244182513761, 0.01224027131390418, 0.7827126377717271, 0.120417328887958, 0.04589044478482608, 0.9407541180889347, 0.9652145694718132, 0.022446850452832862, 0.9893854284660177, 0.24029539505134073, 0.048059079010268145, 0.7048664921505995, 0.041686060561002415, 0.896250302061552, 0.041686060561002415, 0.9716852042272011, 0.35494593052311163, 0.07098918610462232, 0.03549459305231116, 0.03549459305231116, 0.14197837220924464, 0.31945133747080046, 0.20588338601588405, 0.2745111813545121, 0.20588338601588405, 0.2745111813545121, 0.06453641028843478, 0.016134102572108695, 0.7421687183169999, 0.17747512829319564, 0.06200695480980508, 0.020668984936601693, 0.020668984936601693, 0.06200695480980508, 0.10334492468300847, 0.7234144727810593, 0.004207599207570559, 0.07152918652869951, 0.021037996037852797, 0.28611674611479804, 0.3155699405677919, 0.18934196434067516, 0.008415198415141118, 0.016830396830282236, 0.012622797622711677, 0.012622797622711677, 0.029453194452993915, 0.012622797622711677, 0.012622797622711677, 0.008415198415141118, 0.7147027001651641, 0.03761593158764022, 0.11284779476292066, 0.03761593158764022, 0.7566121676681099, 0.11349182515021648, 0.11349182515021648, 0.9155858614205735, 0.048188729548451235, 0.7460443219290093, 0.23447107260626007, 0.0728290948433065, 0.9225018680152157, 0.13007959196708943, 0.8325093885893724, 0.013007959196708944, 0.013007959196708944, 0.28885863540773143, 0.020632759671980815, 0.04126551934396163, 0.5777172708154629, 0.06189827901594244, 0.7243181965197517, 0.07243181965197518, 0.14486363930395035, 0.3079202750780164, 0.05865148096724122, 0.03910098731149415, 0.014662870241810304, 0.009775246827873537, 0.14174107900416627, 0.19550493655747073, 0.08308959803692506, 0.03421336389755738, 0.0782019746229883, 0.004887623413936768, 0.014662870241810304, 0.02443811706968384, 0.06927563650323915, 0.6927563650323915, 0.20782690950971744, 0.18975670404950704, 0.015385678706716786, 0.06667127439577274, 0.03077135741343357, 0.05641415525796155, 0.051285595689055954, 0.16411390620497904, 0.17949958491169585, 0.09744263180920631, 0.07179983396467833, 0.015385678706716786, 0.04615703612015036, 0.01025711913781119, 0.22176362641383937, 0.04264685123343065, 0.04264685123343065, 0.01705874049337226, 0.04264685123343065, 0.04264685123343065, 0.41793914208762034, 0.01705874049337226, 0.06823496197348904, 0.00852937024668613, 0.06823496197348904, 0.01705874049337226, 0.033436336069133585, 0.05015450410370038, 0.5182632090715705, 0.38451786479503625, 0.7765681190765533, 0.04087200626718702, 0.12261601880156106, 0.7522799599509058, 0.2228977659113795, 0.1378172924161925, 0.20672593862428876, 0.06890864620809625, 0.55126916966477, 0.021834335187184188, 0.09825450834232885, 0.33843219540135494, 0.06550300556155257, 0.2838463574333945, 0.032751502780776286, 0.14192317871669724, 0.24428886910442207, 0.02617380740404522, 0.008724602468015074, 0.14831824195625626, 0.15704284442427133, 0.02617380740404522, 0.01744920493603015, 0.2966364839125125, 0.01744920493603015, 0.05234761480809044, 0.03172569975778197, 0.6345139951556396, 0.19035419854669186, 0.047588549636672965, 0.047588549636672965, 0.03172569975778197, 0.015862849878890986, 0.6767942420490051, 0.13535884840980103, 0.20303827261470153, 0.10021546332591237, 0.7015082432813866, 0.04008618533036495, 0.10021546332591237, 0.04008618533036495, 0.148397548375546, 0.0890385290253276, 0.6529492128524024, 0.0296795096751092, 0.0593590193502184, 0.2035672722205806, 0.0678557574068602, 0.0678557574068602, 0.5428460592548816, 0.09319390039554758, 0.09319390039554758, 0.18638780079109515, 0.5591634023732854, 0.06712623673939898, 0.21816026940304667, 0.11747091429394821, 0.03356311836969949, 0.05034467755454923, 0.3020680653272954, 0.16781559184849743, 0.09223443729324818, 0.6456410610527372, 0.18446887458649636, 0.15912383402603147, 0.031824766805206295, 0.4137219684676818, 0.3818972016624755, 0.015912383402603147, 0.9645878077791975, 0.027559651650834214, 0.050939252568695866, 0.007277036081242266, 0.050939252568695866, 0.03638518040621133, 0.16009479378732985, 0.08004739689366493, 0.050939252568695866, 0.029108144324969065, 0.08004739689366493, 0.15281775770608758, 0.14554072162484533, 0.021831108243726798, 0.014554072162484532, 0.10187850513739173, 0.007277036081242266, 0.8501941542290463, 0.05667961028193642, 0.05667961028193642, 0.007693466867881826, 0.9462964247494646, 0.03846733433940913, 0.9313469837613001, 0.06107193336139673, 0.11239742034509617, 0.824247749197372, 0.037465806781698724, 0.9511964705527476, 0.02898105352611153, 0.05796210705222306, 0.7245263381527882, 0.02898105352611153, 0.11592421410444612, 0.044180376415834374, 0.2650822584950062, 0.044180376415834374, 0.6185252698216812, 0.08868650927209352, 0.24832222596186188, 0.09755516019930288, 0.017737301854418706, 0.017737301854418706, 0.2571908768890712, 0.2571908768890712, 0.008868650927209353, 0.2113153367323004, 0.10330972018023575, 0.032871274602802286, 0.014087689115486694, 0.032871274602802286, 0.15496458027035362, 0.046958963718288976, 0.042263067346460084, 0.15966047664218252, 0.09391792743657795, 0.009391792743657796, 0.046958963718288976, 0.042263067346460084, 0.09992690398368402, 0.21983918876410483, 0.07994152318694721, 0.35973685434126246, 0.039970761593473604, 0.08993421358531561, 0.06994883278857882, 0.029978071195105205, 0.009992690398368401, 0.14590302821367646, 0.2918060564273529, 0.4377090846410294, 0.1147252243109, 0.0472397982456647, 0.2294504486218, 0.10797668170437646, 0.07423396867175883, 0.1889591929826588, 0.020245627819570587, 0.14171939473699413, 0.040491255639141174, 0.040491255639141174, 0.30888004132775115, 0.6795360909210526, 0.028481561959802015, 0.04272234293970302, 0.3845010864573272, 0.11392624783920806, 0.32279103554442284, 0.037975415946402684, 0.009493853986600671, 0.061710050912904366, 0.031878004373572376, 0.19126802624143424, 0.04781700656035856, 0.5897430809110888, 0.09563401312071712, 0.015939002186786188, 0.569938339853458, 0.020354940709052072, 0.040709881418104145, 0.16283952567241658, 0.061064822127156214, 0.061064822127156214, 0.061064822127156214, 0.010177470354526036, 0.9915178610072753, 0.1620722718430923, 0.7563372686010974, 0.08254828051568609, 0.2201287480418296, 0.0275160935052287, 0.4952896830941166, 0.0275160935052287, 0.1100643740209148, 0.058512578134168866, 0.058512578134168866, 0.8045479493448219, 0.029256289067084433, 0.04388443360062665, 0.06315054084210896, 0.07016726760234329, 0.021050180280702987, 0.7718399436257762, 0.06315054084210896, 0.014033453520468657, 0.046987388397184075, 0.09397477679436815, 0.8457729911493134, 0.28790674177195513, 0.7066801843493443, 0.061844253218708886, 0.8039752918432155, 0.030922126609354443, 0.030922126609354443, 0.061844253218708886, 0.4930733762214506, 0.05330522986177844, 0.05330522986177844, 0.02665261493088922, 0.30650507170522606, 0.05330522986177844, 0.491479006192215, 0.07021128659888785, 0.09361504879851715, 0.023403762199629287, 0.046807524399258574, 0.023403762199629287, 0.25744138419592216, 0.24636614690953682, 0.07779983586616952, 0.06483319655514126, 0.4667990151970171, 0.03889991793308476, 0.025933278622056508, 0.06483319655514126, 0.012966639311028254, 0.18710876082044475, 0.3742175216408895, 0.09355438041022238, 0.2806631412306671, 0.07256405236431987, 0.1088460785464798, 0.7256405236431988, 0.07256405236431987, 0.8068958376419777, 0.16504687588131361, 0.0183385417645904, 0.9499480831104602, 0.12015178380455635, 0.12015178380455635, 0.2403035676091127, 0.4806071352182254, 0.15811610328926048, 0.15811610328926048, 0.07905805164463024, 0.5534063615124117, 0.2540023007889932, 0.10885812890956852, 0.5442906445478426, 0.03628604296985617, 0.009707681489734481, 0.06795377042814137, 0.012943575319645975, 0.8154452451376965, 0.01617946914955747, 0.04853840744867241, 0.01617946914955747, 0.006471787659822988, 0.009707681489734481, 0.45130933840550597, 0.01455836575501632, 0.036395914387540806, 0.021837548632524482, 0.021837548632524482, 0.10190856028511425, 0.05823346302006528, 0.09462937740760609, 0.036395914387540806, 0.08007101165258977, 0.00727918287750816, 0.05823346302006528, 0.021837548632524482, 0.942691289828469, 0.0314230429942823, 0.6116790564368304, 0.12410879405964675, 0.0443245693070167, 0.21275793267368015, 0.9683277501616391, 0.13471181881114094, 0.2081909927081269, 0.03673958694849298, 0.06123264491415498, 0.5021076882960708, 0.04898611593132398, 0.9700716796930833, 0.014698055752925503, 0.8379393941545199, 0.1289137529468492, 0.06921360832398163, 0.06921360832398163, 0.761349691563798, 0.2163461019129228, 0.721153673043076, 0.7524120532378934, 0.019292616749689576, 0.028938925124534363, 0.019292616749689576, 0.019292616749689576, 0.009646308374844788, 0.06752415862391352, 0.009646308374844788, 0.06752415862391352, 0.044279486697080955, 0.13283846009124287, 0.13283846009124287, 0.5756333270620524, 0.13283846009124287, 0.38643634912951713, 0.01610151454706321, 0.4991469509589596, 0.06440605818825285, 0.01610151454706321, 0.47809514504252276, 0.025162902370659095, 0.20130321896527276, 0.3019548284479091, 0.06541634371317935, 0.8504124682713315, 0.18190792751815424, 0.12127195167876949, 0.060635975839384744, 0.6063597583938475, 0.09427220653116054, 0.49156221976962283, 0.07070415489837041, 0.07743788393631044, 0.006733729037940038, 0.0875384774932205, 0.06733729037940038, 0.006733729037940038, 0.006733729037940038, 0.010100593556910058, 0.04040237422764023, 0.010100593556910058, 0.020201187113820115, 0.013467458075880076, 0.8412159056432641, 0.060086850403090294, 0.07818617382607934, 0.703675564434714, 0.15637234765215868, 0.039038714530724494, 0.7807742906144899, 0.15615485812289798, 0.36584370749383377, 0.6097395124897229, 0.3141595977837738, 0.07853989944594345, 0.549779296121604, 0.04014680258720765, 0.06691133764534608, 0.14051380905522678, 0.026764535058138434, 0.10036700646801913, 0.5219084336336994, 0.0066911337645346085, 0.0066911337645346085, 0.09367587270348451, 0.03656468614133695, 0.21938811684802167, 0.03656468614133695, 0.45705857676671185, 0.0731293722826739, 0.05484702921200542, 0.10969405842401084, 0.43303663924558455, 0.03608638660379871, 0.018043193301899355, 0.505209412453182, 0.8770523847548779, 0.09745026497276421, 0.42684037830243643, 0.5122084539629237, 0.8915129349472267, 0.05943419566314845, 0.10892053484664067, 0.10892053484664067, 0.16338080226996102, 0.10892053484664067, 0.05446026742332034, 0.38122187196324236, 0.006371803625383968, 0.9302833293060593, 0.006371803625383968, 0.019115410876151904, 0.006371803625383968, 0.006371803625383968, 0.006371803625383968, 0.006371803625383968, 0.735624667294337, 0.0891666263387075, 0.15604159609273813, 0.8235619818498738, 0.027917355316944874, 0.1116694212677795, 0.013958677658472437, 0.8042230238882098, 0.1774021376223992, 0.1086407258019679, 0.02172814516039358, 0.15209701612275506, 0.2172814516039358, 0.3911066128870844, 0.02172814516039358, 0.06518443548118075, 0.6600287524359373, 0.27790684313092096, 0.03473835539136512, 0.25489524416463655, 0.7222031917998036, 0.14694049546931304, 0.14694049546931304, 0.6612322296119086, 0.1478416328844788, 0.0739208164422394, 0.2217624493267182, 0.0739208164422394, 0.369604082211197, 0.1516000847513171, 0.1137000635634878, 0.5306002966296097, 0.1137000635634878, 0.1137000635634878, 0.013396000903480886, 0.05358400361392354, 0.013396000903480886, 0.08037600542088531, 0.013396000903480886, 0.1741480117452515, 0.08037600542088531, 0.468860031621831, 0.013396000903480886, 0.08037600542088531, 0.058381519220729615, 0.04743498436684281, 0.22622838698032727, 0.594761727061183, 0.051083829318138416, 0.007297689902591202, 0.007297689902591202, 0.5154988808042135, 0.3866241606031601, 0.03473281878568372, 0.8683204696420929, 0.06946563757136744, 0.06807037181730002, 0.03403518590865001, 0.017017592954325006, 0.06807037181730002, 0.021271991192906257, 0.29355347846210633, 0.06807037181730002, 0.029780787670068757, 0.03828958414723126, 0.029780787670068757, 0.12763194715743753, 0.11061435420311252, 0.09359676124878752, 0.5078511233849068, 0.016928370779496892, 0.10157022467698135, 0.016928370779496892, 0.35549578636943474, 0.7346080005097396, 0.16952492319455528, 0.05650830773151843, 0.05687835669218672, 0.4336974697779237, 0.11375671338437345, 0.01421958917304668, 0.00710979458652334, 0.27728198887441025, 0.04265876751914004, 0.049768562105663376, 0.12214975899349467, 0.24429951798698935, 0.24429951798698935, 0.3053743974837367, 0.9410055928498696, 0.043767701993017195, 0.07408992161809715, 0.07408992161809715, 0.07408992161809715, 0.51862945132668, 0.22226976485429142, 0.23386594875439973, 0.32048296681158484, 0.051970210834311054, 0.06063191264002956, 0.06063191264002956, 0.051970210834311054, 0.2165425451429627, 0.1574762026124122, 0.03149524052248244, 0.503923848359719, 0.03149524052248244, 0.2519619241798595, 0.2261569204321803, 0.007414980997776404, 0.051904866984434826, 0.01853745249444101, 0.1594220914521927, 0.12234718646331066, 0.1816670344455219, 0.048197376485546624, 0.06673482897998763, 0.02224494299332921, 0.09268726247220505, 0.33081729293974127, 0.006361871018071947, 0.012723742036143895, 0.006361871018071947, 0.1081518073072231, 0.1781323885060145, 0.07634245221686337, 0.012723742036143895, 0.06361871018071948, 0.01908561305421584, 0.07634245221686337, 0.04453309712650363, 0.057256839162647524, 0.35734332356056614, 0.09571696166800879, 0.07657356933440704, 0.05743017700080527, 0.08933583089014153, 0.006381130777867253, 0.06381130777867253, 0.1595282694466813, 0.05104904622293802, 0.03190565388933626, 0.7837922885447595, 0.19594807213618987, 0.013215444808616096, 0.6938108524523451, 0.07929266885169657, 0.006607722404308048, 0.19162394972493338, 0.006607722404308048, 0.47129056520764645, 0.51689932958258, 0.015202921458311177, 0.18396011015264674, 0.735840440610587, 0.09045435070442934, 0.18090870140885867, 0.018090870140885867, 0.2170904416906304, 0.4522717535221467, 0.036181740281771735, 0.00743201920365675, 0.17093644168410524, 0.2526886529243295, 0.535105382663286, 0.029728076814627, 0.060008966946274875, 0.04000597796418325, 0.28004184574928276, 0.6200926584448404, 0.08657392724608363, 0.08657392724608363, 0.34629570898433454, 0.34629570898433454, 0.16942384347820175, 0.035839659197311906, 0.026065206688954113, 0.0456141117056697, 0.06842116755850455, 0.09448637424745866, 0.1368423351170091, 0.08797007257522013, 0.1368423351170091, 0.04235596086955044, 0.07493746923074308, 0.006516301672238528, 0.06842116755850455, 0.3263343968156141, 0.07038585029356383, 0.01919614098915377, 0.05118970930441005, 0.006398713663051257, 0.2687459738481528, 0.10877813227187136, 0.03839228197830754, 0.05118970930441005, 0.025594854652205026, 0.03839228197830754, 0.9687158472408353, 0.28475874450029287, 0.03359513277812444, 0.003199536455059471, 0.03839443746071365, 0.011198377592708147, 0.014397914047767617, 0.15517751807038432, 0.19837126021368717, 0.11198377592708147, 0.07358933846636782, 0.012798145820237883, 0.015997682275297354, 0.015997682275297354, 0.028795828095535235, 0.7122378923190791, 0.04451486826994244, 0.17805947307976977, 0.07950965982459354, 0.15901931964918709, 0.31803863929837417, 0.39754829912296774, 0.9597509692661098, 0.7812743232078004, 0.13787193938961184, 0.045957313129870614, 0.9909427005866223, 0.9745490789349401, 0.06518581418004585, 0.7387725607071862, 0.0869144189067278, 0.06518581418004585, 0.00434572094533639, 0.03042004661735473, 0.00869144189067278, 0.2772319973450178, 0.62377199402629, 0.06930799933625445, 0.32561771475819445, 0.5582017967283334, 0.04651681639402778, 0.003857626429289702, 0.027003385005027913, 0.001928813214644851, 0.8255320558679963, 0.07136608894185949, 0.003857626429289702, 0.02121694536109336, 0.01735931893180366, 0.003857626429289702, 0.023145758575738213, 0.027663211265622868, 0.027663211265622868, 0.0829896337968686, 0.027663211265622868, 0.414948168984343, 0.055326422531245735, 0.318126929554663, 0.027663211265622868, 0.34757814346808874, 0.03475781434680887, 0.03475781434680887, 0.27806251477447097, 0.27806251477447097, 0.6397226071996372, 0.3198613035998186, 0.044308014206719266, 0.0664620213100789, 0.7421592379625477, 0.03323101065503945, 0.05538501775839908, 0.022154007103359633, 0.011077003551679817, 0.7818624262656402, 0.0459919074273906, 0.13797572228217178, 0.07313312132092686, 0.07313312132092686, 0.21939936396278056, 0.511931849246488, 0.07313312132092686, 0.06850724636833164, 0.753579710051648, 0.06850724636833164, 0.06850724636833164, 0.06460386963916794, 0.15074236249139186, 0.6675733196047354, 0.06460386963916794, 0.04306924642611196, 0.07357745112624779, 0.07357745112624779, 0.07357745112624779, 0.5150421578837345, 0.22073235337874336, 0.07996334446887175, 0.1599266889377435, 0.7196701002198458, 0.12811612743512593, 0.09608709557634446, 0.06405806371756297, 0.16014515929390744, 0.44840644602294083, 0.03202903185878148, 0.09608709557634446, 0.22784975895789433, 0.17088731921842074, 0.5696243973947358, 0.08367280279289072, 0.04183640139644536, 0.02091820069822268, 0.08367280279289072, 0.7530552251360164, 0.6265578556292026, 0.20885261854306753, 0.0642623441670977, 0.016065586041774424, 0.0642623441670977, 0.016065586041774424, 0.22214958921453326, 0.11107479460726663, 0.026135245789945086, 0.026135245789945086, 0.019601434342458816, 0.07187192592234899, 0.08493954881732153, 0.0914733602648078, 0.019601434342458816, 0.05227049157989017, 0.11107479460726663, 0.1372100403972117, 0.03266905723743136, 0.8855136276720362, 0.056763694081540784, 0.022705477632616315, 0.022705477632616315, 0.2106930092795677, 0.06116893817793901, 0.08835513292368968, 0.02718619474575067, 0.04757584080506367, 0.16311716847450403, 0.26506539877106905, 0.033982743432188336, 0.04757584080506367, 0.05437238949150134, 0.6953401084386037, 0.2528509485231286, 0.03160636856539108, 0.3166465984760047, 0.15832329923800234, 0.07916164961900117, 0.07916164961900117, 0.3166465984760047, 0.045329407566058785, 0.8703246252683287, 0.05439528907927054, 0.02719764453963527, 0.8513699817586131, 0.10642124771982664, 0.37099463863944787, 0.5564919579591717, 0.21699036921296455, 0.041728917156339335, 0.016691566862535735, 0.24202771950676813, 0.13353253490028588, 0.2253361526442324, 0.11684096803775014, 0.05173164856886491, 0.8794380256707035, 0.18985207451891079, 0.26579290432647507, 0.493615393749168, 0.057148076653150255, 0.11429615330630051, 0.6286288431846527, 0.11429615330630051, 0.06051328985221371, 0.7261594782265646, 0.12102657970442741, 0.12549447101444447, 0.07529668260866668, 0.050197788405777787, 0.15059336521733335, 0.07529668260866668, 0.15059336521733335, 0.025098894202888893, 0.025098894202888893, 0.3262856246375556, 0.907946999493875, 0.037185542641387376, 0.04028433786150299, 0.012395180880462459, 0.0030987952201156146, 0.6098979256135446, 0.050824827134462056, 0.050824827134462056, 0.07623724070169308, 0.025412413567231028, 0.050824827134462056, 0.050824827134462056, 0.025412413567231028, 0.2140839800988468, 0.0535209950247117, 0.6957729353212521, 0.4699836459073018, 0.060923805950946534, 0.45257684420703137, 0.7651669434994227, 0.20018902591554663, 0.022243225101727406, 0.013345935061036443, 0.7458990327308683, 0.11475369734321052, 0.05737684867160526, 0.02934033962580749, 0.20538237738065243, 0.49878577363872734, 0.17604203775484495, 0.05868067925161498, 0.9283021122889749, 0.1697300641403738, 0.7722717918387008, 0.01697300641403738, 0.00848650320701869, 0.01697300641403738, 0.00848650320701869, 0.04167572490073452, 0.12502717470220356, 0.04167572490073452, 0.7501630482132213, 0.2714547928358491, 0.06786369820896228, 0.5429095856716982, 0.7707815814552681, 0.08113490331108085, 0.040567451655540425, 0.040567451655540425, 0.0597677282616757, 0.2988386413083785, 0.1109972096288263, 0.0768442220507259, 0.0939207158397761, 0.0085382468945251, 0.0597677282616757, 0.0256147406835753, 0.2219944192576526, 0.0085382468945251, 0.0085382468945251, 0.0170764937890502, 0.006319980578757386, 0.10743966983887557, 0.025279922315029544, 0.006319980578757386, 0.006319980578757386, 0.8279174558172177, 0.012639961157514772, 0.006319980578757386, 0.17819055768881947, 0.217788459397446, 0.5939685256293982, 0.3707491147831693, 0.09268727869579232, 0.46343639347896165, 0.2564182036178792, 0.7179709701300618, 0.8288115840241393, 0.09209017600268216, 0.08207911096052012, 0.04103955548026006, 0.04103955548026006, 0.04103955548026006, 0.697672443164421, 0.08207911096052012, 0.15738390726563217, 0.2950948261230603, 0.44264223918459045, 0.0983649420410201, 0.12042912770217144, 0.12042912770217144, 0.04817165108086858, 0.16860077878304003, 0.07225747662130287, 0.4335448597278172, 0.7243935962297992, 0.0965858128306399, 0.0965858128306399, 0.04829290641531995, 0.10606776689015311, 0.053033883445076556, 0.053033883445076556, 0.053033883445076556, 0.29168635894792105, 0.026516941722538278, 0.3712371841155359, 0.7124343548928918, 0.25444084103317566, 0.13725892226520747, 0.8235535335912447, 0.06799928997121839, 0.23799751489926435, 0.6459932547265747, 0.07046218556768916, 0.08220588316230401, 0.011743697594614858, 0.575441182136128, 0.2231302542976823, 0.023487395189229716, 0.011743697594614858, 0.9931537148350814, 0.04169445082156637, 0.06775348258504535, 0.10423612705391593, 0.07296528893774115, 0.25537851128209405, 0.06775348258504535, 0.1407187715227865, 0.04690625717426217, 0.05211806352695796, 0.010423612705391593, 0.06775348258504535, 0.036482644468870576, 0.010423612705391593, 0.02605903176347898, 0.9607941422681681, 0.9474638156772334, 0.17058572651519263, 0.14621633701302225, 0.07310816850651113, 0.09747755800868149, 0.4630184005412371, 0.048738779004340746, 0.2536799941822262, 0.026987233423641087, 0.016192340054184653, 0.016192340054184653, 0.08096170027092325, 0.11874382706402077, 0.23209020744331332, 0.026987233423641087, 0.14033361380293363, 0.021589786738912868, 0.021589786738912868, 0.032384680108369306, 0.18326140960189533, 0.04229109452351431, 0.06766575123762289, 0.0028194063015676203, 0.05356871972978479, 0.11841506466584006, 0.045110500825081924, 0.13251209617367815, 0.14660912768151627, 0.08176278274546099, 0.062026938634487654, 0.0056388126031352405, 0.047929907126649546, 0.008458218904702861, 0.07845260124412679, 0.8629786136853946, 0.03362254339034005, 0.011207514463446682, 0.3510612382290645, 0.047258243607758675, 0.04050706594950744, 0.04050706594950744, 0.12827237550677356, 0.10801884253201983, 0.22954004038054215, 0.0337558882912562, 0.01350235531650248, 0.036310170170496876, 0.009077542542624219, 0.30863644644922344, 0.5264974674722047, 0.018155085085248438, 0.06354279779836954, 0.036310170170496876, 0.11787208638224159, 0.10040955506635393, 0.026193796973831462, 0.0829470237504663, 0.12223771921121349, 0.07421575809252248, 0.34488499348878093, 0.11787208638224159, 0.013096898486915731, 0.18006687819731323, 0.04501671954932831, 0.4951839150426114, 0.22508359774664152, 0.9653664531294156, 0.13723481822267705, 0.13723481822267705, 0.13723481822267705, 0.5489392728907082, 0.0245356529495952, 0.9323548120846176, 0.0245356529495952, 0.06173007046778936, 0.15432517616947342, 0.24692028187115744, 0.4938405637423149, 0.03086503523389468, 0.08539762393865175, 0.08539762393865175, 0.1707952478773035, 0.5977833675705622, 0.03245053472432405, 0.35695588196756456, 0.09735160417297214, 0.5192085555891848, 0.7734183252362277, 0.014747383320182307, 0.18680018872230922, 0.011470187026808461, 0.013108785173495384, 0.0070581666153644185, 0.7834564943054504, 0.11998883246119511, 0.04234899969218651, 0.03176174976913988, 0.014116333230728837, 0.16491562275124105, 0.08245781137562053, 0.16491562275124105, 0.1236867170634308, 0.41228905687810263, 0.07799662414429644, 0.03899831207214822, 0.03899831207214822, 0.7409679293708161, 0.03899831207214822, 0.894998435683464, 0.03122087566337665, 0.04162783421783554, 0.02081391710891777, 0.9053508671281103, 0.05748259473829272, 0.01437064868457318, 0.6573122912746031, 0.32865614563730156, 0.14598551132018522, 0.21897826698027784, 0.07299275566009261, 0.5839420452807409, 0.2553346016070139, 0.5957807370830324, 0.08511153386900462, 0.2862715742302751, 0.05725431484605502, 0.08588147226908252, 0.05725431484605502, 0.02862715742302751, 0.31489873165330257, 0.11450862969211004, 0.08269202636370167, 0.08269202636370167, 0.041346013181850834, 0.7442282372733151, 0.2373231139089928, 0.026369234878776977, 0.026369234878776977, 0.0725153959166367, 0.0593307784772482, 0.17140002671205035, 0.1911769528711331, 0.11206924823480216, 0.0593307784772482, 0.006592308719694244, 0.03296154359847122, 0.6672733692689935, 0.305833627581622, 0.9713864534850962, 0.05380135237912652, 0.8070202856868978, 0.05380135237912652, 0.03077074038186068, 0.0043958200545515256, 0.06154148076372136, 0.40881126507329185, 0.44837364556425563, 0.026374920327309155, 0.0043958200545515256, 0.008791640109103051, 0.03650515805156717, 0.07301031610313434, 0.7666083190829106, 0.03650515805156717, 0.07301031610313434, 0.17507938887045077, 0.007958154039565945, 0.047748924237395664, 0.23874462118697834, 0.36607508582003345, 0.07958154039565944, 0.007958154039565945, 0.047748924237395664, 0.01591630807913189, 0.032003068968107645, 0.16001534484053823, 0.032003068968107645, 0.06400613793621529, 0.6080583103940453, 0.06400613793621529, 0.6835942946914054, 0.15436000202709155, 0.044102857722026156, 0.11025714430506538, 0.05375570925034798, 0.05375570925034798, 0.07764713558383596, 0.04180999608360398, 0.3165613989187159, 0.04180999608360398, 0.05972856583371997, 0.16723998433441592, 0.16126712775104393, 0.005972856583371997, 0.023891426333487988, 0.08620393299202991, 0.34481573196811965, 0.4310196649601496, 0.10690871851547963, 0.16036307777321945, 0.5879979518351379, 0.10690871851547963, 0.10999958848757872, 0.03826072643046216, 0.21521658617134967, 0.07173886205711656, 0.04782590803807771, 0.08608663446853987, 0.052608498841885475, 0.19130363215231083, 0.07173886205711656, 0.043043317234269934, 0.00956518160761554, 0.03826072643046216, 0.023912954019038854, 0.6493670618674812, 0.08117088273343515, 0.1623417654668703, 0.04058544136671757, 0.9881871401462959, 0.9778879241342139, 0.06405960485739137, 0.06405960485739137, 0.6405960485739137, 0.06405960485739137, 0.06405960485739137, 0.029295020229410468, 0.5273103641293884, 0.03906002697254729, 0.029295020229410468, 0.009765006743136823, 0.13671009440391552, 0.03906002697254729, 0.009765006743136823, 0.009765006743136823, 0.10741507417450505, 0.03906002697254729, 0.019530013486273645, 0.8205707474921817, 0.048268867499540104, 0.048268867499540104, 0.048268867499540104, 0.22319224493165035, 0.06792807454441532, 0.05822406389521313, 0.029112031947606566, 0.12615213843962844, 0.3396403727220766, 0.00970401064920219, 0.04852005324601094, 0.00970401064920219, 0.08733609584281969, 0.054235127875847146, 0.16270538362754144, 0.18982294756546503, 0.054235127875847146, 0.40676345906885364, 0.027117563937923573, 0.08135269181377072, 0.1457743933897598, 0.04859146446325327, 0.5830975735590392, 0.1457743933897598, 0.21844741539625767, 0.03766334748211339, 0.007532669496422679, 0.2561107628783711, 0.030130677985690715, 0.05272868647495875, 0.210914745899835, 0.03766334748211339, 0.05272868647495875, 0.09039203395707214, 0.676020042248009, 0.13520400844960181, 0.06760200422480091, 0.053347021647998406, 0.16004106494399523, 0.053347021647998406, 0.6401642597759809, 0.053347021647998406, 0.39815074312505233, 0.5574110403750733, 0.013271691437501744, 0.013271691437501744, 0.484769502856758, 0.03547093923342132, 0.01182364641114044, 0.07094187846684263, 0.15370740334482572, 0.08276552487798308, 0.04729458564456176, 0.08276552487798308, 0.01182364641114044, 0.01182364641114044, 0.01182364641114044, 0.8740420694757179, 0.067234005344286, 0.5200423373802266, 0.023638288062737576, 0.14182972837642546, 0.023638288062737576, 0.05909572015684394, 0.14182972837642546, 0.07091486418821273, 0.011819144031368788, 0.035186895445278955, 0.14074758178111582, 0.6509575657376606, 0.017593447722639478, 0.07037379089055791, 0.07037379089055791, 0.7184388618615302, 0.0435417492037291, 0.2177087460186455, 0.6864959219908873, 0.23763320376607638, 0.05280737861468364, 0.1733408771281604, 0.8233691663587619, 0.2319919246136498, 0.6959757738409494, 0.8773318033521356, 0.07311098361267795, 0.028193812811334207, 0.06578556322644648, 0.3007340033208982, 0.35712162894356664, 0.01879587520755614, 0.056387625622668414, 0.10337731364155876, 0.056387625622668414, 0.0635757459979761, 0.0635757459979761, 0.19072723799392827, 0.24091861641338308, 0.24091861641338308, 0.043499194630194166, 0.006692183789260641, 0.043499194630194166, 0.04015310273556385, 0.020076551367781924, 0.0033460918946303206, 0.026768735157042565, 0.016730459473151604, 0.07846285142644796, 0.2353885542793439, 0.5492399599851358, 0.14625378705256073, 0.21938068057884108, 0.5118882546839625, 0.17660066677287134, 0.7064026670914854, 0.07064026670914854, 0.17494548994828482, 0.6997819597931393, 0.0999688513990199, 0.024992212849754974, 0.9508745600743612, 0.15302682700769316, 0.6121073080307726, 0.20403576934359088, 0.9920776851898274, 0.28318225501419775, 0.0386157620473906, 0.1544630481895624, 0.0772315240947812, 0.025743841364927068, 0.0386157620473906, 0.06435960341231767, 0.25743841364927067, 0.012871920682463534, 0.051487682729854135, 0.483913254397623, 0.08201919566061407, 0.04921151739636844, 0.008201919566061406, 0.10662495435879829, 0.09842303479273688, 0.09022111522667547, 0.02460575869818422, 0.04921151739636844, 0.008201919566061406, 0.03122706150723064, 0.1561353075361532, 0.03122706150723064, 0.09368118452169191, 0.12490824602892256, 0.5308600456229209, 0.01906068197072993, 0.17154613773656938, 0.7624272788291973, 0.03812136394145986, 0.15144690342118522, 0.8077168182463212, 0.6573122912741786, 0.3286561456370893, 0.04270516382084734, 0.17082065528338936, 0.128115491462542, 0.04270516382084734, 0.5551671296710153, 0.04270516382084734, 0.12252819875685547, 0.18379229813528322, 0.12252819875685547, 0.5513768944058496, 0.8173154152087273, 0.13077046643339638, 0.049061160108271024, 0.24530580054135512, 0.049061160108271024, 0.14718348032481307, 0.49061160108271024, 0.8459390018488809, 0.08056561922370295, 0.06042421441777721, 0.3563095719027234, 0.011019883667094537, 0.020203120056339986, 0.0018366472778490895, 0.014693178222792716, 0.020203120056339986, 0.025713061889887253, 0.13223860400513446, 0.21488773150834348, 0.04407953466837815, 0.0881590693367563, 0.020203120056339986, 0.025713061889887253, 0.011019883667094537, 0.012856530944943627, 0.7960902994468522, 0.18954530939210765, 0.19005546679205795, 0.06335182226401932, 0.5701664003761739, 0.12670364452803864, 0.09352068636921067, 0.280562059107632, 0.561124118215264, 0.0498042619840291, 0.6225532748003637, 0.1494127859520873, 0.1494127859520873, 0.09646826522899883, 0.021437392273110853, 0.008574956909244341, 0.010718696136555426, 0.019293653045799768, 0.017149913818488682, 0.0578809591373993, 0.1436305282298427, 0.1564929635937092, 0.1886490520033755, 0.22080514041304178, 0.0021437392273110853, 0.021437392273110853, 0.008574956909244341, 0.03001234918235519, 0.13563037792570404, 0.06259863596570955, 0.09389795394856433, 0.04173242397713971, 0.04173242397713971, 0.08346484795427941, 0.06259863596570955, 0.05216552997142463, 0.10433105994284926, 0.2503945438628382, 0.05216552997142463, 0.010433105994284927, 0.8694362698762993, 0.11065552525698355, 0.01580793217956908, 0.8349095128861069, 0.029818196888789533, 0.11927278755515813, 0.14874917224411752, 0.055780939591544065, 0.11156187918308813, 0.11156187918308813, 0.06817670394522053, 0.07437458612205876, 0.00619788217683823, 0.02479152870735292, 0.08057246829889698, 0.03098941088419115, 0.01859364653051469, 0.01859364653051469, 0.1053639970062499, 0.06817670394522053, 0.07437458612205876, 0.8584330839296975, 0.11052786488365204, 0.007368524325576803, 0.007368524325576803, 0.011052786488365204, 0.8815061730913042, 0.0964147376818614, 0.013773533954551628, 0.8603082784895063, 0.04196625748729299, 0.06294938623093949, 0.5166275700246712, 0.013134599237915368, 0.19264078882275876, 0.026269198475830736, 0.17074979009289978, 0.061294796443605054, 0.02189099872985895, 0.5630427046864787, 0.009081333946556107, 0.018162667893112213, 0.02724400183966832, 0.06356933762589274, 0.09989467341211718, 0.19978934682423435, 0.009081333946556107, 0.1400923796856553, 0.08405542781139318, 0.028018475937131058, 0.08405542781139318, 0.08405542781139318, 0.04202771390569659, 0.014009237968565529, 0.028018475937131058, 0.4202771390569659, 0.056036951874262116, 0.014009237968565529, 0.014009237968565529, 0.050626524013008524, 0.21938160405637025, 0.03375101600867235, 0.016875508004336175, 0.18563058804769791, 0.1350040640346894, 0.286883636073715, 0.016875508004336175, 0.050626524013008524, 0.8431910311603673, 0.08875695064845972, 0.25055269849648837, 0.06263817462412209, 0.031319087312061046, 0.5637435716170988, 0.06263817462412209, 0.25691721983096727, 0.17127814655397816, 0.42819536638494543, 0.06415383511176276, 0.4490768457823393, 0.12830767022352552, 0.3207691755588138, 0.20770797771654292, 0.5815823376063202, 0.16616638217323434, 0.7670774557645791, 0.10227699410194388, 0.05113849705097194, 0.18358268494913, 0.05648697998434769, 0.05648697998434769, 0.028243489992173847, 0.028243489992173847, 0.6072350348317377, 0.028243489992173847, 0.8023114490152995, 0.07293740445593631, 0.07293740445593631, 0.2847600646507414, 0.11725414426795235, 0.10050355222967343, 0.04187648009569726, 0.016750592038278906, 0.06700236815311562, 0.008375296019139453, 0.10887884824881289, 0.10050355222967343, 0.04187648009569726, 0.10050355222967343, 0.30688074955552236, 0.031517482386783376, 0.014929333762160548, 0.013270518899698264, 0.02156459321200968, 0.029858667524321095, 0.02156459321200968, 0.09952889174773698, 0.22394000643240822, 0.08294074312311416, 0.06801140936095361, 0.001658814862462283, 0.011611704037235982, 0.04312918642401936, 0.028199852661858812, 0.055670684169752425, 0.11134136833950485, 0.055670684169752425, 0.07157659393253883, 0.4930832026463786, 0.11929432322089804, 0.015905909762786406, 0.007952954881393203, 0.03976477440696602, 0.03181181952557281, 0.1859529571525622, 0.7438118286102487, 0.3421182970650635, 0.05973494075739204, 0.07059583907691787, 0.03801314411834039, 0.010860898319525825, 0.05430449159762913, 0.1683439239526503, 0.1737743731124132, 0.0054304491597629125, 0.03258269495857748, 0.05430449159762913, 0.45473467827906344, 0.02115045015251458, 0.07402657553380103, 0.0951770256863156, 0.03172567522877187, 0.0951770256863156, 0.0951770256863156, 0.06345135045754374, 0.04230090030502916, 0.02115045015251458, 0.2059194088565281, 0.03782193223895414, 0.07564386447790827, 0.08825117522422632, 0.03782193223895414, 0.07144142756246893, 0.02521462149263609, 0.12187067054774112, 0.021012184577196745, 0.016809747661757395, 0.19331209811021005, 0.05042924298527218, 0.004202436915439349, 0.03782193223895414, 0.012607310746318046, 0.3592617761059964, 0.053223966830517985, 0.03326497926907374, 0.006652995853814748, 0.1264069212224802, 0.006652995853814748, 0.1264069212224802, 0.09314194195340648, 0.10644793366103597, 0.006652995853814748, 0.053223966830517985, 0.026611983415258993, 0.8323701987003135, 0.02204954168742552, 0.12127247928084038, 0.02204954168742552, 0.1165275013280218, 0.8545350097388265, 0.014213463270275761, 0.014213463270275761, 0.0710673163513788, 0.08528077962165456, 0.11370770616220609, 0.04264038981082728, 0.48325775118937586, 0.028426926540551522, 0.08528077962165456, 0.04264038981082728, 0.22301628660439288, 0.04054841574625325, 0.04054841574625325, 0.0810968314925065, 0.2432904944775195, 0.36493574171627924, 0.3024990111264306, 0.06932269004980701, 0.02520825092720255, 0.056718564586205736, 0.009453094097700955, 0.03781237639080382, 0.028359282293102868, 0.10398403507471052, 0.11973919190421212, 0.0504165018544051, 0.01890618819540191, 0.06302062731800638, 0.06302062731800638, 0.05356753322030542, 0.5307822414103366, 0.010615644828206731, 0.05307822414103366, 0.042462579312826924, 0.09554080345386058, 0.05307822414103366, 0.042462579312826924, 0.08492515862565385, 0.021231289656413462, 0.06369386896924038, 0.01779871538225936, 0.01779871538225936, 0.03559743076451872, 0.7297473306726338, 0.05339614614677808, 0.05339614614677808, 0.01779871538225936, 0.01779871538225936, 0.05339614614677808, 0.908874634394222, 0.03245980837122221, 0.03245980837122221, 0.03245980837122221, 0.05065092748876938, 0.32078920742887274, 0.05065092748876938, 0.405207419910155, 0.10130185497753876, 0.05065092748876938, 0.06917554751847955, 0.7194256941921873, 0.01383510950369591, 0.1383510950369591, 0.01383510950369591, 0.02767021900739182, 0.01383510950369591, 0.9856840169351611, 0.009569747737234574, 0.7002342524313945, 0.11670570873856574, 0.11670570873856574, 0.32092187204823786, 0.029174715640748895, 0.029174715640748895, 0.6126690284557268, 0.06428207463938374, 0.12856414927876747, 0.7713848956726048, 0.45354973501235774, 0.08063106400219694, 0.11086771300302078, 0.07055218100192232, 0.010078883000274617, 0.03023664900082385, 0.11086771300302078, 0.08063106400219694, 0.03023664900082385, 0.020157766000549235, 0.7033827902646494, 0.15630728672547767, 0.07815364336273883, 0.4767769547775251, 0.04334335952522955, 0.0866867190504591, 0.07585087916915172, 0.06501503928784433, 0.032507519643922164, 0.0866867190504591, 0.05417919940653694, 0.07585087916915172, 0.1664170719354124, 0.09245392885300688, 0.018490785770601377, 0.055472357311804124, 0.009245392885300689, 0.027736178655902062, 0.07396314308240551, 0.0832085359677062, 0.027736178655902062, 0.027736178655902062, 0.20339864347661513, 0.10169932173830756, 0.09245392885300688, 0.009245392885300689, 0.1111651972780479, 0.29644052607479443, 0.5558259863902395, 0.0529442310033649, 0.017648077001121632, 0.17648077001121631, 0.5294423100336489, 0.2117769240134596, 0.009030022251732158, 0.027090066755196478, 0.009030022251732158, 0.03160507788106256, 0.6727366577540458, 0.10836026702078591, 0.13996534490184845, 0.7445770221525537, 0.23268031942267303, 0.06385144336820703, 0.12770288673641406, 0.07297307813509374, 0.5016899121787695, 0.009121634766886717, 0.018243269533773435, 0.2006759648715078, 0.08301384076165927, 0.16602768152331854, 0.0355773603264254, 0.011859120108808466, 0.16602768152331854, 0.059295600544042336, 0.09487296087046773, 0.15416856141451007, 0.22532328206736088, 0.23828615403943593, 0.6127358246728353, 0.1361635165939634, 0.7286137605571114, 0.12143562675951855, 0.060717813379759275, 0.907713783317492, 0.03491206858913431, 0.03491206858913431, 0.037887543435025456, 0.5304256080903564, 0.37887543435025456, 0.1963961735616402, 0.3436933037328704, 0.14729713017123017, 0.29459426034246033, 0.015135185376744749, 0.037837963441861876, 0.052973148818606625, 0.15891944645581987, 0.12864907570233036, 0.18918981720930936, 0.0075675926883723744, 0.3329740782883845, 0.022702778065117123, 0.04540555613023425, 0.02709644388349343, 0.009032147961164477, 0.7316039848543225, 0.21677155106794743, 0.051827082015973996, 0.051827082015973996, 0.77740623023961, 0.051827082015973996, 0.2441653146799544, 0.1220826573399772, 0.0610413286699886, 0.0610413286699886, 0.4272893006899202, 0.20448890248342483, 0.7668333843128431, 0.17047776297582654, 0.17047776297582654, 0.5966721704153929, 0.5504895740718125, 0.43636368676424164, 0.013426574977361282, 0.6209137494182604, 0.3280299053530432, 0.011715353762608688, 0.011715353762608688, 0.011715353762608688, 0.8092950514319556, 0.15174282214349166, 0.9148130844150874, 0.059020198994521766, 0.19350112791290908, 0.5805033837387272, 0.12900075194193938, 0.1400112377658173, 0.0962577259639994, 0.043753511801817906, 0.043753511801817906, 0.2887731778919982, 0.16626334484690805, 0.017501404720727164, 0.026252107081090745, 0.008750702360363582, 0.16626334484690805, 0.01779246281255071, 0.6227361984392749, 0.011861641875033805, 0.0059308209375169025, 0.26688694218826065, 0.07710067218771974, 0.08511770722583217, 0.8511770722583216, 0.9947997359758376, 0.955285651067563, 0.838395855612412, 0.04657754753402289, 0.04657754753402289, 0.09322704374600815, 0.8390433937140733, 0.028235709791391523, 0.04363700604124145, 0.736695337284488, 0.1745480241649658, 0.007700648124924961, 0.005133765416616641, 0.19617824493405583, 0.20053776148814595, 0.10898791385225323, 0.06539274831135194, 0.0741117814195322, 0.23105437736677686, 0.04795468209499142, 0.00435951655409013, 0.00871903310818026, 0.05667371520317168, 0.00435951655409013, 0.22786851116118714, 0.6266384056932647, 0.056967127790296786, 0.056967127790296786, 0.24931848410234617, 0.05835113457714485, 0.037132540185455816, 0.037132540185455816, 0.06896043177298937, 0.06365578317506711, 0.015913945793766777, 0.23870918690650164, 0.12200691775221195, 0.06365578317506711, 0.031827891587533554, 0.005304648597922259, 0.005304648597922259, 0.2219605957574371, 0.07398686525247904, 0.07398686525247904, 0.5179080567673532, 0.03970321166855528, 0.9131738683767715, 0.13039365616901158, 0.12788608585806904, 0.14794664834560928, 0.09278010150487362, 0.035105984353195424, 0.2557721717161381, 0.01003028124377012, 0.07773467963921844, 0.06519682808450579, 0.022568132798482774, 0.00250757031094253, 0.015045421865655181, 0.0075227109328275905, 0.01003028124377012, 0.09280808638190617, 0.05800505398869136, 0.09280808638190617, 0.3132272915389333, 0.023202021595476543, 0.4060353779208395, 0.8713515654736462, 0.013614868210525722, 0.04084460463157717, 0.013614868210525722, 0.04084460463157717, 0.26990961112577366, 0.29444684850084396, 0.12268618687535165, 0.29444684850084396, 0.017629829153240607, 0.20715049255057713, 0.013222371864930456, 0.08374168847789289, 0.07933423118958273, 0.19392812068564666, 0.2468176081453685, 0.048482030171411665, 0.048482030171411665, 0.013222371864930456, 0.004407457288310152, 0.013222371864930456, 0.013222371864930456, 0.017629829153240607, 0.004407457288310152, 0.972120327765892, 0.04291260058455441, 0.25747560350732646, 0.4505823061378213, 0.08582520116910881, 0.12873780175366323, 0.9617234877342378, 0.10389583281339822, 0.025973958203349554, 0.40692534518580964, 0.03463194427113274, 0.025973958203349554, 0.23376562383014599, 0.04328993033891592, 0.03463194427113274, 0.07792187461004865, 0.008657986067783185, 0.0294829588111966, 0.0884488764335898, 0.0294829588111966, 0.29482958811196597, 0.0589659176223932, 0.4717273409791456, 0.6943734662025973, 0.28932227758441553, 0.14806337607914952, 0.023378427801970976, 0.0389640463366183, 0.007792809267323659, 0.10130652047520756, 0.04675685560394195, 0.19482023168309148, 0.29612675215829903, 0.10130652047520756, 0.015585618534647318, 0.0389640463366183, 0.8028793615184001, 0.13963119330754784, 0.03490779832688696, 0.025313598570959366, 0.12656799285479683, 0.7087807599868623, 0.05062719714191873, 0.05062719714191873, 0.037655259817843886, 0.7154499365390339, 0.18827629908921945, 0.037655259817843886, 0.11881088078150752, 0.14257305693780903, 0.5940544039075376, 0.04752435231260301, 0.07128652846890451, 0.052671927063076385, 0.15801578118922915, 0.6583990882884548, 0.13167981765769096, 0.8921305094615979, 0.05980763191921326, 0.014951907979803315, 0.034887785286207736, 0.7669400765077395, 0.07933862860424891, 0.1322310476737482, 0.07131555095486099, 0.035657775477430494, 0.035657775477430494, 0.035657775477430494, 0.10697332643229149, 0.6061821831163184, 0.07131555095486099, 0.8881821474479491, 0.05224600867340877, 0.05224600867340877, 0.9075057318764593, 0.08507866236341806, 0.09210456343076893, 0.05372766200128188, 0.015350760571794823, 0.7368365074461515, 0.10745532400256376, 0.0694513634147375, 0.6250622707326374, 0.20835409024421248, 0.6771555517960061, 0.13543111035920122, 0.13543111035920122, 0.13921489907364606, 0.08352893944418763, 0.02784297981472921, 0.05568595962945842, 0.529016616479855, 0.11137191925891685, 0.6655380304138527, 0.035028317390202776, 0.1751415869510139, 0.07005663478040555, 0.20153350974822773, 0.10851804371058417, 0.6666108399364455, 0.59263159227812, 0.06862050015851916, 0.03742936372282863, 0.29319668249549097, 0.2862553370079776, 0.6542979131610918, 0.040893619572568235, 0.3431728790200077, 0.5490766064320123, 0.06863457580400154, 0.3478338351987883, 0.03518941523411866, 0.006767195237330511, 0.01759470761705933, 0.06767195237330512, 0.09068041618022886, 0.07579258665810173, 0.09338729427516106, 0.018948146664525434, 0.008120634284796613, 0.010827512379728819, 0.15835236855353396, 0.06767195237330512, 0.8184099350513626, 0.07794380333822501, 0.038971901669112505, 0.038971901669112505, 0.09791411240511645, 0.7180368243041872, 0.0652760749367443, 0.03263803746837215, 0.03263803746837215, 0.08076225505420481, 0.09422263089657228, 0.013460375842367468, 0.05384150336946987, 0.13460375842367467, 0.006730187921183734, 0.013460375842367468, 0.05384150336946987, 0.06730187921183733, 0.34996977190155415, 0.05384150336946987, 0.026920751684734935, 0.0605716912906536, 0.12976499592510785, 0.051905998370043144, 0.6228719804405177, 0.181670994295151, 0.10326802804973949, 0.7745102103730461, 0.10326802804973949, 0.09596735921345202, 0.06397823947563468, 0.6077932750185294, 0.12795647895126935, 0.06397823947563468, 0.02759874549578905, 0.24838870946210145, 0.6899686373947262, 0.2113387011295685, 0.6692392202436337, 0.07044623370985617, 0.035223116854928085, 0.8853145891187705, 0.0610561785599152, 0.0305280892799576, 0.026146787144501377, 0.967431124346551, 0.9413969893753015, 0.06354425279568518, 0.698986780752537, 0.19063275838705554, 0.9151520413224294, 0.04575760206612147, 0.30520312152213086, 0.13616754652525836, 0.04695432638802013, 0.009390865277604027, 0.004695432638802013, 0.061040624304426166, 0.09860408541484228, 0.09390865277604026, 0.03286802847161409, 0.17373100763567448, 0.028172595832812078, 0.009390865277604027, 0.39882744599593156, 0.48836013795420186, 0.048836013795420186, 0.05697534942799022, 0.048956903013211955, 0.29374141807927173, 0.048956903013211955, 0.09791380602642391, 0.07343535451981793, 0.14687070903963587, 0.26926296657266574, 0.01565664486396879, 0.23484967295953185, 0.01565664486396879, 0.10959651404778153, 0.10959651404778153, 0.09393986918381274, 0.06262657945587516, 0.3444461870073134, 0.04922850203728952, 0.09845700407457904, 0.6891990285220533, 0.09845700407457904, 0.14484780490419927, 0.34401353664747325, 0.06035325204341636, 0.03017662602170818, 0.012070650408683272, 0.03017662602170818, 0.04828260163473309, 0.03621195122604982, 0.024141300817366543, 0.006035325204341636, 0.006035325204341636, 0.12674182929117436, 0.066388577247758, 0.07242390245209963, 0.06856127915529701, 0.06856127915529701, 0.13712255831059403, 0.17140319788824254, 0.06856127915529701, 0.20568383746589106, 0.27424511662118806, 0.08488339987028942, 0.08488339987028942, 0.5941837990920259, 0.08488339987028942, 0.07316790932943892, 0.6585111839649503, 0.14633581865887785, 0.07316790932943892, 0.7959807619655318, 0.14472377490282395, 0.10341474186109721, 0.1292684273263715, 0.025853685465274303, 0.012926842732637151, 0.5687810802360347, 0.14219527005900867, 0.012926842732637151, 0.9802161784842943, 0.3366226826886253, 0.005429398107881053, 0.021717592431524213, 0.08687036972609685, 0.021717592431524213, 0.04886458297092948, 0.1737407394521937, 0.0814409716182158, 0.09772916594185896, 0.05429398107881053, 0.021717592431524213, 0.021717592431524213, 0.027146990539405266, 0.9646814083776147, 0.026796705788267077, 0.9830949780683647, 0.08261825784256537, 0.04130912892128268, 0.09638796748299293, 0.04130912892128268, 0.20654564460641342, 0.006884854820213781, 0.11704253194363427, 0.15146680604470317, 0.20654564460641342, 0.02065456446064134, 0.02065456446064134, 0.4979412489363955, 0.23901179948946985, 0.00995882497872791, 0.05975294987236746, 0.05975294987236746, 0.07967059982982327, 0.03983529991491164, 0.004187465421666138, 0.02093732710833069, 0.09631170469832118, 0.6867443291532466, 0.029312257951662965, 0.06699944674665821, 0.02093732710833069, 0.02093732710833069, 0.008374930843332276, 0.02093732710833069, 0.02093732710833069, 0.041912304450211976, 0.4610353489523317, 0.18161998595091855, 0.18161998595091855, 0.11176614520056527, 0.013970768150070659, 0.18375876135204058, 0.18375876135204058, 0.06125292045068019, 0.5512762840561217, 0.808190725908542, 0.1616381451817084, 0.15676701946127675, 0.12192990402543748, 0.6619051932809463, 0.034837115435839276, 0.029163799822527557, 0.37426876438910367, 0.014581899911263779, 0.131237099201374, 0.08263076616382808, 0.08749139946758266, 0.2187284986689567, 0.029163799822527557, 0.019442533215018373, 0.019442533215018373, 0.20302530355468867, 0.05075632588867217, 0.05075632588867217, 0.5583195847753939, 0.10151265177734434, 0.05075632588867217, 0.05995927694748034, 0.05995927694748034, 0.05995927694748034, 0.5396334925273231, 0.05995927694748034, 0.11991855389496069, 0.3006025617333263, 0.6012051234666526, 0.06012051234666526, 0.26202255538490987, 0.091403216994736, 0.024374191198596264, 0.04265483459754346, 0.15233869499122665, 0.054841930196841596, 0.012187095599298132, 0.08530966919508692, 0.2010870773884192, 0.036561286797894395, 0.006093547799649066, 0.024374191198596264, 0.18611477274795976, 0.07282751977094078, 0.016183893282431284, 0.008091946641215642, 0.17802282610674414, 0.16183893282431286, 0.23466645259525362, 0.048551679847293853, 0.07282751977094078, 0.016183893282431284, 0.20014682694424432, 0.04002936538884886, 0.24017619233309317, 0.5203817500550352, 0.9746678520962311, 0.08328940247558818, 0.91618342723147, 0.04548885955316811, 0.5155404082692385, 0.03790738296097342, 0.09097771910633622, 0.03790738296097342, 0.053070336145362794, 0.13646657865950432, 0.03032590636877874, 0.04548885955316811, 0.0296114231265908, 0.7254798666014747, 0.074028557816477, 0.0148057115632954, 0.1332514040696586, 0.0148057115632954, 0.20989995241713752, 0.04197999048342751, 0.08395998096685502, 0.08395998096685502, 0.5037598858011301, 0.04197999048342751, 0.8364870703772936, 0.11949815291104196, 0.4534761244074844, 0.012956460697356696, 0.006478230348678348, 0.06478230348678349, 0.025912921394713392, 0.032391151743391744, 0.11660814627621027, 0.11012991592753192, 0.09069522488149688, 0.012956460697356696, 0.006478230348678348, 0.06478230348678349, 0.6584147770137119, 0.32920738850685594, 0.2421275760496447, 0.00474759953038519, 0.01424279859115557, 0.0902043910773186, 0.00474759953038519, 0.17091358309386684, 0.21838957839771875, 0.10919478919885937, 0.03798079624308152, 0.02373799765192595, 0.08545679154693342, 0.06430410154034956, 0.45012871078244693, 0.06430410154034956, 0.3858246092420974, 0.0830730645617577, 0.9138037101793346, 0.03141922188452479, 0.06283844376904958, 0.7854805471131198, 0.09425766565357438, 0.7720959436066648, 0.04825599647541655, 0.04825599647541655, 0.0965119929508331, 0.8283421050468596, 0.14405949652988861, 0.06380645980215667, 0.06380645980215667, 0.06380645980215667, 0.06380645980215667, 0.06380645980215667, 0.6380645980215668, 0.05687295674463034, 0.05687295674463034, 0.17061887023389102, 0.2843647837231517, 0.42654717558472754, 0.1502650059721413, 0.14087344309888247, 0.00939156287325883, 0.01878312574651766, 0.5634937723955299, 0.05634937723955299, 0.05634937723955299, 0.20684920906886514, 0.10342460453443257, 0.5688353249393792, 0.10342460453443257, 0.06145026268989385, 0.049928338435538754, 0.030725131344946924, 0.36102029330312635, 0.019203207090591826, 0.34949836904877124, 0.023043848508710194, 0.057609621271775484, 0.019203207090591826, 0.007681282836236731, 0.0038406414181183656, 0.011521924254355097, 0.08083972969624117, 0.05389315313082745, 0.781450720396998, 0.05389315313082745, 0.3466856793635733, 0.5546970869817174, 0.06933713587271467, 0.034668567936357336, 0.5067242064142748, 0.04312546437568297, 0.1725018575027319, 0.05390683046960371, 0.1509391253148904, 0.032344098281762226, 0.010781366093920743, 0.021562732187841487, 0.06407571629963502, 0.8970600281948903, 0.9634201204680624, 0.024085503011701558, 0.07912505755304805, 0.6330004604243844, 0.1582501151060961, 0.07912505755304805, 0.13108697432991478, 0.10974723432271935, 0.006097068573484408, 0.006097068573484408, 0.009145602860226613, 0.02133974000719543, 0.08535896002878172, 0.054873617161359675, 0.0670677543083285, 0.04267948001439086, 0.08840749431552393, 0.3353387715416425, 0.03658241144090645, 0.003048534286742204, 0.2581033255560822, 0.00921797591271722, 0.01843595182543444, 0.00921797591271722, 0.6176043861520537, 0.08296178321445498, 0.28327153968374885, 0.1699629238102493, 0.5665430793674977, 0.32538887908527303, 0.010496415454363646, 0.12595698545236375, 0.35687812544836395, 0.010496415454363646, 0.041985661817454584, 0.05248207727181823, 0.05248207727181823, 0.010496415454363646, 0.20522005318831657, 0.38112295592115936, 0.029317150455473794, 0.0879514513664214, 0.029317150455473794, 0.26385435409926417, 0.8280854604418649, 0.15181566774767524, 0.008833523580911143, 0.7508495043774472, 0.17667047161822286, 0.017667047161822286, 0.02650057074273343, 0.008833523580911143, 0.008833523580911143, 0.7715646558069177, 0.09644558197586471, 0.048222790987932355, 0.026758627041122505, 0.18731038928785754, 0.10703450816449002, 0.10703450816449002, 0.05351725408224501, 0.48165528674020514, 0.15879962756613714, 0.15879962756613714, 0.39699906891534287, 0.15879962756613714, 0.17982673146722405, 0.17982673146722405, 0.5594609423424749, 0.05994224382240802, 0.10045215728347863, 0.03348405242782621, 0.06696810485565242, 0.02678724194226097, 0.03348405242782621, 0.3147500928215664, 0.3013564718504359, 0.10045215728347863, 0.013393620971130485, 0.02774124800037809, 0.007926070857250883, 0.007926070857250883, 0.1149280274301378, 0.0475564251435053, 0.20607784228852297, 0.0951128502870106, 0.3487471177190389, 0.07529767314388339, 0.03566731885762897, 0.019815177143127208, 0.015852141714501767, 0.016522217077454705, 0.14869995369709235, 0.13217773661963764, 0.6443664660207336, 0.03304443415490941, 0.9042133698533031, 0.07978353263411499, 0.01063780435121533, 0.8859423323988782, 0.09954408229200878, 0.009954408229200878, 0.9476911235612218, 0.01934063517471881, 0.01934063517471881, 0.01934063517471881, 0.20718769754905786, 0.01801632152600503, 0.004504080381501257, 0.004504080381501257, 0.05855304495951635, 0.1801632152600503, 0.19817953678605532, 0.13512241144503773, 0.05404896457801509, 0.022520401907506288, 0.022520401907506288, 0.07206528610402012, 0.027024482289007546, 0.11891781475648469, 0.0069951655739108635, 0.6295649016519778, 0.10492748360866296, 0.06295649016519778, 0.05596132459128691, 0.013990331147821727, 0.45492893235204357, 0.029761705854806586, 0.07653010076950266, 0.310372075342983, 0.034013378119778954, 0.017006689059889477, 0.017006689059889477, 0.04676839491469607, 0.008503344529944739, 0.4989854631091559, 0.11171316338264685, 0.08937053070611747, 0.11916070760815664, 0.05213280957856853, 0.05213280957856853, 0.03723772112754895, 0.02234263267652937, 0.01489508845101958, 0.038848781734215326, 0.9323707616211678, 0.11968679277780216, 0.0718120756666813, 0.2393735855556043, 0.0718120756666813, 0.11968679277780216, 0.02393735855556043, 0.33512301977784603, 0.8154873012830484, 0.15682448101597082, 0.036476397629215083, 0.3161287794531974, 0.10942919288764526, 0.0972703936779069, 0.06079399604869181, 0.018238198814607542, 0.042555797234084265, 0.06079399604869181, 0.012158799209738362, 0.036476397629215083, 0.20062018696068298, 0.006079399604869181, 0.036885838976696964, 0.06455021820921969, 0.018442919488348482, 0.11987897667426513, 0.06455021820921969, 0.027664379232522723, 0.6178378028596742, 0.036885838976696964, 0.009221459744174241, 0.21360787646555982, 0.08544315058622393, 0.17088630117244785, 0.08544315058622393, 0.42721575293111963, 0.16581239877242362, 0.009211799931801313, 0.018423599863602626, 0.08290619938621181, 0.04605899965900656, 0.04605899965900656, 0.1566005988406223, 0.11054159918161574, 0.294777597817642, 0.027635399795403935, 0.04605899965900656, 0.04935687497896415, 0.8884237496213547, 0.09882873211032608, 0.6613922841229515, 0.0076022101623327756, 0.0076022101623327756, 0.030408840649331102, 0.015204420324665551, 0.1292375727596572, 0.0076022101623327756, 0.030408840649331102, 0.08113767838210995, 0.03477329073518998, 0.011591096911729992, 0.05795548455864997, 0.5215993610278497, 0.2665952289697898, 0.011591096911729992, 0.1026787846430351, 0.07467547974038917, 0.07467547974038917, 0.4387184434747864, 0.14001652451322968, 0.009334434967548646, 0.037337739870194585, 0.02800330490264594, 0.04667217483774323, 0.04667217483774323, 0.09756275925221539, 0.5853765555132924, 0.2926882777566462, 0.3670933453989323, 0.5873493526382917, 0.06875210036811077, 0.790649154233274, 0.10312815055216616, 0.05863253712355342, 0.17589761137066026, 0.02931626856177671, 0.6156416397973109, 0.05863253712355342, 0.02931626856177671, 0.12248405834009063, 0.7349043500405438, 0.061242029170045315, 0.8677830775474319, 0.09642034194971466, 0.050159248415115154, 0.5684714820379718, 0.36783448837751115, 0.9909427005866223, 0.34041196922484745, 0.06808239384496949, 0.5446591507597559, 0.39372157491193105, 0.07874431498238621, 0.15748862996477242, 0.31497725992954484, 0.03287813721489915, 0.0657562744297983, 0.6904408815128821, 0.0657562744297983, 0.09863441164469744, 0.11272650694095486, 0.1409081336761936, 0.16908976041143228, 0.5636325347047744, 0.01309278521433957, 0.07855671128603742, 0.10474228171471656, 0.06546392607169785, 0.03927835564301871, 0.05237114085735828, 0.15711342257207483, 0.09164949650037699, 0.32731963035848927, 0.02618557042867914, 0.01309278521433957, 0.01309278521433957, 0.051827891823680576, 0.22458753123594916, 0.08637981970613429, 0.4146231345894446, 0.120931747588588, 0.10365578364736115, 0.1675152626100044, 0.7695232376147078, 0.05234851956562638, 0.010469703913125275, 0.03559567525448086, 0.07119135050896172, 0.14238270101792344, 0.10678702576344258, 0.10678702576344258, 0.07119135050896172, 0.10678702576344258, 0.07119135050896172, 0.2847654020358469, 0.9642983257849367, 0.01377569036835624, 0.022221864464706375, 0.5999903405470721, 0.355549831435302, 0.01570680623561899, 0.7617801024275209, 0.01570680623561899, 0.17277486859180888, 0.01570680623561899, 0.01570680623561899, 0.6928749864198719, 0.0710641011712689, 0.17766025292817228, 0.05329807587845168, 0.6887551870937532, 0.03625027300493438, 0.21750163802960626, 0.08265280934491241, 0.05510187289660828, 0.7255079931386756, 0.06428551837937632, 0.018367290965536093, 0.02755093644830414, 0.018367290965536093, 0.868823667197588, 0.07240197226646566, 0.0040540984124404576, 0.3081114793454748, 0.3891934475942839, 0.19966434681269254, 0.08716311586746985, 0.003040573809330343, 0.007094672221770801, 0.7219192283978939, 0.19307142154827397, 0.00839440963253365, 0.0671552770602692, 0.2209019869489499, 0.14726799129929993, 0.14726799129929993, 0.07363399564964997, 0.14726799129929993, 0.29453598259859987, 0.29987869960332375, 0.5397816592859828, 0.1199514798413295, 0.8670848896224791, 0.05100499350720466, 0.023837604787530452, 0.047675209575060905, 0.9058289819261572, 0.6513306942108007, 0.34117322077708606, 0.7194129316108175, 0.06851551729626834, 0.03425775864813417, 0.03425775864813417, 0.06851551729626834, 0.06851551729626834, 0.017128879324067085, 0.06455163109803086, 0.06455163109803086, 0.7746195731763702, 0.05959838863413709, 0.13409637442680847, 0.04469879147560282, 0.7151806636096452, 0.014899597158534273, 0.014899597158534273, 0.14022826876749037, 0.011685689063957531, 0.023371378127915062, 0.05842844531978765, 0.011685689063957531, 0.2687708484710232, 0.08179982344770272, 0.046742756255830124, 0.2687708484710232, 0.046742756255830124, 0.046742756255830124, 0.07426875611252225, 0.19805001630005933, 0.03465875285251038, 0.0297075024450089, 0.024756252037507417, 0.10892750896503264, 0.004951250407501484, 0.049512504075014833, 0.14358626181754303, 0.29212377404258755, 0.04456125366751335, 0.14399874642216584, 0.0617137484666425, 0.08228499795552334, 0.08228499795552334, 0.04114249897776167, 0.10285624744440418, 0.04114249897776167, 0.3497112413109742, 0.0617137484666425, 0.04114249897776167, 0.3811883589669781, 0.019801992673609253, 0.08910896703124165, 0.004950498168402313, 0.004950498168402313, 0.27227739926212724, 0.009900996336804626, 0.01485149450520694, 0.009900996336804626, 0.08910896703124165, 0.09405946519964395, 0.004950498168402313, 0.04881605106134715, 0.496296519123696, 0.008136008510224524, 0.2928963063680829, 0.07322407659202072, 0.024408025530673574, 0.008136008510224524, 0.04881605106134715, 0.43248738335527254, 0.033268260258097884, 0.13307304103239154, 0.09980478077429365, 0.2661460820647831, 0.17775617293847823, 0.08887808646923911, 0.5332685188154347, 0.13331712970385867, 0.23100765427019213, 0.11550382713509606, 0.6352710492430284, 0.7827234275035884, 0.07827234275035884, 0.07827234275035884, 0.06463809780141899, 0.06463809780141899, 0.25855239120567597, 0.19391429340425698, 0.32319048900709496, 0.057083178656809785, 0.057083178656809785, 0.3424990719408587, 0.028541589328404893, 0.028541589328404893, 0.4566654292544783, 0.02123903917073937, 0.3185855875610905, 0.10619519585369684, 0.06902687730490295, 0.3929222246586783, 0.02654879896342421, 0.03716831854879389, 0.015929279378054526, 0.02123903917073937, 0.043230077614397205, 0.043230077614397205, 0.043230077614397205, 0.6916812418303553, 0.17292031045758882, 0.07290488319968723, 0.07290488319968723, 0.07290488319968723, 0.6561439487971851, 0.04137343486687155, 0.1654937394674862, 0.04137343486687155, 0.7033483927368164, 0.1379720206825344, 0.0689860103412672, 0.1379720206825344, 0.0689860103412672, 0.48290207238887034, 0.14282151013895203, 0.5831878330673875, 0.07141075506947601, 0.20233047269684873, 0.21314762754222286, 0.0947322789076546, 0.49734446426518664, 0.07104920918074095, 0.0473661394538273, 0.07104920918074095, 0.1398944961964478, 0.056994054005960214, 0.010362555273810949, 0.010362555273810949, 0.06735660927977116, 0.005181277636905474, 0.041450221095243794, 0.17616343965478612, 0.17616343965478612, 0.19170727256550255, 0.07253788691667663, 0.020725110547621897, 0.015543832910716421, 0.0343812617098236, 0.8366107016057076, 0.0687625234196472, 0.022920841139882398, 0.022920841139882398, 0.34032665996682815, 0.6239322099391849, 0.03605374208374428, 0.8532718959819481, 0.09614331222331808, 0.01201791402791476, 0.079838385103156, 0.053225590068770666, 0.6919326708940187, 0.026612795034385333, 0.13306397517192667, 0.8917313580684905, 0.07431094650570753, 0.26293404271095144, 0.01546670839476185, 0.6960018777642832, 0.017977935555079528, 0.5573160022074655, 0.07191174222031811, 0.017977935555079528, 0.26966903332619296, 0.05393380666523859, 0.27337850114473, 0.2050338758585475, 0.54675700228946, 0.14463078735477355, 0.03944476018766551, 0.13148253395888504, 0.6574126697944253, 0.02629650679177701, 0.3352642359904475, 0.6425897856483578, 0.23835827234111792, 0.19502040464273285, 0.5417233462298134, 0.5223012553920922, 0.11606694564268714, 0.3482008369280614, 0.8327239821872837, 0.1387873303645473, 0.3400460494653316, 0.5950805865643304, 0.007023517744852243, 0.16856442587645384, 0.6812812212506676, 0.03511758872426122, 0.0632116597036702, 0.03511758872426122, 0.07272939046194686, 0.29091756184778744, 0.5091057332336281, 0.20286513815532653, 0.008820223398057674, 0.07938201058251908, 0.37926960611648003, 0.1675842445630958, 0.05292134038834605, 0.061741563786403726, 0.05292134038834605, 0.0518330997310461, 0.22461009883453312, 0.0172776999103487, 0.2764431985655792, 0.3801093980276714, 0.0345553998206974, 0.0172776999103487, 0.23593901168906423, 0.11796950584453211, 0.05055835964765662, 0.05055835964765662, 0.05055835964765662, 0.08426393274609437, 0.3539085175335963, 0.016852786549218873, 0.00889602638832587, 0.03558410555330348, 0.026688079164977608, 0.03558410555330348, 0.04448013194162935, 0.07116821110660695, 0.08006423749493283, 0.15123244860153978, 0.5248655569112263, 0.01779205277665174, 0.6554922717622633, 0.2979510326192106, 0.2608020208419435, 0.009659334105257166, 0.4539887029470868, 0.019318668210514332, 0.057956004631543, 0.15454934568411466, 0.0289780023157715, 0.0289780023157715, 0.39099143019820803, 0.011171183719948801, 0.0390991430198208, 0.044684734879795206, 0.08936946975959041, 0.2178380825390016, 0.0781982860396416, 0.05585591859974401, 0.011171183719948801, 0.022342367439897603, 0.027927959299872004, 0.3488878723104838, 0.026166590423286284, 0.004361098403881047, 0.01744439361552419, 0.026166590423286284, 0.043610984038810474, 0.17008283775136085, 0.0741386728659778, 0.12647185371255038, 0.0741386728659778, 0.01744439361552419, 0.06105537765433466, 0.008722196807762095, 0.4432079130852672, 0.017295918559425062, 0.012971938919568795, 0.0021619898199281328, 0.05188775567827518, 0.12107142991597543, 0.11674745027611916, 0.0735076538775565, 0.08864158261705343, 0.0064859694597843975, 0.019457908379353194, 0.030267857478993857, 0.015133928739496929, 0.1474210601582957, 0.07371053007914785, 0.1474210601582957, 0.1474210601582957, 0.07371053007914785, 0.07371053007914785, 0.2948421203165914, 0.19634094370006805, 0.013343559280587149, 0.06481157364856616, 0.07243646466604453, 0.04193690059613104, 0.06862401915730534, 0.03812445508739185, 0.09721736047284923, 0.1582164886126762, 0.051468014367979, 0.11627958801654516, 0.017156004789326336, 0.059092905385457375, 0.007624891017478371, 0.07883012448943753, 0.15766024897887507, 0.6306409959155003, 0.11824518673415631, 0.9855626918148942, 0.9328293604498721, 0.04743200137880706, 0.022696925579701387, 0.045393851159402775, 0.14753001626805903, 0.2383177185868646, 0.46528697438387845, 0.06809077673910417, 0.022696925579701387, 0.3142331240579977, 0.6284662481159954, 0.1711531581386198, 0.5705105271287327, 0.11410210542574653, 0.1711531581386198, 0.06589096429693617, 0.11860373573448511, 0.448058557219166, 0.02635638571877447, 0.19767289289080853, 0.11860373573448511, 0.6829428722388454, 0.12805178854478352, 0.08536785902985568, 0.12805178854478352, 0.019853753184365767, 0.7941501273746308, 0.15883002547492614, 0.019853753184365767, 0.29775034749947094, 0.6805722228559336, 0.12948298593536212, 0.2805464695266179, 0.021580497655893684, 0.5395124413973421, 0.0548820661950395, 0.7957899598280727, 0.13720516548759873, 0.4834079357685681, 0.05273541117475288, 0.043946175978960736, 0.008789235195792148, 0.017578470391584295, 0.017578470391584295, 0.10547082234950576, 0.02636770558737644, 0.05273541117475288, 0.03515694078316859, 0.12304929274109005, 0.03515694078316859, 0.4655031682031551, 0.06896343232639336, 0.01724085808159834, 0.03448171616319668, 0.01724085808159834, 0.04310214520399585, 0.00862042904079917, 0.07758386136719253, 0.06896343232639336, 0.10344514848959004, 0.04310214520399585, 0.03448171616319668, 0.01724085808159834, 0.7236652867300406, 0.07236652867300405, 0.07236652867300405, 0.046849192063590714, 0.09369838412718143, 0.14054757619077213, 0.046849192063590714, 0.4684919206359071, 0.14054757619077213, 0.2577398636577014, 0.7087846250586788, 0.4780372260958932, 0.16962611248563952, 0.015420555680512685, 0.2544391687284593, 0.0077102778402563426, 0.015420555680512685, 0.03084111136102537, 0.03084111136102537, 0.09029241302948902, 0.03611696521179561, 0.7765147520536057, 0.054175447817693415, 0.018058482605897805, 0.08394942040557533, 0.02583059089402318, 0.30996709072827816, 0.18727178398166805, 0.316424738451784, 0.02583059089402318, 0.032288238617528976, 0.01291529544701159, 0.054260128897193956, 0.7596418045607154, 0.16278038669158185, 0.840818526880268, 0.056054568458684534, 0.056054568458684534, 0.0933569761397848, 0.3034101724543006, 0.116696220174731, 0.0700177321048386, 0.116696220174731, 0.3034101724543006, 0.0590270308230458, 0.10231352009327939, 0.047221624658436635, 0.07870270776406106, 0.03738378618792901, 0.09247568162277175, 0.19675676941015266, 0.1692108216927313, 0.0295135154115229, 0.02164324463511679, 0.01770810924691374, 0.08263784315226412, 0.023610812329218318, 0.031481083105624426, 0.009837838470507633, 0.1450128816591, 0.1933505088788, 0.07941181614665, 0.05179031487825, 0.00345268765855, 0.0897698791223, 0.0483376272197, 0.1588236322933, 0.02416881360985, 0.0345268765855, 0.0345268765855, 0.06560106551245, 0.0138107506342, 0.00345268765855, 0.0552430025368, 0.6488304806149566, 0.28836910249553627, 0.04186592845530662, 0.2093296422765331, 0.10466482113826656, 0.04186592845530662, 0.08373185691061324, 0.1674637138212265, 0.06279889268295993, 0.02093296422765331, 0.23026260650418642, 0.6826470411284266, 0.17066176028210664, 0.08533088014105332, 0.010543974556192316, 0.5799186005905773, 0.2741433384610002, 0.010543974556192316, 0.010543974556192316, 0.10543974556192316, 0.9242839298258239, 0.04951521052638342, 0.016505070175461142, 0.7984693166915701, 0.17743762593146, 0.8871495942030232, 0.08064996310936574, 0.8572320514415772, 0.06594092703396748, 0.03297046351698374, 0.07404322453338735, 0.8885186944006482, 0.018510806133346838, 0.9001235667738346, 0.0818294151612577, 0.05488317797511845, 0.7683644916516583, 0.018294392658372818, 0.12806074860860972, 0.9189735288888033, 0.18672881158581733, 0.06790138603120631, 0.05092603952340473, 0.09336440579290867, 0.07214522265815669, 0.2206795046014205, 0.15277811857021417, 0.06790138603120631, 0.008487673253900789, 0.016975346507801577, 0.025463019761702364, 0.033950693015603155, 0.1559497776785978, 0.04253175754870849, 0.08506351509741698, 0.12759527264612547, 0.05670901006494465, 0.41114032297084874, 0.028354505032472326, 0.1134180201298893, 0.15666613453359649, 0.31333226906719297, 0.26111022422266084, 0.2437028759411501, 0.04541945923044826, 0.3633556738435861, 0.09083891846089652, 0.4541945923044826, 0.9294802941266608, 0.007318742473438274, 0.014637484946876549, 0.043912454840629646, 0.35494851613307543, 0.05915808602217924, 0.04067118414024823, 0.025881662634703418, 0.051763325269406836, 0.05546070564579304, 0.048065944893020636, 0.07025022715133786, 0.051763325269406836, 0.05915808602217924, 0.06655284677495164, 0.01478952150554481, 0.03327642338747582, 0.06655284677495164, 0.036977562302883335, 0.3845666479499867, 0.08874614952692, 0.007395512460576667, 0.3401935731865267, 0.029582049842306668, 0.10353717444807334, 0.06291472772837946, 0.3774883663702768, 0.03670025784155469, 0.14155813738885378, 0.03145736386418973, 0.24117312295878796, 0.015728681932094864, 0.0943720915925692, 0.015014378543166281, 0.9759346053058083, 0.0796940088116144, 0.0796940088116144, 0.3187760352464576, 0.3187760352464576, 0.1593880176232288, 0.32524661603047866, 0.0487869924045718, 0.0487869924045718, 0.0975739848091436, 0.14636097721371538, 0.0487869924045718, 0.032524661603047865, 0.243934962022859, 0.20478183058816665, 0.06826061019605555, 0.06826061019605555, 0.47782427137238886, 0.06826061019605555, 0.057559209527614306, 0.3453552571656859, 0.23023683811045723, 0.28779604763807154, 0.03106521701997672, 0.1553260850998836, 0.6834347744394879, 0.06213043403995344, 0.03106521701997672, 0.07389779654393973, 0.36948898271969866, 0.517284575807578, 0.20982366682285059, 0.021856631960713604, 0.030599284744999043, 0.06556989588214081, 0.039341937529284485, 0.1704817292935661, 0.00437132639214272, 0.14425377094070976, 0.05682724309785537, 0.039341937529284485, 0.06994122227428352, 0.00437132639214272, 0.00437132639214272, 0.01748530556857088, 0.12239713897999617, 0.10160623043725914, 0.03386874347908638, 0.13547497391634553, 0.03386874347908638, 0.5080311521862957, 0.06773748695817276, 0.03386874347908638, 0.4518312834384072, 0.05570522672528308, 0.20425249799270465, 0.061894696361425645, 0.030947348180712823, 0.05570522672528308, 0.061894696361425645, 0.07427363563371078, 0.006189469636142564, 0.06532466047084887, 0.13064932094169773, 0.7185712651793374, 0.4248844263044523, 0.5098613115653428, 0.3422935443164863, 0.051862658229770646, 0.01037253164595413, 0.062235189875724774, 0.13484291139740368, 0.33192101267053215, 0.02074506329190826, 0.01037253164595413, 0.02074506329190826, 0.1534580990229597, 0.22059601734550457, 0.08312313697076984, 0.022379306107514957, 0.06394087459289988, 0.07353200578183486, 0.0511526996743199, 0.08951722443005983, 0.028773393566804945, 0.012788174918579975, 0.05754678713360989, 0.03516748102609493, 0.10869948680792979, 0.12312387489723316, 0.02402417071165525, 0.1411420029309746, 0.015015106694784532, 0.04204229874539669, 0.03903927740643978, 0.1351359602530608, 0.15015106694784533, 0.030030213389569065, 0.08108157615183648, 0.12312387489723316, 0.030030213389569065, 0.003003021338956906, 0.0480483414233105, 0.012012085355827625, 0.22189763174797375, 0.7322621847683134, 0.022189763174797376, 0.7436394696947434, 0.11154592045421151, 0.07436394696947433, 0.03718197348473717, 0.24746548260889847, 0.16012472404105196, 0.5822717237856435], \"Term\": [\"abiding\", \"abiding\", \"accident\", \"accident\", \"accident\", \"accidental\", \"accidental\", \"accidental\", \"accidental\", \"acid\", \"acid\", \"acid\", \"acid\", \"acid\", \"acid\", \"acid\", \"act\", \"act\", \"act\", \"act\", \"act\", \"act\", \"act\", \"act\", \"act\", \"act\", \"activities\", \"activities\", \"activities\", \"activities\", \"activities\", \"activities\", \"activities\", \"actually\", \"actually\", \"actually\", \"actually\", \"actually\", \"actually\", \"actually\", \"actually\", \"actually\", \"actually\", \"actually\", \"actually\", \"actually\", \"actually\", \"adequate\", \"adequate\", \"adequate\", \"adequate\", \"adequate\", \"adequate\", \"adult\", \"adult\", \"adult\", \"adult\", \"advance\", \"advance\", \"advance\", \"advance\", \"advance\", \"advertising\", \"advertising\", \"advertising\", \"advertising\", \"advice\", \"advice\", \"advice\", \"aeronautics\", \"aerospace\", \"aerospace\", \"aerospace\", \"affair\", \"affair\", \"age\", \"age\", \"age\", \"age\", \"age\", \"age\", \"age\", \"agent\", \"agent\", \"agent\", \"agent\", \"agent\", \"agents\", \"agents\", \"agents\", \"agents\", \"agents\", \"ago\", \"ago\", \"ago\", \"ago\", \"ago\", \"ago\", \"ago\", \"ago\", \"aid\", \"aid\", \"aid\", \"aids\", \"aids\", \"aircraft\", \"aircraft\", \"aircraft\", \"allen\", \"allen\", \"allen\", \"allen\", \"allen\", \"allen\", \"allen\", \"allergic\", \"allergic\", \"allergic\", \"allergies\", \"allergies\", \"allergies\", \"allergies\", \"alot\", \"alot\", \"alot\", \"alot\", \"alot\", \"amendment\", \"amendment\", \"amendment\", \"amendment\", \"america\", \"america\", \"america\", \"america\", \"america\", \"andy\", \"andy\", \"andy\", \"anecdotal\", \"anecdotal\", \"anecdotal\", \"anecdotal\", \"angle\", \"angle\", \"angle\", \"angle\", \"anti\", \"anti\", \"anti\", \"anti\", \"anti\", \"anti\", \"anti\", \"anti\", \"anti\", \"application\", \"application\", \"application\", \"application\", \"applications\", \"applications\", \"applications\", \"applications\", \"applications\", \"appreciated\", \"appreciated\", \"appreciated\", \"appreciated\", \"april\", \"april\", \"april\", \"april\", \"april\", \"april\", \"april\", \"april\", \"april\", \"arc\", \"archive\", \"archive\", \"archive\", \"archive\", \"archive\", \"area\", \"area\", \"area\", \"area\", \"area\", \"area\", \"area\", \"area\", \"area\", \"area\", \"area\", \"area\", \"arm\", \"arm\", \"arm\", \"arm\", \"arm\", \"arm\", \"arm\", \"armed\", \"armed\", \"armed\", \"armed\", \"armed\", \"armed\", \"armed\", \"arms\", \"arms\", \"arms\", \"arms\", \"arms\", \"arms\", \"arms\", \"arms\", \"army\", \"army\", \"army\", \"army\", \"army\", \"army\", \"army\", \"article\", \"article\", \"article\", \"article\", \"article\", \"article\", \"article\", \"article\", \"article\", \"article\", \"assault\", \"assault\", \"assault\", \"assault\", \"assaults\", \"assaults\", \"astro\", \"astro\", \"astronaut\", \"astronaut\", \"astronomical\", \"astronomy\", \"astronomy\", \"astronomy\", \"atf\", \"atf\", \"atf\", \"atlas\", \"attacks\", \"attacks\", \"attacks\", \"attacks\", \"attacks\", \"attacks\", \"attend\", \"attend\", \"attend\", \"attend\", \"auto\", \"auto\", \"auto\", \"auto\", \"automatic\", \"automatic\", \"automatic\", \"automatic\", \"automatic\", \"automatic\", \"available\", \"available\", \"available\", \"available\", \"available\", \"available\", \"available\", \"available\", \"available\", \"available\", \"available\", \"available\", \"available\", \"available\", \"aviation\", \"aviation\", \"aviation\", \"aviation\", \"bacteria\", \"bacteria\", \"bacteria\", \"balls\", \"balls\", \"ban\", \"ban\", \"banks\", \"banks\", \"batf\", \"batf\", \"batf\", \"batf\", \"bear\", \"bear\", \"bear\", \"bear\", \"bear\", \"beat\", \"beat\", \"beat\", \"believe\", \"believe\", \"believe\", \"believe\", \"believe\", \"believe\", \"believe\", \"believe\", \"believe\", \"believe\", \"believe\", \"believe\", \"believe\", \"believed\", \"believed\", \"believed\", \"better\", \"better\", \"better\", \"better\", \"better\", \"better\", \"better\", \"better\", \"better\", \"better\", \"better\", \"better\", \"better\", \"big\", \"big\", \"big\", \"big\", \"big\", \"big\", \"big\", \"big\", \"big\", \"big\", \"big\", \"big\", \"billion\", \"billion\", \"billion\", \"billion\", \"bills\", \"bills\", \"bills\", \"bitnet\", \"bitnet\", \"blind\", \"blind\", \"blind\", \"blind\", \"blood\", \"blood\", \"blood\", \"blood\", \"blood\", \"blood\", \"blood\", \"body\", \"body\", \"body\", \"body\", \"body\", \"body\", \"body\", \"body\", \"body\", \"body\", \"box\", \"box\", \"box\", \"box\", \"box\", \"box\", \"box\", \"boy\", \"boy\", \"boy\", \"brain\", \"brain\", \"brain\", \"brain\", \"brain\", \"branch\", \"branch\", \"branch\", \"branch\", \"branch\", \"breathing\", \"breathing\", \"breathing\", \"breathing\", \"brief\", \"brief\", \"brief\", \"brief\", \"build\", \"build\", \"build\", \"build\", \"build\", \"build\", \"build\", \"busy\", \"busy\", \"busy\", \"buy\", \"buy\", \"buy\", \"buy\", \"buy\", \"cadre\", \"cadre\", \"called\", \"called\", \"called\", \"called\", \"called\", \"called\", \"called\", \"called\", \"called\", \"called\", \"called\", \"called\", \"called\", \"called\", \"called\", \"canadian\", \"canadian\", \"canadian\", \"cancer\", \"cancer\", \"cancer\", \"candida\", \"candida\", \"candidates\", \"candidates\", \"candidates\", \"capabilities\", \"capability\", \"capability\", \"capability\", \"capability\", \"capability\", \"carl\", \"carl\", \"carl\", \"carl\", \"carry\", \"carry\", \"carry\", \"carry\", \"carry\", \"carry\", \"carry\", \"carry\", \"case\", \"case\", \"case\", \"case\", \"case\", \"case\", \"case\", \"case\", \"case\", \"case\", \"case\", \"case\", \"case\", \"cases\", \"cases\", \"cases\", \"cases\", \"cases\", \"cases\", \"cases\", \"cases\", \"cases\", \"catch\", \"catch\", \"catch\", \"cause\", \"cause\", \"cause\", \"cause\", \"cause\", \"cause\", \"cause\", \"cause\", \"cause\", \"cause\", \"centaur\", \"centaur\", \"center\", \"center\", \"center\", \"center\", \"center\", \"center\", \"center\", \"center\", \"centers\", \"centers\", \"centers\", \"centers\", \"centers\", \"centers\", \"certainly\", \"certainly\", \"certainly\", \"certainly\", \"certainly\", \"certainly\", \"certainly\", \"certainly\", \"chastity\", \"cheap\", \"cheap\", \"cheaper\", \"cheaper\", \"cheaper\", \"cheaper\", \"cheaper\", \"cheaper\", \"child\", \"child\", \"child\", \"child\", \"child\", \"children\", \"children\", \"children\", \"children\", \"children\", \"children\", \"chinese\", \"chinese\", \"chinese\", \"chronic\", \"chronic\", \"citizen\", \"citizen\", \"citizen\", \"citizen\", \"citizen\", \"citizens\", \"citizens\", \"citizens\", \"citizens\", \"citizens\", \"citizens\", \"civil\", \"civil\", \"civil\", \"civil\", \"civil\", \"civil\", \"civil\", \"claim\", \"claim\", \"claim\", \"claim\", \"claim\", \"claim\", \"claim\", \"claim\", \"claiming\", \"claiming\", \"claiming\", \"claiming\", \"clinic\", \"clinic\", \"clinic\", \"clinic\", \"clinical\", \"clinical\", \"clinical\", \"clipper\", \"closed\", \"closed\", \"closed\", \"closed\", \"collect\", \"collect\", \"collect\", \"collect\", \"color\", \"color\", \"color\", \"color\", \"com\", \"com\", \"com\", \"com\", \"com\", \"com\", \"com\", \"com\", \"com\", \"come\", \"come\", \"come\", \"come\", \"come\", \"come\", \"come\", \"come\", \"come\", \"come\", \"come\", \"come\", \"come\", \"comet\", \"comet\", \"commercial\", \"commercial\", \"commercial\", \"commercial\", \"commit\", \"committee\", \"committee\", \"committee\", \"committee\", \"committee\", \"committee\", \"compound\", \"compound\", \"compuserve\", \"compuserve\", \"concern\", \"concern\", \"concern\", \"configuration\", \"configuration\", \"congress\", \"congress\", \"congress\", \"congress\", \"congress\", \"congress\", \"congress\", \"congress\", \"congress\", \"considering\", \"considering\", \"considering\", \"considering\", \"considering\", \"constitution\", \"constitution\", \"constitution\", \"constitution\", \"constitution\", \"constitutional\", \"constitutional\", \"constitutional\", \"constitutional\", \"contest\", \"contest\", \"contrary\", \"contrary\", \"contrary\", \"contrary\", \"control\", \"control\", \"control\", \"control\", \"control\", \"control\", \"control\", \"control\", \"control\", \"control\", \"control\", \"control\", \"control\", \"control\", \"convicted\", \"convicted\", \"cop\", \"cop\", \"cop\", \"cops\", \"cops\", \"cops\", \"corn\", \"corn\", \"correction\", \"correction\", \"correction\", \"cost\", \"cost\", \"cost\", \"cost\", \"cost\", \"cost\", \"cost\", \"cost\", \"cost\", \"costs\", \"costs\", \"costs\", \"costs\", \"costs\", \"costs\", \"costs\", \"court\", \"court\", \"court\", \"court\", \"craft\", \"craft\", \"crap\", \"crap\", \"crazy\", \"crazy\", \"created\", \"created\", \"created\", \"created\", \"created\", \"created\", \"crime\", \"crime\", \"crime\", \"crime\", \"crime\", \"crime\", \"crime\", \"crime\", \"crimes\", \"crimes\", \"crimes\", \"criminal\", \"criminal\", \"criminal\", \"criminal\", \"criminals\", \"criminals\", \"cross\", \"cross\", \"cross\", \"cross\", \"cross\", \"cross\", \"cross\", \"cult\", \"cult\", \"cult\", \"cure\", \"cure\", \"curious\", \"curious\", \"curious\", \"cutting\", \"cutting\", \"cutting\", \"cutting\", \"cutting\", \"damage\", \"damage\", \"damage\", \"damage\", \"damage\", \"dangerous\", \"dangerous\", \"dangerous\", \"dangerous\", \"dangerous\", \"dangerous\", \"dangerous\", \"dangerous\", \"dangerous\", \"dangerous\", \"data\", \"data\", \"data\", \"data\", \"data\", \"data\", \"data\", \"daughter\", \"daughter\", \"davidians\", \"davidians\", \"davidians\", \"day\", \"day\", \"day\", \"day\", \"day\", \"day\", \"day\", \"day\", \"day\", \"day\", \"day\", \"day\", \"day\", \"deaths\", \"deaths\", \"deaths\", \"deaths\", \"deaths\", \"decide\", \"decide\", \"decide\", \"defense\", \"defense\", \"defense\", \"defense\", \"defense\", \"defense\", \"defense\", \"defense\", \"define\", \"define\", \"define\", \"define\", \"delta\", \"delta\", \"destroy\", \"destroy\", \"destroy\", \"destroy\", \"destroy\", \"development\", \"development\", \"development\", \"development\", \"development\", \"development\", \"development\", \"device\", \"device\", \"device\", \"device\", \"device\", \"did\", \"did\", \"did\", \"did\", \"did\", \"did\", \"did\", \"did\", \"did\", \"did\", \"did\", \"didn\", \"didn\", \"didn\", \"didn\", \"didn\", \"didn\", \"didn\", \"didn\", \"didn\", \"didn\", \"didn\", \"didn\", \"didn\", \"different\", \"different\", \"different\", \"different\", \"different\", \"different\", \"different\", \"different\", \"different\", \"different\", \"digest\", \"digest\", \"disease\", \"disease\", \"disease\", \"disease\", \"disease\", \"disease\", \"diseases\", \"diseases\", \"diseases\", \"distinguish\", \"distinguish\", \"division\", \"division\", \"division\", \"division\", \"division\", \"division\", \"doctor\", \"doctor\", \"doctor\", \"doctor\", \"doctor\", \"doctors\", \"doctors\", \"doctors\", \"doctors\", \"documented\", \"documented\", \"documented\", \"documented\", \"does\", \"does\", \"does\", \"does\", \"does\", \"does\", \"does\", \"does\", \"does\", \"does\", \"does\", \"does\", \"does\", \"doesn\", \"doesn\", \"doesn\", \"doesn\", \"doesn\", \"doesn\", \"doesn\", \"doesn\", \"doesn\", \"doesn\", \"doesn\", \"dollar\", \"don\", \"don\", \"don\", \"don\", \"don\", \"don\", \"don\", \"don\", \"don\", \"don\", \"don\", \"don\", \"don\", \"don\", \"dose\", \"dose\", \"dose\", \"doug\", \"doug\", \"doug\", \"doug\", \"drag\", \"dryden\", \"dryden\", \"dryden\", \"dsl\", \"dyer\", \"earth\", \"earth\", \"earth\", \"earth\", \"earth\", \"earth\", \"earth\", \"eaten\", \"eaten\", \"eaten\", \"economy\", \"economy\", \"economy\", \"edu\", \"edu\", \"edu\", \"edu\", \"edu\", \"edu\", \"edu\", \"edu\", \"edu\", \"edu\", \"effects\", \"effects\", \"effects\", \"effects\", \"effects\", \"effects\", \"effects\", \"effects\", \"electric\", \"electric\", \"electric\", \"electric\", \"electric\", \"electrical\", \"electrical\", \"email\", \"email\", \"email\", \"email\", \"email\", \"email\", \"email\", \"empirical\", \"empirical\", \"empirical\", \"encourage\", \"encourage\", \"encourage\", \"encourage\", \"encourage\", \"engineer\", \"engineer\", \"engineer\", \"engineer\", \"engineering\", \"engineering\", \"engineering\", \"engineering\", \"engineering\", \"english\", \"english\", \"english\", \"english\", \"english\", \"estimate\", \"estimate\", \"estimate\", \"exercise\", \"exercise\", \"exercise\", \"exercise\", \"exercise\", \"exercise\", \"exercise\", \"expert\", \"expert\", \"expert\", \"eye\", \"eye\", \"eye\", \"eye\", \"eye\", \"face\", \"face\", \"face\", \"face\", \"face\", \"face\", \"fact\", \"fact\", \"fact\", \"fact\", \"fact\", \"fact\", \"fact\", \"fact\", \"fact\", \"fact\", \"fact\", \"fact\", \"fact\", \"faq\", \"faq\", \"faq\", \"faq\", \"far\", \"far\", \"far\", \"far\", \"far\", \"far\", \"far\", \"far\", \"far\", \"far\", \"fat\", \"fat\", \"fat\", \"favorite\", \"favorite\", \"favorite\", \"favorite\", \"favorite\", \"fbi\", \"fbi\", \"fbi\", \"fbi\", \"fear\", \"fear\", \"feasible\", \"feasible\", \"federal\", \"federal\", \"federal\", \"federal\", \"federal\", \"federal\", \"federal\", \"federalist\", \"federalist\", \"fee\", \"fee\", \"fee\", \"feed\", \"feed\", \"feed\", \"feed\", \"fever\", \"fever\", \"fever\", \"fields\", \"fields\", \"fields\", \"fields\", \"fields\", \"fields\", \"fields\", \"fields\", \"fields\", \"file\", \"file\", \"file\", \"file\", \"file\", \"finally\", \"finally\", \"finally\", \"finally\", \"finally\", \"finally\", \"finally\", \"finally\", \"finger\", \"finger\", \"finger\", \"firearm\", \"firearm\", \"firearm\", \"firearms\", \"firearms\", \"firearms\", \"firearms\", \"fits\", \"fits\", \"fits\", \"flame\", \"flame\", \"flame\", \"flame\", \"flame\", \"flavor\", \"flight\", \"flight\", \"flight\", \"flight\", \"flight\", \"flight\", \"flights\", \"flights\", \"flights\", \"flights\", \"fluid\", \"fluid\", \"fluid\", \"fly\", \"fly\", \"fly\", \"fly\", \"following\", \"following\", \"following\", \"following\", \"following\", \"following\", \"following\", \"following\", \"following\", \"following\", \"following\", \"following\", \"food\", \"food\", \"food\", \"food\", \"food\", \"food\", \"food\", \"food\", \"foods\", \"foods\", \"foods\", \"forever\", \"forever\", \"forever\", \"formation\", \"formation\", \"forwarded\", \"forwarded\", \"fred\", \"fred\", \"fred\", \"fred\", \"fred\", \"fred\", \"ftp\", \"ftp\", \"ftp\", \"ftp\", \"fund\", \"fund\", \"fund\", \"fund\", \"fund\", \"fund\", \"fundamental\", \"fundamental\", \"fundamental\", \"fundamental\", \"funds\", \"funds\", \"funds\", \"funds\", \"funds\", \"funds\", \"funds\", \"funny\", \"funny\", \"gamma\", \"gamma\", \"gang\", \"gang\", \"gang\", \"gas\", \"gas\", \"gas\", \"gas\", \"gas\", \"gas\", \"gas\", \"geb\", \"general\", \"general\", \"general\", \"general\", \"general\", \"general\", \"general\", \"general\", \"general\", \"general\", \"general\", \"general\", \"general\", \"general\", \"glock\", \"glutamate\", \"goal\", \"goal\", \"goal\", \"goal\", \"goal\", \"goal\", \"going\", \"going\", \"going\", \"going\", \"going\", \"going\", \"going\", \"going\", \"going\", \"going\", \"going\", \"going\", \"good\", \"good\", \"good\", \"good\", \"good\", \"good\", \"good\", \"good\", \"good\", \"good\", \"good\", \"good\", \"good\", \"good\", \"gordon\", \"gordon\", \"gordon\", \"gordon\", \"got\", \"got\", \"got\", \"got\", \"got\", \"got\", \"got\", \"got\", \"got\", \"gov\", \"gov\", \"gov\", \"gov\", \"gov\", \"gov\", \"gov\", \"government\", \"government\", \"government\", \"government\", \"government\", \"government\", \"government\", \"government\", \"government\", \"governments\", \"governments\", \"governments\", \"governments\", \"grade\", \"granted\", \"granted\", \"granted\", \"granted\", \"gravity\", \"gravity\", \"gravity\", \"greatly\", \"greatly\", \"greatly\", \"greatly\", \"greatly\", \"grows\", \"grows\", \"grows\", \"grows\", \"guard\", \"guard\", \"guard\", \"guard\", \"gun\", \"gun\", \"gun\", \"gun\", \"gun\", \"guns\", \"guns\", \"guns\", \"guns\", \"guns\", \"guns\", \"guys\", \"guys\", \"guys\", \"guys\", \"guys\", \"hammer\", \"hammer\", \"hammer\", \"hammer\", \"hammer\", \"handgun\", \"handgun\", \"handgun\", \"handgun\", \"handguns\", \"handguns\", \"handguns\", \"handheld\", \"handheld\", \"handling\", \"handling\", \"handling\", \"handling\", \"happening\", \"happening\", \"happening\", \"happens\", \"happens\", \"happens\", \"happens\", \"happens\", \"happens\", \"happens\", \"harris\", \"harris\", \"harris\", \"harris\", \"having\", \"having\", \"having\", \"having\", \"having\", \"having\", \"having\", \"having\", \"having\", \"having\", \"having\", \"hci\", \"hci\", \"headache\", \"headaches\", \"headaches\", \"headaches\", \"health\", \"health\", \"health\", \"health\", \"health\", \"health\", \"health\", \"health\", \"healthy\", \"healthy\", \"healthy\", \"healthy\", \"healthy\", \"heard\", \"heard\", \"heard\", \"heard\", \"heard\", \"heard\", \"heard\", \"heard\", \"heard\", \"heat\", \"heat\", \"heat\", \"heat\", \"heat\", \"heat\", \"heavy\", \"heavy\", \"heavy\", \"heavy\", \"help\", \"help\", \"help\", \"help\", \"help\", \"help\", \"help\", \"help\", \"help\", \"help\", \"help\", \"helping\", \"helping\", \"helping\", \"hey\", \"hey\", \"hey\", \"hey\", \"high\", \"high\", \"high\", \"high\", \"high\", \"high\", \"high\", \"high\", \"high\", \"high\", \"high\", \"high\", \"high\", \"hole\", \"hole\", \"hole\", \"hole\", \"homicide\", \"homicides\", \"hospitals\", \"hospitals\", \"hospitals\", \"hospitals\", \"hospitals\", \"house\", \"house\", \"house\", \"house\", \"house\", \"house\", \"house\", \"house\", \"house\", \"house\", \"house\", \"house\", \"houston\", \"houston\", \"houston\", \"houston\", \"human\", \"human\", \"human\", \"human\", \"human\", \"human\", \"human\", \"human\", \"human\", \"human\", \"humans\", \"humans\", \"humans\", \"humans\", \"humans\", \"humans\", \"humans\", \"hypothesis\", \"hypothesis\", \"hypothesis\", \"hypothesis\", \"idea\", \"idea\", \"idea\", \"idea\", \"idea\", \"idea\", \"idea\", \"idea\", \"idea\", \"idea\", \"ignoring\", \"ignoring\", \"ignoring\", \"illinois\", \"illinois\", \"illinois\", \"illinois\", \"illinois\", \"images\", \"images\", \"images\", \"images\", \"important\", \"important\", \"important\", \"important\", \"important\", \"important\", \"important\", \"important\", \"important\", \"important\", \"important\", \"inclination\", \"inclination\", \"include\", \"include\", \"include\", \"include\", \"include\", \"include\", \"include\", \"include\", \"increased\", \"increased\", \"increased\", \"increased\", \"increased\", \"increased\", \"infection\", \"infection\", \"infection\", \"infections\", \"infections\", \"infections\", \"infectious\", \"infectious\", \"inflammation\", \"inflammation\", \"inflammatory\", \"inflammatory\", \"info\", \"info\", \"info\", \"info\", \"info\", \"info\", \"info\", \"info\", \"information\", \"information\", \"information\", \"information\", \"information\", \"information\", \"information\", \"information\", \"information\", \"information\", \"information\", \"information\", \"information\", \"initially\", \"initially\", \"initially\", \"injection\", \"injection\", \"injection\", \"injuries\", \"injuries\", \"injuries\", \"injury\", \"injury\", \"injury\", \"injury\", \"insisting\", \"integration\", \"integration\", \"integration\", \"intellect\", \"interesting\", \"interesting\", \"interesting\", \"interesting\", \"interesting\", \"interesting\", \"interesting\", \"interesting\", \"interesting\", \"interesting\", \"isn\", \"isn\", \"isn\", \"isn\", \"isn\", \"isn\", \"isn\", \"isn\", \"isn\", \"isn\", \"issued\", \"issued\", \"issued\", \"issued\", \"issued\", \"issued\", \"japanese\", \"japanese\", \"japanese\", \"japanese\", \"jet\", \"jet\", \"jmd\", \"jmd\", \"jobs\", \"jobs\", \"jobs\", \"jobs\", \"jobs\", \"jobs\", \"joke\", \"joke\", \"joke\", \"joke\", \"jsc\", \"jsc\", \"judge\", \"judge\", \"judge\", \"judge\", \"judge\", \"jupiter\", \"jupiter\", \"jupiter\", \"just\", \"just\", \"just\", \"just\", \"just\", \"just\", \"just\", \"just\", \"just\", \"just\", \"just\", \"just\", \"just\", \"just\", \"just\", \"justice\", \"justice\", \"justified\", \"justified\", \"justified\", \"justified\", \"justify\", \"justify\", \"justify\", \"knife\", \"knife\", \"knife\", \"knife\", \"know\", \"know\", \"know\", \"know\", \"know\", \"know\", \"know\", \"know\", \"know\", \"know\", \"know\", \"know\", \"know\", \"know\", \"know\", \"known\", \"known\", \"known\", \"known\", \"known\", \"known\", \"known\", \"known\", \"known\", \"known\", \"known\", \"known\", \"koresh\", \"koresh\", \"koresh\", \"language\", \"language\", \"language\", \"large\", \"large\", \"large\", \"large\", \"large\", \"large\", \"large\", \"large\", \"large\", \"large\", \"large\", \"large\", \"large\", \"large\", \"large\", \"launch\", \"launch\", \"launch\", \"launch\", \"launch\", \"launched\", \"launched\", \"launched\", \"launches\", \"launches\", \"launches\", \"law\", \"law\", \"law\", \"law\", \"law\", \"law\", \"law\", \"laws\", \"laws\", \"laws\", \"laws\", \"laws\", \"laws\", \"laws\", \"laws\", \"left\", \"left\", \"left\", \"left\", \"left\", \"left\", \"left\", \"left\", \"left\", \"left\", \"left\", \"left\", \"legal\", \"legal\", \"legal\", \"legal\", \"legal\", \"legal\", \"legal\", \"legal\", \"legal\", \"legally\", \"legally\", \"legislation\", \"legislation\", \"legislation\", \"legislation\", \"legislation\", \"letting\", \"letting\", \"letting\", \"lewis\", \"lewis\", \"lewis\", \"lewis\", \"liberties\", \"liberties\", \"liberties\", \"liberty\", \"liberty\", \"liberty\", \"license\", \"license\", \"license\", \"license\", \"license\", \"license\", \"license\", \"lies\", \"lies\", \"lies\", \"life\", \"life\", \"life\", \"life\", \"life\", \"life\", \"life\", \"life\", \"life\", \"life\", \"life\", \"like\", \"like\", \"like\", \"like\", \"like\", \"like\", \"like\", \"like\", \"like\", \"like\", \"like\", \"like\", \"like\", \"like\", \"like\", \"list\", \"list\", \"list\", \"list\", \"list\", \"list\", \"list\", \"list\", \"list\", \"list\", \"listen\", \"listen\", \"little\", \"little\", \"little\", \"little\", \"little\", \"little\", \"little\", \"little\", \"little\", \"little\", \"little\", \"live\", \"live\", \"live\", \"live\", \"live\", \"live\", \"live\", \"live\", \"live\", \"live\", \"long\", \"long\", \"long\", \"long\", \"long\", \"long\", \"long\", \"long\", \"long\", \"long\", \"long\", \"long\", \"long\", \"long\", \"long\", \"lot\", \"lot\", \"lot\", \"lot\", \"lot\", \"lot\", \"lot\", \"lot\", \"lot\", \"lot\", \"lot\", \"lot\", \"lunar\", \"lunar\", \"lunar\", \"lunar\", \"magellan\", \"magellan\", \"main\", \"main\", \"main\", \"main\", \"main\", \"main\", \"main\", \"main\", \"main\", \"main\", \"majority\", \"majority\", \"majority\", \"majority\", \"majority\", \"majority\", \"make\", \"make\", \"make\", \"make\", \"make\", \"make\", \"make\", \"make\", \"make\", \"make\", \"make\", \"make\", \"make\", \"make\", \"makes\", \"makes\", \"makes\", \"makes\", \"makes\", \"makes\", \"makes\", \"makes\", \"makes\", \"makes\", \"management\", \"management\", \"management\", \"management\", \"management\", \"management\", \"management\", \"management\", \"management\", \"manned\", \"manned\", \"manned\", \"manned\", \"mark\", \"mark\", \"mark\", \"mark\", \"mark\", \"mark\", \"market\", \"market\", \"market\", \"market\", \"market\", \"market\", \"market\", \"mars\", \"mars\", \"mary\", \"mary\", \"mary\", \"materials\", \"materials\", \"materials\", \"materials\", \"math\", \"math\", \"math\", \"matter\", \"matter\", \"matter\", \"matter\", \"matter\", \"matter\", \"matter\", \"matter\", \"matter\", \"matter\", \"meal\", \"meal\", \"meal\", \"mean\", \"mean\", \"mean\", \"mean\", \"mean\", \"mean\", \"mean\", \"mean\", \"mean\", \"means\", \"means\", \"means\", \"means\", \"means\", \"means\", \"means\", \"means\", \"means\", \"means\", \"means\", \"means\", \"means\", \"means\", \"meat\", \"meat\", \"meat\", \"med\", \"med\", \"med\", \"med\", \"med\", \"medical\", \"medical\", \"medical\", \"medical\", \"medical\", \"medical\", \"medical\", \"medication\", \"medication\", \"medicine\", \"medicine\", \"medicine\", \"medicine\", \"medicine\", \"medicine\", \"medicine\", \"members\", \"members\", \"members\", \"members\", \"members\", \"members\", \"members\", \"members\", \"members\", \"merely\", \"merely\", \"merely\", \"messages\", \"messages\", \"messages\", \"methodology\", \"methodology\", \"methodology\", \"migraine\", \"migraine\", \"migraine\", \"mile\", \"mile\", \"mile\", \"mile\", \"military\", \"military\", \"military\", \"military\", \"military\", \"military\", \"military\", \"military\", \"military\", \"military\", \"militia\", \"militia\", \"militia\", \"militia\", \"mining\", \"mining\", \"mining\", \"mining\", \"minority\", \"minority\", \"minority\", \"minority\", \"minority\", \"mir\", \"mir\", \"mirror\", \"mirror\", \"mirror\", \"mission\", \"mission\", \"mission\", \"missions\", \"missions\", \"missions\", \"missions\", \"missions\", \"mistakes\", \"mistakes\", \"mit\", \"mit\", \"modify\", \"modify\", \"modify\", \"money\", \"money\", \"money\", \"money\", \"money\", \"money\", \"money\", \"money\", \"money\", \"money\", \"moon\", \"moon\", \"moon\", \"moon\", \"moon\", \"moon\", \"mri\", \"mri\", \"msg\", \"murders\", \"muscles\", \"muscles\", \"muscles\", \"mystery\", \"mystery\", \"nasa\", \"nasa\", \"nasa\", \"nasa\", \"nasa\", \"nasa\", \"national\", \"national\", \"national\", \"national\", \"national\", \"national\", \"national\", \"national\", \"national\", \"national\", \"national\", \"nations\", \"nations\", \"nations\", \"nations\", \"need\", \"need\", \"need\", \"need\", \"need\", \"need\", \"need\", \"need\", \"need\", \"need\", \"need\", \"need\", \"need\", \"neighbors\", \"neighbors\", \"neighbors\", \"neighbors\", \"netcom\", \"netcom\", \"new\", \"new\", \"new\", \"new\", \"new\", \"new\", \"new\", \"new\", \"new\", \"new\", \"new\", \"new\", \"new\", \"new\", \"normal\", \"normal\", \"normal\", \"normal\", \"normal\", \"normal\", \"nra\", \"nra\", \"nra\", \"nra\", \"nra\", \"nuclear\", \"nuclear\", \"nuclear\", \"nuclear\", \"number\", \"number\", \"number\", \"number\", \"number\", \"number\", \"number\", \"number\", \"number\", \"number\", \"number\", \"number\", \"number\", \"number\", \"number\", \"nutrition\", \"object\", \"object\", \"object\", \"object\", \"object\", \"observer\", \"office\", \"office\", \"office\", \"office\", \"office\", \"office\", \"office\", \"office\", \"office\", \"office\", \"officer\", \"officer\", \"officer\", \"officer\", \"officer\", \"officer\", \"oil\", \"oil\", \"old\", \"old\", \"old\", \"old\", \"old\", \"old\", \"old\", \"old\", \"old\", \"old\", \"old\", \"operating\", \"operating\", \"operating\", \"operations\", \"operations\", \"operations\", \"operations\", \"operations\", \"opportunity\", \"opportunity\", \"opportunity\", \"opportunity\", \"option\", \"option\", \"option\", \"option\", \"option\", \"options\", \"options\", \"options\", \"options\", \"orbit\", \"orbit\", \"orbit\", \"orbit\", \"org\", \"org\", \"org\", \"organized\", \"organized\", \"organized\", \"organized\", \"organized\", \"organized\", \"organized\", \"owners\", \"owners\", \"owners\", \"ownership\", \"ownership\", \"pain\", \"pain\", \"pain\", \"pain\", \"pain\", \"paranoid\", \"paranoid\", \"paranoid\", \"participate\", \"participate\", \"participate\", \"passed\", \"passed\", \"passed\", \"passed\", \"passed\", \"passed\", \"pat\", \"pat\", \"pat\", \"pat\", \"patient\", \"patient\", \"patient\", \"patients\", \"patients\", \"patients\", \"patients\", \"paying\", \"paying\", \"paying\", \"penalty\", \"penalty\", \"penalty\", \"people\", \"people\", \"people\", \"people\", \"people\", \"people\", \"people\", \"people\", \"people\", \"people\", \"people\", \"people\", \"people\", \"perfect\", \"perfect\", \"perfect\", \"perfect\", \"performed\", \"performed\", \"performed\", \"performed\", \"performed\", \"person\", \"person\", \"person\", \"person\", \"person\", \"person\", \"person\", \"person\", \"person\", \"person\", \"person\", \"person\", \"person\", \"persons\", \"persons\", \"persons\", \"persons\", \"peter\", \"peter\", \"peter\", \"photography\", \"photography\", \"photography\", \"photography\", \"photography\", \"physician\", \"physician\", \"physician\", \"physicians\", \"physicians\", \"physicians\", \"physicians\", \"pioneer\", \"pioneer\", \"pioneer\", \"pitt\", \"pitt\", \"placebo\", \"plastic\", \"plastic\", \"plastic\", \"pluto\", \"pluto\", \"point\", \"point\", \"point\", \"point\", \"point\", \"point\", \"point\", \"point\", \"point\", \"point\", \"point\", \"point\", \"police\", \"police\", \"police\", \"police\", \"policy\", \"policy\", \"policy\", \"policy\", \"policy\", \"policy\", \"policy\", \"population\", \"population\", \"population\", \"population\", \"population\", \"population\", \"population\", \"population\", \"possess\", \"possess\", \"possess\", \"possess\", \"power\", \"power\", \"power\", \"power\", \"power\", \"power\", \"power\", \"power\", \"power\", \"power\", \"power\", \"power\", \"power\", \"power\", \"practical\", \"practical\", \"practical\", \"practical\", \"practical\", \"practical\", \"practical\", \"practicing\", \"practicing\", \"practicing\", \"practicing\", \"practitioner\", \"practitioner\", \"practitioner\", \"practitioner\", \"precisely\", \"precisely\", \"president\", \"president\", \"president\", \"president\", \"president\", \"president\", \"president\", \"prize\", \"probably\", \"probably\", \"probably\", \"probably\", \"probably\", \"probably\", \"probably\", \"probably\", \"probably\", \"probably\", \"probably\", \"probably\", \"probably\", \"probe\", \"probe\", \"probes\", \"problems\", \"problems\", \"problems\", \"problems\", \"problems\", \"problems\", \"problems\", \"problems\", \"problems\", \"problems\", \"problems\", \"process\", \"process\", \"process\", \"process\", \"process\", \"process\", \"process\", \"program\", \"program\", \"program\", \"program\", \"program\", \"program\", \"program\", \"program\", \"program\", \"program\", \"program\", \"programs\", \"programs\", \"programs\", \"programs\", \"programs\", \"programs\", \"protected\", \"protected\", \"protected\", \"protected\", \"psychology\", \"psychology\", \"pub\", \"pub\", \"pub\", \"pub\", \"public\", \"public\", \"public\", \"public\", \"public\", \"public\", \"public\", \"public\", \"public\", \"public\", \"pull\", \"pull\", \"pull\", \"pull\", \"pull\", \"pull\", \"pulled\", \"pulled\", \"pulled\", \"pulled\", \"pulled\", \"pulled\", \"qualified\", \"qualified\", \"qualified\", \"question\", \"question\", \"question\", \"question\", \"question\", \"question\", \"question\", \"question\", \"question\", \"question\", \"question\", \"question\", \"quite\", \"quite\", \"quite\", \"quite\", \"quite\", \"quite\", \"quite\", \"quite\", \"quite\", \"quite\", \"race\", \"race\", \"race\", \"race\", \"radar\", \"raid\", \"raid\", \"rate\", \"rate\", \"rate\", \"rate\", \"rate\", \"rate\", \"rate\", \"rate\", \"rate\", \"rates\", \"rates\", \"rates\", \"rates\", \"rates\", \"rates\", \"reaction\", \"reaction\", \"reaction\", \"reaction\", \"reaction\", \"reaction\", \"reactions\", \"reactions\", \"real\", \"real\", \"real\", \"real\", \"real\", \"real\", \"real\", \"real\", \"real\", \"real\", \"real\", \"real\", \"reality\", \"reality\", \"really\", \"really\", \"really\", \"really\", \"really\", \"really\", \"really\", \"really\", \"really\", \"really\", \"really\", \"rec\", \"rec\", \"rec\", \"rec\", \"redesign\", \"redesign\", \"regulated\", \"regulated\", \"regulated\", \"regulated\", \"reliable\", \"reliable\", \"reliable\", \"reliable\", \"reno\", \"reno\", \"replies\", \"replies\", \"replies\", \"replies\", \"replies\", \"replies\", \"reply\", \"reply\", \"reply\", \"reply\", \"reply\", \"reported\", \"reported\", \"reported\", \"reported\", \"reported\", \"reported\", \"reported\", \"representative\", \"representative\", \"representative\", \"representative\", \"research\", \"research\", \"research\", \"research\", \"research\", \"research\", \"research\", \"research\", \"research\", \"research\", \"research\", \"research\", \"researchers\", \"researchers\", \"researchers\", \"researchers\", \"restaurant\", \"restaurant\", \"restaurant\", \"restaurant\", \"results\", \"results\", \"results\", \"results\", \"results\", \"results\", \"results\", \"results\", \"reusable\", \"reusable\", \"revolver\", \"revolver\", \"ridiculous\", \"ridiculous\", \"ridiculous\", \"ridiculous\", \"right\", \"right\", \"right\", \"right\", \"right\", \"right\", \"right\", \"right\", \"right\", \"right\", \"right\", \"right\", \"right\", \"right\", \"rights\", \"rights\", \"rights\", \"rights\", \"rights\", \"rights\", \"ring\", \"ring\", \"ring\", \"risk\", \"risk\", \"risk\", \"risk\", \"risk\", \"risk\", \"risk\", \"risk\", \"risk\", \"risks\", \"risks\", \"risks\", \"risks\", \"risks\", \"risks\", \"rkba\", \"rkba\", \"rocket\", \"rocket\", \"rocket\", \"rocket\", \"rocket\", \"rocket\", \"rocket\", \"roll\", \"roll\", \"roll\", \"room\", \"room\", \"room\", \"room\", \"room\", \"room\", \"root\", \"root\", \"root\", \"root\", \"russian\", \"russian\", \"russian\", \"russian\", \"safety\", \"safety\", \"safety\", \"safety\", \"safety\", \"safety\", \"safety\", \"safety\", \"safety\", \"said\", \"said\", \"said\", \"said\", \"said\", \"said\", \"said\", \"said\", \"said\", \"said\", \"said\", \"said\", \"san\", \"san\", \"san\", \"san\", \"san\", \"satellite\", \"satellite\", \"satellite\", \"satellites\", \"satellites\", \"satellites\", \"saturn\", \"saturn\", \"saturn\", \"saturn\", \"say\", \"say\", \"say\", \"say\", \"say\", \"say\", \"say\", \"say\", \"say\", \"say\", \"say\", \"say\", \"say\", \"sci\", \"sci\", \"sci\", \"sci\", \"sci\", \"sci\", \"sci\", \"science\", \"science\", \"science\", \"science\", \"science\", \"science\", \"science\", \"science\", \"science\", \"scientific\", \"scientific\", \"scientific\", \"scientific\", \"scientific\", \"scientific\", \"scientific\", \"scientific\", \"scientific\", \"sdio\", \"sdio\", \"search\", \"search\", \"search\", \"search\", \"search\", \"search\", \"search\", \"seattle\", \"seattle\", \"second\", \"second\", \"second\", \"second\", \"second\", \"second\", \"second\", \"second\", \"second\", \"second\", \"second\", \"second\", \"section\", \"section\", \"section\", \"section\", \"section\", \"section\", \"section\", \"section\", \"section\", \"security\", \"security\", \"security\", \"security\", \"security\", \"seen\", \"seen\", \"seen\", \"seen\", \"seen\", \"seen\", \"seen\", \"seen\", \"seen\", \"seen\", \"seen\", \"seizure\", \"seizure\", \"self\", \"self\", \"self\", \"self\", \"self\", \"self\", \"self\", \"self\", \"self\", \"semi\", \"semi\", \"semi\", \"semi\", \"semi\", \"semi\", \"semi\", \"send\", \"send\", \"send\", \"send\", \"send\", \"send\", \"send\", \"send\", \"send\", \"send\", \"sensitive\", \"sensitive\", \"sensitive\", \"served\", \"served\", \"server\", \"server\", \"server\", \"severe\", \"severe\", \"severe\", \"severe\", \"severe\", \"severe\", \"sex\", \"sex\", \"sex\", \"shafer\", \"shafer\", \"shall\", \"shall\", \"shall\", \"shameful\", \"shape\", \"shape\", \"shape\", \"shelf\", \"shelf\", \"shelf\", \"shelf\", \"shoot\", \"shoot\", \"shoot\", \"shoot\", \"shoot\", \"shooting\", \"shooting\", \"shooting\", \"shooting\", \"short\", \"short\", \"short\", \"short\", \"short\", \"short\", \"short\", \"short\", \"short\", \"short\", \"short\", \"short\", \"shot\", \"shot\", \"shot\", \"shot\", \"shot\", \"shot\", \"shuttle\", \"shuttle\", \"shuttle\", \"shuttle\", \"sign\", \"sign\", \"sign\", \"sign\", \"sign\", \"sign\", \"sign\", \"sign\", \"sign\", \"skepticism\", \"skepticism\", \"skin\", \"skin\", \"skin\", \"software\", \"software\", \"software\", \"software\", \"software\", \"software\", \"solar\", \"solar\", \"solar\", \"solar\", \"son\", \"son\", \"son\", \"soon\", \"soon\", \"soon\", \"soon\", \"soon\", \"soon\", \"soon\", \"sorts\", \"sorts\", \"space\", \"space\", \"space\", \"space\", \"space\", \"space\", \"space\", \"spacecraft\", \"spacecraft\", \"spacecraft\", \"spacecraft\", \"specified\", \"specified\", \"specified\", \"specified\", \"specified\", \"specified\", \"spending\", \"spending\", \"spending\", \"sporting\", \"sporting\", \"ssf\", \"ssf\", \"ssf\", \"ssto\", \"ssto\", \"stage\", \"stage\", \"stage\", \"stage\", \"stage\", \"stage\", \"stage\", \"standing\", \"standing\", \"standing\", \"star\", \"star\", \"star\", \"star\", \"star\", \"star\", \"started\", \"started\", \"started\", \"started\", \"started\", \"started\", \"started\", \"started\", \"started\", \"started\", \"started\", \"state\", \"state\", \"state\", \"state\", \"state\", \"state\", \"state\", \"state\", \"state\", \"state\", \"state\", \"stated\", \"stated\", \"stated\", \"stated\", \"stated\", \"stated\", \"stated\", \"stated\", \"stated\", \"stated\", \"states\", \"states\", \"states\", \"states\", \"states\", \"states\", \"states\", \"states\", \"states\", \"states\", \"states\", \"states\", \"station\", \"station\", \"station\", \"station\", \"station\", \"station\", \"station\", \"station\", \"statistics\", \"statistics\", \"statistics\", \"statistics\", \"statistics\", \"stomach\", \"stomach\", \"stomach\", \"stomach\", \"stove\", \"stove\", \"stove\", \"strange\", \"strange\", \"strange\", \"strength\", \"strength\", \"strength\", \"strength\", \"strength\", \"student\", \"student\", \"student\", \"student\", \"student\", \"student\", \"study\", \"study\", \"study\", \"study\", \"study\", \"study\", \"study\", \"study\", \"study\", \"substance\", \"substance\", \"substance\", \"substance\", \"substance\", \"suffering\", \"suffering\", \"suffering\", \"suffering\", \"sugar\", \"sugar\", \"sugar\", \"sugar\", \"suggestion\", \"suggestion\", \"suggestion\", \"suggestion\", \"suggestion\", \"sun\", \"sun\", \"sun\", \"sun\", \"supposed\", \"supposed\", \"supposed\", \"supposed\", \"supposed\", \"supposed\", \"sure\", \"sure\", \"sure\", \"sure\", \"sure\", \"sure\", \"sure\", \"sure\", \"sure\", \"sure\", \"sure\", \"sure\", \"sure\", \"surface\", \"surface\", \"surface\", \"surface\", \"surface\", \"surgery\", \"surgery\", \"surrender\", \"surrender\", \"surrender\", \"surrender\", \"surveillance\", \"surveillance\", \"surveillance\", \"surveillance\", \"surveillance\", \"survivors\", \"survivors\", \"symptoms\", \"symptoms\", \"symptoms\", \"syndrome\", \"syndrome\", \"syndrome\", \"syndrome\", \"syndrome\", \"syndrome\", \"talks\", \"talks\", \"talks\", \"tanks\", \"tanks\", \"tanks\", \"tanks\", \"tanks\", \"taste\", \"taste\", \"tax\", \"tax\", \"tax\", \"taxes\", \"taxes\", \"taxes\", \"tear\", \"tear\", \"technological\", \"technological\", \"technology\", \"technology\", \"technology\", \"technology\", \"technology\", \"technology\", \"tends\", \"tends\", \"tends\", \"test\", \"test\", \"test\", \"test\", \"test\", \"test\", \"test\", \"test\", \"tests\", \"tests\", \"tests\", \"tests\", \"tests\", \"tests\", \"tests\", \"texas\", \"texas\", \"texas\", \"texas\", \"texas\", \"texas\", \"texas\", \"texas\", \"thanks\", \"thanks\", \"thanks\", \"thanks\", \"thanks\", \"thanks\", \"thanks\", \"thanks\", \"thanks\", \"thanks\", \"theories\", \"theories\", \"theory\", \"theory\", \"theory\", \"theory\", \"theory\", \"theory\", \"theory\", \"theory\", \"thing\", \"thing\", \"thing\", \"thing\", \"thing\", \"thing\", \"thing\", \"thing\", \"thing\", \"thing\", \"thing\", \"things\", \"things\", \"things\", \"things\", \"things\", \"things\", \"things\", \"things\", \"things\", \"things\", \"things\", \"things\", \"things\", \"think\", \"think\", \"think\", \"think\", \"think\", \"think\", \"think\", \"think\", \"think\", \"think\", \"think\", \"think\", \"think\", \"throw\", \"throw\", \"throw\", \"throw\", \"throw\", \"throw\", \"throw\", \"time\", \"time\", \"time\", \"time\", \"time\", \"time\", \"time\", \"time\", \"time\", \"time\", \"time\", \"time\", \"time\", \"time\", \"tissue\", \"tissue\", \"tissue\", \"tissue\", \"titan\", \"tobacco\", \"tobacco\", \"told\", \"told\", \"told\", \"told\", \"told\", \"told\", \"told\", \"tommy\", \"tommy\", \"town\", \"town\", \"town\", \"town\", \"training\", \"training\", \"training\", \"training\", \"training\", \"training\", \"treated\", \"treated\", \"treated\", \"treated\", \"treatment\", \"treatment\", \"treatment\", \"treatment\", \"treatments\", \"treatments\", \"trial\", \"trial\", \"trial\", \"trial\", \"trigger\", \"trigger\", \"trigger\", \"true\", \"true\", \"true\", \"true\", \"true\", \"true\", \"true\", \"true\", \"true\", \"true\", \"true\", \"true\", \"try\", \"try\", \"try\", \"try\", \"try\", \"try\", \"try\", \"try\", \"try\", \"try\", \"try\", \"try\", \"try\", \"turns\", \"turns\", \"turns\", \"twice\", \"twice\", \"twice\", \"twice\", \"twice\", \"twice\", \"ufl\", \"ufl\", \"united\", \"united\", \"united\", \"united\", \"united\", \"united\", \"united\", \"united\", \"universe\", \"universe\", \"universe\", \"universe\", \"universe\", \"university\", \"university\", \"university\", \"university\", \"university\", \"university\", \"university\", \"university\", \"unix\", \"unix\", \"unix\", \"uranus\", \"uranus\", \"uranus\", \"usa\", \"usa\", \"usa\", \"usa\", \"usa\", \"usa\", \"use\", \"use\", \"use\", \"use\", \"use\", \"use\", \"use\", \"use\", \"use\", \"use\", \"use\", \"use\", \"use\", \"use\", \"use\", \"used\", \"used\", \"used\", \"used\", \"used\", \"used\", \"used\", \"used\", \"used\", \"used\", \"used\", \"used\", \"used\", \"used\", \"used\", \"useless\", \"useless\", \"uses\", \"uses\", \"uses\", \"uses\", \"uses\", \"uses\", \"uses\", \"uses\", \"uses\", \"vary\", \"vary\", \"vary\", \"vehicle\", \"vehicle\", \"vehicle\", \"vehicle\", \"vehicle\", \"vehicle\", \"venus\", \"venus\", \"venus\", \"victims\", \"victims\", \"viking\", \"viking\", \"violence\", \"violence\", \"violence\", \"violent\", \"violent\", \"violent\", \"vitamin\", \"vitamin\", \"waco\", \"waco\", \"waco\", \"waco\", \"walls\", \"want\", \"want\", \"want\", \"want\", \"want\", \"want\", \"want\", \"want\", \"want\", \"want\", \"want\", \"want\", \"wanted\", \"wanted\", \"wanted\", \"wanted\", \"wanted\", \"wanted\", \"wanted\", \"wanted\", \"war\", \"war\", \"war\", \"war\", \"warrant\", \"warrant\", \"warrant\", \"warrant\", \"water\", \"water\", \"water\", \"water\", \"way\", \"way\", \"way\", \"way\", \"way\", \"way\", \"way\", \"way\", \"way\", \"way\", \"way\", \"way\", \"way\", \"way\", \"weapon\", \"weapon\", \"weapon\", \"weapon\", \"weapon\", \"weapon\", \"weapon\", \"weapons\", \"weapons\", \"weapons\", \"weapons\", \"weapons\", \"weapons\", \"weapons\", \"weapons\", \"weaver\", \"weaver\", \"weekend\", \"weekend\", \"weekend\", \"weekend\", \"weekend\", \"weight\", \"weight\", \"weight\", \"weight\", \"weight\", \"weight\", \"weight\", \"weight\", \"wild\", \"wild\", \"wild\", \"wild\", \"wild\", \"win\", \"win\", \"win\", \"win\", \"windows\", \"windows\", \"windows\", \"windows\", \"windows\", \"wood\", \"wood\", \"wood\", \"work\", \"work\", \"work\", \"work\", \"work\", \"work\", \"work\", \"work\", \"work\", \"work\", \"work\", \"work\", \"work\", \"work\", \"work\", \"worked\", \"worked\", \"worked\", \"worked\", \"worked\", \"worked\", \"worked\", \"world\", \"world\", \"world\", \"world\", \"world\", \"world\", \"world\", \"world\", \"world\", \"worst\", \"worst\", \"worst\", \"worthless\", \"worthless\", \"wrong\", \"wrong\", \"wrong\", \"wrong\", \"wrong\", \"wrong\", \"wrong\", \"wrong\", \"wrong\", \"year\", \"year\", \"year\", \"year\", \"year\", \"year\", \"year\", \"year\", \"year\", \"year\", \"year\", \"year\", \"year\", \"years\", \"years\", \"years\", \"years\", \"years\", \"years\", \"years\", \"years\", \"years\", \"years\", \"years\", \"years\", \"years\", \"years\", \"years\", \"yeast\", \"yeast\", \"yeast\", \"yesterday\", \"yesterday\", \"yesterday\", \"yesterday\", \"york\", \"york\", \"york\"]}, \"R\": 30, \"lambda.step\": 0.01, \"plot.opts\": {\"xlab\": \"PC1\", \"ylab\": \"PC2\"}, \"topic.order\": [7, 2, 15, 5, 13, 3, 4, 6, 10, 11, 12, 8, 1, 9, 14]};\n",
              "\n",
              "function LDAvis_load_lib(url, callback){\n",
              "  var s = document.createElement('script');\n",
              "  s.src = url;\n",
              "  s.async = true;\n",
              "  s.onreadystatechange = s.onload = callback;\n",
              "  s.onerror = function(){console.warn(\"failed to load library \" + url);};\n",
              "  document.getElementsByTagName(\"head\")[0].appendChild(s);\n",
              "}\n",
              "\n",
              "if(typeof(LDAvis) !== \"undefined\"){\n",
              "   // already loaded: just create the visualization\n",
              "   !function(LDAvis){\n",
              "       new LDAvis(\"#\" + \"ldavis_el2041406840403080487638441593\", ldavis_el2041406840403080487638441593_data);\n",
              "   }(LDAvis);\n",
              "}else if(typeof define === \"function\" && define.amd){\n",
              "   // require.js is available: use it to load d3/LDAvis\n",
              "   require.config({paths: {d3: \"https://d3js.org/d3.v5\"}});\n",
              "   require([\"d3\"], function(d3){\n",
              "      window.d3 = d3;\n",
              "      LDAvis_load_lib(\"https://cdn.jsdelivr.net/gh/bmabey/pyLDAvis@3.3.1/pyLDAvis/js/ldavis.v3.0.0.js\", function(){\n",
              "        new LDAvis(\"#\" + \"ldavis_el2041406840403080487638441593\", ldavis_el2041406840403080487638441593_data);\n",
              "      });\n",
              "    });\n",
              "}else{\n",
              "    // require.js not available: dynamically load d3 & LDAvis\n",
              "    LDAvis_load_lib(\"https://d3js.org/d3.v5.js\", function(){\n",
              "         LDAvis_load_lib(\"https://cdn.jsdelivr.net/gh/bmabey/pyLDAvis@3.3.1/pyLDAvis/js/ldavis.v3.0.0.js\", function(){\n",
              "                 new LDAvis(\"#\" + \"ldavis_el2041406840403080487638441593\", ldavis_el2041406840403080487638441593_data);\n",
              "            })\n",
              "         });\n",
              "}\n",
              "</script>"
            ]
          },
          "metadata": {},
          "execution_count": 185
        }
      ]
    }
  ]
}