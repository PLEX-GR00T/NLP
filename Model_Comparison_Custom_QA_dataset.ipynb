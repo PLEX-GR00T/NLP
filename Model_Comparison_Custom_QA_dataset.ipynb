{
  "nbformat": 4,
  "nbformat_minor": 0,
  "metadata": {
    "colab": {
      "provenance": [],
      "mount_file_id": "1LFyBjMnf0qcA-Kxh3JNKM4s4fERerFZS",
      "authorship_tag": "ABX9TyPSmq/n4yaa347z23PsRJ0z",
      "include_colab_link": true
    },
    "kernelspec": {
      "name": "python3",
      "display_name": "Python 3"
    },
    "language_info": {
      "name": "python"
    },
    "accelerator": "GPU",
    "gpuClass": "standard"
  },
  "cells": [
    {
      "cell_type": "markdown",
      "metadata": {
        "id": "view-in-github",
        "colab_type": "text"
      },
      "source": [
        "<a href=\"https://colab.research.google.com/github/PLEX-GR00T/NLP/blob/main/Model_Comparison_Custom_QA_dataset.ipynb\" target=\"_parent\"><img src=\"https://colab.research.google.com/assets/colab-badge.svg\" alt=\"Open In Colab\"/></a>"
      ]
    },
    {
      "cell_type": "code",
      "execution_count": 30,
      "metadata": {
        "colab": {
          "base_uri": "https://localhost:8080/"
        },
        "id": "8igcESmRfgub",
        "outputId": "461b76eb-b6e9-444c-d9f4-8f772081cb42"
      },
      "outputs": [
        {
          "output_type": "stream",
          "name": "stdout",
          "text": [
            "Looking in indexes: https://pypi.org/simple, https://us-python.pkg.dev/colab-wheels/public/simple/\n",
            "Requirement already satisfied: pip in /usr/local/lib/python3.8/dist-packages (22.3.1)\n",
            "\u001b[33mWARNING: Running pip as the 'root' user can result in broken permissions and conflicting behaviour with the system package manager. It is recommended to use a virtual environment instead: https://pip.pypa.io/warnings/venv\u001b[0m\u001b[33m\n",
            "\u001b[0m"
          ]
        }
      ],
      "source": [
        "!pip install --upgrade pip"
      ]
    },
    {
      "cell_type": "code",
      "source": [
        "!pip install git+https://github.com/deepset-ai/haystack.git"
      ],
      "metadata": {
        "colab": {
          "base_uri": "https://localhost:8080/"
        },
        "id": "GcD3eoPQfzT3",
        "outputId": "1666580b-d745-483a-d416-be76f63a9935"
      },
      "execution_count": 31,
      "outputs": [
        {
          "output_type": "stream",
          "name": "stdout",
          "text": [
            "Looking in indexes: https://pypi.org/simple, https://us-python.pkg.dev/colab-wheels/public/simple/\n",
            "Collecting git+https://github.com/deepset-ai/haystack.git\n",
            "  Cloning https://github.com/deepset-ai/haystack.git to /tmp/pip-req-build-mwon2h6z\n",
            "  Running command git clone --filter=blob:none --quiet https://github.com/deepset-ai/haystack.git /tmp/pip-req-build-mwon2h6z\n",
            "  Resolved https://github.com/deepset-ai/haystack.git to commit e4c3817d01c7c81c0accbdb543a0ab5cc9e86ade\n",
            "  Installing build dependencies ... \u001b[?25l\u001b[?25hdone\n",
            "  Getting requirements to build wheel ... \u001b[?25l\u001b[?25hdone\n",
            "  Preparing metadata (pyproject.toml) ... \u001b[?25l\u001b[?25hdone\n",
            "Requirement already satisfied: seqeval in /usr/local/lib/python3.8/dist-packages (from farm-haystack==1.12.0rc0) (1.2.2)\n",
            "Requirement already satisfied: huggingface-hub>=0.5.0 in /usr/local/lib/python3.8/dist-packages (from farm-haystack==1.12.0rc0) (0.11.1)\n",
            "Requirement already satisfied: rapidfuzz<2.8.0,>=2.0.15 in /usr/local/lib/python3.8/dist-packages (from farm-haystack==1.12.0rc0) (2.7.0)\n",
            "Requirement already satisfied: more-itertools in /usr/local/lib/python3.8/dist-packages (from farm-haystack==1.12.0rc0) (9.0.0)\n",
            "Requirement already satisfied: jsonschema in /usr/local/lib/python3.8/dist-packages (from farm-haystack==1.12.0rc0) (4.3.3)\n",
            "Requirement already satisfied: langdetect in /usr/local/lib/python3.8/dist-packages (from farm-haystack==1.12.0rc0) (1.0.9)\n",
            "Requirement already satisfied: posthog in /usr/local/lib/python3.8/dist-packages (from farm-haystack==1.12.0rc0) (2.2.0)\n",
            "Requirement already satisfied: mlflow in /usr/local/lib/python3.8/dist-packages (from farm-haystack==1.12.0rc0) (2.0.1)\n",
            "Requirement already satisfied: elasticsearch<8,>=7.7 in /usr/local/lib/python3.8/dist-packages (from farm-haystack==1.12.0rc0) (7.17.7)\n",
            "Requirement already satisfied: sentence-transformers>=2.2.0 in /usr/local/lib/python3.8/dist-packages (from farm-haystack==1.12.0rc0) (2.2.2)\n",
            "Requirement already satisfied: dill in /usr/local/lib/python3.8/dist-packages (from farm-haystack==1.12.0rc0) (0.3.6)\n",
            "Requirement already satisfied: nltk in /usr/local/lib/python3.8/dist-packages (from farm-haystack==1.12.0rc0) (3.7)\n",
            "Requirement already satisfied: requests in /usr/local/lib/python3.8/dist-packages (from farm-haystack==1.12.0rc0) (2.23.0)\n",
            "Requirement already satisfied: rank-bm25 in /usr/local/lib/python3.8/dist-packages (from farm-haystack==1.12.0rc0) (0.2.2)\n",
            "Requirement already satisfied: tqdm in /usr/local/lib/python3.8/dist-packages (from farm-haystack==1.12.0rc0) (4.64.1)\n",
            "Requirement already satisfied: pandas in /usr/local/lib/python3.8/dist-packages (from farm-haystack==1.12.0rc0) (1.3.5)\n",
            "Requirement already satisfied: scipy>=1.3.2 in /usr/local/lib/python3.8/dist-packages (from farm-haystack==1.12.0rc0) (1.7.3)\n",
            "Requirement already satisfied: mmh3 in /usr/local/lib/python3.8/dist-packages (from farm-haystack==1.12.0rc0) (3.0.0)\n",
            "Requirement already satisfied: networkx in /usr/local/lib/python3.8/dist-packages (from farm-haystack==1.12.0rc0) (2.6.3)\n",
            "Requirement already satisfied: python-docx in /usr/local/lib/python3.8/dist-packages (from farm-haystack==1.12.0rc0) (0.8.11)\n",
            "Requirement already satisfied: tika in /usr/local/lib/python3.8/dist-packages (from farm-haystack==1.12.0rc0) (1.24)\n",
            "Requirement already satisfied: quantulum3 in /usr/local/lib/python3.8/dist-packages (from farm-haystack==1.12.0rc0) (0.7.11)\n",
            "Requirement already satisfied: torch<1.13,>1.9 in /usr/local/lib/python3.8/dist-packages (from farm-haystack==1.12.0rc0) (1.12.1+cu113)\n",
            "Requirement already satisfied: azure-ai-formrecognizer>=3.2.0b2 in /usr/local/lib/python3.8/dist-packages (from farm-haystack==1.12.0rc0) (3.2.0)\n",
            "Requirement already satisfied: scikit-learn>=1.0.0 in /usr/local/lib/python3.8/dist-packages (from farm-haystack==1.12.0rc0) (1.0.2)\n",
            "Requirement already satisfied: transformers==4.21.2 in /usr/local/lib/python3.8/dist-packages (from farm-haystack==1.12.0rc0) (4.21.2)\n",
            "Requirement already satisfied: pydantic in /usr/local/lib/python3.8/dist-packages (from farm-haystack==1.12.0rc0) (1.10.2)\n",
            "Requirement already satisfied: packaging>=20.0 in /usr/local/lib/python3.8/dist-packages (from transformers==4.21.2->farm-haystack==1.12.0rc0) (21.3)\n",
            "Requirement already satisfied: regex!=2019.12.17 in /usr/local/lib/python3.8/dist-packages (from transformers==4.21.2->farm-haystack==1.12.0rc0) (2022.6.2)\n",
            "Requirement already satisfied: pyyaml>=5.1 in /usr/local/lib/python3.8/dist-packages (from transformers==4.21.2->farm-haystack==1.12.0rc0) (6.0)\n",
            "Requirement already satisfied: tokenizers!=0.11.3,<0.13,>=0.11.1 in /usr/local/lib/python3.8/dist-packages (from transformers==4.21.2->farm-haystack==1.12.0rc0) (0.12.1)\n",
            "Requirement already satisfied: filelock in /usr/local/lib/python3.8/dist-packages (from transformers==4.21.2->farm-haystack==1.12.0rc0) (3.8.0)\n",
            "Requirement already satisfied: numpy>=1.17 in /usr/local/lib/python3.8/dist-packages (from transformers==4.21.2->farm-haystack==1.12.0rc0) (1.21.6)\n",
            "Requirement already satisfied: typing-extensions>=4.0.1 in /usr/local/lib/python3.8/dist-packages (from azure-ai-formrecognizer>=3.2.0b2->farm-haystack==1.12.0rc0) (4.1.1)\n",
            "Requirement already satisfied: azure-common~=1.1 in /usr/local/lib/python3.8/dist-packages (from azure-ai-formrecognizer>=3.2.0b2->farm-haystack==1.12.0rc0) (1.1.28)\n",
            "Requirement already satisfied: azure-core<2.0.0,>=1.23.0 in /usr/local/lib/python3.8/dist-packages (from azure-ai-formrecognizer>=3.2.0b2->farm-haystack==1.12.0rc0) (1.26.1)\n",
            "Requirement already satisfied: msrest>=0.6.21 in /usr/local/lib/python3.8/dist-packages (from azure-ai-formrecognizer>=3.2.0b2->farm-haystack==1.12.0rc0) (0.7.1)\n",
            "Requirement already satisfied: certifi in /usr/local/lib/python3.8/dist-packages (from elasticsearch<8,>=7.7->farm-haystack==1.12.0rc0) (2022.9.24)\n",
            "Requirement already satisfied: urllib3<2,>=1.21.1 in /usr/local/lib/python3.8/dist-packages (from elasticsearch<8,>=7.7->farm-haystack==1.12.0rc0) (1.24.3)\n",
            "Requirement already satisfied: jarowinkler<2.0.0,>=1.2.0 in /usr/local/lib/python3.8/dist-packages (from rapidfuzz<2.8.0,>=2.0.15->farm-haystack==1.12.0rc0) (1.2.3)\n",
            "Requirement already satisfied: joblib>=0.11 in /usr/local/lib/python3.8/dist-packages (from scikit-learn>=1.0.0->farm-haystack==1.12.0rc0) (1.2.0)\n",
            "Requirement already satisfied: threadpoolctl>=2.0.0 in /usr/local/lib/python3.8/dist-packages (from scikit-learn>=1.0.0->farm-haystack==1.12.0rc0) (3.1.0)\n",
            "Requirement already satisfied: torchvision in /usr/local/lib/python3.8/dist-packages (from sentence-transformers>=2.2.0->farm-haystack==1.12.0rc0) (0.13.1+cu113)\n",
            "Requirement already satisfied: sentencepiece in /usr/local/lib/python3.8/dist-packages (from sentence-transformers>=2.2.0->farm-haystack==1.12.0rc0) (0.1.97)\n",
            "Requirement already satisfied: pyrsistent!=0.17.0,!=0.17.1,!=0.17.2,>=0.14.0 in /usr/local/lib/python3.8/dist-packages (from jsonschema->farm-haystack==1.12.0rc0) (0.19.2)\n",
            "Requirement already satisfied: attrs>=17.4.0 in /usr/local/lib/python3.8/dist-packages (from jsonschema->farm-haystack==1.12.0rc0) (22.1.0)\n",
            "Requirement already satisfied: importlib-resources>=1.4.0 in /usr/local/lib/python3.8/dist-packages (from jsonschema->farm-haystack==1.12.0rc0) (5.10.0)\n",
            "Requirement already satisfied: six in /usr/local/lib/python3.8/dist-packages (from langdetect->farm-haystack==1.12.0rc0) (1.15.0)\n",
            "Requirement already satisfied: pyarrow<11,>=4.0.0 in /usr/local/lib/python3.8/dist-packages (from mlflow->farm-haystack==1.12.0rc0) (9.0.0)\n",
            "Requirement already satisfied: sqlalchemy<2,>=1.4.0 in /usr/local/lib/python3.8/dist-packages (from mlflow->farm-haystack==1.12.0rc0) (1.4.44)\n",
            "Requirement already satisfied: sqlparse<1,>=0.4.0 in /usr/local/lib/python3.8/dist-packages (from mlflow->farm-haystack==1.12.0rc0) (0.4.3)\n",
            "Requirement already satisfied: alembic<2 in /usr/local/lib/python3.8/dist-packages (from mlflow->farm-haystack==1.12.0rc0) (1.8.1)\n",
            "Requirement already satisfied: click<9,>=7.0 in /usr/local/lib/python3.8/dist-packages (from mlflow->farm-haystack==1.12.0rc0) (7.1.2)\n",
            "Requirement already satisfied: Flask<3 in /usr/local/lib/python3.8/dist-packages (from mlflow->farm-haystack==1.12.0rc0) (1.1.4)\n",
            "Requirement already satisfied: databricks-cli<1,>=0.8.7 in /usr/local/lib/python3.8/dist-packages (from mlflow->farm-haystack==1.12.0rc0) (0.17.3)\n",
            "Requirement already satisfied: markdown<4,>=3.3 in /usr/local/lib/python3.8/dist-packages (from mlflow->farm-haystack==1.12.0rc0) (3.4.1)\n",
            "Requirement already satisfied: importlib-metadata!=4.7.0,<6,>=3.7.0 in /usr/local/lib/python3.8/dist-packages (from mlflow->farm-haystack==1.12.0rc0) (4.13.0)\n",
            "Requirement already satisfied: protobuf<5,>=3.12.0 in /usr/local/lib/python3.8/dist-packages (from mlflow->farm-haystack==1.12.0rc0) (3.19.6)\n",
            "Requirement already satisfied: shap<1,>=0.40 in /usr/local/lib/python3.8/dist-packages (from mlflow->farm-haystack==1.12.0rc0) (0.41.0)\n",
            "Requirement already satisfied: cloudpickle<3 in /usr/local/lib/python3.8/dist-packages (from mlflow->farm-haystack==1.12.0rc0) (1.5.0)\n",
            "Requirement already satisfied: gunicorn<21 in /usr/local/lib/python3.8/dist-packages (from mlflow->farm-haystack==1.12.0rc0) (20.1.0)\n",
            "Requirement already satisfied: querystring-parser<2 in /usr/local/lib/python3.8/dist-packages (from mlflow->farm-haystack==1.12.0rc0) (1.2.4)\n",
            "Requirement already satisfied: gitpython<4,>=2.1.0 in /usr/local/lib/python3.8/dist-packages (from mlflow->farm-haystack==1.12.0rc0) (3.1.29)\n",
            "Requirement already satisfied: entrypoints<1 in /usr/local/lib/python3.8/dist-packages (from mlflow->farm-haystack==1.12.0rc0) (0.4)\n",
            "Requirement already satisfied: docker<7,>=4.0.0 in /usr/local/lib/python3.8/dist-packages (from mlflow->farm-haystack==1.12.0rc0) (5.0.3)\n",
            "Requirement already satisfied: matplotlib<4 in /usr/local/lib/python3.8/dist-packages (from mlflow->farm-haystack==1.12.0rc0) (3.2.2)\n",
            "Requirement already satisfied: pytz<2023 in /usr/local/lib/python3.8/dist-packages (from mlflow->farm-haystack==1.12.0rc0) (2022.6)\n",
            "Requirement already satisfied: Jinja2<4,>=2.11 in /usr/local/lib/python3.8/dist-packages (from mlflow->farm-haystack==1.12.0rc0) (2.11.3)\n",
            "Requirement already satisfied: python-dateutil>=2.7.3 in /usr/local/lib/python3.8/dist-packages (from pandas->farm-haystack==1.12.0rc0) (2.8.2)\n",
            "Requirement already satisfied: idna<3,>=2.5 in /usr/local/lib/python3.8/dist-packages (from requests->farm-haystack==1.12.0rc0) (2.10)\n",
            "Requirement already satisfied: chardet<4,>=3.0.2 in /usr/local/lib/python3.8/dist-packages (from requests->farm-haystack==1.12.0rc0) (3.0.4)\n",
            "Requirement already satisfied: backoff<2.0.0,>=1.10.0 in /usr/local/lib/python3.8/dist-packages (from posthog->farm-haystack==1.12.0rc0) (1.11.1)\n",
            "Requirement already satisfied: monotonic>=1.5 in /usr/local/lib/python3.8/dist-packages (from posthog->farm-haystack==1.12.0rc0) (1.6)\n",
            "Requirement already satisfied: lxml>=2.3.2 in /usr/local/lib/python3.8/dist-packages (from python-docx->farm-haystack==1.12.0rc0) (4.9.1)\n",
            "Requirement already satisfied: num2words in /usr/local/lib/python3.8/dist-packages (from quantulum3->farm-haystack==1.12.0rc0) (0.5.12)\n",
            "Requirement already satisfied: inflect in /usr/local/lib/python3.8/dist-packages (from quantulum3->farm-haystack==1.12.0rc0) (2.1.0)\n",
            "Requirement already satisfied: setuptools in /usr/local/lib/python3.8/dist-packages (from tika->farm-haystack==1.12.0rc0) (57.4.0)\n",
            "Requirement already satisfied: Mako in /usr/local/lib/python3.8/dist-packages (from alembic<2->mlflow->farm-haystack==1.12.0rc0) (1.2.4)\n",
            "Requirement already satisfied: oauthlib>=3.1.0 in /usr/local/lib/python3.8/dist-packages (from databricks-cli<1,>=0.8.7->mlflow->farm-haystack==1.12.0rc0) (3.2.2)\n",
            "Requirement already satisfied: pyjwt>=1.7.0 in /usr/local/lib/python3.8/dist-packages (from databricks-cli<1,>=0.8.7->mlflow->farm-haystack==1.12.0rc0) (2.6.0)\n",
            "Requirement already satisfied: tabulate>=0.7.7 in /usr/local/lib/python3.8/dist-packages (from databricks-cli<1,>=0.8.7->mlflow->farm-haystack==1.12.0rc0) (0.8.10)\n",
            "Requirement already satisfied: websocket-client>=0.32.0 in /usr/local/lib/python3.8/dist-packages (from docker<7,>=4.0.0->mlflow->farm-haystack==1.12.0rc0) (1.4.2)\n",
            "Requirement already satisfied: Werkzeug<2.0,>=0.15 in /usr/local/lib/python3.8/dist-packages (from Flask<3->mlflow->farm-haystack==1.12.0rc0) (1.0.1)\n",
            "Requirement already satisfied: itsdangerous<2.0,>=0.24 in /usr/local/lib/python3.8/dist-packages (from Flask<3->mlflow->farm-haystack==1.12.0rc0) (1.1.0)\n",
            "Requirement already satisfied: gitdb<5,>=4.0.1 in /usr/local/lib/python3.8/dist-packages (from gitpython<4,>=2.1.0->mlflow->farm-haystack==1.12.0rc0) (4.0.10)\n",
            "Requirement already satisfied: zipp>=0.5 in /usr/local/lib/python3.8/dist-packages (from importlib-metadata!=4.7.0,<6,>=3.7.0->mlflow->farm-haystack==1.12.0rc0) (3.10.0)\n",
            "Requirement already satisfied: MarkupSafe>=0.23 in /usr/local/lib/python3.8/dist-packages (from Jinja2<4,>=2.11->mlflow->farm-haystack==1.12.0rc0) (2.0.1)\n",
            "Requirement already satisfied: cycler>=0.10 in /usr/local/lib/python3.8/dist-packages (from matplotlib<4->mlflow->farm-haystack==1.12.0rc0) (0.11.0)\n",
            "Requirement already satisfied: kiwisolver>=1.0.1 in /usr/local/lib/python3.8/dist-packages (from matplotlib<4->mlflow->farm-haystack==1.12.0rc0) (1.4.4)\n",
            "Requirement already satisfied: pyparsing!=2.0.4,!=2.1.2,!=2.1.6,>=2.0.1 in /usr/local/lib/python3.8/dist-packages (from matplotlib<4->mlflow->farm-haystack==1.12.0rc0) (3.0.9)\n",
            "Requirement already satisfied: requests-oauthlib>=0.5.0 in /usr/local/lib/python3.8/dist-packages (from msrest>=0.6.21->azure-ai-formrecognizer>=3.2.0b2->farm-haystack==1.12.0rc0) (1.3.1)\n",
            "Requirement already satisfied: isodate>=0.6.0 in /usr/local/lib/python3.8/dist-packages (from msrest>=0.6.21->azure-ai-formrecognizer>=3.2.0b2->farm-haystack==1.12.0rc0) (0.6.1)\n",
            "Requirement already satisfied: numba in /usr/local/lib/python3.8/dist-packages (from shap<1,>=0.40->mlflow->farm-haystack==1.12.0rc0) (0.56.4)\n",
            "Requirement already satisfied: slicer==0.0.7 in /usr/local/lib/python3.8/dist-packages (from shap<1,>=0.40->mlflow->farm-haystack==1.12.0rc0) (0.0.7)\n",
            "Requirement already satisfied: greenlet!=0.4.17 in /usr/local/lib/python3.8/dist-packages (from sqlalchemy<2,>=1.4.0->mlflow->farm-haystack==1.12.0rc0) (2.0.1)\n",
            "Requirement already satisfied: docopt>=0.6.2 in /usr/local/lib/python3.8/dist-packages (from num2words->quantulum3->farm-haystack==1.12.0rc0) (0.6.2)\n",
            "Requirement already satisfied: pillow!=8.3.*,>=5.3.0 in /usr/local/lib/python3.8/dist-packages (from torchvision->sentence-transformers>=2.2.0->farm-haystack==1.12.0rc0) (7.1.2)\n",
            "Requirement already satisfied: smmap<6,>=3.0.1 in /usr/local/lib/python3.8/dist-packages (from gitdb<5,>=4.0.1->gitpython<4,>=2.1.0->mlflow->farm-haystack==1.12.0rc0) (5.0.0)\n",
            "Requirement already satisfied: llvmlite<0.40,>=0.39.0dev0 in /usr/local/lib/python3.8/dist-packages (from numba->shap<1,>=0.40->mlflow->farm-haystack==1.12.0rc0) (0.39.1)\n",
            "\u001b[33mWARNING: Running pip as the 'root' user can result in broken permissions and conflicting behaviour with the system package manager. It is recommended to use a virtual environment instead: https://pip.pypa.io/warnings/venv\u001b[0m\u001b[33m\n",
            "\u001b[0m"
          ]
        }
      ]
    },
    {
      "cell_type": "code",
      "source": [
        "from haystack.nodes import FARMReader"
      ],
      "metadata": {
        "id": "dEYFlaBRf7Kz"
      },
      "execution_count": 32,
      "outputs": []
    },
    {
      "cell_type": "markdown",
      "source": [
        "# Model 1: Models"
      ],
      "metadata": {
        "id": "rarepd0_GMxI"
      }
    },
    {
      "cell_type": "code",
      "source": [
        "model_name_1 = \"deepset/roberta-base-squad2\" \n",
        "model_name_2 = \"distilbert-base-cased-distilled-squad\"\n",
        "model_name_3 = \"deepset/minilm-uncased-squad2\""
      ],
      "metadata": {
        "id": "Fjp0My8ogDq5"
      },
      "execution_count": 33,
      "outputs": []
    },
    {
      "cell_type": "code",
      "source": [
        "from haystack.nodes import FARMReader\n",
        "reader_1 = FARMReader(model_name_or_path=model_name_1, use_gpu=True)\n",
        "reader_2 = FARMReader(model_name_or_path=model_name_2, use_gpu=True)\n",
        "reader_3 = FARMReader(model_name_or_path=model_name_3, use_gpu=True)\n",
        "\n",
        "data_dir = \"/content/drive/MyDrive/297_NLP/Final_Project/\" "
      ],
      "metadata": {
        "id": "UyMtvhLMgJHH"
      },
      "execution_count": 70,
      "outputs": []
    },
    {
      "cell_type": "markdown",
      "source": [
        "## Training"
      ],
      "metadata": {
        "id": "qXtgiXGhHzV3"
      }
    },
    {
      "cell_type": "code",
      "source": [
        "reader_1.train(data_dir=data_dir, train_filename=\"train.json\", use_gpu=True, n_epochs=3, save_dir=\"/content/drive/MyDrive/297_NLP/Final_Project/roberta\") # save_dir is used for saving the model."
      ],
      "metadata": {
        "colab": {
          "base_uri": "https://localhost:8080/"
        },
        "id": "1UOr9dlVhjGu",
        "outputId": "2b6eb70e-4f6e-4731-d86c-c40000507ac9"
      },
      "execution_count": 71,
      "outputs": [
        {
          "output_type": "stream",
          "name": "stderr",
          "text": [
            "Preprocessing dataset: 100%|██████████| 1/1 [00:00<00:00,  1.36 Dicts/s]\n",
            "Train epoch 0/2 (Cur. train loss: 1.0514): 100%|██████████| 155/155 [01:17<00:00,  2.01it/s]\n",
            "Train epoch 1/2 (Cur. train loss: 0.5016): 100%|██████████| 155/155 [01:16<00:00,  2.02it/s]\n",
            "Train epoch 2/2 (Cur. train loss: 0.1465): 100%|██████████| 155/155 [01:16<00:00,  2.03it/s]\n"
          ]
        }
      ]
    },
    {
      "cell_type": "code",
      "source": [
        "reader_2.train(data_dir=data_dir, train_filename=\"train.json\", use_gpu=True, n_epochs=3, save_dir=\"/content/drive/MyDrive/297_NLP/Final_Project/distilbert\") # save_dir is used for saving the model."
      ],
      "metadata": {
        "colab": {
          "base_uri": "https://localhost:8080/"
        },
        "id": "-S_mq3gzHV8z",
        "outputId": "9135feb0-844f-4b47-d20f-7a7d29495ead"
      },
      "execution_count": 36,
      "outputs": [
        {
          "output_type": "stream",
          "name": "stderr",
          "text": [
            "Preprocessing dataset: 100%|██████████| 1/1 [00:00<00:00,  1.10 Dicts/s]\n",
            "Train epoch 0/2 (Cur. train loss: 1.3352): 100%|██████████| 152/152 [00:37<00:00,  4.01it/s]\n",
            "Train epoch 1/2 (Cur. train loss: 0.2136): 100%|██████████| 152/152 [00:37<00:00,  4.05it/s]\n",
            "Train epoch 2/2 (Cur. train loss: 0.1076): 100%|██████████| 152/152 [00:37<00:00,  4.06it/s]\n"
          ]
        }
      ]
    },
    {
      "cell_type": "code",
      "source": [
        "reader_3.train(data_dir=data_dir, train_filename=\"train.json\", use_gpu=True, n_epochs=3, save_dir=\"/content/drive/MyDrive/297_NLP/Final_Project/minilm\") # save_dir is used for saving the model."
      ],
      "metadata": {
        "colab": {
          "base_uri": "https://localhost:8080/"
        },
        "id": "IeS6SE5PHXMx",
        "outputId": "5443c06b-c5e2-4358-9717-278cbde9a7e3"
      },
      "execution_count": 37,
      "outputs": [
        {
          "output_type": "stream",
          "name": "stderr",
          "text": [
            "Preprocessing dataset: 100%|██████████| 1/1 [00:00<00:00,  1.21 Dicts/s]\n",
            "Train epoch 0/2 (Cur. train loss: 1.3321): 100%|██████████| 151/151 [00:27<00:00,  5.56it/s]\n",
            "Train epoch 1/2 (Cur. train loss: 1.3706): 100%|██████████| 151/151 [00:27<00:00,  5.59it/s]\n",
            "Train epoch 2/2 (Cur. train loss: 0.6549): 100%|██████████| 151/151 [00:26<00:00,  5.60it/s]\n"
          ]
        }
      ]
    },
    {
      "cell_type": "code",
      "source": [
        "model_1 = FARMReader(model_name_or_path=\"/content/drive/MyDrive/297_NLP/Final_Project/roberta\")\n",
        "model_2 = FARMReader(model_name_or_path=\"/content/drive/MyDrive/297_NLP/Final_Project/distilbert\")\n",
        "model_3 = FARMReader(model_name_or_path=\"/content/drive/MyDrive/297_NLP/Final_Project/minilm\")"
      ],
      "metadata": {
        "colab": {
          "base_uri": "https://localhost:8080/"
        },
        "id": "j7bIAVdAk0PI",
        "outputId": "fccf8c48-6b6f-46f0-eaaf-079ab568ed3b"
      },
      "execution_count": 38,
      "outputs": [
        {
          "output_type": "stream",
          "name": "stderr",
          "text": [
            "WARNING:haystack.modeling.model.prediction_head:Some unused parameters are passed to the QuestionAnsweringHead. Might not be a problem. Params: {\"training\": true, \"num_labels\": 2, \"ph_output_type\": \"per_token_squad\", \"model_type\": \"span_classification\", \"label_tensor_name\": \"question_answering_label_ids\", \"label_list\": [\"start_token\", \"end_token\"], \"metric\": \"squad\", \"name\": \"QuestionAnsweringHead\"}\n",
            "WARNING:haystack.modeling.model.prediction_head:Some unused parameters are passed to the QuestionAnsweringHead. Might not be a problem. Params: {\"training\": true, \"num_labels\": 2, \"ph_output_type\": \"per_token_squad\", \"model_type\": \"span_classification\", \"label_tensor_name\": \"question_answering_label_ids\", \"label_list\": [\"start_token\", \"end_token\"], \"metric\": \"squad\", \"name\": \"QuestionAnsweringHead\"}\n",
            "WARNING:haystack.modeling.model.prediction_head:Some unused parameters are passed to the QuestionAnsweringHead. Might not be a problem. Params: {\"training\": true, \"num_labels\": 2, \"ph_output_type\": \"per_token_squad\", \"model_type\": \"span_classification\", \"label_tensor_name\": \"question_answering_label_ids\", \"label_list\": [\"start_token\", \"end_token\"], \"metric\": \"squad\", \"name\": \"QuestionAnsweringHead\"}\n"
          ]
        }
      ]
    },
    {
      "cell_type": "code",
      "source": [
        "reader_eval_results_1 = model_1.eval_on_file( \"/content/drive/MyDrive/297_NLP/Final_Project/test.json\", \"/content/drive/MyDrive/297_NLP/Final_Project/train.json\", device=\"cuda\")\n",
        "reader_eval_results_2 = model_2.eval_on_file(\"/content/drive/MyDrive/297_NLP/Final_Project/test.json\", \"/content/drive/MyDrive/297_NLP/Final_Project/train.json\", device=\"cuda\")\n",
        "reader_eval_results_3 = model_3.eval_on_file(\"/content/drive/MyDrive/297_NLP/Final_Project/test.json\", \"/content/drive/MyDrive/297_NLP/Final_Project/train.json\", device=\"cuda\")"
      ],
      "metadata": {
        "colab": {
          "base_uri": "https://localhost:8080/"
        },
        "id": "etT2v5VAlQsz",
        "outputId": "0fe4ff72-b4b3-4e2a-8aa8-9636e986eff0"
      },
      "execution_count": 62,
      "outputs": [
        {
          "output_type": "stream",
          "name": "stderr",
          "text": [
            "WARNING:haystack.nodes.reader.farm:FARMReader.eval_on_file() uses a slightly different evaluation approach than `Pipeline.eval()`:\n",
            "- instead of giving you full control over which labels to use, this method always returns three types of metrics: combined (no suffix), text_answer ('_text_answer' suffix) and no_answer ('_no_answer' suffix) metrics.\n",
            "- instead of comparing predictions with labels on a string level, this method compares them on a token-ID level. This makes it unable to do any string normalization (e.g. normalize whitespaces) beforehand.\n",
            "Hence, results might slightly differ from those of `Pipeline.eval()`\n",
            ".If you are just about starting to evaluate your model consider using `Pipeline.eval()` instead.\n",
            "Preprocessing dataset: 100%|██████████| 1/1 [00:01<00:00,  1.21s/ Dicts]\n",
            "Evaluating: 100%|██████████| 31/31 [00:24<00:00,  1.24it/s]\n",
            "WARNING:haystack.nodes.reader.farm:FARMReader.eval_on_file() uses a slightly different evaluation approach than `Pipeline.eval()`:\n",
            "- instead of giving you full control over which labels to use, this method always returns three types of metrics: combined (no suffix), text_answer ('_text_answer' suffix) and no_answer ('_no_answer' suffix) metrics.\n",
            "- instead of comparing predictions with labels on a string level, this method compares them on a token-ID level. This makes it unable to do any string normalization (e.g. normalize whitespaces) beforehand.\n",
            "Hence, results might slightly differ from those of `Pipeline.eval()`\n",
            ".If you are just about starting to evaluate your model consider using `Pipeline.eval()` instead.\n",
            "Preprocessing dataset: 100%|██████████| 1/1 [00:00<00:00,  1.92 Dicts/s]\n",
            "Evaluating:   0%|          | 0/31 [00:00<?, ?it/s]WARNING:haystack.modeling.model.language_model:'segment_ids' is not None, but DistilBert does not use them. They will be ignored.\n",
            "WARNING:haystack.modeling.model.language_model:'segment_ids' is not None, but DistilBert does not use them. They will be ignored.\n",
            "WARNING:haystack.modeling.model.language_model:'segment_ids' is not None, but DistilBert does not use them. They will be ignored.\n",
            "WARNING:haystack.modeling.model.language_model:'segment_ids' is not None, but DistilBert does not use them. They will be ignored.\n",
            "WARNING:haystack.modeling.model.language_model:'segment_ids' is not None, but DistilBert does not use them. They will be ignored.\n",
            "WARNING:haystack.modeling.model.language_model:'segment_ids' is not None, but DistilBert does not use them. They will be ignored.\n",
            "WARNING:haystack.modeling.model.language_model:'segment_ids' is not None, but DistilBert does not use them. They will be ignored.\n",
            "WARNING:haystack.modeling.model.language_model:'segment_ids' is not None, but DistilBert does not use them. They will be ignored.\n",
            "WARNING:haystack.modeling.model.language_model:'segment_ids' is not None, but DistilBert does not use them. They will be ignored.\n",
            "WARNING:haystack.modeling.model.language_model:'segment_ids' is not None, but DistilBert does not use them. They will be ignored.\n",
            "WARNING:haystack.modeling.model.language_model:'segment_ids' is not None, but DistilBert does not use them. They will be ignored.\n",
            "WARNING:haystack.modeling.model.language_model:'segment_ids' is not None, but DistilBert does not use them. They will be ignored.\n",
            "WARNING:haystack.modeling.model.language_model:'segment_ids' is not None, but DistilBert does not use them. They will be ignored.\n",
            "WARNING:haystack.modeling.model.language_model:'segment_ids' is not None, but DistilBert does not use them. They will be ignored.\n",
            "WARNING:haystack.modeling.model.language_model:'segment_ids' is not None, but DistilBert does not use them. They will be ignored.\n",
            "WARNING:haystack.modeling.model.language_model:'segment_ids' is not None, but DistilBert does not use them. They will be ignored.\n",
            "WARNING:haystack.modeling.model.language_model:'segment_ids' is not None, but DistilBert does not use them. They will be ignored.\n",
            "WARNING:haystack.modeling.model.language_model:'segment_ids' is not None, but DistilBert does not use them. They will be ignored.\n",
            "WARNING:haystack.modeling.model.language_model:'segment_ids' is not None, but DistilBert does not use them. They will be ignored.\n",
            "WARNING:haystack.modeling.model.language_model:'segment_ids' is not None, but DistilBert does not use them. They will be ignored.\n",
            "WARNING:haystack.modeling.model.language_model:'segment_ids' is not None, but DistilBert does not use them. They will be ignored.\n",
            "WARNING:haystack.modeling.model.language_model:'segment_ids' is not None, but DistilBert does not use them. They will be ignored.\n",
            "WARNING:haystack.modeling.model.language_model:'segment_ids' is not None, but DistilBert does not use them. They will be ignored.\n",
            "WARNING:haystack.modeling.model.language_model:'segment_ids' is not None, but DistilBert does not use them. They will be ignored.\n",
            "WARNING:haystack.modeling.model.language_model:'segment_ids' is not None, but DistilBert does not use them. They will be ignored.\n",
            "Evaluating:  81%|████████  | 25/31 [00:10<00:02,  2.44it/s]WARNING:haystack.modeling.model.language_model:'segment_ids' is not None, but DistilBert does not use them. They will be ignored.\n",
            "WARNING:haystack.modeling.model.language_model:'segment_ids' is not None, but DistilBert does not use them. They will be ignored.\n",
            "WARNING:haystack.modeling.model.language_model:'segment_ids' is not None, but DistilBert does not use them. They will be ignored.\n",
            "WARNING:haystack.modeling.model.language_model:'segment_ids' is not None, but DistilBert does not use them. They will be ignored.\n",
            "WARNING:haystack.modeling.model.language_model:'segment_ids' is not None, but DistilBert does not use them. They will be ignored.\n",
            "WARNING:haystack.modeling.model.language_model:'segment_ids' is not None, but DistilBert does not use them. They will be ignored.\n",
            "Evaluating: 100%|██████████| 31/31 [00:12<00:00,  2.49it/s]\n",
            "WARNING:haystack.nodes.reader.farm:FARMReader.eval_on_file() uses a slightly different evaluation approach than `Pipeline.eval()`:\n",
            "- instead of giving you full control over which labels to use, this method always returns three types of metrics: combined (no suffix), text_answer ('_text_answer' suffix) and no_answer ('_no_answer' suffix) metrics.\n",
            "- instead of comparing predictions with labels on a string level, this method compares them on a token-ID level. This makes it unable to do any string normalization (e.g. normalize whitespaces) beforehand.\n",
            "Hence, results might slightly differ from those of `Pipeline.eval()`\n",
            ".If you are just about starting to evaluate your model consider using `Pipeline.eval()` instead.\n",
            "Preprocessing dataset: 100%|██████████| 1/1 [00:00<00:00,  1.29 Dicts/s]\n",
            "Evaluating: 100%|██████████| 31/31 [00:09<00:00,  3.44it/s]\n"
          ]
        }
      ]
    },
    {
      "cell_type": "code",
      "source": [
        "reader_eval_results_1"
      ],
      "metadata": {
        "colab": {
          "base_uri": "https://localhost:8080/"
        },
        "id": "zTlK3oYJlhmO",
        "outputId": "99555f08-94d1-4cee-d63a-64094deffd85"
      },
      "execution_count": 63,
      "outputs": [
        {
          "output_type": "execute_result",
          "data": {
            "text/plain": [
              "{'EM': 64.05228758169935,\n",
              " 'f1': 82.8403731436587,\n",
              " 'top_n_accuracy': 97.7124183006536,\n",
              " 'top_n': 4,\n",
              " 'EM_text_answer': 63.322185061315494,\n",
              " 'f1_text_answer': 82.550125469207,\n",
              " 'top_n_accuracy_text_answer': 97.65886287625418,\n",
              " 'top_n_EM_text_answer': 66.10925306577481,\n",
              " 'top_n_f1_text_answer': 89.80383026556903,\n",
              " 'Total_text_answer': 897,\n",
              " 'EM_no_answer': 95.23809523809523,\n",
              " 'f1_no_answer': 95.23809523809523,\n",
              " 'top_n_accuracy_no_answer': 100.0,\n",
              " 'Total_no_answer': 21}"
            ]
          },
          "metadata": {},
          "execution_count": 63
        }
      ]
    },
    {
      "cell_type": "code",
      "source": [
        "reader_eval_results_2"
      ],
      "metadata": {
        "colab": {
          "base_uri": "https://localhost:8080/"
        },
        "id": "BD7J9bszJRxy",
        "outputId": "67220833-5e69-4189-c641-8a0f4093a339"
      },
      "execution_count": 64,
      "outputs": [
        {
          "output_type": "execute_result",
          "data": {
            "text/plain": [
              "{'EM': 63.61655773420479,\n",
              " 'f1': 80.63667833564566,\n",
              " 'top_n_accuracy': 96.62309368191721,\n",
              " 'top_n': 4,\n",
              " 'EM_text_answer': 62.87625418060201,\n",
              " 'f1_text_answer': 80.2948391439495,\n",
              " 'top_n_accuracy_text_answer': 96.54403567447045,\n",
              " 'top_n_EM_text_answer': 65.88628762541806,\n",
              " 'top_n_f1_text_answer': 88.37373383985025,\n",
              " 'Total_text_answer': 897,\n",
              " 'EM_no_answer': 95.23809523809523,\n",
              " 'f1_no_answer': 95.23809523809523,\n",
              " 'top_n_accuracy_no_answer': 100.0,\n",
              " 'Total_no_answer': 21}"
            ]
          },
          "metadata": {},
          "execution_count": 64
        }
      ]
    },
    {
      "cell_type": "code",
      "source": [
        "reader_eval_results_3"
      ],
      "metadata": {
        "colab": {
          "base_uri": "https://localhost:8080/"
        },
        "id": "ehxGur37JVAq",
        "outputId": "3c81d296-c382-4cb5-d36a-90448ac2ffe8"
      },
      "execution_count": 65,
      "outputs": [
        {
          "output_type": "execute_result",
          "data": {
            "text/plain": [
              "{'EM': 61.22004357298475,\n",
              " 'f1': 80.64260003066074,\n",
              " 'top_n_accuracy': 96.40522875816994,\n",
              " 'top_n': 4,\n",
              " 'EM_text_answer': 60.31215161649944,\n",
              " 'f1_text_answer': 80.18941675378656,\n",
              " 'top_n_accuracy_text_answer': 96.32107023411372,\n",
              " 'top_n_EM_text_answer': 62.76477146042363,\n",
              " 'top_n_f1_text_answer': 86.38122280205508,\n",
              " 'Total_text_answer': 897,\n",
              " 'EM_no_answer': 100.0,\n",
              " 'f1_no_answer': 100.0,\n",
              " 'top_n_accuracy_no_answer': 100.0,\n",
              " 'Total_no_answer': 21}"
            ]
          },
          "metadata": {},
          "execution_count": 65
        }
      ]
    },
    {
      "cell_type": "markdown",
      "source": [
        "Testing"
      ],
      "metadata": {
        "id": "ly2DFp2wQNYR"
      }
    },
    {
      "cell_type": "code",
      "source": [
        "context = \"\"\"No Country for Old Men is a 2007 American neo-Western crime thriller film written and directed by Joel and Ethan Coen, based on Cormac McCarthy's 2005 novel of the same name.\n",
        "Starring Tommy Lee Jones, Javier Bardem, and Josh Brolin, the film is set in the desert landscape of 1980 West Texas.\n",
        "The film revisits the themes of fate, conscience, and circumstance that the Coen brothers had explored in the films Blood Simple (1984), Raising Arizona (1987), and Fargo (1996).\n",
        "The film follows three main characters: Llewelyn Moss (Brolin), a Vietnam War veteran and welder who stumbles upon a large sum of money in the desert; \n",
        "Anton Chigurh (Bardem), a hitman who is tasked with recovering the money; and Ed Tom Bell (Jones), a local sheriff investigating the crime. \n",
        "The film also stars Kelly Macdonald as Moss's wife Carla Jean, and Woody Harrelson as a bounty hunter seeking Moss and the return of the $2 million.\n",
        "No Country for Old Men premiered in competition at the 2007 Cannes Film Festival on May 19.\n",
        "The film became a commercial success, grossing $171 million worldwide against the budget of $25 million. \n",
        "Critics praised the Coens' direction and screenplay and Bardem's performance, and the film won 76 awards from 109 nominations from multiple organizations; \n",
        "it won four awards at the 80th Academy Awards (including Best Picture), three British Academy Film Awards (BAFTAs), and two Golden Globes.\n",
        "The American Film Institute listed it as an AFI Movie of the Year,[6] and the National Board of Review selected it as the best of 2007\"\"\""
      ],
      "metadata": {
        "id": "grCeczxHmBfD"
      },
      "execution_count": 43,
      "outputs": []
    },
    {
      "cell_type": "markdown",
      "source": [
        "Q1 : All models"
      ],
      "metadata": {
        "id": "vcJV2GGpSBhT"
      }
    },
    {
      "cell_type": "code",
      "source": [
        "ques = 'In which year did No Country for Old Men released?'"
      ],
      "metadata": {
        "id": "KKuUVnCxmEWQ"
      },
      "execution_count": 44,
      "outputs": []
    },
    {
      "cell_type": "code",
      "source": [
        "from haystack import Pipeline, Document\n",
        "from haystack.utils import print_answers\n",
        "\n",
        "p = Pipeline()\n",
        "p.add_node(component=model_1, name=\"Reader\", inputs=[\"Query\"])\n",
        "res = p.run(\n",
        "    query=ques, documents=[Document(content=context)]\n",
        ")\n",
        "print_answers(res,details=\"all\")\n",
        "     "
      ],
      "metadata": {
        "colab": {
          "base_uri": "https://localhost:8080/"
        },
        "id": "j0qODGS4mWKt",
        "outputId": "5e182317-1ccc-4b4e-d8c1-49499e6dd1f5"
      },
      "execution_count": 45,
      "outputs": [
        {
          "output_type": "stream",
          "name": "stderr",
          "text": [
            "Inferencing Samples: 100%|██████████| 1/1 [00:00<00:00, 39.31 Batches/s]"
          ]
        },
        {
          "output_type": "stream",
          "name": "stdout",
          "text": [
            "\n",
            "Query: In which year did No Country for Old Men released?\n",
            "Answers:\n",
            "[   <Answer {'answer': '2007', 'type': 'extractive', 'score': 0.9887659549713135, 'context': \"No Country for Old Men is a 2007 American neo-Western crime thriller film written and directed by Joel and Ethan Coen, based on Cormac McCarthy's 2005\", 'offsets_in_document': [{'start': 28, 'end': 32}], 'offsets_in_context': [{'start': 28, 'end': 32}], 'document_id': 'ea91e9aaa97e3f4798d9fe101fc4d4fd', 'meta': {}}>,\n",
            "    <Answer {'answer': '2007', 'type': 'extractive', 'score': 0.08290092647075653, 'context': 'f the $2 million.\\nNo Country for Old Men premiered in competition at the 2007 Cannes Film Festival on May 19.\\nThe film became a commercial success, gr', 'offsets_in_document': [{'start': 969, 'end': 973}], 'offsets_in_context': [{'start': 73, 'end': 77}], 'document_id': 'ea91e9aaa97e3f4798d9fe101fc4d4fd', 'meta': {}}>]\n"
          ]
        },
        {
          "output_type": "stream",
          "name": "stderr",
          "text": [
            "\n"
          ]
        }
      ]
    },
    {
      "cell_type": "code",
      "source": [
        "from haystack import Pipeline, Document\n",
        "from haystack.utils import print_answers\n",
        "\n",
        "p = Pipeline()\n",
        "p.add_node(component=model_2, name=\"Reader\", inputs=[\"Query\"])\n",
        "res = p.run(\n",
        "    query=ques, documents=[Document(content=context)]\n",
        ")\n",
        "print_answers(res,details=\"all\")\n",
        "     "
      ],
      "metadata": {
        "colab": {
          "base_uri": "https://localhost:8080/"
        },
        "id": "_Ex2PuxoGHMn",
        "outputId": "e8051c44-e677-45c3-b9a1-7ff60aaf1790"
      },
      "execution_count": 46,
      "outputs": [
        {
          "output_type": "stream",
          "name": "stderr",
          "text": [
            "Inferencing Samples:   0%|          | 0/1 [00:00<?, ? Batches/s]WARNING:haystack.modeling.model.language_model:'segment_ids' is not None, but DistilBert does not use them. They will be ignored.\n",
            "Inferencing Samples: 100%|██████████| 1/1 [00:00<00:00, 55.15 Batches/s]"
          ]
        },
        {
          "output_type": "stream",
          "name": "stdout",
          "text": [
            "\n",
            "Query: In which year did No Country for Old Men released?\n",
            "Answers:\n",
            "[   <Answer {'answer': '2007', 'type': 'extractive', 'score': 0.8907051682472229, 'context': 'f the $2 million.\\nNo Country for Old Men premiered in competition at the 2007 Cannes Film Festival on May 19.\\nThe film became a commercial success, gr', 'offsets_in_document': [{'start': 969, 'end': 973}], 'offsets_in_context': [{'start': 73, 'end': 77}], 'document_id': 'ea91e9aaa97e3f4798d9fe101fc4d4fd', 'meta': {}}>,\n",
            "    <Answer {'answer': '2007', 'type': 'extractive', 'score': 0.6975401043891907, 'context': \"No Country for Old Men is a 2007 American neo-Western crime thriller film written and directed by Joel and Ethan Coen, based on Cormac McCarthy's 2005\", 'offsets_in_document': [{'start': 28, 'end': 32}], 'offsets_in_context': [{'start': 28, 'end': 32}], 'document_id': 'ea91e9aaa97e3f4798d9fe101fc4d4fd', 'meta': {}}>]\n"
          ]
        },
        {
          "output_type": "stream",
          "name": "stderr",
          "text": [
            "\n"
          ]
        }
      ]
    },
    {
      "cell_type": "code",
      "source": [
        "from haystack import Pipeline, Document\n",
        "from haystack.utils import print_answers\n",
        "\n",
        "p = Pipeline()\n",
        "p.add_node(component=model_3, name=\"Reader\", inputs=[\"Query\"])\n",
        "res = p.run(\n",
        "    query=ques, documents=[Document(content=context)]\n",
        ")\n",
        "print_answers(res,details=\"all\")\n",
        "     "
      ],
      "metadata": {
        "colab": {
          "base_uri": "https://localhost:8080/"
        },
        "id": "YIiI6dGjQdQy",
        "outputId": "bdcc4cb8-4ad3-46b5-df05-86937bc7269b"
      },
      "execution_count": 47,
      "outputs": [
        {
          "output_type": "stream",
          "name": "stderr",
          "text": [
            "Inferencing Samples: 100%|██████████| 1/1 [00:00<00:00, 60.97 Batches/s]"
          ]
        },
        {
          "output_type": "stream",
          "name": "stdout",
          "text": [
            "\n",
            "Query: In which year did No Country for Old Men released?\n",
            "Answers:\n",
            "[   <Answer {'answer': '2007', 'type': 'extractive', 'score': 0.8900161981582642, 'context': \"No Country for Old Men is a 2007 American neo-Western crime thriller film written and directed by Joel and Ethan Coen, based on Cormac McCarthy's 2005\", 'offsets_in_document': [{'start': 28, 'end': 32}], 'offsets_in_context': [{'start': 28, 'end': 32}], 'document_id': 'ea91e9aaa97e3f4798d9fe101fc4d4fd', 'meta': {}}>,\n",
            "    <Answer {'answer': '2007', 'type': 'extractive', 'score': 0.3921046257019043, 'context': 'f the $2 million.\\nNo Country for Old Men premiered in competition at the 2007 Cannes Film Festival on May 19.\\nThe film became a commercial success, gr', 'offsets_in_document': [{'start': 969, 'end': 973}], 'offsets_in_context': [{'start': 73, 'end': 77}], 'document_id': 'ea91e9aaa97e3f4798d9fe101fc4d4fd', 'meta': {}}>]\n"
          ]
        },
        {
          "output_type": "stream",
          "name": "stderr",
          "text": [
            "\n"
          ]
        }
      ]
    },
    {
      "cell_type": "markdown",
      "source": [
        "Q2"
      ],
      "metadata": {
        "id": "rZvOwJCIRVsL"
      }
    },
    {
      "cell_type": "code",
      "source": [
        "ques1 = 'what is the budget of the film?'"
      ],
      "metadata": {
        "id": "8sj01aLGRU3G"
      },
      "execution_count": 48,
      "outputs": []
    },
    {
      "cell_type": "code",
      "source": [
        "from haystack import Pipeline, Document\n",
        "from haystack.utils import print_answers\n",
        "\n",
        "p = Pipeline()\n",
        "p.add_node(component=model_1, name=\"Reader\", inputs=[\"Query\"])\n",
        "res = p.run(\n",
        "    query=ques1, documents=[Document(content=context)]\n",
        ")\n",
        "print_answers(res,details=\"all\")"
      ],
      "metadata": {
        "colab": {
          "base_uri": "https://localhost:8080/"
        },
        "id": "VJsv3PHWSVK4",
        "outputId": "d560d787-c36d-4795-9c7c-5b51ffd3a553"
      },
      "execution_count": 49,
      "outputs": [
        {
          "output_type": "stream",
          "name": "stderr",
          "text": [
            "Inferencing Samples: 100%|██████████| 1/1 [00:00<00:00, 39.75 Batches/s]"
          ]
        },
        {
          "output_type": "stream",
          "name": "stdout",
          "text": [
            "\n",
            "Query: what is the budget of the film?\n",
            "Answers:\n",
            "[   <Answer {'answer': '$25 million', 'type': 'extractive', 'score': 0.9026716947555542, 'context': \"ercial success, grossing $171 million worldwide against the budget of $25 million. \\nCritics praised the Coens' direction and screenplay and Bardem's p\", 'offsets_in_document': [{'start': 1098, 'end': 1109}], 'offsets_in_context': [{'start': 70, 'end': 81}], 'document_id': 'ea91e9aaa97e3f4798d9fe101fc4d4fd', 'meta': {}}>,\n",
            "    <Answer {'answer': \"2007 American neo-Western crime thriller film written and directed by Joel and Ethan Coen, based on Cormac McCarthy's 2005 novel of the same name.\\nStarring Tommy Lee Jones, Javier Bardem, and Josh Brolin, the film is set in the desert landscape of 1980 West Texas.\\nThe film revisits the themes of fate, conscience, and circumstance that the Coen brothers had explored in the films Blood Simple (1984), Raising Arizona (1987), and Fargo (1996).\\nThe film follows three main characters: Llewelyn Moss (Brolin), a Vietnam War veteran and welder who stumbles upon a large sum of money in the desert; \\nAnton Chigurh (Bardem), a hitman who is tasked with recovering the money; and Ed Tom Bell (Jones), a local sheriff investigating the crime. \\nThe film also stars Kelly Macdonald as Moss's wife Carla Jean, and Woody Harrelson as a bounty hunter seeking Moss and the return of the $2 million\", 'type': 'extractive', 'score': 0.0060963258147239685, 'context': \"2007 American neo-Western crime thriller film written and directed by Joel and Ethan Coen, based on Cormac McCarthy's 2005 novel of the same name.\\nStarring Tommy Lee Jones, Javier Bardem, and Josh Brolin, the film is set in the desert landscape of 1980 West Texas.\\nThe film revisits the themes of fate, conscience, and circumstance that the Coen brothers had explored in the films Blood Simple (1984), Raising Arizona (1987), and Fargo (1996).\\nThe film follows three main characters: Llewelyn Moss (Brolin), a Vietnam War veteran and welder who stumbles upon a large sum of money in the desert; \\nAnton Chigurh (Bardem), a hitman who is tasked with recovering the money; and Ed Tom Bell (Jones), a local sheriff investigating the crime. \\nThe film also stars Kelly Macdonald as Moss's wife Carla Jean, and Woody Harrelson as a bounty hunter seeking Moss and the return of the $2 million\", 'offsets_in_document': [{'start': 28, 'end': 912}], 'offsets_in_context': [{'start': 0, 'end': 884}], 'document_id': 'ea91e9aaa97e3f4798d9fe101fc4d4fd', 'meta': {}}>]\n"
          ]
        },
        {
          "output_type": "stream",
          "name": "stderr",
          "text": [
            "\n"
          ]
        }
      ]
    },
    {
      "cell_type": "code",
      "source": [
        "from haystack import Pipeline, Document\n",
        "from haystack.utils import print_answers\n",
        "\n",
        "p = Pipeline()\n",
        "p.add_node(component=model_2, name=\"Reader\", inputs=[\"Query\"])\n",
        "res = p.run(\n",
        "    query=ques1, documents=[Document(content=context)]\n",
        ")\n",
        "print_answers(res,details=\"all\")"
      ],
      "metadata": {
        "colab": {
          "base_uri": "https://localhost:8080/"
        },
        "id": "jVEbjEXkSelI",
        "outputId": "6ba2639b-af6a-403d-d969-438f045d9071"
      },
      "execution_count": 50,
      "outputs": [
        {
          "output_type": "stream",
          "name": "stderr",
          "text": [
            "Inferencing Samples:   0%|          | 0/1 [00:00<?, ? Batches/s]WARNING:haystack.modeling.model.language_model:'segment_ids' is not None, but DistilBert does not use them. They will be ignored.\n",
            "Inferencing Samples: 100%|██████████| 1/1 [00:00<00:00, 57.21 Batches/s]"
          ]
        },
        {
          "output_type": "stream",
          "name": "stdout",
          "text": [
            "\n",
            "Query: what is the budget of the film?\n",
            "Answers:\n",
            "[   <Answer {'answer': '$25 million', 'type': 'extractive', 'score': 0.7311739921569824, 'context': \"ercial success, grossing $171 million worldwide against the budget of $25 million. \\nCritics praised the Coens' direction and screenplay and Bardem's p\", 'offsets_in_document': [{'start': 1098, 'end': 1109}], 'offsets_in_context': [{'start': 70, 'end': 81}], 'document_id': 'ea91e9aaa97e3f4798d9fe101fc4d4fd', 'meta': {}}>,\n",
            "    <Answer {'answer': '$2 million', 'type': 'extractive', 'score': 0.2831844687461853, 'context': 'Woody Harrelson as a bounty hunter seeking Moss and the return of the $2 million.\\nNo Country for Old Men premiered in competition at the 2007 Cannes F', 'offsets_in_document': [{'start': 902, 'end': 912}], 'offsets_in_context': [{'start': 70, 'end': 80}], 'document_id': 'ea91e9aaa97e3f4798d9fe101fc4d4fd', 'meta': {}}>]\n"
          ]
        },
        {
          "output_type": "stream",
          "name": "stderr",
          "text": [
            "\n"
          ]
        }
      ]
    },
    {
      "cell_type": "code",
      "source": [
        "from haystack import Pipeline, Document\n",
        "from haystack.utils import print_answers\n",
        "\n",
        "p = Pipeline()\n",
        "p.add_node(component=model_3, name=\"Reader\", inputs=[\"Query\"])\n",
        "res = p.run(\n",
        "    query=ques1, documents=[Document(content=context)]\n",
        ")\n",
        "print_answers(res,details=\"all\")"
      ],
      "metadata": {
        "colab": {
          "base_uri": "https://localhost:8080/"
        },
        "id": "IzwTVHx3SkJt",
        "outputId": "356273f3-1de5-496c-82b6-1b19fc06927b"
      },
      "execution_count": 51,
      "outputs": [
        {
          "output_type": "stream",
          "name": "stderr",
          "text": [
            "Inferencing Samples: 100%|██████████| 1/1 [00:00<00:00, 67.40 Batches/s]"
          ]
        },
        {
          "output_type": "stream",
          "name": "stdout",
          "text": [
            "\n",
            "Query: what is the budget of the film?\n",
            "Answers:\n",
            "[   <Answer {'answer': '$25 million', 'type': 'extractive', 'score': 0.8504452705383301, 'context': \"ercial success, grossing $171 million worldwide against the budget of $25 million. \\nCritics praised the Coens' direction and screenplay and Bardem's p\", 'offsets_in_document': [{'start': 1098, 'end': 1109}], 'offsets_in_context': [{'start': 70, 'end': 81}], 'document_id': 'ea91e9aaa97e3f4798d9fe101fc4d4fd', 'meta': {}}>,\n",
            "    <Answer {'answer': '$2 million', 'type': 'extractive', 'score': 0.7561939358711243, 'context': 'Woody Harrelson as a bounty hunter seeking Moss and the return of the $2 million.\\nNo Country for Old Men premiered in competition at the 2007 Cannes F', 'offsets_in_document': [{'start': 902, 'end': 912}], 'offsets_in_context': [{'start': 70, 'end': 80}], 'document_id': 'ea91e9aaa97e3f4798d9fe101fc4d4fd', 'meta': {}}>]\n"
          ]
        },
        {
          "output_type": "stream",
          "name": "stderr",
          "text": [
            "\n"
          ]
        }
      ]
    },
    {
      "cell_type": "markdown",
      "source": [
        "## Q3 : all models"
      ],
      "metadata": {
        "id": "Mh1_LwtrSoqD"
      }
    },
    {
      "cell_type": "code",
      "source": [
        "ques2 = 'who is the director of No Country for Old Men?'"
      ],
      "metadata": {
        "id": "9fDuDT8gReaE"
      },
      "execution_count": 52,
      "outputs": []
    },
    {
      "cell_type": "code",
      "source": [
        "from haystack import Pipeline, Document\n",
        "from haystack.utils import print_answers\n",
        "\n",
        "p = Pipeline()\n",
        "p.add_node(component=model_1, name=\"Reader\", inputs=[\"Query\"])\n",
        "res = p.run(\n",
        "    query=ques2, documents=[Document(content=context)]\n",
        ")\n",
        "print_answers(res,details=\"all\")"
      ],
      "metadata": {
        "colab": {
          "base_uri": "https://localhost:8080/"
        },
        "id": "5luFEUTjSt9i",
        "outputId": "c59b978b-8c42-4869-e265-c1c15a4f361e"
      },
      "execution_count": 53,
      "outputs": [
        {
          "output_type": "stream",
          "name": "stderr",
          "text": [
            "Inferencing Samples: 100%|██████████| 1/1 [00:00<00:00, 37.89 Batches/s]"
          ]
        },
        {
          "output_type": "stream",
          "name": "stdout",
          "text": [
            "\n",
            "Query: who is the director of No Country for Old Men?\n",
            "Answers:\n",
            "[   <Answer {'answer': 'Joel and Ethan Coen', 'type': 'extractive', 'score': 0.9454846978187561, 'context': \" American neo-Western crime thriller film written and directed by Joel and Ethan Coen, based on Cormac McCarthy's 2005 novel of the same name.\\nStarrin\", 'offsets_in_document': [{'start': 98, 'end': 117}], 'offsets_in_context': [{'start': 66, 'end': 85}], 'document_id': 'ea91e9aaa97e3f4798d9fe101fc4d4fd', 'meta': {}}>,\n",
            "    <Answer {'answer': 'Coens', 'type': 'extractive', 'score': 0.7879358530044556, 'context': \"illion worldwide against the budget of $25 million. \\nCritics praised the Coens' direction and screenplay and Bardem's performance, and the film won 76\", 'offsets_in_document': [{'start': 1132, 'end': 1137}], 'offsets_in_context': [{'start': 73, 'end': 78}], 'document_id': 'ea91e9aaa97e3f4798d9fe101fc4d4fd', 'meta': {}}>]\n"
          ]
        },
        {
          "output_type": "stream",
          "name": "stderr",
          "text": [
            "\n"
          ]
        }
      ]
    },
    {
      "cell_type": "code",
      "source": [
        "from haystack import Pipeline, Document\n",
        "from haystack.utils import print_answers\n",
        "\n",
        "p = Pipeline()\n",
        "p.add_node(component=model_2, name=\"Reader\", inputs=[\"Query\"])\n",
        "res = p.run(\n",
        "    query=ques2, documents=[Document(content=context)]\n",
        ")\n",
        "print_answers(res,details=\"all\")"
      ],
      "metadata": {
        "colab": {
          "base_uri": "https://localhost:8080/"
        },
        "id": "U2BX1bYVSxNB",
        "outputId": "77798978-fc33-421c-b907-f29289f04581"
      },
      "execution_count": 54,
      "outputs": [
        {
          "output_type": "stream",
          "name": "stderr",
          "text": [
            "Inferencing Samples:   0%|          | 0/1 [00:00<?, ? Batches/s]WARNING:haystack.modeling.model.language_model:'segment_ids' is not None, but DistilBert does not use them. They will be ignored.\n",
            "Inferencing Samples: 100%|██████████| 1/1 [00:00<00:00, 58.19 Batches/s]"
          ]
        },
        {
          "output_type": "stream",
          "name": "stdout",
          "text": [
            "\n",
            "Query: who is the director of No Country for Old Men?\n",
            "Answers:\n",
            "[   <Answer {'answer': 'Joel and Ethan Coen', 'type': 'extractive', 'score': 0.9386968016624451, 'context': \" American neo-Western crime thriller film written and directed by Joel and Ethan Coen, based on Cormac McCarthy's 2005 novel of the same name.\\nStarrin\", 'offsets_in_document': [{'start': 98, 'end': 117}], 'offsets_in_context': [{'start': 66, 'end': 85}], 'document_id': 'ea91e9aaa97e3f4798d9fe101fc4d4fd', 'meta': {}}>,\n",
            "    <Answer {'answer': 'Ed Tom Bell (Jones)', 'type': 'extractive', 'score': 0.001408819342032075, 'context': 'h (Bardem), a hitman who is tasked with recovering the money; and Ed Tom Bell (Jones), a local sheriff investigating the crime. \\nThe film also stars K', 'offsets_in_document': [{'start': 702, 'end': 721}], 'offsets_in_context': [{'start': 66, 'end': 85}], 'document_id': 'ea91e9aaa97e3f4798d9fe101fc4d4fd', 'meta': {}}>]\n"
          ]
        },
        {
          "output_type": "stream",
          "name": "stderr",
          "text": [
            "\n"
          ]
        }
      ]
    },
    {
      "cell_type": "code",
      "source": [
        "from haystack import Pipeline, Document\n",
        "from haystack.utils import print_answers\n",
        "\n",
        "p = Pipeline()\n",
        "p.add_node(component=model_3, name=\"Reader\", inputs=[\"Query\"])\n",
        "res = p.run(\n",
        "    query=ques2, documents=[Document(content=context)]\n",
        ")\n",
        "print_answers(res,details=\"all\")"
      ],
      "metadata": {
        "colab": {
          "base_uri": "https://localhost:8080/"
        },
        "id": "gjPWPuRdS60H",
        "outputId": "991b6ef9-9f60-4e0e-ee60-53e35df16e6c"
      },
      "execution_count": 55,
      "outputs": [
        {
          "output_type": "stream",
          "name": "stderr",
          "text": [
            "Inferencing Samples: 100%|██████████| 1/1 [00:00<00:00, 67.20 Batches/s]"
          ]
        },
        {
          "output_type": "stream",
          "name": "stdout",
          "text": [
            "\n",
            "Query: who is the director of No Country for Old Men?\n",
            "Answers:\n",
            "[   <Answer {'answer': 'Coens', 'type': 'extractive', 'score': 0.948986828327179, 'context': \"illion worldwide against the budget of $25 million. \\nCritics praised the Coens' direction and screenplay and Bardem's performance, and the film won 76\", 'offsets_in_document': [{'start': 1132, 'end': 1137}], 'offsets_in_context': [{'start': 73, 'end': 78}], 'document_id': 'ea91e9aaa97e3f4798d9fe101fc4d4fd', 'meta': {}}>,\n",
            "    <Answer {'answer': 'Joel and Ethan Coen', 'type': 'extractive', 'score': 0.9084916114807129, 'context': \" American neo-Western crime thriller film written and directed by Joel and Ethan Coen, based on Cormac McCarthy's 2005 novel of the same name.\\nStarrin\", 'offsets_in_document': [{'start': 98, 'end': 117}], 'offsets_in_context': [{'start': 66, 'end': 85}], 'document_id': 'ea91e9aaa97e3f4798d9fe101fc4d4fd', 'meta': {}}>]\n"
          ]
        },
        {
          "output_type": "stream",
          "name": "stderr",
          "text": [
            "\n"
          ]
        }
      ]
    },
    {
      "cell_type": "markdown",
      "source": [
        "## Visualizaitons"
      ],
      "metadata": {
        "id": "fUvZkM8FUVuW"
      }
    },
    {
      "cell_type": "code",
      "source": [
        "def show_values(axs, orient=\"v\", space=.01):\n",
        "    def _single(ax):\n",
        "        if orient == \"v\":\n",
        "            for p in ax.patches:\n",
        "                _x = p.get_x() + p.get_width() / 2\n",
        "                _y = p.get_y() + p.get_height() + (p.get_height()*0.01)\n",
        "                value = '{:.1f}'.format(p.get_height())\n",
        "                ax.text(_x, _y, value, ha=\"center\") \n",
        "        elif orient == \"h\":\n",
        "            for p in ax.patches:\n",
        "                _x = p.get_x() + p.get_width() + float(space)\n",
        "                _y = p.get_y() + p.get_height() - (p.get_height()*0.5)\n",
        "                value = '{:.1f}'.format(p.get_width())\n",
        "                ax.text(_x, _y, value, ha=\"left\")\n",
        "\n",
        "    if isinstance(axs, np.ndarray):\n",
        "        for idx, ax in np.ndenumerate(axs):\n",
        "            _single(ax)\n",
        "    else:\n",
        "        _single(axs)"
      ],
      "metadata": {
        "id": "pEsSVgfMXhDS"
      },
      "execution_count": 56,
      "outputs": []
    },
    {
      "cell_type": "code",
      "source": [
        "import matplotlib.pyplot as plt\n",
        "import seaborn as sns  \n",
        "import numpy as np\n",
        "\n",
        "d = {\n",
        "    'x':    ['deepset/roberta-base-squad2', 'deepset/roberta-base-squad2',  'deepset/roberta-base-squad2', 'distilbert-base-cased-distilled-squad', 'distilbert-base-cased-distilled-squad', 'distilbert-base-cased-distilled-squad', 'deepset/minilm-uncased-squad2', 'deepset/minilm-uncased-squad2', 'deepset/minilm-uncased-squad2'],\n",
        "    'y':    [   82.84,    64.05,   98.10,     97.71,     80.63,     63.61,    80.64,    61.25,   96.40],\n",
        "    'group':[  'F1',  'Exact_Match(EM)', 'top_4_accuracy',   'F1',  'Exact_Match(EM)',  'top_4_accuracy',   'F1',  'Exact_Match(EM)',  'top_4_accuracy']\n",
        "}\n",
        "\n",
        "# sns.barplot(x='x', y='y', hue=\"group\", data=d)\n",
        "\n",
        "\n",
        "sns.set(rc={'figure.figsize':(15, 10)})\n",
        "ax = sns.barplot(x='x', y='y', hue=\"group\", data=d, palette='plasma')\n",
        "ax.set(ylabel=\"Percentage Accuracy\", xlabel=\"Models Name\", title=\"Model Accuracy Graph\")\n",
        "ax.tick_params(axis='x')\n",
        "\n",
        "#show values on barplot\n",
        "show_values(ax, \"v\", space=0)\n",
        "fig = ax.get_figure()\n",
        "fig.savefig('/content/drive/MyDrive/297_NLP/Final_Project/Models_Accuracy_compare', dpi = 400) "
      ],
      "metadata": {
        "colab": {
          "base_uri": "https://localhost:8080/",
          "height": 627
        },
        "id": "nf-puzr0UY5l",
        "outputId": "5e562e21-9cdb-455a-eff8-0ee090a6ef54"
      },
      "execution_count": 72,
      "outputs": [
        {
          "output_type": "display_data",
          "data": {
            "text/plain": [
              "<Figure size 1080x720 with 1 Axes>"
            ],
            "image/png": "[encoded data removed]"
          },
          "metadata": {}
        }
      ]
    },
    {
      "cell_type": "markdown",
      "source": [
        "## Question Model Accuracy compare."
      ],
      "metadata": {
        "id": "_8IYhwjhZVPZ"
      }
    },
    {
      "cell_type": "code",
      "source": [
        "d = {\n",
        "    'x':    ['Q1', 'Q1', 'Q1', 'Q2', 'Q2', 'Q2', 'Q3', 'Q3', 'Q3'],\n",
        "    'y':    [   98.80,    91.18,   89.03,     91.18,     73.07,     85.54,    94.38,    93.21,   90.84],\n",
        "    'group':[  'deepset/roberta-base-squad2',  'distilbert-base-cased-distilled-squad', 'deepset/minilm-uncased-squad2',   'deepset/roberta-base-squad2',  'distilbert-base-cased-distilled-squad',  'deepset/minilm-uncased-squad2',   'deepset/roberta-base-squad2',  'distilbert-base-cased-distilled-squad',  'deepset/minilm-uncased-squad2']\n",
        "}\n",
        "\n",
        "# sns.barplot(x='x', y='y', hue=\"group\", data=d)\n",
        "\n",
        "\n",
        "sns.set(rc={'figure.figsize':(15, 10)})\n",
        "ax = sns.barplot(x='x', y='y', hue=\"group\", data=d)\n",
        "ax.set(ylabel=\"Percentage Accuracy\", xlabel=\"Question Number\", title=\"Model Accuracy on Questions Graph\")\n",
        "ax.tick_params(axis='x', )\n",
        "\n",
        "#show values on barplot\n",
        "show_values(ax, \"v\", space=0)\n",
        "fig = ax.get_figure()\n",
        "fig.savefig('/content/drive/MyDrive/297_NLP/Final_Project/Question_Models_Accuracy_compare', dpi = 400)"
      ],
      "metadata": {
        "colab": {
          "base_uri": "https://localhost:8080/",
          "height": 627
        },
        "id": "Rv49eGRNZbWL",
        "outputId": "6a77a646-6698-47ae-b17a-b6ba4fa3f4be"
      },
      "execution_count": 73,
      "outputs": [
        {
          "output_type": "display_data",
          "data": {
            "text/plain": [
              "<Figure size 1080x720 with 1 Axes>"
            ],
            "image/png": "[encoded data removed]"
          },
          "metadata": {}
        }
      ]
    }
  ]
}